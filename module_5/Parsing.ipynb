{
 "cells": [
  {
   "cell_type": "code",
   "execution_count": 1,
   "id": "9689dd07",
   "metadata": {
    "ExecuteTime": {
     "end_time": "2021-07-08T07:40:09.750768Z",
     "start_time": "2021-07-08T07:40:09.274776Z"
    }
   },
   "outputs": [],
   "source": [
    "from bs4 import BeautifulSoup\n",
    "import requests\n",
    "import time\n",
    "\n",
    "import pandas as pd"
   ]
  },
  {
   "cell_type": "code",
   "execution_count": 2,
   "id": "c4788919",
   "metadata": {
    "ExecuteTime": {
     "end_time": "2021-07-08T07:40:10.033110Z",
     "start_time": "2021-07-08T07:40:10.016123Z"
    }
   },
   "outputs": [],
   "source": [
    "# Cделаем список моделей машин, для которых будем собирать информацию\n",
    "model_all = ['BMW', 'VOLKSWAGEN', 'NISSAN', 'MERCEDES', 'TOYOTA', 'AUDI', 'MITSUBISHI', 'SKODA', \n",
    "             'VOLVO', 'HONDA', 'INFINITI', 'LEXUS']"
   ]
  },
  {
   "cell_type": "code",
   "execution_count": 3,
   "id": "218781f8",
   "metadata": {
    "ExecuteTime": {
     "end_time": "2021-07-08T08:25:16.044333Z",
     "start_time": "2021-07-08T07:40:25.671697Z"
    }
   },
   "outputs": [
    {
     "name": "stdout",
     "output_type": "stream",
     "text": [
      "Число машин BMW : 3507 , в совокупной сумме :3507\n",
      "Число машин VOLKSWAGEN : 3564 , в совокупной сумме :7071\n",
      "Число машин NISSAN : 3535 , в совокупной сумме :10606\n",
      "Число машин MERCEDES : 3464 , в совокупной сумме :14070\n",
      "Число машин TOYOTA : 3497 , в совокупной сумме :17567\n",
      "Число машин AUDI : 3487 , в совокупной сумме :21054\n",
      "Число машин MITSUBISHI : 3568 , в совокупной сумме :24622\n",
      "Число машин SKODA : 3536 , в совокупной сумме :28158\n",
      "Число машин VOLVO : 3568 , в совокупной сумме :31726\n",
      "Число машин HONDA : 3646 , в совокупной сумме :35372\n",
      "Число машин INFINITI : 1819 , в совокупной сумме :37191\n",
      "Число машин LEXUS : 3574 , в совокупной сумме :40765\n"
     ]
    }
   ],
   "source": [
    "# Cделаем список сайтов с объявлениями машин для последующего парсинга\n",
    "pages_url_list=[]\n",
    "\n",
    "# Для каждого бренда автомобилей пройдемся по 99-ти страницам объявлений авто.ру и вытащим страницы этих объявлений \n",
    "for brand in model_all:\n",
    "    number_of_model = 0  # Счетчик для количества объявлений\n",
    "    for i in range(1,99):   \n",
    "        response = requests.get(f'https://auto.ru/cars/{brand}/all/?page={i}')\n",
    "        page = BeautifulSoup(response.text, 'html.parser')\n",
    "        for link in page.findAll('a',{\"class\": \"Link OfferThumb\"}):\n",
    "            try:\n",
    "                if link['href'] not in pages_url_list:  # Проверка на дубликаты\n",
    "                    pages_url_list.append(link['href'])\n",
    "                    number_of_model += 1\n",
    "            except:\n",
    "                pass\n",
    "    print(f'Число машин {brand} : {number_of_model} , в совокупной сумме :{len(pages_url_list)}')   \n",
    "    time.sleep(10)"
   ]
  },
  {
   "cell_type": "code",
   "execution_count": null,
   "id": "77757651",
   "metadata": {
    "ExecuteTime": {
     "start_time": "2021-07-08T08:39:29.911Z"
    }
   },
   "outputs": [
    {
     "name": "stdout",
     "output_type": "stream",
     "text": [
      "500\n",
      "1000\n",
      "1500\n",
      "2000\n",
      "https://auto.ru/cars/new/group/bmw/x4/21204130/21301352/1103539256-48e28137/ От дилера\n",
      "https://auto.ru/cars/used/sale/bmw/x3/1104133359-365c9cac/ От дилера\n",
      "https://auto.ru/cars/used/sale/bmw/1er/1104195059-4010c9a9/ От дилера\n",
      "2500\n",
      "3000\n",
      "3500\n",
      "4000\n",
      "4500\n",
      "5000\n",
      "5500\n",
      "6000\n",
      "6500\n",
      "7000\n",
      "7500\n",
      "8000\n",
      "8500\n",
      "9000\n",
      "9500\n",
      "https://auto.ru/cars/new/group/mercedes/gls_klasse/21601002/21601582/1103930562-20ad1d2f/ От дилера\n",
      "10000\n",
      "10500\n",
      "11000\n",
      "11500\n",
      "12000\n",
      "12500\n",
      "13000\n",
      "13500\n",
      "14000\n",
      "14500\n",
      "15000\n",
      "15500\n",
      "16000\n",
      "16500\n",
      "17000\n",
      "17500\n"
     ]
    }
   ],
   "source": [
    "cars_list = []\n",
    "object_number = 0\n",
    "diler_avto = 0\n",
    "for item in pages_url_list:\n",
    "    response = requests.get(item)\n",
    "    response.encoding = 'utf8'\n",
    "    page = BeautifulSoup(response.text, 'html.parser')\n",
    "    if page.find('div', class_='CardSold') == None:\n",
    "        try:\n",
    "            json_data = json.loads(\n",
    "                page.find('script', type=\"application/ld+json\").string)\n",
    "        except:\n",
    "            print(item + ' От дилера')\n",
    "            pass\n",
    "        cls_str = 'CardInfoRow_'\n",
    "        span_str = 'CardInfoRow__cell'\n",
    "        try:\n",
    "            cars_list.append({\n",
    "            'bodyType': json_data['bodyType'],\n",
    "            'brand': json_data['brand'],\n",
    "            'car_url': json_data['offers']['url'],\n",
    "            'color': json_data['color'],\n",
    "            'description': json_data['description'],\n",
    "            'engineDisplacement': json_data['vehicleEngine']['engineDisplacement'],\n",
    "            'enginePower': json_data['vehicleEngine']['enginePower'],\n",
    "            'fuelType': json_data['fuelType'],\n",
    "            'image': json_data['image'],\n",
    "            'mileage': page.find(\n",
    "                'li', class_=cls_str+'kmAge').find_all('span')[1].text,\n",
    "            'modelDate': json_data['modelDate'],\n",
    "            'model_name': json_data['name'],\n",
    "            'name': json_data['vehicleEngine']['name'],\n",
    "            'numberOfDoors': json_data['numberOfDoors'],\n",
    "            'parsing_unixtime': int(time.time()),\n",
    "            'priceCurrency': json_data['offers']['priceCurrency'],\n",
    "            'productionDate': json_data['productionDate'],\n",
    "            'sell_id': page.find(\n",
    "                'div', title='Идентификатор объявления').text,\n",
    "            'vehicleConfiguration': json_data['vehicleConfiguration'],\n",
    "            'vehicleTransmission': json_data['vehicleTransmission'],\n",
    "            'Владельцы': page.find(\n",
    "                'li', class_=cls_str+'ownersCount').find_all('span')[1].text,\n",
    "            'ПТС': page.find(\n",
    "                'li', class_=cls_str+'pts').find_all('span')[1].text,\n",
    "            'Привод': page.find(\n",
    "                'li', class_=cls_str+'drive').find_all('span')[1].text,\n",
    "            'Руль': page.find(\n",
    "                'li', class_=cls_str+'wheel').find_all('span')[1].text,\n",
    "            'Состояние': page.find(\n",
    "                'li', class_=cls_str+'state').find_all('span')[1].text,\n",
    "            'Таможня': page.find(\n",
    "                'li', class_=cls_str+'customs').find_all('span')[1].text,\n",
    "            'price': page.find(\n",
    "                'span', class_='OfferPriceCaption__price').text\n",
    "            })\n",
    "            object_number += 1\n",
    "            if object_number % 500 == 0:\n",
    "                print(object_number)\n",
    "        except:\n",
    "            diler_avto += 1\n",
    "            pass\n",
    "\n",
    "   # else cars_list = []\n",
    "\n",
    "    #print('Ожидаю 0.1 секунды...')\n",
    "    time.sleep(0.1)\n",
    "print(\"Автомобилей продаются дилерами: \", diler_avto)\n",
    "print(\"Автомобилей охарактеризовано: \", object_number)"
   ]
  },
  {
   "cell_type": "code",
   "execution_count": null,
   "id": "4b75c61d",
   "metadata": {
    "ExecuteTime": {
     "end_time": "2021-07-08T07:35:19.154928Z",
     "start_time": "2021-07-08T07:35:19.096088Z"
    },
    "scrolled": true
   },
   "outputs": [],
   "source": [
    "cars_list"
   ]
  },
  {
   "cell_type": "code",
   "execution_count": null,
   "id": "802fb409",
   "metadata": {
    "ExecuteTime": {
     "end_time": "2021-07-08T07:35:51.155368Z",
     "start_time": "2021-07-08T07:35:49.984156Z"
    }
   },
   "outputs": [],
   "source": [
    "data = pd.DataFrame(cars_list)"
   ]
  },
  {
   "cell_type": "code",
   "execution_count": null,
   "id": "85109951",
   "metadata": {},
   "outputs": [],
   "source": [
    "for brand in model_all:\n",
    "    print(brand)\n",
    "    for i in range(1,3):\n",
    "        print(i)\n",
    "        response = requests.get(f'https://auto.ru/cars/{brand}/all/?page={i}')\n",
    "        response.encoding = 'utf-8'\n",
    "        soup = BeautifulSoup(response.text, 'html.parser')\n",
    "        all_info.append()"
   ]
  },
  {
   "cell_type": "code",
   "execution_count": null,
   "id": "0b35f346",
   "metadata": {
    "ExecuteTime": {
     "end_time": "2021-07-07T04:58:56.874988Z",
     "start_time": "2021-07-07T04:58:56.858031Z"
    }
   },
   "outputs": [],
   "source": [
    "model_all = ['BMW', 'VOLKSWAGEN', 'NISSAN', 'MERCEDES', 'TOYOTA', 'AUDI', 'MITSUBISHI', 'SKODA', \n",
    "             'VOLVO', 'HONDA', 'INFINITI', 'LEXUS']"
   ]
  },
  {
   "cell_type": "code",
   "execution_count": null,
   "id": "b890f7e3",
   "metadata": {
    "ExecuteTime": {
     "end_time": "2021-07-07T04:59:48.212761Z",
     "start_time": "2021-07-07T04:59:26.211080Z"
    }
   },
   "outputs": [],
   "source": [
    "TTT = []\n",
    "for brand in model_all:\n",
    "    print(brand)\n",
    "    response = requests.get(f'https://auto.ru/cars/{brand}/all/?page=2')\n",
    "    response.encoding = 'utf-8'\n",
    "    soup = BeautifulSoup(response.text, 'html.parser')\n",
    "    all_blocks = soup.find_all('div', class_='ListingItem-module__main')\n",
    "    TTT.append(all_blocks[0])"
   ]
  },
  {
   "cell_type": "code",
   "execution_count": null,
   "id": "be8d002b",
   "metadata": {},
   "outputs": [],
   "source": [
    "model_all = ['BMW', 'VOLKSWAGEN', 'NISSAN', 'MERCEDES', 'TOYOTA', 'AUDI', 'MITSUBISHI', 'SKODA', \n",
    "             'VOLVO', 'HONDA', 'INFINITI', 'LEXUS']\n",
    "for brand in model_all:"
   ]
  },
  {
   "cell_type": "code",
   "execution_count": null,
   "id": "53f0ac9c",
   "metadata": {
    "ExecuteTime": {
     "end_time": "2021-07-07T12:31:22.822770Z",
     "start_time": "2021-07-07T12:31:22.391822Z"
    }
   },
   "outputs": [],
   "source": [
    "response = requests.get(f'https://auto.ru/cars/bmv/used/?page=5')\n",
    "response.encoding = 'utf-8'\n",
    "soup = BeautifulSoup(response.text, 'html.parser')\n",
    "soup.find_all('div', class_='ListingItem-module__main')  # Нашли все блоки с объявлениями"
   ]
  },
  {
   "cell_type": "code",
   "execution_count": null,
   "id": "c97a9f87",
   "metadata": {
    "ExecuteTime": {
     "end_time": "2021-07-07T12:50:41.566729Z",
     "start_time": "2021-07-07T12:50:40.731957Z"
    }
   },
   "outputs": [],
   "source": [
    "# Попробуем с одной страницы всю инфу вытащить\n",
    "response = requests.get('https://auto.ru/cars/used/sale/bmw/x4_m/1104089807-98281d14/')\n",
    "response.encoding = 'utf-8'\n",
    "soup = BeautifulSoup(response.text, 'html.parser')\n",
    "all_chara = soup.find_all('li','CardInfoRow')  # Нашли все блоки с характеристиками\n",
    "for el in all_chara[0].find_all('li','CardInfoRow'):\n",
    "    name = el.attrs['class'][1].split('_')[1]\n",
    "    value = el.find_all('span')[-1].text\n",
    "    print(name, value)"
   ]
  },
  {
   "cell_type": "code",
   "execution_count": null,
   "id": "1bf72884",
   "metadata": {
    "ExecuteTime": {
     "end_time": "2021-07-07T13:02:40.245765Z",
     "start_time": "2021-07-07T13:02:39.364782Z"
    }
   },
   "outputs": [],
   "source": [
    "# Попробуем с одной страницы всю инфу вытащить\n",
    "response = requests.get('https://auto.ru/cars/used/sale/bmw/x3/1103790918-6898180e/')\n",
    "response.encoding = 'utf-8'\n",
    "soup = BeautifulSoup(response.text, 'html.parser')\n",
    "all_chara = soup.find_all('li','CardInfoRow')  # Нашли все блоки с характеристиками\n",
    "for el in all_chara:\n",
    "    name = el.attrs['class'][1].split('_')[1]\n",
    "    value = el.find_all('span')[-1].text\n",
    "    print(name, value)"
   ]
  },
  {
   "cell_type": "code",
   "execution_count": null,
   "id": "e9fbf035",
   "metadata": {},
   "outputs": [],
   "source": []
  },
  {
   "cell_type": "code",
   "execution_count": null,
   "id": "18aab5b4",
   "metadata": {
    "ExecuteTime": {
     "end_time": "2021-07-07T13:10:58.236423Z",
     "start_time": "2021-07-07T13:10:49.355935Z"
    },
    "scrolled": false
   },
   "outputs": [],
   "source": [
    "# Пробуем с первых 5 объявлений на одной странице вытащить инфу\n",
    "response = requests.get(f'https://auto.ru/cars/bmw/used/?page=15')\n",
    "response.encoding = 'utf-8'\n",
    "soup = BeautifulSoup(response.text, 'html.parser')\n",
    "all_blocks = soup.find_all('div', class_='ListingItem-module__main')  # Нашли все блоки с объявлениями\n",
    "for i in range(10):\n",
    "    try:\n",
    "        print(all_blocks[i].find('a', class_=\"Link ListingItemTitle-module__link\").text, end = ' | ')  # Название авто\n",
    "        try:\n",
    "            print(all_blocks[i].find('a', class_=\"Link ListingItemPrice-module__link\").text)\n",
    "        except:\n",
    "            try:\n",
    "                print(all_blocks[i].find('div', class_=\"ListingItemPrice-module__content\").text)\n",
    "            except:\n",
    "                print('!!!   НЕТ ЦЕНЫ   !!!')\n",
    "            continue\n",
    "        site = all_blocks[i].find('a', class_=\"Link ListingItemTitle-module__link\").get('href')\n",
    "        response_2 = requests.get(site)\n",
    "        response_2.encoding = 'utf-8'\n",
    "        soup_2 = BeautifulSoup(response_2.text, 'html.parser')\n",
    "        all_chara = soup_2.find_all('li','CardInfoRow')  # Нашли все блоки с характеристиками\n",
    "        for el in all_chara:\n",
    "            name = el.attrs['class'][1].split('_')[1]\n",
    "            value = el.find_all('span')[-1].text\n",
    "            print(name, value)\n",
    "        print()\n",
    "    except:\n",
    "        print('!!! КОНЧИЛИСЬ АВТО НА СТРАНИЦЕ  !!!')"
   ]
  },
  {
   "cell_type": "code",
   "execution_count": null,
   "id": "1002ae03",
   "metadata": {
    "ExecuteTime": {
     "end_time": "2021-07-07T13:02:20.715776Z",
     "start_time": "2021-07-07T13:02:20.711754Z"
    }
   },
   "outputs": [],
   "source": [
    "site"
   ]
  },
  {
   "cell_type": "code",
   "execution_count": null,
   "id": "7869bd32",
   "metadata": {},
   "outputs": [],
   "source": []
  },
  {
   "cell_type": "code",
   "execution_count": null,
   "id": "8749cca6",
   "metadata": {},
   "outputs": [],
   "source": []
  },
  {
   "cell_type": "code",
   "execution_count": null,
   "id": "e3377e9c",
   "metadata": {
    "ExecuteTime": {
     "end_time": "2021-07-07T12:43:05.161582Z",
     "start_time": "2021-07-07T12:43:03.118031Z"
    },
    "scrolled": false
   },
   "outputs": [],
   "source": [
    "response = requests.get(f'https://auto.ru/cars/bmw/used/?page=5')\n",
    "response.encoding = 'utf-8'\n",
    "soup = BeautifulSoup(response.text, 'html.parser')\n",
    "all_blocks = soup.find_all('div', class_='ListingItem-module__main')  # Нашли все блоки с объявлениями\n",
    "for i in range(38):\n",
    "    try:\n",
    "        print(all_blocks[i].find('a', class_=\"Link ListingItemTitle-module__link\").text, end = ' | ')  # Название авто\n",
    "        try:\n",
    "            print(all_blocks[i].find('a', class_=\"Link ListingItemPrice-module__link\").text)\n",
    "        except:\n",
    "            try:\n",
    "                print(all_blocks[i].find('div', class_=\"ListingItemPrice-module__content\").text)\n",
    "            except:\n",
    "                print('!!!   НЕТ ЦЕНЫ   !!!')\n",
    "            continue\n",
    "        print(all_blocks[i].find('a', class_=\"Link ListingItemTitle-module__link\").get('href'))   # Cтраница авто\n",
    "        all_chara = all_blocks[i].find_all('div', class_=\"ListingItemTechSummaryDesktop__cell\")\n",
    "        for item in all_chara:\n",
    "            print(item.text, end=' | ')\n",
    "        print()\n",
    "\n",
    "    except:\n",
    "        print('!!! КОНЧИЛИСЬ АВТО НА СТРАНИЦЕ  !!!')"
   ]
  },
  {
   "cell_type": "code",
   "execution_count": null,
   "id": "e16dbd4e",
   "metadata": {},
   "outputs": [],
   "source": []
  },
  {
   "cell_type": "code",
   "execution_count": null,
   "id": "1f42a401",
   "metadata": {},
   "outputs": [],
   "source": []
  },
  {
   "cell_type": "code",
   "execution_count": null,
   "id": "2e77e0b2",
   "metadata": {},
   "outputs": [],
   "source": []
  },
  {
   "cell_type": "code",
   "execution_count": null,
   "id": "93e2bfb2",
   "metadata": {},
   "outputs": [],
   "source": []
  },
  {
   "cell_type": "code",
   "execution_count": null,
   "id": "e5291b11",
   "metadata": {},
   "outputs": [],
   "source": []
  },
  {
   "cell_type": "code",
   "execution_count": null,
   "id": "07e9cc4f",
   "metadata": {},
   "outputs": [],
   "source": []
  },
  {
   "cell_type": "code",
   "execution_count": null,
   "id": "b9e30af9",
   "metadata": {},
   "outputs": [],
   "source": []
  },
  {
   "cell_type": "code",
   "execution_count": null,
   "id": "0848fc05",
   "metadata": {
    "ExecuteTime": {
     "end_time": "2021-07-07T08:30:29.708869Z",
     "start_time": "2021-07-07T08:30:27.848659Z"
    },
    "scrolled": false
   },
   "outputs": [],
   "source": [
    "# Проверка на цены тупая\n",
    "response = requests.get(f'https://auto.ru/cars/volvo/used/?page=2')\n",
    "response.encoding = 'utf-8'\n",
    "soup = BeautifulSoup(response.text, 'html.parser')\n",
    "all_blocks = soup.find_all('div', class_='ListingItem-module__main')  # Нашли все блоки с объявлениями\n",
    "for i in range(40):\n",
    "    try:\n",
    "        print(all_blocks[i].find('a', class_=\"Link ListingItemTitle-module__link\").text, end = '                            | ')          # Название авто\n",
    "        \n",
    "        try:\n",
    "            print(all_blocks[i].find('a', class_=\"Link ListingItemPrice-module__link\").text)\n",
    "        except:\n",
    "            try:\n",
    "                print(all_blocks[i].find('div', class_=\"ListingItemPrice-module__content\").text)\n",
    "            except:\n",
    "                print('!!!   НЕТ ЦЕНЫ   !!!')\n",
    "            continue\n",
    "        print(all_blocks[i].find('a', class_=\"Link ListingItemTitle-module__link\").get('href'))   # Cтраница авто\n",
    "        all_chara = all_blocks[i].find_all('div', class_=\"ListingItemTechSummaryDesktop__cell\")\n",
    "        for item in all_chara:\n",
    "            print(item.text, end=' | ')\n",
    "        print()\n",
    "\n",
    "    except:\n",
    "        print('!!! КОНЧИЛИСЬ АВТО НА СТРАНИЦЕ  !!!')"
   ]
  },
  {
   "cell_type": "code",
   "execution_count": null,
   "id": "8e6feb4a",
   "metadata": {},
   "outputs": [],
   "source": [
    "<div class=\"ListingItemTechSummaryDesktop__cell\">автомат</div>"
   ]
  },
  {
   "cell_type": "code",
   "execution_count": null,
   "id": "9700a792",
   "metadata": {
    "ExecuteTime": {
     "end_time": "2021-07-07T06:07:08.795506Z",
     "start_time": "2021-07-07T06:06:43.568962Z"
    },
    "scrolled": false
   },
   "outputs": [],
   "source": [
    "response = requests.get(f'https://auto.ru/cars/volvo/used/?page=56')\n",
    "response.encoding = 'utf-8'\n",
    "soup = BeautifulSoup(response.text, 'html.parser')\n",
    "all_blocks = soup.find_all('div', class_='ListingItem-module__main')\n",
    "for i in range(38):\n",
    "    try:\n",
    "        new_site = str(all_blocks[i].find('a', class_='Link ListingItemTitle-module__link').get('href'))\n",
    "        response_2 = requests.get(new_site)\n",
    "        response_2.encoding = 'utf-8'\n",
    "        soup_2 = BeautifulSoup(response_2.text, 'html.parser')\n",
    "        print(soup_2.find('li', class_=\"CardInfoRow CardInfoRow_bodytype\").find('a').text)\n",
    "    except:\n",
    "        print('ОШИБКА')"
   ]
  },
  {
   "cell_type": "code",
   "execution_count": null,
   "id": "0765d484",
   "metadata": {
    "ExecuteTime": {
     "end_time": "2021-07-07T05:16:03.277834Z",
     "start_time": "2021-07-07T05:16:01.113084Z"
    }
   },
   "outputs": [],
   "source": [
    "response = requests.get(f'https://auto.ru/cars/volvo/all/?page=2')\n",
    "response.encoding = 'utf-8'\n",
    "soup = BeautifulSoup(response.text, 'html.parser')\n",
    "all_blocks = soup.find_all('div', class_='ListingItem-module__main')\n",
    "len(all_blocks)"
   ]
  },
  {
   "cell_type": "code",
   "execution_count": null,
   "id": "0f62b7ed",
   "metadata": {},
   "outputs": [],
   "source": []
  },
  {
   "cell_type": "code",
   "execution_count": null,
   "id": "7746d6d0",
   "metadata": {},
   "outputs": [],
   "source": []
  },
  {
   "cell_type": "code",
   "execution_count": null,
   "id": "98386d58",
   "metadata": {},
   "outputs": [],
   "source": []
  },
  {
   "cell_type": "code",
   "execution_count": null,
   "id": "19c73794",
   "metadata": {},
   "outputs": [],
   "source": []
  }
 ],
 "metadata": {
  "kernelspec": {
   "display_name": "Python 3",
   "language": "python",
   "name": "python3"
  },
  "language_info": {
   "codemirror_mode": {
    "name": "ipython",
    "version": 3
   },
   "file_extension": ".py",
   "mimetype": "text/x-python",
   "name": "python",
   "nbconvert_exporter": "python",
   "pygments_lexer": "ipython3",
   "version": "3.8.10"
  }
 },
 "nbformat": 4,
 "nbformat_minor": 5
}
