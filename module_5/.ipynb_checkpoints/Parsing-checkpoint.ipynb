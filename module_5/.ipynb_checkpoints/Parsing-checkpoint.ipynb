{
 "cells": [
  {
   "cell_type": "code",
   "execution_count": 1,
   "id": "9689dd07",
   "metadata": {
    "ExecuteTime": {
     "end_time": "2021-07-07T04:07:16.996706Z",
     "start_time": "2021-07-07T04:07:16.683380Z"
    }
   },
   "outputs": [],
   "source": [
    "from bs4 import BeautifulSoup\n",
    "import requests"
   ]
  },
  {
   "cell_type": "code",
   "execution_count": 2,
   "id": "5d5c9df8",
   "metadata": {
    "ExecuteTime": {
     "end_time": "2021-07-07T04:07:31.499443Z",
     "start_time": "2021-07-07T04:07:31.489439Z"
    }
   },
   "outputs": [],
   "source": [
    "model_all = ['BMW', 'VOLKSWAGEN', 'NISSAN', 'MERCEDES', 'TOYOTA', 'AUDI', 'MITSUBISHI', 'SKODA', \n",
    "             'VOLVO', 'HONDA', 'INFINITI', 'LEXUS']"
   ]
  },
  {
   "cell_type": "code",
   "execution_count": 18,
   "id": "71a4a4de",
   "metadata": {
    "ExecuteTime": {
     "end_time": "2021-07-07T04:45:23.591228Z",
     "start_time": "2021-07-07T04:45:23.575258Z"
    }
   },
   "outputs": [],
   "source": [
    "dict_for_train = {\n",
    "    \n",
    "}"
   ]
  },
  {
   "cell_type": "code",
   "execution_count": null,
   "id": "218781f8",
   "metadata": {},
   "outputs": [],
   "source": [
    "<div class=\"ListingItemPrice-module__content\"><svg class=\"IconSvg IconSvg_price-down-16 IconSvg_size_16 ListingItemPrice-module__iconDiscount\"><use xlink:href=\"#price-down-16\"></use></svg><span>469&nbsp;000&nbsp;₽</span></div>"
   ]
  },
  {
   "cell_type": "code",
   "execution_count": null,
   "id": "85109951",
   "metadata": {},
   "outputs": [],
   "source": [
    "for brand in model_all:\n",
    "    print(brand)\n",
    "    for i in range(1,3):\n",
    "        print(i)\n",
    "        response = requests.get(f'https://auto.ru/cars/{brand}/all/?page={i}')\n",
    "        response.encoding = 'utf-8'\n",
    "        soup = BeautifulSoup(response.text, 'html.parser')\n",
    "        all_info.append()"
   ]
  },
  {
   "cell_type": "code",
   "execution_count": 32,
   "id": "0b35f346",
   "metadata": {
    "ExecuteTime": {
     "end_time": "2021-07-07T04:58:56.874988Z",
     "start_time": "2021-07-07T04:58:56.858031Z"
    }
   },
   "outputs": [],
   "source": [
    "model_all = ['BMW', 'VOLKSWAGEN', 'NISSAN', 'MERCEDES', 'TOYOTA', 'AUDI', 'MITSUBISHI', 'SKODA', \n",
    "             'VOLVO', 'HONDA', 'INFINITI', 'LEXUS']"
   ]
  },
  {
   "cell_type": "code",
   "execution_count": 36,
   "id": "b890f7e3",
   "metadata": {
    "ExecuteTime": {
     "end_time": "2021-07-07T04:59:48.212761Z",
     "start_time": "2021-07-07T04:59:26.211080Z"
    }
   },
   "outputs": [
    {
     "name": "stdout",
     "output_type": "stream",
     "text": [
      "BMW\n",
      "VOLKSWAGEN\n",
      "NISSAN\n",
      "MERCEDES\n",
      "TOYOTA\n",
      "AUDI\n",
      "MITSUBISHI\n",
      "SKODA\n",
      "VOLVO\n",
      "HONDA\n",
      "INFINITI\n",
      "LEXUS\n"
     ]
    }
   ],
   "source": [
    "TTT = []\n",
    "for brand in model_all:\n",
    "    print(brand)\n",
    "    response = requests.get(f'https://auto.ru/cars/{brand}/all/?page=2')\n",
    "    response.encoding = 'utf-8'\n",
    "    soup = BeautifulSoup(response.text, 'html.parser')\n",
    "    all_blocks = soup.find_all('div', class_='ListingItem-module__main')\n",
    "    TTT.append(all_blocks[0])"
   ]
  },
  {
   "cell_type": "code",
   "execution_count": 126,
   "id": "e336e479",
   "metadata": {
    "ExecuteTime": {
     "end_time": "2021-07-07T07:04:37.447614Z",
     "start_time": "2021-07-07T07:04:35.570887Z"
    }
   },
   "outputs": [
    {
     "name": "stdout",
     "output_type": "stream",
     "text": [
      "Volvo S60 I Рестайлинг\n",
      "Volvo XC90 I\n",
      "Volvo XC90 II\n",
      "Volvo S80 I\n",
      "Volvo XC90 I Рестайлинг\n",
      "Volvo S80 II Рестайлинг\n",
      "Volvo S60 II\n",
      "Volvo S40 II\n",
      "Volvo 940\n",
      "Volvo S80 II Рестайлинг\n",
      "Volvo S60 II\n",
      "Volvo V40 Cross Country I\n",
      "Volvo S60 I\n",
      "Volvo XC90 II\n",
      "Volvo XC70 II\n",
      "Volvo XC60 I\n",
      "Volvo 940\n",
      "Volvo XC90 I\n",
      "Volvo C30 I\n",
      "Volvo 440\n",
      "Volvo S60 I Рестайлинг\n",
      "Volvo S60 II\n",
      "Volvo S40 I\n",
      "Volvo S40 II\n",
      "Volvo XC90 I Рестайлинг\n",
      "Volvo S40 I\n",
      "Volvo XC70 II\n",
      "Volvo XC70 II Рестайлинг\n",
      "Volvo XC70 II\n",
      "Volvo XC90 I Рестайлинг\n",
      "Volvo S60 I Рестайлинг\n",
      "Volvo XC90 II\n",
      "Volvo S40 II Рестайлинг\n",
      "Volvo XC70 II\n",
      "Volvo XC90 II\n",
      "Volvo S80 I Рестайлинг\n",
      "Volvo XC90 I Рестайлинг\n"
     ]
    }
   ],
   "source": [
    "response = requests.get(f'https://auto.ru/cars/volvo/used/?page=56')\n",
    "response.encoding = 'utf-8'\n",
    "soup = BeautifulSoup(response.text, 'html.parser')\n",
    "all_blocks = soup.find_all('div', class_='ListingItem-module__main')  # Нашли все блоки с объявлениями\n",
    "for i in range(37):\n",
    "    print(all_blocks[i].find('a', class_=\"Link ListingItemTitle-module__link\").text)"
   ]
  },
  {
   "cell_type": "code",
   "execution_count": 158,
   "id": "e3377e9c",
   "metadata": {
    "ExecuteTime": {
     "end_time": "2021-07-07T08:32:57.099185Z",
     "start_time": "2021-07-07T08:32:55.095200Z"
    },
    "scrolled": false
   },
   "outputs": [
    {
     "name": "stdout",
     "output_type": "stream",
     "text": [
      "Volvo XC60 I Рестайлинг | 1 775 000 ₽\n",
      "https://auto.ru/cars/used/sale/volvo/xc60/1103843613-6eddda35/\n",
      "2.4 л / 215 л.с. / Дизель | автомат | внедорожник 5 дв. | полный | коричневый | \n",
      "Volvo S80 II Рестайлинг 2 | 1 397 000 ₽\n",
      "https://auto.ru/cars/used/sale/volvo/s80/1104186378-f8dbda8e/\n",
      "2.0 л / 245 л.с. / Бензин | автомат | седан | передний | коричневый | \n",
      "Volvo V60 Cross Country II | 3 560 000 ₽\n",
      "https://auto.ru/cars/used/sale/volvo/v60_cross_country/1104187110-5fa5aa1d/\n",
      "2.0 л / 250 л.с. / Бензин | автомат | универсал 5 дв. | полный | чёрный | \n",
      "Volvo S60 II | 945 000 ₽\n",
      "https://auto.ru/cars/used/sale/volvo/s60/1103746614-30ab5b48/\n",
      "2.0 л / 180 л.с. / Бензин | автомат | седан | передний | белый | \n",
      "Volvo XC60 II | 3 390 000 ₽\n",
      "https://auto.ru/cars/used/sale/volvo/xc60/1104053020-da147f2f/\n",
      "2.0 л / 190 л.с. / Дизель | автомат | внедорожник 5 дв. | полный | белый | \n",
      "Volvo XC70 II | 765 000 ₽\n",
      "https://auto.ru/cars/used/sale/volvo/xc70/1103840431-db997560/\n",
      "3.2 л / 238 л.с. / Бензин | автомат | универсал 5 дв. | полный | чёрный | \n",
      "Volvo XC60 I | 1 330 000 ₽\n",
      "https://auto.ru/cars/used/sale/volvo/xc60/1104068108-39ba809d/\n",
      "2.4 л / 163 л.с. / Дизель | автомат | внедорожник 5 дв. | полный | белый | \n",
      "Volvo S40 II Рестайлинг | 505 000 ₽\n",
      "https://auto.ru/cars/used/sale/volvo/s40/1103608235-1069d357/\n",
      "2.0 л / 145 л.с. / Бензин | робот | седан | передний | красный | \n",
      "Volvo XC40 I | 2 690 000 ₽\n",
      "https://auto.ru/cars/used/sale/volvo/xc40/1103683259-2df3acec/\n",
      "2.0 л / 150 л.с. / Дизель | автомат | внедорожник 5 дв. | полный | чёрный | \n",
      "Volvo V90 Cross Country I | 3 155 000 ₽\n",
      "https://auto.ru/cars/used/sale/volvo/v90_cross_country/1103970710-b138d0c7/\n",
      "2.0 л / 190 л.с. / Дизель | автомат | универсал 5 дв. | полный | серый | \n",
      "Volvo S90 II | 3 020 000 ₽\n",
      "https://auto.ru/cars/used/sale/volvo/s90/1103856176-a321203c/\n",
      "2.0 л / 190 л.с. / Бензин | автомат | седан | передний | чёрный | \n",
      "Volvo XC60 II | 3 080 000 ₽\n",
      "https://auto.ru/cars/used/sale/volvo/xc60/1104019161-d82a6b07/\n",
      "2.0 л / 190 л.с. / Дизель | автомат | внедорожник 5 дв. | полный | чёрный | \n",
      "Volvo XC60 I Рестайлинг | 1 730 000 ₽\n",
      "https://auto.ru/cars/used/sale/volvo/xc60/1103735231-6c279346/\n",
      "2.4 л / 181 л.с. / Дизель | автомат | внедорожник 5 дв. | полный | белый | \n",
      "Volvo XC90 I Рестайлинг | 1 890 000 ₽\n",
      "https://auto.ru/cars/used/sale/volvo/xc90/1103900151-dfcc60ed/\n",
      "2.4 л / 200 л.с. / Дизель | автомат | внедорожник 5 дв. | полный | чёрный | \n",
      "Volvo XC70 II | 855 000 ₽\n",
      "https://auto.ru/cars/used/sale/volvo/xc70/1103678158-89451b49/\n",
      "3.2 л / 238 л.с. / Бензин | автомат | универсал 5 дв. | полный | чёрный | \n",
      "Volvo V90 Cross Country I | 3 170 000 ₽\n",
      "https://auto.ru/cars/used/sale/volvo/v90_cross_country/1103798854-e9433105/\n",
      "2.0 л / 249 л.с. / Бензин | автомат | универсал 5 дв. | полный | голубой | \n",
      "Volvo S80 II Рестайлинг | 850 000 ₽\n",
      "https://auto.ru/cars/used/sale/volvo/s80/1103807080-9ab0010d/\n",
      "2.5 л / 231 л.с. / Бензин | автомат | седан | передний | синий | \n",
      "Volvo V40 Cross Country I | 1 220 000 ₽\n",
      "https://auto.ru/cars/used/sale/volvo/v40_cc/1103469054-146e07e3/\n",
      "2.0 л / 180 л.с. / Бензин | автомат | хэтчбек 5 дв. | передний | коричневый | \n",
      "Volvo XC90 II | 2 400 000 ₽\n",
      "https://auto.ru/cars/used/sale/volvo/xc90/1103683258-932d1535/\n",
      "2.0 л / 235 л.с. / Дизель | автомат | внедорожник 5 дв. | полный | чёрный | \n",
      "Volvo V60 Cross Country II | 3 865 000 ₽\n",
      "https://auto.ru/cars/used/sale/volvo/v60_cross_country/1104185173-683f6b71/\n",
      "2.0 л / 250 л.с. / Бензин | автомат | универсал 5 дв. | полный | серый | \n",
      "Volvo XC60 I Рестайлинг | !!!   НЕТ ЦЕНЫ   !!!\n",
      "Volvo XC90 II | 2 678 000 ₽\n",
      "https://auto.ru/cars/used/sale/volvo/xc90/1104184832-cb27efe3/\n",
      "2.0 л / 225 л.с. / Дизель | автомат | внедорожник 5 дв. | полный | серебристый | \n",
      "Volvo S60 I Рестайлинг | 451 000 ₽\n",
      "https://auto.ru/cars/used/sale/volvo/s60/1104184167-5d4d0ec4/\n",
      "2.4 л / 140 л.с. / Бензин | автомат | седан | передний | синий | \n",
      "Volvo XC90 II | 3 720 000 ₽\n",
      "https://auto.ru/cars/used/sale/volvo/xc90/1104184952-bfd26aa0/\n",
      "2.0 л / 235 л.с. / Дизель | автомат | внедорожник 5 дв. | полный | коричневый | \n",
      "Volvo XC60 I | 1 367 000 ₽\n",
      "https://auto.ru/cars/used/sale/volvo/xc60/1103122531-561d8517/\n",
      "2.4 л / 215 л.с. / Дизель | автомат | внедорожник 5 дв. | полный | коричневый | \n",
      "Volvo XC40 I | 3 210 510 ₽\n",
      "https://auto.ru/cars/used/sale/volvo/xc40/1103252523-2ffa418a/\n",
      "2.0 л / 190 л.с. / Бензин | автомат | внедорожник 5 дв. | полный | белый | \n",
      "Volvo S60 III | 2 821 609 ₽\n",
      "https://auto.ru/cars/used/sale/volvo/s60/1103569334-24d79e73/\n",
      "2.0 л / 190 л.с. / Бензин | автомат | седан | передний | чёрный | \n",
      "Volvo S60 II Рестайлинг | 1 427 273 ₽\n",
      "https://auto.ru/cars/used/sale/volvo/s60/1103342603-c6b03a52/\n",
      "1.5 л / 152 л.с. / Бензин | автомат | седан | передний | красный | \n",
      "Volvo XC70 II Рестайлинг | 1 495 000 ₽\n",
      "https://auto.ru/cars/used/sale/volvo/xc70/1102287054-00de6705/\n",
      "2.4 л / 181 л.с. / Дизель | автомат | универсал 5 дв. | полный | белый | \n",
      "Volvo XC90 II | 2 403 488 ₽\n",
      "https://auto.ru/cars/used/sale/volvo/xc90/1103935523-a3962f04/\n",
      "2.0 л / 225 л.с. / Дизель | автомат | внедорожник 5 дв. | полный | синий | \n",
      "Volvo XC60 I Рестайлинг | 2 135 780 ₽\n",
      "https://auto.ru/cars/used/sale/volvo/xc60/1101743637-98595f80/\n",
      "2.4 л / 190 л.с. / Дизель | автомат | внедорожник 5 дв. | полный | коричневый | \n",
      "Volvo XC60 I | 924 096 ₽\n",
      "https://auto.ru/cars/used/sale/volvo/xc60/1103462973-c3ff0022/\n",
      "2.0 л / 203 л.с. / Бензин | робот | внедорожник 5 дв. | передний | синий | \n",
      "Volvo XC60 I | 1 095 000 ₽\n",
      "https://auto.ru/cars/used/sale/volvo/xc60/1104134001-a6e33af7/\n",
      "2.0 л / 240 л.с. / Бензин | робот | внедорожник 5 дв. | передний | чёрный | \n",
      "Volvo S80 II | 595 000 ₽\n",
      "https://auto.ru/cars/used/sale/volvo/s80/1103865758-5f7a9d04/\n",
      "3.2 л / 238 л.с. / Бензин | автомат | седан | полный | чёрный | \n",
      "Volvo S80 II | 645 000 ₽\n",
      "https://auto.ru/cars/used/sale/volvo/s80/1103461630-250a25b6/\n",
      "2.5 л / 200 л.с. / Бензин | автомат | седан | передний | чёрный | \n",
      "Volvo S60 II Рестайлинг | 1 008 333 ₽\n",
      "https://auto.ru/cars/used/sale/volvo/s60/1103421709-e89af599/\n",
      "2.0 л / 180 л.с. / Бензин | автомат | седан | передний | чёрный | \n",
      "Volvo S40 II Рестайлинг | 509 000 ₽\n",
      "https://auto.ru/cars/used/sale/volvo/s40/1103602596-822fc8d9/\n",
      "2.4 л / 140 л.с. / Бензин | автомат | седан | передний | чёрный | \n",
      "Volvo XC40 I | 3 120 000 ₽\n",
      "https://auto.ru/cars/used/sale/volvo/xc40/1103328958-6aab4a15/\n",
      "2.0 л / 190 л.с. / Бензин | автомат | внедорожник 5 дв. | полный | красный | \n"
     ]
    }
   ],
   "source": [
    "model_all = ['BMW', 'VOLKSWAGEN', 'NISSAN', 'MERCEDES', 'TOYOTA', 'AUDI', 'MITSUBISHI', 'SKODA', \n",
    "             'VOLVO', 'HONDA', 'INFINITI', 'LEXUS']\n",
    "for brand in model_all:\n",
    "    response = requests.get(f'https://auto.ru/cars/volvo/used/?page=2')\n",
    "    response.encoding = 'utf-8'\n",
    "    soup = BeautifulSoup(response.text, 'html.parser')\n",
    "    all_blocks = soup.find_all('div', class_='ListingItem-module__main')  # Нашли все блоки с объявлениями\n",
    "    for i in range(38):\n",
    "        try:\n",
    "            print(all_blocks[i].find('a', class_=\"Link ListingItemTitle-module__link\").text, end = ' | ')  # Название авто\n",
    "            try:\n",
    "                print(all_blocks[i].find('a', class_=\"Link ListingItemPrice-module__link\").text)\n",
    "            except:\n",
    "                try:\n",
    "                    print(all_blocks[i].find('div', class_=\"ListingItemPrice-module__content\").text)\n",
    "                except:\n",
    "                    print('!!!   НЕТ ЦЕНЫ   !!!')\n",
    "                continue\n",
    "            print(all_blocks[i].find('a', class_=\"Link ListingItemTitle-module__link\").get('href'))   # Cтраница авто\n",
    "            all_chara = all_blocks[i].find_all('div', class_=\"ListingItemTechSummaryDesktop__cell\")\n",
    "            for item in all_chara:\n",
    "                print(item.text, end=' | ')\n",
    "            print()\n",
    "    \n",
    "        except:\n",
    "            print('!!! КОНЧИЛИСЬ АВТО НА СТРАНИЦЕ  !!!')"
   ]
  },
  {
   "cell_type": "code",
   "execution_count": 156,
   "id": "0848fc05",
   "metadata": {
    "ExecuteTime": {
     "end_time": "2021-07-07T08:30:29.708869Z",
     "start_time": "2021-07-07T08:30:27.848659Z"
    },
    "scrolled": false
   },
   "outputs": [
    {
     "name": "stdout",
     "output_type": "stream",
     "text": [
      "Volvo S80 II Рестайлинг 2                            | 1 397 000 ₽\n",
      "https://auto.ru/cars/used/sale/volvo/s80/1104186378-f8dbda8e/\n",
      "2.0 л / 245 л.с. / Бензин | автомат | седан | передний | коричневый | \n",
      "Volvo V60 Cross Country II                            | 3 560 000 ₽\n",
      "https://auto.ru/cars/used/sale/volvo/v60_cross_country/1104187110-5fa5aa1d/\n",
      "2.0 л / 250 л.с. / Бензин | автомат | универсал 5 дв. | полный | чёрный | \n",
      "Volvo S40 II Рестайлинг                            | 505 000 ₽\n",
      "https://auto.ru/cars/used/sale/volvo/s40/1103608235-1069d357/\n",
      "2.0 л / 145 л.с. / Бензин | робот | седан | передний | красный | \n",
      "Volvo S60 II                            | 945 000 ₽\n",
      "https://auto.ru/cars/used/sale/volvo/s60/1103746614-30ab5b48/\n",
      "2.0 л / 180 л.с. / Бензин | автомат | седан | передний | белый | \n",
      "Volvo XC60 II                            | 3 390 000 ₽\n",
      "https://auto.ru/cars/used/sale/volvo/xc60/1104053020-da147f2f/\n",
      "2.0 л / 190 л.с. / Дизель | автомат | внедорожник 5 дв. | полный | белый | \n",
      "Volvo XC70 II                            | 765 000 ₽\n",
      "https://auto.ru/cars/used/sale/volvo/xc70/1103840431-db997560/\n",
      "3.2 л / 238 л.с. / Бензин | автомат | универсал 5 дв. | полный | чёрный | \n",
      "Volvo XC60 I                            | 1 330 000 ₽\n",
      "https://auto.ru/cars/used/sale/volvo/xc60/1104068108-39ba809d/\n",
      "2.4 л / 163 л.с. / Дизель | автомат | внедорожник 5 дв. | полный | белый | \n",
      "Volvo XC40 I                            | 2 690 000 ₽\n",
      "https://auto.ru/cars/used/sale/volvo/xc40/1103683259-2df3acec/\n",
      "2.0 л / 150 л.с. / Дизель | автомат | внедорожник 5 дв. | полный | чёрный | \n",
      "Volvo V90 Cross Country I                            | 3 155 000 ₽\n",
      "https://auto.ru/cars/used/sale/volvo/v90_cross_country/1103970710-b138d0c7/\n",
      "2.0 л / 190 л.с. / Дизель | автомат | универсал 5 дв. | полный | серый | \n",
      "Volvo S90 II                            | 3 020 000 ₽\n",
      "https://auto.ru/cars/used/sale/volvo/s90/1103856176-a321203c/\n",
      "2.0 л / 190 л.с. / Бензин | автомат | седан | передний | чёрный | \n",
      "Volvo XC60 II                            | 3 080 000 ₽\n",
      "https://auto.ru/cars/used/sale/volvo/xc60/1104019161-d82a6b07/\n",
      "2.0 л / 190 л.с. / Дизель | автомат | внедорожник 5 дв. | полный | чёрный | \n",
      "Volvo XC60 I Рестайлинг                            | 1 730 000 ₽\n",
      "https://auto.ru/cars/used/sale/volvo/xc60/1103735231-6c279346/\n",
      "2.4 л / 181 л.с. / Дизель | автомат | внедорожник 5 дв. | полный | белый | \n",
      "Volvo XC90 I Рестайлинг                            | 1 890 000 ₽\n",
      "https://auto.ru/cars/used/sale/volvo/xc90/1103900151-dfcc60ed/\n",
      "2.4 л / 200 л.с. / Дизель | автомат | внедорожник 5 дв. | полный | чёрный | \n",
      "Volvo S90  II Long                            | !!!   НЕТ ЦЕНЫ   !!!\n",
      "Volvo XC70 II                            | 855 000 ₽\n",
      "https://auto.ru/cars/used/sale/volvo/xc70/1103678158-89451b49/\n",
      "3.2 л / 238 л.с. / Бензин | автомат | универсал 5 дв. | полный | чёрный | \n",
      "Volvo V90 Cross Country I                            | 3 170 000 ₽\n",
      "https://auto.ru/cars/used/sale/volvo/v90_cross_country/1103798854-e9433105/\n",
      "2.0 л / 249 л.с. / Бензин | автомат | универсал 5 дв. | полный | голубой | \n",
      "Volvo S80 II Рестайлинг                            | 850 000 ₽\n",
      "https://auto.ru/cars/used/sale/volvo/s80/1103807080-9ab0010d/\n",
      "2.5 л / 231 л.с. / Бензин | автомат | седан | передний | синий | \n",
      "Volvo V40 Cross Country I                            | 1 220 000 ₽\n",
      "https://auto.ru/cars/used/sale/volvo/v40_cc/1103469054-146e07e3/\n",
      "2.0 л / 180 л.с. / Бензин | автомат | хэтчбек 5 дв. | передний | коричневый | \n",
      "Volvo XC90 II                            | 2 400 000 ₽\n",
      "https://auto.ru/cars/used/sale/volvo/xc90/1103683258-932d1535/\n",
      "2.0 л / 235 л.с. / Дизель | автомат | внедорожник 5 дв. | полный | чёрный | \n",
      "Volvo V60 Cross Country II                            | 3 865 000 ₽\n",
      "https://auto.ru/cars/used/sale/volvo/v60_cross_country/1104185173-683f6b71/\n",
      "2.0 л / 250 л.с. / Бензин | автомат | универсал 5 дв. | полный | серый | \n",
      "Volvo XC90 II                            | 2 678 000 ₽\n",
      "https://auto.ru/cars/used/sale/volvo/xc90/1104184832-cb27efe3/\n",
      "2.0 л / 225 л.с. / Дизель | автомат | внедорожник 5 дв. | полный | серебристый | \n",
      "Volvo S60 I Рестайлинг                            | 451 000 ₽\n",
      "https://auto.ru/cars/used/sale/volvo/s60/1104184167-5d4d0ec4/\n",
      "2.4 л / 140 л.с. / Бензин | автомат | седан | передний | синий | \n",
      "Volvo XC90 II                            | 3 720 000 ₽\n",
      "https://auto.ru/cars/used/sale/volvo/xc90/1104184952-bfd26aa0/\n",
      "2.0 л / 235 л.с. / Дизель | автомат | внедорожник 5 дв. | полный | коричневый | \n",
      "Volvo XC60 I                            | 1 367 000 ₽\n",
      "https://auto.ru/cars/used/sale/volvo/xc60/1103122531-561d8517/\n",
      "2.4 л / 215 л.с. / Дизель | автомат | внедорожник 5 дв. | полный | коричневый | \n",
      "Volvo XC40 I                            | 3 210 510 ₽\n",
      "https://auto.ru/cars/used/sale/volvo/xc40/1103252523-2ffa418a/\n",
      "2.0 л / 190 л.с. / Бензин | автомат | внедорожник 5 дв. | полный | белый | \n",
      "Volvo S60 III                            | 2 821 609 ₽\n",
      "https://auto.ru/cars/used/sale/volvo/s60/1103569334-24d79e73/\n",
      "2.0 л / 190 л.с. / Бензин | автомат | седан | передний | чёрный | \n",
      "Volvo S60 II Рестайлинг                            | 1 427 273 ₽\n",
      "https://auto.ru/cars/used/sale/volvo/s60/1103342603-c6b03a52/\n",
      "1.5 л / 152 л.с. / Бензин | автомат | седан | передний | красный | \n",
      "Volvo XC70 II Рестайлинг                            | 1 495 000 ₽\n",
      "https://auto.ru/cars/used/sale/volvo/xc70/1102287054-00de6705/\n",
      "2.4 л / 181 л.с. / Дизель | автомат | универсал 5 дв. | полный | белый | \n",
      "Volvo XC90 II                            | 2 403 488 ₽\n",
      "https://auto.ru/cars/used/sale/volvo/xc90/1103935523-a3962f04/\n",
      "2.0 л / 225 л.с. / Дизель | автомат | внедорожник 5 дв. | полный | синий | \n",
      "Volvo XC60 I Рестайлинг                            | 2 135 780 ₽\n",
      "https://auto.ru/cars/used/sale/volvo/xc60/1101743637-98595f80/\n",
      "2.4 л / 190 л.с. / Дизель | автомат | внедорожник 5 дв. | полный | коричневый | \n",
      "Volvo XC60 I                            | 1 095 000 ₽\n",
      "https://auto.ru/cars/used/sale/volvo/xc60/1104134001-a6e33af7/\n",
      "2.0 л / 240 л.с. / Бензин | робот | внедорожник 5 дв. | передний | чёрный | \n",
      "Volvo XC60 I                            | 924 096 ₽\n",
      "https://auto.ru/cars/used/sale/volvo/xc60/1103462973-c3ff0022/\n",
      "2.0 л / 203 л.с. / Бензин | робот | внедорожник 5 дв. | передний | синий | \n",
      "Volvo S80 II                            | 595 000 ₽\n",
      "https://auto.ru/cars/used/sale/volvo/s80/1103865758-5f7a9d04/\n",
      "3.2 л / 238 л.с. / Бензин | автомат | седан | полный | чёрный | \n",
      "Volvo S80 II                            | 645 000 ₽\n",
      "https://auto.ru/cars/used/sale/volvo/s80/1103461630-250a25b6/\n",
      "2.5 л / 200 л.с. / Бензин | автомат | седан | передний | чёрный | \n",
      "Volvo S60 II Рестайлинг                            | 1 008 333 ₽\n",
      "https://auto.ru/cars/used/sale/volvo/s60/1103421709-e89af599/\n",
      "2.0 л / 180 л.с. / Бензин | автомат | седан | передний | чёрный | \n",
      "Volvo S40 II Рестайлинг                            | 509 000 ₽\n",
      "https://auto.ru/cars/used/sale/volvo/s40/1103602596-822fc8d9/\n",
      "2.4 л / 140 л.с. / Бензин | автомат | седан | передний | чёрный | \n",
      "Volvo XC40 I                            | 3 120 000 ₽\n",
      "https://auto.ru/cars/used/sale/volvo/xc40/1103328958-6aab4a15/\n",
      "2.0 л / 190 л.с. / Бензин | автомат | внедорожник 5 дв. | полный | красный | \n",
      "Volvo XC60 I                            | 815 000 ₽\n",
      "https://auto.ru/cars/used/sale/volvo/xc60/1103745178-d8f717b0/\n",
      "3.0 л / 286 л.с. / Бензин | автомат | внедорожник 5 дв. | полный | коричневый | \n",
      "!!! КОНЧИЛИСЬ АВТО НА СТРАНИЦЕ  !!!\n",
      "!!! КОНЧИЛИСЬ АВТО НА СТРАНИЦЕ  !!!\n"
     ]
    }
   ],
   "source": [
    "# Проверка на цены тупая\n",
    "response = requests.get(f'https://auto.ru/cars/volvo/used/?page=2')\n",
    "response.encoding = 'utf-8'\n",
    "soup = BeautifulSoup(response.text, 'html.parser')\n",
    "all_blocks = soup.find_all('div', class_='ListingItem-module__main')  # Нашли все блоки с объявлениями\n",
    "for i in range(40):\n",
    "    try:\n",
    "        print(all_blocks[i].find('a', class_=\"Link ListingItemTitle-module__link\").text, end = '                            | ')          # Название авто\n",
    "        \n",
    "        try:\n",
    "            print(all_blocks[i].find('a', class_=\"Link ListingItemPrice-module__link\").text)\n",
    "        except:\n",
    "            try:\n",
    "                print(all_blocks[i].find('div', class_=\"ListingItemPrice-module__content\").text)\n",
    "            except:\n",
    "                print('!!!   НЕТ ЦЕНЫ   !!!')\n",
    "            continue\n",
    "        print(all_blocks[i].find('a', class_=\"Link ListingItemTitle-module__link\").get('href'))   # Cтраница авто\n",
    "        all_chara = all_blocks[i].find_all('div', class_=\"ListingItemTechSummaryDesktop__cell\")\n",
    "        for item in all_chara:\n",
    "            print(item.text, end=' | ')\n",
    "        print()\n",
    "\n",
    "    except:\n",
    "        print('!!! КОНЧИЛИСЬ АВТО НА СТРАНИЦЕ  !!!')"
   ]
  },
  {
   "cell_type": "code",
   "execution_count": null,
   "id": "8e6feb4a",
   "metadata": {},
   "outputs": [],
   "source": [
    "<div class=\"ListingItemTechSummaryDesktop__cell\">автомат</div>"
   ]
  },
  {
   "cell_type": "code",
   "execution_count": 105,
   "id": "9700a792",
   "metadata": {
    "ExecuteTime": {
     "end_time": "2021-07-07T06:07:08.795506Z",
     "start_time": "2021-07-07T06:06:43.568962Z"
    },
    "scrolled": false
   },
   "outputs": [
    {
     "name": "stdout",
     "output_type": "stream",
     "text": [
      "седан\n",
      "седан\n",
      "внедорожник 5 дв.\n",
      "седан\n",
      "седан\n",
      "универсал 5 дв.\n",
      "седан\n",
      "седан\n",
      "седан\n",
      "хэтчбек 3 дв.\n",
      "седан\n",
      "седан\n",
      "универсал 5 дв.\n",
      "внедорожник 5 дв.\n",
      "седан\n",
      "седан\n",
      "внедорожник 5 дв.\n",
      "внедорожник 5 дв.\n",
      "седан\n",
      "седан\n",
      "седан\n",
      "седан\n",
      "универсал 5 дв.\n",
      "хэтчбек 3 дв.\n",
      "седан\n",
      "универсал 5 дв.\n",
      "внедорожник 5 дв.\n",
      "седан\n",
      "внедорожник 5 дв.\n",
      "седан\n",
      "внедорожник 5 дв.\n",
      "седан\n",
      "седан\n",
      "седан\n",
      "внедорожник 5 дв.\n",
      "универсал 5 дв.\n",
      "седан\n",
      "ОШИБКА\n"
     ]
    }
   ],
   "source": [
    "response = requests.get(f'https://auto.ru/cars/volvo/used/?page=56')\n",
    "response.encoding = 'utf-8'\n",
    "soup = BeautifulSoup(response.text, 'html.parser')\n",
    "all_blocks = soup.find_all('div', class_='ListingItem-module__main')\n",
    "for i in range(38):\n",
    "    try:\n",
    "        new_site = str(all_blocks[i].find('a', class_='Link ListingItemTitle-module__link').get('href'))\n",
    "        response_2 = requests.get(new_site)\n",
    "        response_2.encoding = 'utf-8'\n",
    "        soup_2 = BeautifulSoup(response_2.text, 'html.parser')\n",
    "        print(soup_2.find('li', class_=\"CardInfoRow CardInfoRow_bodytype\").find('a').text)\n",
    "    except:\n",
    "        print('ОШИБКА')"
   ]
  },
  {
   "cell_type": "code",
   "execution_count": 59,
   "id": "0765d484",
   "metadata": {
    "ExecuteTime": {
     "end_time": "2021-07-07T05:16:03.277834Z",
     "start_time": "2021-07-07T05:16:01.113084Z"
    }
   },
   "outputs": [
    {
     "data": {
      "text/plain": [
       "38"
      ]
     },
     "execution_count": 59,
     "metadata": {},
     "output_type": "execute_result"
    }
   ],
   "source": [
    "response = requests.get(f'https://auto.ru/cars/volvo/all/?page=2')\n",
    "response.encoding = 'utf-8'\n",
    "soup = BeautifulSoup(response.text, 'html.parser')\n",
    "all_blocks = soup.find_all('div', class_='ListingItem-module__main')\n",
    "len(all_blocks)"
   ]
  },
  {
   "cell_type": "code",
   "execution_count": null,
   "id": "0f62b7ed",
   "metadata": {},
   "outputs": [],
   "source": []
  },
  {
   "cell_type": "code",
   "execution_count": null,
   "id": "7746d6d0",
   "metadata": {},
   "outputs": [],
   "source": []
  },
  {
   "cell_type": "code",
   "execution_count": null,
   "id": "98386d58",
   "metadata": {},
   "outputs": [],
   "source": []
  },
  {
   "cell_type": "code",
   "execution_count": null,
   "id": "19c73794",
   "metadata": {},
   "outputs": [],
   "source": []
  },
  {
   "cell_type": "code",
   "execution_count": null,
   "id": "335db1cb",
   "metadata": {},
   "outputs": [],
   "source": [
    "auto_list_long =[]\n",
    "\n",
    "for brand in model_all:  # марка авто\n",
    "    print(brand)\n",
    "    for i in range(1, 1000):     # кол-во страниц для парсинга с авто.ру   \n",
    "        print(i)\n",
    "        response = requests.get(f'https://auto.ru/moskva/cars/{brand}/used/?output_type=list&page={i}')\n",
    "        if response.status_code != 200:\n",
    "            raise BaseException(\"response code\" + str(response.status_code))\n",
    "        response.encoding = 'utf-8'\n",
    "        soup = BeautifulSoup(response.text, 'html.parser')\n",
    "        page = soup.find_all('div', class_='ListingItem-module__container')  \n",
    "        for k in range(len(page)):     # цикл для прохода по объявлениям в одной странице\n",
    "            auto_html = page[k].find_all('meta')\n",
    "            auto_list = []\n",
    "            for i in range(len(auto_html)):   # цикл для обработки отдельного объявления на странице\n",
    "                auto_list.append((str(auto_html[i])[15:]).split('\"', 1)[0])\n",
    "                \n",
    "            # Убираем лишние параметры автомобиля из списка    \n",
    "            pos_out = {4,11,12,14,15,19}\n",
    "            auto_list_short = []\n",
    "            for n in range(len(auto_list)):   # цикл для удаления лишних параметров из объявления\n",
    "                if n not in pos_out:\n",
    "                    auto_list_short.append(auto_list[n].replace('\\xa0', ' ')) \n",
    "        \n",
    "            # Считываем пробег(он расположен отдельно от других данных)    \n",
    "            all_km = page[k].find('div', class_='ListingItem-module__kmAge')\n",
    "            xx = str(all_km)[39:].split('<', 1)[0].replace('\\xa0', ' ')\n",
    "            auto_list_short.append(str(xx))    # добавляем пробег\n",
    "            auto_list_long.append(auto_list_short)    # добавляем список пар-ров автомобиля в список списков"
   ]
  }
 ],
 "metadata": {
  "kernelspec": {
   "display_name": "Python 3",
   "language": "python",
   "name": "python3"
  },
  "language_info": {
   "codemirror_mode": {
    "name": "ipython",
    "version": 3
   },
   "file_extension": ".py",
   "mimetype": "text/x-python",
   "name": "python",
   "nbconvert_exporter": "python",
   "pygments_lexer": "ipython3",
   "version": "3.8.10"
  }
 },
 "nbformat": 4,
 "nbformat_minor": 5
}
