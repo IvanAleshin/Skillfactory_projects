{
 "cells": [
  {
   "cell_type": "code",
   "execution_count": 1,
   "metadata": {
    "_cell_guid": "b1076dfc-b9ad-4769-8c92-a6c4dae69d19",
    "_uuid": "8f2839f25d086af736a60e9eeb907d3b93b6e0e5",
    "colab": {},
    "colab_type": "code",
    "id": "U2D2gTdJVp90"
   },
   "outputs": [],
   "source": [
    "import numpy as np\n",
    "import pandas as pd\n",
    "import seaborn as sns\n",
    "import matplotlib.pyplot as plt\n",
    "from collections import Counter\n",
    "from itertools import combinations\n",
    "\n",
    "import plotly.express as px"
   ]
  },
  {
   "cell_type": "markdown",
   "metadata": {},
   "source": [
    "# Обзор данных"
   ]
  },
  {
   "cell_type": "markdown",
   "metadata": {},
   "source": [
    "**Описания признаков:**\n",
    "* imdb_id - идентификатор \n",
    "* budget - бюджет \n",
    "* revenue - сборы \n",
    "* original_title - оригинальное название\n",
    "* cast - актёры\n",
    "* director - режиссёр\n",
    "* tagline - слоган \n",
    "* overview - описание \n",
    "* runtime - продолжительность\n",
    "* genres - жанры\n",
    "* production_companies - производственные компании\n",
    "* release_date - дата релиза\n",
    "* vote_average - средний рейтинг\n",
    "* release_year - год производства"
   ]
  },
  {
   "cell_type": "code",
   "execution_count": 5,
   "metadata": {
    "_cell_guid": "79c7e3d0-c299-4dcb-8224-4455121ee9b0",
    "_uuid": "d629ff2d2480ee46fbb7e2d37f6b5fab8052498a",
    "colab": {},
    "colab_type": "code",
    "id": "oyGfxL3eVp9-"
   },
   "outputs": [
    {
     "data": {
      "text/html": [
       "<div>\n",
       "<style scoped>\n",
       "    .dataframe tbody tr th:only-of-type {\n",
       "        vertical-align: middle;\n",
       "    }\n",
       "\n",
       "    .dataframe tbody tr th {\n",
       "        vertical-align: top;\n",
       "    }\n",
       "\n",
       "    .dataframe thead th {\n",
       "        text-align: right;\n",
       "    }\n",
       "</style>\n",
       "<table border=\"1\" class=\"dataframe\">\n",
       "  <thead>\n",
       "    <tr style=\"text-align: right;\">\n",
       "      <th></th>\n",
       "      <th>imdb_id</th>\n",
       "      <th>budget</th>\n",
       "      <th>revenue</th>\n",
       "      <th>original_title</th>\n",
       "      <th>cast</th>\n",
       "      <th>director</th>\n",
       "      <th>tagline</th>\n",
       "      <th>overview</th>\n",
       "      <th>runtime</th>\n",
       "      <th>genres</th>\n",
       "      <th>production_companies</th>\n",
       "      <th>release_date</th>\n",
       "      <th>vote_average</th>\n",
       "      <th>release_year</th>\n",
       "    </tr>\n",
       "  </thead>\n",
       "  <tbody>\n",
       "    <tr>\n",
       "      <th>340</th>\n",
       "      <td>tt1311067</td>\n",
       "      <td>15000000</td>\n",
       "      <td>39421467</td>\n",
       "      <td>Halloween II</td>\n",
       "      <td>Scout Taylor-Compton|Sheri Moon Zombie|Tyler M...</td>\n",
       "      <td>Rob Zombie</td>\n",
       "      <td>Family Is Forever</td>\n",
       "      <td>Laurie Strode struggles to come to terms with ...</td>\n",
       "      <td>105</td>\n",
       "      <td>Horror</td>\n",
       "      <td>Dimension Films|Spectacle Entertainment Group|...</td>\n",
       "      <td>8/28/2009</td>\n",
       "      <td>5.2</td>\n",
       "      <td>2009</td>\n",
       "    </tr>\n",
       "    <tr>\n",
       "      <th>803</th>\n",
       "      <td>tt1598822</td>\n",
       "      <td>56000000</td>\n",
       "      <td>142044638</td>\n",
       "      <td>New Year's Eve</td>\n",
       "      <td>Robert De Niro|Katherine Heigl|Ashton Kutcher|...</td>\n",
       "      <td>Garry Marshall</td>\n",
       "      <td>The one night anything is possible.</td>\n",
       "      <td>The lives of several couples and singles in Ne...</td>\n",
       "      <td>118</td>\n",
       "      <td>Comedy|Romance</td>\n",
       "      <td>New Line Cinema</td>\n",
       "      <td>12/8/2011</td>\n",
       "      <td>5.6</td>\n",
       "      <td>2011</td>\n",
       "    </tr>\n",
       "    <tr>\n",
       "      <th>1798</th>\n",
       "      <td>tt0499554</td>\n",
       "      <td>10000000</td>\n",
       "      <td>20342161</td>\n",
       "      <td>Reno 911!: Miami</td>\n",
       "      <td>Lennie Loftin|Danny DeVito|Ben Garant|Carlos A...</td>\n",
       "      <td>Ben Garant</td>\n",
       "      <td>In a time of crisis, America will call Reno 911!</td>\n",
       "      <td>A rag-tag team of Reno cops are called in to s...</td>\n",
       "      <td>84</td>\n",
       "      <td>Action|Adventure|Comedy|Crime</td>\n",
       "      <td>20th Century Fox</td>\n",
       "      <td>2/23/2007</td>\n",
       "      <td>5.8</td>\n",
       "      <td>2007</td>\n",
       "    </tr>\n",
       "    <tr>\n",
       "      <th>405</th>\n",
       "      <td>tt1037705</td>\n",
       "      <td>80000000</td>\n",
       "      <td>157107755</td>\n",
       "      <td>The Book of Eli</td>\n",
       "      <td>Denzel Washington|Gary Oldman|Michael Gambon|M...</td>\n",
       "      <td>Albert Hughes|Allen Hughes</td>\n",
       "      <td>Some will kill to have it. He will kill to pro...</td>\n",
       "      <td>A post-apocalyptic tale, in which a lone man f...</td>\n",
       "      <td>118</td>\n",
       "      <td>Action|Thriller|Science Fiction</td>\n",
       "      <td>Alcon Entertainment|Silver Pictures</td>\n",
       "      <td>1/14/2010</td>\n",
       "      <td>6.5</td>\n",
       "      <td>2010</td>\n",
       "    </tr>\n",
       "    <tr>\n",
       "      <th>98</th>\n",
       "      <td>tt3369806</td>\n",
       "      <td>20000000</td>\n",
       "      <td>43967255</td>\n",
       "      <td>Max</td>\n",
       "      <td>Thomas Haden Church|Josh Wiggins|Lauren Graham...</td>\n",
       "      <td>Boaz Yakin</td>\n",
       "      <td>Best Friend. Hero. Marine.</td>\n",
       "      <td>A dog that helped soldiers in Afghanistan retu...</td>\n",
       "      <td>111</td>\n",
       "      <td>Adventure|Drama|Family</td>\n",
       "      <td>Sunswept Entertainment|Warner Bros.|Metro-Gold...</td>\n",
       "      <td>6/26/2015</td>\n",
       "      <td>7.0</td>\n",
       "      <td>2015</td>\n",
       "    </tr>\n",
       "  </tbody>\n",
       "</table>\n",
       "</div>"
      ],
      "text/plain": [
       "        imdb_id    budget    revenue    original_title  \\\n",
       "340   tt1311067  15000000   39421467      Halloween II   \n",
       "803   tt1598822  56000000  142044638    New Year's Eve   \n",
       "1798  tt0499554  10000000   20342161  Reno 911!: Miami   \n",
       "405   tt1037705  80000000  157107755   The Book of Eli   \n",
       "98    tt3369806  20000000   43967255               Max   \n",
       "\n",
       "                                                   cast  \\\n",
       "340   Scout Taylor-Compton|Sheri Moon Zombie|Tyler M...   \n",
       "803   Robert De Niro|Katherine Heigl|Ashton Kutcher|...   \n",
       "1798  Lennie Loftin|Danny DeVito|Ben Garant|Carlos A...   \n",
       "405   Denzel Washington|Gary Oldman|Michael Gambon|M...   \n",
       "98    Thomas Haden Church|Josh Wiggins|Lauren Graham...   \n",
       "\n",
       "                        director  \\\n",
       "340                   Rob Zombie   \n",
       "803               Garry Marshall   \n",
       "1798                  Ben Garant   \n",
       "405   Albert Hughes|Allen Hughes   \n",
       "98                    Boaz Yakin   \n",
       "\n",
       "                                                tagline  \\\n",
       "340                                   Family Is Forever   \n",
       "803                 The one night anything is possible.   \n",
       "1798   In a time of crisis, America will call Reno 911!   \n",
       "405   Some will kill to have it. He will kill to pro...   \n",
       "98                           Best Friend. Hero. Marine.   \n",
       "\n",
       "                                               overview  runtime  \\\n",
       "340   Laurie Strode struggles to come to terms with ...      105   \n",
       "803   The lives of several couples and singles in Ne...      118   \n",
       "1798  A rag-tag team of Reno cops are called in to s...       84   \n",
       "405   A post-apocalyptic tale, in which a lone man f...      118   \n",
       "98    A dog that helped soldiers in Afghanistan retu...      111   \n",
       "\n",
       "                               genres  \\\n",
       "340                            Horror   \n",
       "803                    Comedy|Romance   \n",
       "1798    Action|Adventure|Comedy|Crime   \n",
       "405   Action|Thriller|Science Fiction   \n",
       "98             Adventure|Drama|Family   \n",
       "\n",
       "                                   production_companies release_date  \\\n",
       "340   Dimension Films|Spectacle Entertainment Group|...    8/28/2009   \n",
       "803                                     New Line Cinema    12/8/2011   \n",
       "1798                                   20th Century Fox    2/23/2007   \n",
       "405                 Alcon Entertainment|Silver Pictures    1/14/2010   \n",
       "98    Sunswept Entertainment|Warner Bros.|Metro-Gold...    6/26/2015   \n",
       "\n",
       "      vote_average  release_year  \n",
       "340            5.2          2009  \n",
       "803            5.6          2011  \n",
       "1798           5.8          2007  \n",
       "405            6.5          2010  \n",
       "98             7.0          2015  "
      ]
     },
     "execution_count": 5,
     "metadata": {},
     "output_type": "execute_result"
    }
   ],
   "source": [
    "data = pd.read_csv('movie_bd_v5.csv')\n",
    "data.sample(5)"
   ]
  },
  {
   "cell_type": "code",
   "execution_count": 6,
   "metadata": {},
   "outputs": [
    {
     "name": "stdout",
     "output_type": "stream",
     "text": [
      "<class 'pandas.core.frame.DataFrame'>\n",
      "RangeIndex: 1889 entries, 0 to 1888\n",
      "Data columns (total 14 columns):\n",
      " #   Column                Non-Null Count  Dtype  \n",
      "---  ------                --------------  -----  \n",
      " 0   imdb_id               1889 non-null   object \n",
      " 1   budget                1889 non-null   int64  \n",
      " 2   revenue               1889 non-null   int64  \n",
      " 3   original_title        1889 non-null   object \n",
      " 4   cast                  1889 non-null   object \n",
      " 5   director              1889 non-null   object \n",
      " 6   tagline               1889 non-null   object \n",
      " 7   overview              1889 non-null   object \n",
      " 8   runtime               1889 non-null   int64  \n",
      " 9   genres                1889 non-null   object \n",
      " 10  production_companies  1889 non-null   object \n",
      " 11  release_date          1889 non-null   object \n",
      " 12  vote_average          1889 non-null   float64\n",
      " 13  release_year          1889 non-null   int64  \n",
      "dtypes: float64(1), int64(4), object(9)\n",
      "memory usage: 206.7+ KB\n"
     ]
    }
   ],
   "source": [
    "data.info()  # Проверяем, есть ли пропуски в данных"
   ]
  },
  {
   "cell_type": "markdown",
   "metadata": {},
   "source": [
    "Пропусков нет. Данные представлены разных типов. С некоторыми признаками надо будет \"поработать\", чтобы вытащить необходимую информацию для ответа на вопросы (cast, genres, production_companies, release_date)"
   ]
  },
  {
   "cell_type": "markdown",
   "metadata": {
    "colab_type": "text",
    "id": "DTIt7ezGVp-G"
   },
   "source": [
    "# Предобработка"
   ]
  },
  {
   "cell_type": "code",
   "execution_count": 7,
   "metadata": {
    "colab": {},
    "colab_type": "code",
    "id": "jNb40DwKVp-H"
   },
   "outputs": [],
   "source": [
    "answers = {}  # создадим словарь для ответов\n",
    "\n",
    "data['profit'] = data['revenue'] - data['budget']  # Добавление колонки с прибылью\n",
    "data['len_title'] = data['original_title'].apply(lambda x: len(x))  # Добавление колонки с длиной названия фильма\n",
    "\n",
    "# Разделение данных в колонках с несколькими строковыми значениями для дальнейшей работы\n",
    "data['genres'] = data['genres'].str.split('|')\n",
    "data['cast'] = data['cast'].str.split('|')\n",
    "data['director'] = data['director'].str.split('|')\n",
    "data['production_companies'] = data['production_companies'].str.split('|')\n",
    "# Добавление колоки с количеством слов в описании\n",
    "data['words_in_overview'] = data['overview'].apply(lambda x: len(x.split(' '))) \n",
    "\n",
    "\n",
    "def month(x):\n",
    "    \"\"\"Функция для преобразования номера месяца (из типа str) в название месяца\"\"\"\n",
    "    if x == '1':\n",
    "        return 'January'\n",
    "    elif x == '2':\n",
    "        return 'February'\n",
    "    elif x == '3':\n",
    "        return 'March'\n",
    "    elif x == '4':\n",
    "        return 'April'\n",
    "    elif x == '5':\n",
    "        return 'May'\n",
    "    elif x == '6':\n",
    "        return 'June'\n",
    "    elif x == '7':\n",
    "        return 'July'\n",
    "    elif x == '8':\n",
    "        return 'August'\n",
    "    elif x == '9':\n",
    "        return 'September'\n",
    "    elif x == '10':\n",
    "        return 'October'\n",
    "    elif x == '11':\n",
    "        return 'November'\n",
    "    else:\n",
    "        return 'December'\n",
    "\n",
    "\n",
    "data['month'] = data['release_date'].str.split(\n",
    "    '/').apply(lambda x: month(x[0]))  # Добавление колонки с названием месяца"
   ]
  },
  {
   "cell_type": "markdown",
   "metadata": {},
   "source": [
    "# Вопросы и ответы на них"
   ]
  },
  {
   "cell_type": "markdown",
   "metadata": {
    "colab_type": "text",
    "id": "YxZaH-nPVp-L"
   },
   "source": [
    "## 1. У какого фильма из списка самый большой бюджет?"
   ]
  },
  {
   "cell_type": "code",
   "execution_count": 8,
   "metadata": {
    "colab": {},
    "colab_type": "code",
    "id": "uVnXAY5RVp-O"
   },
   "outputs": [
    {
     "name": "stdout",
     "output_type": "stream",
     "text": [
      "Фильм, с самым большим бюджетом: Pirates of the Caribbean: On Stranger Tides / 380000000 $\n"
     ]
    }
   ],
   "source": [
    "print('Фильм, с самым большим бюджетом: {} / {} $'.format(\n",
    "    (data[data['budget'] == data['budget'].max()]['original_title'].iloc[0]),\n",
    "    (data[data['budget'] == data['budget'].max()]['budget'].iloc[0])))"
   ]
  },
  {
   "cell_type": "code",
   "execution_count": 9,
   "metadata": {
    "colab": {},
    "colab_type": "code",
    "id": "dZwb3m28Vp-S"
   },
   "outputs": [],
   "source": [
    "answers['1'] = data[data['budget'] == data['budget'].max()]['original_title'].iloc[0]  # Добавляем ответ в словарь"
   ]
  },
  {
   "cell_type": "markdown",
   "metadata": {
    "colab_type": "text",
    "id": "FNRbbI3vVp-c"
   },
   "source": [
    "## 2. Какой из фильмов самый длительный (в минутах)?"
   ]
  },
  {
   "cell_type": "code",
   "execution_count": 10,
   "metadata": {
    "colab": {},
    "colab_type": "code",
    "id": "vHAoEXNTVp-d"
   },
   "outputs": [
    {
     "name": "stdout",
     "output_type": "stream",
     "text": [
      "Самый длительный фильм: Gods and Generals / 214 мин.\n"
     ]
    }
   ],
   "source": [
    "print('Самый длительный фильм: {} / {} мин.'.format(\n",
    "    (data[data['runtime'] == data['runtime'].max()]['original_title'].iloc[0]),\n",
    "    (data[data['runtime'] == data['runtime'].max()]['runtime'].iloc[0])))"
   ]
  },
  {
   "cell_type": "code",
   "execution_count": 11,
   "metadata": {
    "colab": {},
    "colab_type": "code",
    "id": "ot-VX2XrVp-g"
   },
   "outputs": [],
   "source": [
    "answers['2'] = data[data['runtime'] == data['runtime'].max()]['original_title'].iloc[0] "
   ]
  },
  {
   "cell_type": "markdown",
   "metadata": {
    "colab_type": "text",
    "id": "bapLlpW8Vp-k"
   },
   "source": [
    "## 3. Какой из фильмов самый короткий (в минутах)?"
   ]
  },
  {
   "cell_type": "code",
   "execution_count": 12,
   "metadata": {},
   "outputs": [
    {
     "name": "stdout",
     "output_type": "stream",
     "text": [
      "Самый короткий фильм: Winnie the Pooh / 63 мин.\n"
     ]
    }
   ],
   "source": [
    "print('Самый короткий фильм: {} / {} мин.'.format(\n",
    "    (data[data['runtime'] == data['runtime'].min()]['original_title'].iloc[0]),\n",
    "    (data[data['runtime'] == data['runtime'].min()]['runtime'].iloc[0])))"
   ]
  },
  {
   "cell_type": "code",
   "execution_count": 13,
   "metadata": {},
   "outputs": [],
   "source": [
    "answers['3'] = data[data['runtime'] == data['runtime'].min()]['original_title'].iloc[0]"
   ]
  },
  {
   "cell_type": "markdown",
   "metadata": {
    "colab_type": "text",
    "id": "TfQbxbfNVp-p"
   },
   "source": [
    "## 4. Какова средняя длительность фильмов?"
   ]
  },
  {
   "cell_type": "code",
   "execution_count": 14,
   "metadata": {
    "colab": {},
    "colab_type": "code",
    "id": "5K6dKZYVVp-q"
   },
   "outputs": [
    {
     "name": "stdout",
     "output_type": "stream",
     "text": [
      "Средняя продолжительность фильмов : 109.66 мин.\n"
     ]
    }
   ],
   "source": [
    "print('Средняя продолжительность фильмов : {:.2f} мин.'. format(data['runtime'].mean()))"
   ]
  },
  {
   "cell_type": "code",
   "execution_count": 15,
   "metadata": {},
   "outputs": [],
   "source": [
    "answers['4'] = data['runtime'].mean() "
   ]
  },
  {
   "cell_type": "markdown",
   "metadata": {
    "colab_type": "text",
    "id": "r5TvbnT_Vp-u"
   },
   "source": [
    "## 5. Каково медианное значение длительности фильмов? "
   ]
  },
  {
   "cell_type": "code",
   "execution_count": 16,
   "metadata": {
    "colab": {},
    "colab_type": "code",
    "id": "iBROplKnVp-v"
   },
   "outputs": [
    {
     "name": "stdout",
     "output_type": "stream",
     "text": [
      "Медианное значение длительности фильмов : 107.0 мин.\n"
     ]
    }
   ],
   "source": [
    "print('Медианное значение длительности фильмов : {} мин.'.format(data['runtime'].median()))"
   ]
  },
  {
   "cell_type": "code",
   "execution_count": 17,
   "metadata": {},
   "outputs": [],
   "source": [
    "answers['5'] = data['runtime'].median() "
   ]
  },
  {
   "cell_type": "markdown",
   "metadata": {
    "colab_type": "text",
    "id": "39P-deDSVp-y"
   },
   "source": [
    "## 6. Какой самый прибыльный фильм?\n",
    "#### Внимание! Здесь и далее под «прибылью» или «убытками» понимается разность между сборами и бюджетом фильма. (прибыль = сборы - бюджет) в нашем датасете это будет (profit = revenue - budget) "
   ]
  },
  {
   "cell_type": "code",
   "execution_count": 18,
   "metadata": {
    "colab": {},
    "colab_type": "code",
    "id": "UYZh4T9WVp-y"
   },
   "outputs": [
    {
     "name": "stdout",
     "output_type": "stream",
     "text": [
      "Самый прибыльный фильм: Avatar / 2544505847 $\n"
     ]
    }
   ],
   "source": [
    "print('Самый прибыльный фильм: {} / {} $'.format(\n",
    "    (data[data['profit'] == data['profit'].max()]['original_title'].iloc[0]),\n",
    "    (data[data['profit'] == data['profit'].max()]['profit'].iloc[0])))"
   ]
  },
  {
   "cell_type": "code",
   "execution_count": 19,
   "metadata": {},
   "outputs": [],
   "source": [
    "answers['6'] = data[data['profit'] == data['profit'].max()]['original_title'].iloc[0]"
   ]
  },
  {
   "cell_type": "markdown",
   "metadata": {
    "colab_type": "text",
    "id": "M99JmIX4Vp-2"
   },
   "source": [
    "## 7. Какой фильм самый убыточный? "
   ]
  },
  {
   "cell_type": "code",
   "execution_count": 20,
   "metadata": {
    "colab": {},
    "colab_type": "code",
    "id": "w-D2m4XPVp-3"
   },
   "outputs": [
    {
     "name": "stdout",
     "output_type": "stream",
     "text": [
      "Самый убыточный фильм: The Lone Ranger / -165710090 $\n"
     ]
    }
   ],
   "source": [
    "print('Самый убыточный фильм: {} / {} $'.format(\n",
    "    (data[data['profit'] == data['profit'].min()]['original_title'].iloc[0]),\n",
    "    (data[data['profit'] == data['profit'].min()]['profit'].iloc[0])))"
   ]
  },
  {
   "cell_type": "code",
   "execution_count": 21,
   "metadata": {},
   "outputs": [],
   "source": [
    "answers['7'] = data[data['profit'] == data['profit'].min()]['original_title'].iloc[0]"
   ]
  },
  {
   "cell_type": "markdown",
   "metadata": {
    "colab_type": "text",
    "id": "wEOM5ERVVp-6"
   },
   "source": [
    "## 8. У скольких фильмов из датасета объем сборов оказался выше бюджета?"
   ]
  },
  {
   "cell_type": "code",
   "execution_count": 22,
   "metadata": {
    "colab": {},
    "colab_type": "code",
    "id": "y00_7HD6Vp-7"
   },
   "outputs": [
    {
     "name": "stdout",
     "output_type": "stream",
     "text": [
      "Прибыльных фильмов: 1478 штук | 78.24% от всех фильмов в датасете\n"
     ]
    }
   ],
   "source": [
    "print(\"Прибыльных фильмов: {} штук | {:.2%} от всех фильмов в датасете\".format(\n",
    "    len(data[data['profit'] > 0]), ((len(data[data['profit'] > 0]) / len(data)))))"
   ]
  },
  {
   "cell_type": "code",
   "execution_count": 23,
   "metadata": {},
   "outputs": [],
   "source": [
    "answers['8'] = len(data[data['profit'] > 0])  "
   ]
  },
  {
   "cell_type": "markdown",
   "metadata": {
    "colab_type": "text",
    "id": "xhpspA9KVp_A"
   },
   "source": [
    "## 9. Какой фильм оказался самым кассовым в 2008 году?"
   ]
  },
  {
   "cell_type": "code",
   "execution_count": 24,
   "metadata": {
    "colab": {},
    "colab_type": "code",
    "id": "MoUyQr9RVp_B"
   },
   "outputs": [
    {
     "name": "stdout",
     "output_type": "stream",
     "text": [
      "Самый прибыльный фильм в 2008 году: The Dark Knight / 816921825 $\n"
     ]
    }
   ],
   "source": [
    "data_2008 = data[data['release_year'] == 2008]\n",
    "print('Самый прибыльный фильм в 2008 году: {} / {} $'.format(\n",
    "    (data_2008[data_2008['profit'] == data_2008['profit'].max()]['original_title'].iloc[0]),\n",
    "    (data_2008[data_2008['profit'] == data_2008['profit'].max()]['profit'].iloc[0])))"
   ]
  },
  {
   "cell_type": "code",
   "execution_count": 25,
   "metadata": {},
   "outputs": [],
   "source": [
    "answers['9'] = data_2008[data_2008['profit'] == data_2008['profit'].max()]['original_title'].iloc[0]"
   ]
  },
  {
   "cell_type": "markdown",
   "metadata": {
    "colab_type": "text",
    "id": "Zi4hDKidVp_F"
   },
   "source": [
    "## 10. Самый убыточный фильм за период с 2012 по 2014 г. (включительно)?\n"
   ]
  },
  {
   "cell_type": "code",
   "execution_count": 26,
   "metadata": {
    "colab": {},
    "colab_type": "code",
    "id": "XqyRmufJVp_F"
   },
   "outputs": [
    {
     "name": "stdout",
     "output_type": "stream",
     "text": [
      "Самый убыточный фильм в 2012-2014 году: The Lone Ranger / -165710090 $\n"
     ]
    }
   ],
   "source": [
    "data_201222014 = data[((data['release_year'] >= 2012) &\n",
    "                       (data['release_year'] <= 2014))]\n",
    "print('Самый убыточный фильм в 2012-2014 году: {} / {} $'.format(\n",
    "    (data_201222014[data_201222014['profit'] ==\n",
    "                    data_201222014['profit'].min()]['original_title'].iloc[0]),\n",
    "    (data_201222014[data_201222014['profit'] == data_201222014['profit'].min()]['profit'].iloc[0])))"
   ]
  },
  {
   "cell_type": "code",
   "execution_count": 27,
   "metadata": {},
   "outputs": [],
   "source": [
    "answers['10'] = data_201222014[data_201222014['profit'] ==\n",
    "                               data_201222014['profit'].min()]['original_title'].iloc[0]"
   ]
  },
  {
   "cell_type": "markdown",
   "metadata": {
    "colab_type": "text",
    "id": "EA7Sa9dkVp_I"
   },
   "source": [
    "## 11. Какого жанра фильмов больше всего?"
   ]
  },
  {
   "cell_type": "code",
   "execution_count": 28,
   "metadata": {
    "colab": {},
    "colab_type": "code",
    "id": "otO3SbrSVp_N",
    "scrolled": false
   },
   "outputs": [
    {
     "name": "stdout",
     "output_type": "stream",
     "text": [
      "Размер нового датасета: (5107, 18)\n"
     ]
    },
    {
     "data": {
      "text/plain": [
       "<matplotlib.axes._subplots.AxesSubplot at 0x1cf35e6a0d0>"
      ]
     },
     "execution_count": 28,
     "metadata": {},
     "output_type": "execute_result"
    },
    {
     "data": {
      "image/png": "[encoded data removed]",
      "text/plain": [
       "<Figure size 1440x720 with 1 Axes>"
      ]
     },
     "metadata": {},
     "output_type": "display_data"
    }
   ],
   "source": [
    "# Новый датасет, где в каждой строке в колонке genres только один жанр\n",
    "data_genres = data.explode('genres')\n",
    "print(\"Размер нового датасета: {}\".format(data_genres.shape))\n",
    "\n",
    "# Количество фильмов каждого жанра\n",
    "sns.set(font_scale=2)\n",
    "plt.subplots(figsize=(20, 10))\n",
    "plt.xticks(ticks = range(0,801,50))\n",
    "plt.title('Жанры')\n",
    "sns.countplot(y=\"genres\",\n",
    "              data=data_genres,\n",
    "              order=data_genres.genres.value_counts().index,\n",
    "              palette='Set2')"
   ]
  },
  {
   "cell_type": "code",
   "execution_count": null,
   "metadata": {},
   "outputs": [],
   "source": [
    "px."
   ]
  },
  {
   "cell_type": "code",
   "execution_count": 32,
   "metadata": {},
   "outputs": [],
   "source": [
    "answers['11'] = data_genres['genres'].value_counts().index[0] "
   ]
  },
  {
   "cell_type": "markdown",
   "metadata": {
    "colab_type": "text",
    "id": "T9_bPWpkVp_Q"
   },
   "source": [
    "## 12. Фильмы какого жанра чаще всего становятся прибыльными? "
   ]
  },
  {
   "cell_type": "code",
   "execution_count": 185,
   "metadata": {
    "colab": {},
    "colab_type": "code",
    "id": "Tmt8MaK1Vp_R",
    "scrolled": false
   },
   "outputs": [
    {
     "data": {
      "text/plain": [
       "<matplotlib.axes._subplots.AxesSubplot at 0x1d7191ec910>"
      ]
     },
     "execution_count": 185,
     "metadata": {},
     "output_type": "execute_result"
    },
    {
     "data": {
      "image/png": "[encoded data removed]",
      "text/plain": [
       "<Figure size 1440x576 with 1 Axes>"
      ]
     },
     "metadata": {},
     "output_type": "display_data"
    }
   ],
   "source": [
    "# Количество прибыльных фильмов каждого жанра\n",
    "sns.set(font_scale=2)\n",
    "plt.subplots(figsize=(20, 8))\n",
    "plt.xticks(ticks = range(0,601,50))\n",
    "plt.title('Количество фильмов')\n",
    "sns.countplot(y=\"genres\",  \n",
    "              data=data_genres[data_genres['profit'] > 0],\n",
    "              order=data_genres[data_genres['profit'] > 0].genres.value_counts().index, \n",
    "              palette='Set2')"
   ]
  },
  {
   "cell_type": "code",
   "execution_count": 93,
   "metadata": {},
   "outputs": [],
   "source": [
    "answers['12'] = data_genres[data_genres['profit'] > 0]['genres'].value_counts().index[0]"
   ]
  },
  {
   "cell_type": "markdown",
   "metadata": {
    "colab_type": "text",
    "id": "0F23bgsDVp_U"
   },
   "source": [
    "## 13. У какого режиссера самые большие суммарные кассовые сборы?"
   ]
  },
  {
   "cell_type": "code",
   "execution_count": 38,
   "metadata": {},
   "outputs": [
    {
     "data": {
      "application/vnd.plotly.v1+json": {
       "config": {
        "plotlyServerURL": "https://plot.ly"
       },
       "data": [
        {
         "alignmentgroup": "True",
         "hovertemplate": "x=%{x}<br>y=%{y}<extra></extra>",
         "legendgroup": "",
         "marker": {
          "color": "#636efa"
         },
         "name": "",
         "offsetgroup": "",
         "orientation": "h",
         "showlegend": false,
         "textposition": "auto",
         "type": "bar",
         "x": [
          6.490593685,
          4.167548502,
          4.154295625,
          3.88693896,
          3.579169916,
          3.42636229,
          3.386700791,
          3.264035909,
          3.179979588,
          3.091066354,
          2.924593677,
          2.798546718,
          2.671006832,
          2.610663457,
          2.572706346,
          2.490614145,
          2.354968952,
          2.342352791,
          2.289719105,
          2.257054393,
          2.218587063,
          2.205388064,
          2.158913958,
          2.147867609,
          2.133257991,
          2.074928588,
          2.048269902,
          2.000587076,
          1.953947074,
          1.900566334,
          1.863441367,
          1.863116186,
          1.779548638,
          1.704664544,
          1.703605066,
          1.682393447,
          1.670076938,
          1.603296331,
          1.602937193,
          1.602419041,
          1.582104,
          1.57615701,
          1.572004269,
          1.572004269,
          1.518656023,
          1.5162121,
          1.51352881,
          1.505571278,
          1.499398328,
          1.473123904,
          1.458194907,
          1.44198352,
          1.423263522,
          1.420615909,
          1.417139583,
          1.37252159,
          1.353945642,
          1.309203108,
          1.305181428,
          1.290026753,
          1.274219009,
          1.251862395,
          1.249773334,
          1.248677472,
          1.238344409,
          1.235683287,
          1.232114729,
          1.225829214,
          1.224201254,
          1.215439994,
          1.211062326,
          1.181666117,
          1.161867642,
          1.136338428,
          1.13387449,
          1.1021761,
          1.1021761,
          1.089885107,
          1.076085675,
          1.060340963,
          1.037015467,
          1.035739766,
          1.032420806,
          1.028154301,
          1.024085743,
          1.021835545,
          1.004841306,
          0.99749334,
          0.982087416,
          0.981449931,
          0.980666756,
          0.979971176,
          0.964376048,
          0.962085437,
          0.938667356,
          0.938179698,
          0.930768969,
          0.920368537,
          0.920212842,
          0.913178428,
          0.912380764,
          0.903109639,
          0.90177493,
          0.900670734,
          0.89699981,
          0.877244782,
          0.873562773,
          0.871858133,
          0.859076455,
          0.858089482,
          0.856240078,
          0.847454033,
          0.84519794,
          0.84519794,
          0.839547137,
          0.831923618,
          0.824559147,
          0.82380109,
          0.809968145,
          0.805751387,
          0.798958165,
          0.795953885,
          0.794816918,
          0.789382796,
          0.781612124,
          0.77399732,
          0.765231921,
          0.758410378,
          0.753066126,
          0.750450089,
          0.743559607,
          0.73207471,
          0.731342744,
          0.72931581,
          0.724798336,
          0.720286182,
          0.709895235,
          0.707421114,
          0.703600478,
          0.701130185,
          0.696659594,
          0.694091791,
          0.692362906,
          0.686231335,
          0.685111187,
          0.683591681,
          0.682723922,
          0.666565443,
          0.665692281,
          0.661146671,
          0.659576787,
          0.651938962,
          0.648979273,
          0.64397293,
          0.643509398,
          0.633922045,
          0.632906672,
          0.632162835,
          0.63174456,
          0.630508402,
          0.623722818,
          0.622021803,
          0.61902733,
          0.61901488,
          0.618839316,
          0.603207563,
          0.599029579,
          0.591794936,
          0.579807855,
          0.569651467,
          0.562612737,
          0.559852396,
          0.547448412,
          0.547390637,
          0.544601608,
          0.543435816,
          0.541498571,
          0.538983207,
          0.538983207,
          0.538983207,
          0.537512367,
          0.536316571,
          0.535520013,
          0.532144542,
          0.529076069,
          0.524265839,
          0.524099423,
          0.523890347,
          0.523169892,
          0.522031315,
          0.517710811,
          0.517269922,
          0.515391771,
          0.510344067,
          0.50721363,
          0.502681278,
          0.500254288,
          0.495190744,
          0.493134283,
          0.48458874,
          0.483760352,
          0.475244986,
          0.474304564,
          0.471222889,
          0.467487404,
          0.46610139,
          0.461983149,
          0.454698707,
          0.44913878,
          0.447986622,
          0.443707746,
          0.44281412,
          0.440952277,
          0.436986952,
          0.429564773,
          0.420969963,
          0.417677014,
          0.417287396,
          0.410884147,
          0.410234956,
          0.407918111,
          0.405642604,
          0.405164703,
          0.405064116,
          0.403190043,
          0.398935837,
          0.398467995,
          0.3966,
          0.39558416,
          0.377910544,
          0.377310327,
          0.37662388,
          0.37662388,
          0.371121418,
          0.370535147,
          0.368744044,
          0.360584152,
          0.360309529,
          0.359257886,
          0.355989623,
          0.354248063,
          0.354248063,
          0.34852181,
          0.34852181,
          0.348150015,
          0.346330028,
          0.343172925,
          0.343022677,
          0.331926147,
          0.32453159,
          0.323313709,
          0.322824582,
          0.319945182,
          0.318675071,
          0.318590901,
          0.318489837,
          0.314717971,
          0.314717971,
          0.314622276,
          0.312977596,
          0.311707109,
          0.311621022,
          0.311594032,
          0.307466195,
          0.307466195,
          0.30694167,
          0.305564797,
          0.305151265,
          0.303286201,
          0.303229448,
          0.300075374,
          0.296658589,
          0.296236439,
          0.292817841,
          0.290150325,
          0.288892561,
          0.287594577,
          0.287553595,
          0.284577082,
          0.284550402,
          0.282570682,
          0.282076018,
          0.281929795,
          0.28128055,
          0.279674961,
          0.279220507,
          0.278482707,
          0.278482707,
          0.278346189,
          0.278068588,
          0.277762476,
          0.276245117,
          0.274093953,
          0.273339641,
          0.270640295,
          0.267537513,
          0.267537513,
          0.267041486,
          0.2665868,
          0.263600372,
          0.261385692,
          0.260966668,
          0.259207227,
          0.258115781,
          0.258079953,
          0.255273813,
          0.253482048,
          0.251367034,
          0.250218768,
          0.249288105,
          0.248988542,
          0.248384621,
          0.248384621,
          0.248139725,
          0.247079448,
          0.246156732,
          0.24556735,
          0.239379423,
          0.237702647,
          0.237172773,
          0.235259197,
          0.234505437,
          0.233555708,
          0.233026626,
          0.23235936,
          0.232229529,
          0.23166587,
          0.230307754,
          0.229736344,
          0.2259522,
          0.225248317,
          0.224803475,
          0.222618441,
          0.22247586,
          0.221874476,
          0.220361479,
          0.219788712,
          0.215529201,
          0.215,
          0.213699932,
          0.213310722,
          0.211400535,
          0.211119158,
          0.209989682,
          0.208564441,
          0.207897944,
          0.206172544,
          0.206152503,
          0.204594016,
          0.204384063,
          0.202623481,
          0.202189822,
          0.202026112,
          0.199780332,
          0.198006123,
          0.197836045,
          0.197309027,
          0.197309027,
          0.19611457,
          0.194563692,
          0.192464646,
          0.192452832,
          0.192199233,
          0.192050816,
          0.190213455,
          0.190007855,
          0.189237276,
          0.189235645,
          0.187,
          0.186053725,
          0.186053725,
          0.185134293,
          0.180274123,
          0.179570008,
          0.179265204,
          0.179100502,
          0.178416018,
          0.17761315,
          0.173352964,
          0.173069884,
          0.173013509,
          0.17184484,
          0.171387346,
          0.171021472,
          0.170948175,
          0.16969093,
          0.169332978,
          0.168957466,
          0.16772231,
          0.16533318,
          0.163442937,
          0.162944923,
          0.162934204,
          0.162721934,
          0.162666456,
          0.161542817,
          0.161089539,
          0.160078586,
          0.15914832,
          0.158365452,
          0.157092801,
          0.156505388,
          0.15501934,
          0.154638116,
          0.15441533,
          0.153720944,
          0.152741108,
          0.152079955,
          0.151165787,
          0.150962475,
          0.14937878,
          0.149044513,
          0.149002735,
          0.148029544,
          0.14782893,
          0.147717833,
          0.14686656,
          0.146497771,
          0.146227789,
          0.144657393,
          0.142775136,
          0.141526499,
          0.140470746,
          0.140161792,
          0.139428778,
          0.137935567,
          0.137431292,
          0.137346497,
          0.137346497,
          0.136117361,
          0.13568,
          0.1339863,
          0.133718711,
          0.133432856,
          0.133394165,
          0.132876699,
          0.1324,
          0.1324,
          0.130494793,
          0.130005915,
          0.129394835,
          0.128263217,
          0.127869379,
          0.127730736,
          0.126546518,
          0.126546518,
          0.124914842,
          0.124312007,
          0.124272124,
          0.12264482,
          0.122563539,
          0.122413057,
          0.122320455,
          0.12120194,
          0.120455994,
          0.119277373,
          0.119137784,
          0.118563637,
          0.118338361,
          0.118154099,
          0.117575636,
          0.117510273,
          0.117195061,
          0.116786831,
          0.116540861,
          0.11629764,
          0.115805331,
          0.115678257,
          0.115664037,
          0.11555058,
          0.115134289,
          0.11490883,
          0.114830111,
          0.114178613,
          0.113916474,
          0.113857533,
          0.113206241,
          0.11182819,
          0.109862682,
          0.109862682,
          0.109824694,
          0.109,
          0.109,
          0.108899077,
          0.108782847,
          0.10860931,
          0.10825577,
          0.108047131,
          0.108036947,
          0.107139399,
          0.106511453,
          0.105610124,
          0.105316267,
          0.104945765,
          0.104945765,
          0.104945765,
          0.104719357,
          0.104478416,
          0.104384188,
          0.104384188,
          0.104303851,
          0.104120208,
          0.103951461,
          0.103951461,
          0.103710274,
          0.103039258,
          0.102529779,
          0.100525432,
          0.100523181,
          0.100523181,
          0.100243057,
          0.100076342,
          0.100076342,
          0.1,
          0.099965753,
          0.099743548,
          0.098998113,
          0.097607453,
          0.097542952,
          0.097117631,
          0.096677469,
          0.09664881,
          0.096085477,
          0.096060858,
          0.096060858,
          0.094413748,
          0.093772522,
          0.093375151,
          0.093246388,
          0.091327197,
          0.09010545,
          0.089519773,
          0.088346473,
          0.087754044,
          0.087659528,
          0.086804647,
          0.086362372,
          0.086165646,
          0.0855123,
          0.085498534,
          0.085486285,
          0.085446075,
          0.08514546,
          0.08513183,
          0.08513183,
          0.084601681,
          0.084146832,
          0.083860062,
          0.083282296,
          0.082702023,
          0.082608174,
          0.08246667,
          0.082394288,
          0.082391145,
          0.082347656,
          0.082169884,
          0.082102379,
          0.081311885,
          0.081272766,
          0.080197993,
          0.080152424,
          0.07979988,
          0.079620072,
          0.079478663,
          0.079388787,
          0.078874843,
          0.078739897,
          0.078739897,
          0.078099553,
          0.077944725,
          0.077713525,
          0.077477008,
          0.076488889,
          0.076432727,
          0.076175166,
          0.075715436,
          0.075511123,
          0.074597643,
          0.074208267,
          0.07383034,
          0.07330117,
          0.073090611,
          0.072779,
          0.072702456,
          0.071971376,
          0.07044294,
          0.070067909,
          0.07,
          0.069834815,
          0.068729358,
          0.068514844,
          0.068377859,
          0.068369434,
          0.068349884,
          0.068296293,
          0.068129518,
          0.067800064,
          0.067312826,
          0.067192859,
          0.066821036,
          0.066821036,
          0.066787908,
          0.06648608,
          0.066468332,
          0.066122026,
          0.066002004,
          0.065833513,
          0.065754228,
          0.065595359,
          0.064626786,
          0.064445708,
          0.064437847,
          0.064270895,
          0.06423844,
          0.063833449,
          0.063464861,
          0.063229864,
          0.062776289,
          0.062771059,
          0.062348079,
          0.062076141,
          0.061678538,
          0.061548707,
          0.06114103,
          0.061063393,
          0.060657418,
          0.060378584,
          0.060273173,
          0.060112796,
          0.059908565,
          0.059520298,
          0.059192128,
          0.058978653,
          0.05854863,
          0.057958696,
          0.057881056,
          0.057777106,
          0.056714147,
          0.05635998,
          0.056309766,
          0.056309766,
          0.056298474,
          0.056255142,
          0.055707411,
          0.055534455,
          0.055157539,
          0.054926886,
          0.054837234,
          0.054700105,
          0.054674226,
          0.054607114,
          0.054416464,
          0.054416464,
          0.054249294,
          0.053830415,
          0.05359373,
          0.05353141,
          0.052882018,
          0.052642258,
          0.052572764,
          0.051424799,
          0.051053787,
          0.051053787,
          0.051053787,
          0.050907422,
          0.050907234,
          0.050877145,
          0.050515963,
          0.050365377,
          0.049830607,
          0.049830607,
          0.049779728,
          0.049645327,
          0.049469904,
          0.049263404,
          0.048623572,
          0.048428063,
          0.048065672,
          0.048065672,
          0.047738099,
          0.047738099,
          0.047175038,
          0.04708899,
          0.04680934,
          0.046770602,
          0.046546197,
          0.046396427,
          0.046221189,
          0.046201432,
          0.045742101,
          0.045735397,
          0.045525852,
          0.04547911,
          0.0453,
          0.044806783,
          0.044030246,
          0.043928932,
          0.043793497,
          0.043528634,
          0.042930462,
          0.042792561,
          0.042629776,
          0.04248739,
          0.04248739,
          0.042333295,
          0.042045846,
          0.041819064,
          0.041637263,
          0.041627431,
          0.041480851,
          0.041387687,
          0.040492759,
          0.040452643,
          0.04020302,
          0.040105542,
          0.040031879,
          0.039438674,
          0.0393,
          0.0393,
          0.039267515,
          0.038955598,
          0.038793283,
          0.038697217,
          0.038610009,
          0.038368909,
          0.038,
          0.037967148,
          0.037664855,
          0.037384046,
          0.037036004,
          0.036993168,
          0.036893721,
          0.036869414,
          0.036837785,
          0.036754634,
          0.036754634,
          0.036716538,
          0.036616869,
          0.036609995,
          0.036433975,
          0.036433975,
          0.036262687,
          0.036160375,
          0.036133014,
          0.036037909,
          0.035926213,
          0.035743308,
          0.035485608,
          0.035485056,
          0.03540232,
          0.035401758,
          0.035387212,
          0.03529447,
          0.03513482,
          0.035078241,
          0.03478696,
          0.034742066,
          0.034266564,
          0.034257411,
          0.033662874,
          0.033526835,
          0.033463969,
          0.0334,
          0.033333531,
          0.033043455,
          0.033,
          0.032973937,
          0.032726956,
          0.032726956,
          0.032491317,
          0.032438988,
          0.032438988,
          0.032438988,
          0.032438988,
          0.032438988,
          0.032438988,
          0.032255876,
          0.032248241,
          0.03220403,
          0.03220403,
          0.032189727,
          0.03216897,
          0.031912793,
          0.031912793,
          0.031724284,
          0.031327899,
          0.031179516,
          0.030987695,
          0.030800231,
          0.030630185,
          0.030551495,
          0.030426096,
          0.030199105,
          0.030114487,
          0.03,
          0.029922472,
          0.029907685,
          0.029789,
          0.029420266,
          0.029331068,
          0.029026215,
          0.029010817,
          0.028818995,
          0.028780255,
          0.028650575,
          0.028541625,
          0.02812867,
          0.028008462,
          0.028,
          0.027685016,
          0.027610873,
          0.027437881,
          0.027388767,
          0.02733,
          0.027187375,
          0.027105095,
          0.026820641,
          0.026666409,
          0.026268651,
          0.026049082,
          0.025871834,
          0.025687179,
          0.025562924,
          0.025549538,
          0.025482931,
          0.025399945,
          0.025303038,
          0.025224242,
          0.025037897,
          0.025005257,
          0.024829644,
          0.024,
          0.023978402,
          0.023750075,
          0.023619609,
          0.023430766,
          0.023006849,
          0.022963701,
          0.022456509,
          0.022441323,
          0.022309223,
          0.022165608,
          0.021819348,
          0.021786738,
          0.0215877,
          0.021510851,
          0.021126225,
          0.020796847,
          0.020416563,
          0.020342161,
          0.020117339,
          0.019682924,
          0.019560274,
          0.019478106,
          0.019412993,
          0.019255873,
          0.018948425,
          0.018928871,
          0.018902015,
          0.018750246,
          0.018720175,
          0.018662027,
          0.018409891,
          0.01834,
          0.018197398,
          0.01811579,
          0.0178,
          0.017766245,
          0.017741298,
          0.0175,
          0.017432163,
          0.017425,
          0.017297244,
          0.017286299,
          0.017273593,
          0.017024782,
          0.017024782,
          0.016991902,
          0.016863583,
          0.016605763,
          0.016549477,
          0.01650546,
          0.016158487,
          0.01600242,
          0.016,
          0.015843608,
          0.015520023,
          0.015179302,
          0.015007991,
          0.014828081,
          0.014782676,
          0.014782676,
          0.014775068,
          0.014655628,
          0.01446,
          0.014373825,
          0.01433379,
          0.014010832,
          0.013865435,
          0.013678913,
          0.013555988,
          0.013521829,
          0.013405595,
          0.013395939,
          0.013276953,
          0.013231461,
          0.013231461,
          0.013196245,
          0.013,
          0.012923936,
          0.012434778,
          0.012036149,
          0.011992014,
          0.011790979,
          0.011417362,
          0.01112209,
          0.010848783,
          0.010629321,
          0.010429707,
          0.010429707,
          0.010329747,
          0.010229331,
          0.010089373,
          0.01,
          0.009902115,
          0.009627492,
          0.009622846,
          0.009620399,
          0.009576495,
          0.0095,
          0.009479718,
          0.009450897,
          0.00923747,
          0.009104716,
          0.00876289,
          0.008586376,
          0.008493728,
          0.008459458,
          0.008454301,
          0.008352885,
          0.008112712,
          0.008106475,
          0.007938872,
          0.007587485,
          0.007316658,
          0.007266209,
          0.007103973,
          0.007033683,
          0.007022728,
          0.007018189,
          0.00680855,
          0.00673298,
          0.006420319,
          0.006416302,
          0.006413915,
          0.00611,
          0.005634828,
          0.005496951,
          0.005410749,
          0.005380251,
          0.005359645,
          0.005217498,
          0.005210988,
          0.00510882,
          0.005,
          0.004644108,
          0.004636169,
          0.004627375,
          0.004440055,
          0.00441758,
          0.00441758,
          0.004349187,
          0.003964682,
          0.003878993,
          0.003646994,
          0.003639345,
          0.003547209,
          0.003533227,
          0.003485127,
          0.003430018,
          0.003428048,
          0.002995811,
          0.002849142,
          0.00269793,
          0.0026268,
          0.002614773,
          0.0025,
          0.002466444,
          0.002450846,
          0.002415472,
          0.00240151,
          0.002367161,
          0.002295423,
          0.002281089,
          0.002062066,
          0.002054941,
          0.002033165
         ],
         "xaxis": "x",
         "y": [
          "Peter Jackson",
          "Christopher Nolan",
          "David Yates",
          "Michael Bay",
          "J.J. Abrams",
          "Gore Verbinski",
          "Steven Spielberg",
          "Ridley Scott",
          "Francis Lawrence",
          "Sam Raimi",
          "Joss Whedon",
          "James Cameron",
          "Pierre Coffin",
          "Tim Burton",
          "Andrew Adamson",
          "Lee Unkrich",
          "Chris Columbus",
          "Sam Mendes",
          "Carlos Saldanha",
          "Eric Darnell",
          "Shawn Levy",
          "Tom McGrath",
          "Brad Bird",
          "Pete Docter",
          "Ron Howard",
          "Steven Soderbergh",
          "Conrad Vernon",
          "Roland Emmerich",
          "Justin Lin",
          "Clint Eastwood",
          "James Wan",
          "Chris Renaud",
          "M. Night Shyamalan",
          "Bill Condon",
          "Rob Marshall",
          "Todd Phillips",
          "Andrew Stanton",
          "Jon Favreau",
          "Zack Snyder",
          "Brett Ratner",
          "Raja Gosnell",
          "Alfonso CuarÃ³n",
          "Lana Wachowski",
          "Lilly Wachowski",
          "Marc Webb",
          "Bryan Singer",
          "Colin Trevorrow",
          "Kyle Balda",
          "George Lucas",
          "Robert Zemeckis",
          "Martin Scorsese",
          "David Fincher",
          "Chris Buck",
          "Steve Martino",
          "Quentin Tarantino",
          "Marc Forster",
          "Chris Miller",
          "Doug Liman",
          "Peter Berg",
          "Dennis Dugan",
          "Jennifer Lee",
          "Martin Campbell",
          "Dean DeBlois",
          "Nancy Meyers",
          "Jay Roach",
          "Mike Newell",
          "Kelly Asbury",
          "Chris Sanders",
          "Jon Turteltaub",
          "Shane Black",
          "Chris Weitz",
          "Mike Mitchell",
          "Barry Sonnenfeld",
          "Rob Letterman",
          "Paul W.S. Anderson",
          "Christopher Miller",
          "Phil Lord",
          "David Silverman",
          "Guy Ritchie",
          "Peyton Reed",
          "Kenneth Branagh",
          "Stephen Sommers",
          "Ang Lee",
          "Rob Cohen",
          "James Mangold",
          "John Lasseter",
          "Wolfgang Petersen",
          "Paul Greengrass",
          "Tim Story",
          "Peter Segal",
          "Jonathan Liebesman",
          "Matthew Vaughn",
          "Antoine Fuqua",
          "Chris Williams",
          "Brad Peyton",
          "McG",
          "Robert Rodriguez",
          "Alan Taylor",
          "Tom Hooper",
          "George Miller",
          "Chris Wedge",
          "Matt Reeves",
          "Byron Howard",
          "Christopher McQuarrie",
          "Guillermo del Toro",
          "Mike Thurmeier",
          "Adam Shankman",
          "Olivier Megaton",
          "Adam McKay",
          "Vicky Jenson",
          "Peter Farrelly",
          "Joe Johnston",
          "Anthony Russo",
          "Joe Russo",
          "Gary Ross",
          "Alejandro GonzÃ¡lez IÃ±Ã¡rritu",
          "Genndy Tartakovsky",
          "Bobby Farrelly",
          "Joel Coen",
          "James Gunn",
          "Raman Hui",
          "Andy Tennant",
          "Tony Scott",
          "Len Wiseman",
          "Edward Zwick",
          "David Slade",
          "Seth MacFarlane",
          "Robert Stromberg",
          "Rob Minkoff",
          "Darren Aronofsky",
          "Dan Scanlon",
          "Mel Gibson",
          "Bob Peterson",
          "Mark Osborne",
          "Phyllida Lloyd",
          "John Woo",
          "Tom Shadyac",
          "Simon West",
          "Michael Patrick King",
          "Michael Mann",
          "Danny Boyle",
          "Louis Leterrier",
          "David Frankel",
          "Joseph Kosinski",
          "Jonathan Mostow",
          "Robert Luketic",
          "Paul Feig",
          "Don Hall",
          "Jennifer Yuh",
          "Simon J. Smith",
          "Wes Ball",
          "Robert Schwentke",
          "Kirk De Micco",
          "F. Gary Gray",
          "Anne Fletcher",
          "Keenen Ivory Wayans",
          "Steve Carr",
          "Lee Tamahori",
          "John Stevenson",
          "David Dobkin",
          "Jan Pinkava",
          "John Moore",
          "Ethan Coen",
          "Garry Marshall",
          "Judd Apatow",
          "Frank Coraci",
          "Neill Blomkamp",
          "Nathan Greno",
          "Baz Luhrmann",
          "Sam Taylor-Johnson",
          "Tim Hill",
          "Brad Lewis",
          "Andy Fickman",
          "John Singleton",
          "Tarsem Singh",
          "Sylvester Stallone",
          "Oliver Stone",
          "Mark Andrews",
          "Steve Purcell",
          "Brenda Chapman",
          "Neil Burger",
          "D.J. Caruso",
          "Jaume Collet-Serra",
          "Lasse HallstrÃ¶m",
          "Gareth Edwards",
          "Gavin Hood",
          "Kevin Lima",
          "Tim Johnson",
          "John Lee Hancock",
          "Rupert Wyatt",
          "Betty Thomas",
          "Nicholas Stoller",
          "Mark Waters",
          "Nick Cassavetes",
          "Harald Zwart",
          "Alex Proyas",
          "Luc Besson",
          "Catherine Hardwicke",
          "Paul Weitz",
          "Dominic Sena",
          "Mark Dindal",
          "Gabriele Muccino",
          "Joe Wright",
          "Rich Moore",
          "Michael Apted",
          "David O. Russell",
          "Joe Ranft",
          "Seth Gordon",
          "Cameron Crowe",
          "Donald Petrie",
          "Bibo Bergeron",
          "Jason Reitman",
          "Larry Charles",
          "Ben Stiller",
          "Tony Gilroy",
          "Ben Affleck",
          "Jimmy Hayward",
          "Nick Park",
          "Jon M. Chu",
          "Alexander Payne",
          "Mark Steven Johnson",
          "Joel Schumacher",
          "David R. Ellis",
          "Sean Anders",
          "Peter Chelsom",
          "David Zucker",
          "Baltasar KormÃ¡kur",
          "Rupert Sanders",
          "Wes Anderson",
          "Loveleen Tandan",
          "Scott Derrickson",
          "Ron Clements",
          "John Musker",
          "Mikael HÃ¥fstrÃ¶m",
          "Timur Bekmambetov",
          "Joel Zwick",
          "Jake Kasdan",
          "Phillip Noyce",
          "Will Gluck",
          "Wes Craven",
          "Ralph Zondag",
          "Eric Leighton",
          "Henry Joost",
          "Ariel Schulman",
          "Noam Murro",
          "Ken Kwapis",
          "Peter Lord",
          "David Ayer",
          "Peter Sohn",
          "Marc Lawrence",
          "Thor Freudenthal",
          "Tom Tykwer",
          "Elizabeth Banks",
          "Jesse Dylan",
          "George Clooney",
          "Steven Quale",
          "Jason Friedberg",
          "Aaron Seltzer",
          "Breck Eisner",
          "Josh Trank",
          "Luke Greenfield",
          "Joe Carnahan",
          "Paul Tibbitt",
          "John Requa",
          "Glenn Ficarra",
          "Peter Ramsey",
          "Anthony Stacchi",
          "Josh Boone",
          "Eric Brevig",
          "Darren Lynn Bousman",
          "Michel Gondry",
          "Michael Lembeck",
          "Andrzej Bartkowiak",
          "Hoyt Yeatman",
          "David Twohy",
          "Jeff Tremaine",
          "Steve Hickner",
          "J.B. Rogers",
          "Greg Mottola",
          "Scott Waugh",
          "David Soren",
          "Brian Robbins",
          "Sharon Maguire",
          "Richard Curtis",
          "Rob Reiner",
          "Woody Allen",
          "Hayden Schlossberg",
          "Jon Hurwitz",
          "Florian Henckel von Donnersmarck",
          "Marcus Nispel",
          "Brad Silberling",
          "Randall Wallace",
          "Stephen Daldry",
          "Steven Brill",
          "Stephen Frears",
          "Mark Neveldine",
          "Brian Taylor",
          "Brian Helgeland",
          "Brian A Miller",
          "John Hamburg",
          "Andrew Niccol",
          "Nora Ephron",
          "Paul King",
          "Boaz Yakin",
          "David Bowers",
          "John R. Leonetti",
          "Gil Kenan",
          "Allen Hughes",
          "Tom Dey",
          "Stefen Fangmeier",
          "Alejandro AmenÃ¡bar",
          "Cody Cameron",
          "Kris Pearn",
          "Ruben Fleischer",
          "Pierre Morel",
          "Ivan Reitman",
          "James Bobin",
          "JosÃ© Padilha",
          "James McTeigue",
          "Frank Miller",
          "Malcolm D. Lee",
          "Mike Nichols",
          "Morten Tyldum",
          "Gary Fleder",
          "Peter Weir",
          "David S. Goyer",
          "Albert Hughes",
          "P.J. Hogan",
          "Steve Bendelack",
          "Wayne Wang",
          "Alexandre Aja",
          "Tommy Wirkola",
          "Takashi Shimizu",
          "Sam Fell",
          "John Whitesell",
          "Jason Moore",
          "Klay Hall",
          "Gary Shore",
          "Curtis Hanson",
          "Mathieu Kassovitz",
          "Peter Hewitt",
          "Daniel Espinosa",
          "Gary Winick",
          "Kathryn Bigelow",
          "Jonathan Levine",
          "Roman Polanski",
          "Patrick Hughes",
          "Denis Villeneuve",
          "Ryan Murphy",
          "Kevin Greutert",
          "Brian Levant",
          "Kirk Jones",
          "Dean Parisot",
          "Iain Softley",
          "Richard LaGravenese",
          "Thomas Carter",
          "Roger Allers",
          "Jill Culton",
          "Michael Sucsy",
          "Clark Johnson",
          "NimrÃ³d Antal",
          "Steve Box",
          "Pete Travis",
          "Renny Harlin",
          "Paul Verhoeven",
          "John Madden",
          "Spike Lee",
          "Burr Steers",
          "Steve McQueen",
          "Gary Trousdale",
          "Kirk Wise",
          "Tom Vaughan",
          "Juan Antonio Bayona",
          "Lee Daniels",
          "Stephen Norrington",
          "Paul Haggis",
          "Peter Howitt",
          "Jay Russell",
          "Richard Linklater",
          "Frank Oz",
          "Anthony Minghella",
          "Peter Billingsley",
          "Bennett Miller",
          "James Wong",
          "Taylor Hackford",
          "David Gordon Green",
          "Stephen J. Anderson",
          "John Erick Dowdle",
          "Rawson Marshall Thurber",
          "Chuck Russell",
          "Angelina Jolie",
          "Sydney Pollack",
          "Kevin Macdonald",
          "Simon Wells",
          "Patrick Lussier",
          "Rob Zombie",
          "Michael Moore",
          "Oliver Parker",
          "Jean-Jacques Annaud",
          "Kevin Smith",
          "Duncan Jones",
          "Jan de Bont",
          "Karey Kirkpatrick",
          "Scott Cooper",
          "David Koepp",
          "Roger Michell",
          "Harold Ramis",
          "Steve Pink",
          "Roberts Gannaway",
          "Carl Rinsch",
          "David Cronenberg",
          "Ash Brannon",
          "Paul McGuigan",
          "Brad Furman",
          "Charles Martin Smith",
          "Russell Mulcahy",
          "Tyler Perry",
          "Andy Muschietti",
          "Scott Stewart",
          "GÃ¡bor CsupÃ³",
          "Gus Van Sant",
          "Camille Delamarre",
          "Scott Speer",
          "Stephen Hillenburg",
          "Nigel Cole",
          "Ryan Coogler",
          "Jonathan Demme",
          "Seth Rogen",
          "Evan Goldberg",
          "John A. Davis",
          "Steve Trenbirth",
          "Kevin Rodney Sullivan",
          "Ericson Core",
          "Michel Hazanavicius",
          "Andrew Davis",
          "Gregory Hoblit",
          "MÃ¥ns MÃ¥rlind",
          "BjÃ¶rn Stein",
          "Walt Becker",
          "Henry Selick",
          "Alexander Witt",
          "Jim Sheridan",
          "George Nolfi",
          "James Watkins",
          "Barry Cook",
          "Neil Nightingale",
          "Charles Herman-Wurmfeld",
          "Richard Loncraine",
          "Tate Taylor",
          "John Polson",
          "Lorna Cook",
          "Gregory Jacobs",
          "Victor Salva",
          "James Marsh",
          "Frank Marshall",
          "Carl Franklin",
          "Adrian Lyne",
          "Barry Levinson",
          "Jeff Newitt",
          "Robert Redford",
          "Joseph Ruben",
          "Miguel Arteta",
          "Mike Johnson",
          "Scott Hicks",
          "David Wain",
          "John Luessenhop",
          "Jay Chandrasekhar",
          "John Wells",
          "Samuel Bayer",
          "Paul Thomas Anderson",
          "Geoffrey Sax",
          "Ronny Yu",
          "Alejandro Agresti",
          "Sergey Bodrov",
          "David McNally",
          "David Hackl",
          "John Stockwell",
          "George Tillman, Jr.",
          "Donovan Cook",
          "Robin Budd",
          "Jonathan Lynn",
          "Alastair Fothergill",
          "Mark Linfield",
          "William Friedkin",
          "James DeMonaco",
          "Alister Grierson",
          "Graham Annable",
          "Andrew Douglas",
          "Roger Kumble",
          "Chris Butler",
          "Etan Cohen",
          "Greg Berlanti",
          "Terry Gilliam",
          "Javier Abad",
          "Jorge Blanco",
          "Marcos MartÃ­nez",
          "Stephen Gaghan",
          "Garth Jennings",
          "John Francis Daley",
          "Jonathan M. Goldstein",
          "Leigh Whannell",
          "Shekhar Kapur",
          "John Sanford",
          "Will Finn",
          "James L. Brooks",
          "Wally Pfister",
          "Stiles White",
          "Ben Falcone",
          "Jonathan Dayton",
          "Valerie Faris",
          "Kevin Munroe",
          "Jennifer Flackett",
          "Mark Levin",
          "Nima Nourizadeh",
          "Xavier Gens",
          "Rob Bowman",
          "Bille Woodruff",
          "Christophe Gans",
          "Fede Alvarez",
          "Danny Leiner",
          "Simon Curtis",
          "Craig Brewer",
          "Roger Spottiswoode",
          "Eric Bress",
          "J. Mackye Gruber",
          "Frank Darabont",
          "Frederik Du Chau",
          "Lawrence Guterman",
          "Susanna White",
          "Patrick Tatopoulos",
          "Jon Avnet",
          "Steve Antin",
          "Tom McCarthy",
          "Robert Altman",
          "Stuart Beattie",
          "Neil LaBute",
          "Christopher B. Landon",
          "Trish Sie",
          "Jake Schreier",
          "Jerry Zucker",
          "Lone Scherfig",
          "Ole Bornedal",
          "Richard Donner",
          "Motonori Sakakibara",
          "Hironobu Sakaguchi",
          "Paul Weiland",
          "Mennan Yapo",
          "Karyn Kusama",
          "Ted Demme",
          "Brad Anderson",
          "Jean-Marc VallÃ©e",
          "Fernando Meirelles",
          "Kimberly Peirce",
          "Bryan Bertino",
          "Aleksander Bach",
          "Peter Webber",
          "Pitof",
          "John Hillcoat",
          "Mike McCoy",
          "Jared Hess",
          "Spike Jonze",
          "Jeremy Garelick",
          "Sofia Coppola",
          "Roger Donaldson",
          "Charles Stone III",
          "R.J. Cutler",
          "Chad Stahelski",
          "David Leitch",
          "Gregory Plotkin",
          "Florent-Emilio Siri",
          "Brian De Palma",
          "Alan Poul",
          "Terry Zwigoff",
          "Don Michael Paul",
          "Nicolas Winding Refn",
          "Lawrence Kasdan",
          "Sylvain White",
          "Callan Brunker",
          "Jon Amiel",
          "Steve Shill",
          "Todd Haynes",
          "James Foley",
          "Steve Oedekerk",
          "Edgar Wright",
          "Mike Tollin",
          "Fred Wolf",
          "Mark Rosman",
          "Rajkumar Hirani",
          "Matthew O'Callaghan",
          "Grant Heslov",
          "Joe Dante",
          "Peter Hedges",
          "Chris Carter",
          "Steve Beck",
          "Kevin Costner",
          "Fyodor Bondarchuk",
          "Christopher Spencer",
          "Stuart Baird",
          "Stephen Kay",
          "Greg Strause",
          "Colin Strause",
          "Ava DuVernay",
          "Drew Goddard",
          "Joel Gallen",
          "Kirsten Sheridan",
          "Angela Robinson",
          "Gina Prince-Bythewood",
          "Pat O'Connor",
          "Ken Scott",
          "Chris Gorak",
          "Gavin O'Connor",
          "Chris Nahon",
          "Jessie Nelson",
          "Juan Carlos Fresnadillo",
          "Michael McCullers",
          "John Carney",
          "Craig Gillespie",
          "Howard Deutch",
          "Stephen Hopkins",
          "Salim Akil",
          "John Crowley",
          "Mark Romanek",
          "Michael Dougherty",
          "Tamra Davis",
          "Michael Caton-Jones",
          "Eli Roth",
          "Patty Jenkins",
          "David M. Rosenthal",
          "Michael J. Bassett",
          "Robert De Niro",
          "Dustin Hoffman",
          "Mark Helfrich",
          "Joel Edgerton",
          "Scott Frank",
          "Kerry Conran",
          "John Schultz",
          "Gary McKendry",
          "Barbet Schroeder",
          "John Herzfeld",
          "David Moreau",
          "Xavier Palud",
          "Julie Taymor",
          "Sean Penn",
          "Mimi Leder",
          "Jim Fall",
          "Mark Pellington",
          "James Gray",
          "Theodore Melfi",
          "Jonathan Hensleigh",
          "Terrence Malick",
          "Shana Feste",
          "Michael Spierig",
          "Peter Spierig",
          "Harold Becker",
          "Sam Miller",
          "Denzel Washington",
          "Joshua Michael Stern",
          "Ciaran Foy",
          "Andrew Dominik",
          "Rian Johnson",
          "Martin McDonagh",
          "Todd Edwards",
          "Cory Edwards",
          "Tony Leech",
          "Trey Parker",
          "John Patrick Shanley",
          "Robert Stevenhagen",
          "Julian Jarrold",
          "Anthony Hemingway",
          "Will Speck",
          "Josh Gordon",
          "Jim Field Smith",
          "Christian Alvart",
          "Richard Eyre",
          "Doug Ellin",
          "Peter Landesman",
          "Shane Acker",
          "Jon Lucas",
          "Scott Moore",
          "Shari Springer Berman",
          "Robert Pulcini",
          "Clare Kilner",
          "Sean McNamara",
          "John Dahl",
          "George A. Romero",
          "Joseph Kahn",
          "Sanjay Gadhvi",
          "Asger Leth",
          "Rupert Wainwright",
          "Jim Jarmusch",
          "Jason Winer",
          "Daniel Barnz",
          "Michael Rymer",
          "Dave Green",
          "Dan Bradley",
          "Mike Flanagan",
          "Corey Yuen Kwai",
          "Mike Binder",
          "Ari Sandel",
          "Ric Roman Waugh",
          "John McTiernan",
          "Lee Toland Krieger",
          "Danny Pang",
          "Oxide Pang Chun",
          "Olatunde Osunsanmi",
          "Nanette Burstein",
          "Marco Schnabel",
          "Bruce A. Evans",
          "Jeff Wadlow",
          "Phil Joanou",
          "Nicholas Hytner",
          "Christian E. Christiansen",
          "Philip G. Atwell",
          "Beeban Kidron",
          "Phil Traill",
          "Lars von Trier",
          "Simon Wincer",
          "Ben Gluck",
          "Anthony Bell",
          "Troy Miller",
          "Alan Parker",
          "Jonathan Frakes",
          "Dan Gilroy",
          "Toby Wilkins",
          "Greg Coolidge",
          "Terry George",
          "Rod Lurie",
          "Rick Rosenthal",
          "Steve 'Spaz' Williams",
          "Edward Norton",
          "Troy Nixey",
          "Julie Anne Robinson",
          "Alex Garland",
          "Oliver Hirschbiegel",
          "Don Bluth",
          "Gary Goldman",
          "Walter Hill",
          "Luis Mandoki",
          "Bonnie Hunt",
          "Tyler Gillett",
          "Matt Bettinelli-Olpin",
          "Mira Nair",
          "Tom Hanks",
          "Brandon Camp",
          "Diane Keaton",
          "Michael Hoffman",
          "Penny Marshall",
          "Derek Cianfrance",
          "Nicholas Jarecki",
          "Michael Cristofer",
          "Lenny Abrahamson",
          "Todd Strauss-Schulson",
          "Jean-FranÃ§ois Richet",
          "Des McAnuff",
          "Chris Noonan",
          "Feng Xiaogang",
          "Liz Friedlander",
          "Mary Harron",
          "Walter Salles",
          "Benny Chan",
          "Marcus Raboy",
          "Antony Hoffman",
          "Stephen Chbosky",
          "Richard Kelly",
          "Peter Hyams",
          "David Schwimmer",
          "Peter Sollett",
          "Dan Cutforth",
          "Jane Lipsitz",
          "Stewart Hendler",
          "James Duffy",
          "Patrik Forsberg",
          "Rusty Cundieff",
          "Griffin Dunne",
          "Will Graham",
          "Jonathan van Tulleken",
          "Philip Kaufman",
          "Dean Israelite",
          "James Mather",
          "Stephen St. Leger",
          "Billy Ray",
          "John Frankenheimer",
          "Matthew Robinson",
          "Ricky Gervais",
          "Harmony Korine",
          "Ethan Maniquis",
          "Christopher Erskin",
          "Dennie Gordon",
          "Akiva Goldsman",
          "Reginald Hudlin",
          "Douglas McGrath",
          "Mark Mylod",
          "Christian Duguay",
          "Nick Hamm",
          "Anthony Leondis",
          "Anand Tucker",
          "Jim Sonzero",
          "Harold Cronk",
          "Nick Hurran",
          "Sara Sugarman",
          "Neil Marshall",
          "Jonas Elmer",
          "Kevin Allen",
          "Ben Younger",
          "Rob Schmidt",
          "Bill Paxton",
          "Matthijs van Heijningen Jr.",
          "John Boorman",
          "Kevin Reynolds",
          "Guy Ferland",
          "Danny Cannon",
          "Don Scardino",
          "Tommy O'Haver",
          "Justin Chadwick",
          "Anthony Silverston",
          "William Brent Bell",
          "Michael Davis",
          "Uwe Boll",
          "Bruce Beresford",
          "Tom Gormican",
          "Craig Mazin",
          "Courtney Solomon",
          "Gonzalo LÃ³pez-Gallego",
          "Robert Iscove",
          "Kevin Bray",
          "Dave Meyers",
          "Doug Lefler",
          "Niki Caro",
          "Jason Eisener",
          "Sidney Lumet",
          "Don Mancini",
          "Bruce Robinson",
          "Rob Pritts",
          "Joe Nussbaum",
          "Daniel Sackheim",
          "Gregory Poirier",
          "Elizabeth Allen Rosenbaum",
          "Rachid Bouchareb",
          "David E. Talbert",
          "FranÃ§ois Ozon",
          "Jonathan Teplitzky",
          "John Bonito",
          "Justin Zackham",
          "Wong Kar-wai",
          "Jeff Nichols",
          "Glen Morgan",
          "John Maybury",
          "Jeff Schaffer",
          "Mark Herman",
          "Ben Garant",
          "David Lynch",
          "Vic Armstrong",
          "John Michael McDonagh",
          "Gary Chapman",
          "Stephen T. Kay",
          "Giuseppe Tornatore",
          "Doug Atchison",
          "Michael Winterbottom",
          "William Malone",
          "Christopher Guest",
          "Demian Lichtenstein",
          "Dan St. Pierre",
          "Miguel Sapochnik",
          "Jocelyn Moorhouse",
          "Fred Savage",
          "J.C. Chandor",
          "Tony Bill",
          "Werner Herzog",
          "Marcel Langenegger",
          "Jon Kasdan",
          "Chris Koch",
          "Thomas Bezucha",
          "Richard Shepard",
          "Robert B. Weide",
          "Jesse Peretz",
          "Brian Koppelman",
          "David Levien",
          "Stephen Herek",
          "Mabrouk El Mechri",
          "Paul Abascal",
          "Benson Lee",
          "Amma Asante",
          "Susannah Grant",
          "Sarah Gavron",
          "James Isaac",
          "Douglas Aarniokoski",
          "Russell Crowe",
          "Ed Gass-Donnelly",
          "Bruce Hunt",
          "Jack Sholder",
          "Emmett Malloy",
          "Brendan Malloy",
          "Michael Dowse",
          "Joe Roth",
          "Stephen Anderson",
          "Joby Harold",
          "Ilya Naishuller",
          "John Carpenter",
          "GrÃ©gory Levasseur",
          "Les Mayfield",
          "Uli Edel",
          "Mike Disa",
          "Liam Lynch",
          "Charles Shyer",
          "Francine McDougall",
          "Lee Sternthal",
          "Brian Klugman",
          "Chris Rock",
          "E. Elias Merhige",
          "Ronald F. Maxwell",
          "Alex Kurtzman",
          "Tommy Lee Jones",
          "Asif Kapadia",
          "Paolo Sorrentino",
          "Josh Schwartz",
          "Max Joseph",
          "Mike Judge",
          "Troy Duffy",
          "Andrew Erwin",
          "Jon Erwin",
          "Daniel Barber",
          "DJ Pooh",
          "Lexi Alexander",
          "Christine Jeffs",
          "David Raynr",
          "Todd Lincoln ",
          "Dean Wright",
          "Chris Sivertson",
          "Amy Heckerling",
          "Wayne Kramer",
          "John Curran",
          "Steven Zaillian",
          "Ron Shelton",
          "Saul Dibb",
          "Peter Cattaneo",
          "Mort Nathan",
          "John Gulager",
          "Atom Egoyan",
          "Richard J. Lewis",
          "Steven Knight",
          "David Mamet",
          "Juan Diego Solanas",
          "Michael Haneke",
          "Noah Baumbach",
          "Ernest R. Dickerson",
          "Martin Brest",
          "Ron Underwood",
          "Howard McCain",
          "Derrick Borte",
          "Kasi Lemmons",
          "George Armitage",
          "Tony Goldwyn",
          "Alejandro Monteverde",
          "Jim Gillespie",
          "Dewey Nicks",
          "Jorma Taccone",
          "Rodrigo GarcÃ­a",
          "Scott Walker",
          "David Leland",
          "Jonathan Glazer",
          "Kurt Wimmer",
          "Mary Lambert",
          "Todd Graff",
          "Davis Guggenheim",
          "Vipul Amrutlal Shah",
          "William Monahan",
          "David Barrett",
          "Paul Johansson",
          "Jane Campion",
          "Mark Duplass",
          "Jay Duplass",
          "John Landis",
          "Joe Cornish",
          "William Dear",
          "Peter Bogdanovich",
          "Dito Montiel",
          "Jaco Van Dormael",
          "RyÃ»hei Kitamura",
          "Rob Thomas",
          "Don McKellar",
          "Henry Alex Rubin",
          "Floria Sigismondi",
          "Susanne Bier",
          "Liev Schreiber",
          "Roland JoffÃ©",
          "Dan Rush",
          "David Mackenzie",
          "James Cox",
          "Michael Cuesta",
          "Guillaume Canet",
          "Zal Batmanglij",
          "Adam Wingard",
          "David MichÃ´d",
          "Steven Shainberg",
          "Paul Schrader",
          "Keanu Reeves",
          "Simon Hunter"
         ],
         "yaxis": "y"
        }
       ],
       "layout": {
        "barmode": "relative",
        "legend": {
         "tracegroupgap": 0
        },
        "margin": {
         "t": 60
        },
        "template": {
         "data": {
          "bar": [
           {
            "error_x": {
             "color": "#2a3f5f"
            },
            "error_y": {
             "color": "#2a3f5f"
            },
            "marker": {
             "line": {
              "color": "#E5ECF6",
              "width": 0.5
             }
            },
            "type": "bar"
           }
          ],
          "barpolar": [
           {
            "marker": {
             "line": {
              "color": "#E5ECF6",
              "width": 0.5
             }
            },
            "type": "barpolar"
           }
          ],
          "carpet": [
           {
            "aaxis": {
             "endlinecolor": "#2a3f5f",
             "gridcolor": "white",
             "linecolor": "white",
             "minorgridcolor": "white",
             "startlinecolor": "#2a3f5f"
            },
            "baxis": {
             "endlinecolor": "#2a3f5f",
             "gridcolor": "white",
             "linecolor": "white",
             "minorgridcolor": "white",
             "startlinecolor": "#2a3f5f"
            },
            "type": "carpet"
           }
          ],
          "choropleth": [
           {
            "colorbar": {
             "outlinewidth": 0,
             "ticks": ""
            },
            "type": "choropleth"
           }
          ],
          "contour": [
           {
            "colorbar": {
             "outlinewidth": 0,
             "ticks": ""
            },
            "colorscale": [
             [
              0,
              "#0d0887"
             ],
             [
              0.1111111111111111,
              "#46039f"
             ],
             [
              0.2222222222222222,
              "#7201a8"
             ],
             [
              0.3333333333333333,
              "#9c179e"
             ],
             [
              0.4444444444444444,
              "#bd3786"
             ],
             [
              0.5555555555555556,
              "#d8576b"
             ],
             [
              0.6666666666666666,
              "#ed7953"
             ],
             [
              0.7777777777777778,
              "#fb9f3a"
             ],
             [
              0.8888888888888888,
              "#fdca26"
             ],
             [
              1,
              "#f0f921"
             ]
            ],
            "type": "contour"
           }
          ],
          "contourcarpet": [
           {
            "colorbar": {
             "outlinewidth": 0,
             "ticks": ""
            },
            "type": "contourcarpet"
           }
          ],
          "heatmap": [
           {
            "colorbar": {
             "outlinewidth": 0,
             "ticks": ""
            },
            "colorscale": [
             [
              0,
              "#0d0887"
             ],
             [
              0.1111111111111111,
              "#46039f"
             ],
             [
              0.2222222222222222,
              "#7201a8"
             ],
             [
              0.3333333333333333,
              "#9c179e"
             ],
             [
              0.4444444444444444,
              "#bd3786"
             ],
             [
              0.5555555555555556,
              "#d8576b"
             ],
             [
              0.6666666666666666,
              "#ed7953"
             ],
             [
              0.7777777777777778,
              "#fb9f3a"
             ],
             [
              0.8888888888888888,
              "#fdca26"
             ],
             [
              1,
              "#f0f921"
             ]
            ],
            "type": "heatmap"
           }
          ],
          "heatmapgl": [
           {
            "colorbar": {
             "outlinewidth": 0,
             "ticks": ""
            },
            "colorscale": [
             [
              0,
              "#0d0887"
             ],
             [
              0.1111111111111111,
              "#46039f"
             ],
             [
              0.2222222222222222,
              "#7201a8"
             ],
             [
              0.3333333333333333,
              "#9c179e"
             ],
             [
              0.4444444444444444,
              "#bd3786"
             ],
             [
              0.5555555555555556,
              "#d8576b"
             ],
             [
              0.6666666666666666,
              "#ed7953"
             ],
             [
              0.7777777777777778,
              "#fb9f3a"
             ],
             [
              0.8888888888888888,
              "#fdca26"
             ],
             [
              1,
              "#f0f921"
             ]
            ],
            "type": "heatmapgl"
           }
          ],
          "histogram": [
           {
            "marker": {
             "colorbar": {
              "outlinewidth": 0,
              "ticks": ""
             }
            },
            "type": "histogram"
           }
          ],
          "histogram2d": [
           {
            "colorbar": {
             "outlinewidth": 0,
             "ticks": ""
            },
            "colorscale": [
             [
              0,
              "#0d0887"
             ],
             [
              0.1111111111111111,
              "#46039f"
             ],
             [
              0.2222222222222222,
              "#7201a8"
             ],
             [
              0.3333333333333333,
              "#9c179e"
             ],
             [
              0.4444444444444444,
              "#bd3786"
             ],
             [
              0.5555555555555556,
              "#d8576b"
             ],
             [
              0.6666666666666666,
              "#ed7953"
             ],
             [
              0.7777777777777778,
              "#fb9f3a"
             ],
             [
              0.8888888888888888,
              "#fdca26"
             ],
             [
              1,
              "#f0f921"
             ]
            ],
            "type": "histogram2d"
           }
          ],
          "histogram2dcontour": [
           {
            "colorbar": {
             "outlinewidth": 0,
             "ticks": ""
            },
            "colorscale": [
             [
              0,
              "#0d0887"
             ],
             [
              0.1111111111111111,
              "#46039f"
             ],
             [
              0.2222222222222222,
              "#7201a8"
             ],
             [
              0.3333333333333333,
              "#9c179e"
             ],
             [
              0.4444444444444444,
              "#bd3786"
             ],
             [
              0.5555555555555556,
              "#d8576b"
             ],
             [
              0.6666666666666666,
              "#ed7953"
             ],
             [
              0.7777777777777778,
              "#fb9f3a"
             ],
             [
              0.8888888888888888,
              "#fdca26"
             ],
             [
              1,
              "#f0f921"
             ]
            ],
            "type": "histogram2dcontour"
           }
          ],
          "mesh3d": [
           {
            "colorbar": {
             "outlinewidth": 0,
             "ticks": ""
            },
            "type": "mesh3d"
           }
          ],
          "parcoords": [
           {
            "line": {
             "colorbar": {
              "outlinewidth": 0,
              "ticks": ""
             }
            },
            "type": "parcoords"
           }
          ],
          "pie": [
           {
            "automargin": true,
            "type": "pie"
           }
          ],
          "scatter": [
           {
            "marker": {
             "colorbar": {
              "outlinewidth": 0,
              "ticks": ""
             }
            },
            "type": "scatter"
           }
          ],
          "scatter3d": [
           {
            "line": {
             "colorbar": {
              "outlinewidth": 0,
              "ticks": ""
             }
            },
            "marker": {
             "colorbar": {
              "outlinewidth": 0,
              "ticks": ""
             }
            },
            "type": "scatter3d"
           }
          ],
          "scattercarpet": [
           {
            "marker": {
             "colorbar": {
              "outlinewidth": 0,
              "ticks": ""
             }
            },
            "type": "scattercarpet"
           }
          ],
          "scattergeo": [
           {
            "marker": {
             "colorbar": {
              "outlinewidth": 0,
              "ticks": ""
             }
            },
            "type": "scattergeo"
           }
          ],
          "scattergl": [
           {
            "marker": {
             "colorbar": {
              "outlinewidth": 0,
              "ticks": ""
             }
            },
            "type": "scattergl"
           }
          ],
          "scattermapbox": [
           {
            "marker": {
             "colorbar": {
              "outlinewidth": 0,
              "ticks": ""
             }
            },
            "type": "scattermapbox"
           }
          ],
          "scatterpolar": [
           {
            "marker": {
             "colorbar": {
              "outlinewidth": 0,
              "ticks": ""
             }
            },
            "type": "scatterpolar"
           }
          ],
          "scatterpolargl": [
           {
            "marker": {
             "colorbar": {
              "outlinewidth": 0,
              "ticks": ""
             }
            },
            "type": "scatterpolargl"
           }
          ],
          "scatterternary": [
           {
            "marker": {
             "colorbar": {
              "outlinewidth": 0,
              "ticks": ""
             }
            },
            "type": "scatterternary"
           }
          ],
          "surface": [
           {
            "colorbar": {
             "outlinewidth": 0,
             "ticks": ""
            },
            "colorscale": [
             [
              0,
              "#0d0887"
             ],
             [
              0.1111111111111111,
              "#46039f"
             ],
             [
              0.2222222222222222,
              "#7201a8"
             ],
             [
              0.3333333333333333,
              "#9c179e"
             ],
             [
              0.4444444444444444,
              "#bd3786"
             ],
             [
              0.5555555555555556,
              "#d8576b"
             ],
             [
              0.6666666666666666,
              "#ed7953"
             ],
             [
              0.7777777777777778,
              "#fb9f3a"
             ],
             [
              0.8888888888888888,
              "#fdca26"
             ],
             [
              1,
              "#f0f921"
             ]
            ],
            "type": "surface"
           }
          ],
          "table": [
           {
            "cells": {
             "fill": {
              "color": "#EBF0F8"
             },
             "line": {
              "color": "white"
             }
            },
            "header": {
             "fill": {
              "color": "#C8D4E3"
             },
             "line": {
              "color": "white"
             }
            },
            "type": "table"
           }
          ]
         },
         "layout": {
          "annotationdefaults": {
           "arrowcolor": "#2a3f5f",
           "arrowhead": 0,
           "arrowwidth": 1
          },
          "autotypenumbers": "strict",
          "coloraxis": {
           "colorbar": {
            "outlinewidth": 0,
            "ticks": ""
           }
          },
          "colorscale": {
           "diverging": [
            [
             0,
             "#8e0152"
            ],
            [
             0.1,
             "#c51b7d"
            ],
            [
             0.2,
             "#de77ae"
            ],
            [
             0.3,
             "#f1b6da"
            ],
            [
             0.4,
             "#fde0ef"
            ],
            [
             0.5,
             "#f7f7f7"
            ],
            [
             0.6,
             "#e6f5d0"
            ],
            [
             0.7,
             "#b8e186"
            ],
            [
             0.8,
             "#7fbc41"
            ],
            [
             0.9,
             "#4d9221"
            ],
            [
             1,
             "#276419"
            ]
           ],
           "sequential": [
            [
             0,
             "#0d0887"
            ],
            [
             0.1111111111111111,
             "#46039f"
            ],
            [
             0.2222222222222222,
             "#7201a8"
            ],
            [
             0.3333333333333333,
             "#9c179e"
            ],
            [
             0.4444444444444444,
             "#bd3786"
            ],
            [
             0.5555555555555556,
             "#d8576b"
            ],
            [
             0.6666666666666666,
             "#ed7953"
            ],
            [
             0.7777777777777778,
             "#fb9f3a"
            ],
            [
             0.8888888888888888,
             "#fdca26"
            ],
            [
             1,
             "#f0f921"
            ]
           ],
           "sequentialminus": [
            [
             0,
             "#0d0887"
            ],
            [
             0.1111111111111111,
             "#46039f"
            ],
            [
             0.2222222222222222,
             "#7201a8"
            ],
            [
             0.3333333333333333,
             "#9c179e"
            ],
            [
             0.4444444444444444,
             "#bd3786"
            ],
            [
             0.5555555555555556,
             "#d8576b"
            ],
            [
             0.6666666666666666,
             "#ed7953"
            ],
            [
             0.7777777777777778,
             "#fb9f3a"
            ],
            [
             0.8888888888888888,
             "#fdca26"
            ],
            [
             1,
             "#f0f921"
            ]
           ]
          },
          "colorway": [
           "#636efa",
           "#EF553B",
           "#00cc96",
           "#ab63fa",
           "#FFA15A",
           "#19d3f3",
           "#FF6692",
           "#B6E880",
           "#FF97FF",
           "#FECB52"
          ],
          "font": {
           "color": "#2a3f5f"
          },
          "geo": {
           "bgcolor": "white",
           "lakecolor": "white",
           "landcolor": "#E5ECF6",
           "showlakes": true,
           "showland": true,
           "subunitcolor": "white"
          },
          "hoverlabel": {
           "align": "left"
          },
          "hovermode": "closest",
          "mapbox": {
           "style": "light"
          },
          "paper_bgcolor": "white",
          "plot_bgcolor": "#E5ECF6",
          "polar": {
           "angularaxis": {
            "gridcolor": "white",
            "linecolor": "white",
            "ticks": ""
           },
           "bgcolor": "#E5ECF6",
           "radialaxis": {
            "gridcolor": "white",
            "linecolor": "white",
            "ticks": ""
           }
          },
          "scene": {
           "xaxis": {
            "backgroundcolor": "#E5ECF6",
            "gridcolor": "white",
            "gridwidth": 2,
            "linecolor": "white",
            "showbackground": true,
            "ticks": "",
            "zerolinecolor": "white"
           },
           "yaxis": {
            "backgroundcolor": "#E5ECF6",
            "gridcolor": "white",
            "gridwidth": 2,
            "linecolor": "white",
            "showbackground": true,
            "ticks": "",
            "zerolinecolor": "white"
           },
           "zaxis": {
            "backgroundcolor": "#E5ECF6",
            "gridcolor": "white",
            "gridwidth": 2,
            "linecolor": "white",
            "showbackground": true,
            "ticks": "",
            "zerolinecolor": "white"
           }
          },
          "shapedefaults": {
           "line": {
            "color": "#2a3f5f"
           }
          },
          "ternary": {
           "aaxis": {
            "gridcolor": "white",
            "linecolor": "white",
            "ticks": ""
           },
           "baxis": {
            "gridcolor": "white",
            "linecolor": "white",
            "ticks": ""
           },
           "bgcolor": "#E5ECF6",
           "caxis": {
            "gridcolor": "white",
            "linecolor": "white",
            "ticks": ""
           }
          },
          "title": {
           "x": 0.05
          },
          "xaxis": {
           "automargin": true,
           "gridcolor": "white",
           "linecolor": "white",
           "ticks": "",
           "title": {
            "standoff": 15
           },
           "zerolinecolor": "white",
           "zerolinewidth": 2
          },
          "yaxis": {
           "automargin": true,
           "gridcolor": "white",
           "linecolor": "white",
           "ticks": "",
           "title": {
            "standoff": 15
           },
           "zerolinecolor": "white",
           "zerolinewidth": 2
          }
         }
        },
        "xaxis": {
         "anchor": "y",
         "domain": [
          0,
          1
         ],
         "title": {
          "text": "x"
         }
        },
        "yaxis": {
         "anchor": "x",
         "domain": [
          0,
          1
         ],
         "title": {
          "text": "y"
         }
        }
       }
      },
      "text/html": [
       "<div>                            <div id=\"936797dc-d020-44e4-bf57-7c110082cf51\" class=\"plotly-graph-div\" style=\"height:525px; width:100%;\"></div>            <script type=\"text/javascript\">                require([\"plotly\"], function(Plotly) {                    window.PLOTLYENV=window.PLOTLYENV || {};                                    if (document.getElementById(\"936797dc-d020-44e4-bf57-7c110082cf51\")) {                    Plotly.newPlot(                        \"936797dc-d020-44e4-bf57-7c110082cf51\",                        [{\"alignmentgroup\": \"True\", \"hovertemplate\": \"x=%{x}<br>y=%{y}<extra></extra>\", \"legendgroup\": \"\", \"marker\": {\"color\": \"#636efa\"}, \"name\": \"\", \"offsetgroup\": \"\", \"orientation\": \"h\", \"showlegend\": false, \"textposition\": \"auto\", \"type\": \"bar\", \"x\": [6.490593685, 4.167548502, 4.154295625, 3.88693896, 3.579169916, 3.42636229, 3.386700791, 3.264035909, 3.179979588, 3.091066354, 2.924593677, 2.798546718, 2.671006832, 2.610663457, 2.572706346, 2.490614145, 2.354968952, 2.342352791, 2.289719105, 2.257054393, 2.218587063, 2.205388064, 2.158913958, 2.147867609, 2.133257991, 2.074928588, 2.048269902, 2.000587076, 1.953947074, 1.900566334, 1.863441367, 1.863116186, 1.779548638, 1.704664544, 1.703605066, 1.682393447, 1.670076938, 1.603296331, 1.602937193, 1.602419041, 1.582104, 1.57615701, 1.572004269, 1.572004269, 1.518656023, 1.5162121, 1.51352881, 1.505571278, 1.499398328, 1.473123904, 1.458194907, 1.44198352, 1.423263522, 1.420615909, 1.417139583, 1.37252159, 1.353945642, 1.309203108, 1.305181428, 1.290026753, 1.274219009, 1.251862395, 1.249773334, 1.248677472, 1.238344409, 1.235683287, 1.232114729, 1.225829214, 1.224201254, 1.215439994, 1.211062326, 1.181666117, 1.161867642, 1.136338428, 1.13387449, 1.1021761, 1.1021761, 1.089885107, 1.076085675, 1.060340963, 1.037015467, 1.035739766, 1.032420806, 1.028154301, 1.024085743, 1.021835545, 1.004841306, 0.99749334, 0.982087416, 0.981449931, 0.980666756, 0.979971176, 0.964376048, 0.962085437, 0.938667356, 0.938179698, 0.930768969, 0.920368537, 0.920212842, 0.913178428, 0.912380764, 0.903109639, 0.90177493, 0.900670734, 0.89699981, 0.877244782, 0.873562773, 0.871858133, 0.859076455, 0.858089482, 0.856240078, 0.847454033, 0.84519794, 0.84519794, 0.839547137, 0.831923618, 0.824559147, 0.82380109, 0.809968145, 0.805751387, 0.798958165, 0.795953885, 0.794816918, 0.789382796, 0.781612124, 0.77399732, 0.765231921, 0.758410378, 0.753066126, 0.750450089, 0.743559607, 0.73207471, 0.731342744, 0.72931581, 0.724798336, 0.720286182, 0.709895235, 0.707421114, 0.703600478, 0.701130185, 0.696659594, 0.694091791, 0.692362906, 0.686231335, 0.685111187, 0.683591681, 0.682723922, 0.666565443, 0.665692281, 0.661146671, 0.659576787, 0.651938962, 0.648979273, 0.64397293, 0.643509398, 0.633922045, 0.632906672, 0.632162835, 0.63174456, 0.630508402, 0.623722818, 0.622021803, 0.61902733, 0.61901488, 0.618839316, 0.603207563, 0.599029579, 0.591794936, 0.579807855, 0.569651467, 0.562612737, 0.559852396, 0.547448412, 0.547390637, 0.544601608, 0.543435816, 0.541498571, 0.538983207, 0.538983207, 0.538983207, 0.537512367, 0.536316571, 0.535520013, 0.532144542, 0.529076069, 0.524265839, 0.524099423, 0.523890347, 0.523169892, 0.522031315, 0.517710811, 0.517269922, 0.515391771, 0.510344067, 0.50721363, 0.502681278, 0.500254288, 0.495190744, 0.493134283, 0.48458874, 0.483760352, 0.475244986, 0.474304564, 0.471222889, 0.467487404, 0.46610139, 0.461983149, 0.454698707, 0.44913878, 0.447986622, 0.443707746, 0.44281412, 0.440952277, 0.436986952, 0.429564773, 0.420969963, 0.417677014, 0.417287396, 0.410884147, 0.410234956, 0.407918111, 0.405642604, 0.405164703, 0.405064116, 0.403190043, 0.398935837, 0.398467995, 0.3966, 0.39558416, 0.377910544, 0.377310327, 0.37662388, 0.37662388, 0.371121418, 0.370535147, 0.368744044, 0.360584152, 0.360309529, 0.359257886, 0.355989623, 0.354248063, 0.354248063, 0.34852181, 0.34852181, 0.348150015, 0.346330028, 0.343172925, 0.343022677, 0.331926147, 0.32453159, 0.323313709, 0.322824582, 0.319945182, 0.318675071, 0.318590901, 0.318489837, 0.314717971, 0.314717971, 0.314622276, 0.312977596, 0.311707109, 0.311621022, 0.311594032, 0.307466195, 0.307466195, 0.30694167, 0.305564797, 0.305151265, 0.303286201, 0.303229448, 0.300075374, 0.296658589, 0.296236439, 0.292817841, 0.290150325, 0.288892561, 0.287594577, 0.287553595, 0.284577082, 0.284550402, 0.282570682, 0.282076018, 0.281929795, 0.28128055, 0.279674961, 0.279220507, 0.278482707, 0.278482707, 0.278346189, 0.278068588, 0.277762476, 0.276245117, 0.274093953, 0.273339641, 0.270640295, 0.267537513, 0.267537513, 0.267041486, 0.2665868, 0.263600372, 0.261385692, 0.260966668, 0.259207227, 0.258115781, 0.258079953, 0.255273813, 0.253482048, 0.251367034, 0.250218768, 0.249288105, 0.248988542, 0.248384621, 0.248384621, 0.248139725, 0.247079448, 0.246156732, 0.24556735, 0.239379423, 0.237702647, 0.237172773, 0.235259197, 0.234505437, 0.233555708, 0.233026626, 0.23235936, 0.232229529, 0.23166587, 0.230307754, 0.229736344, 0.2259522, 0.225248317, 0.224803475, 0.222618441, 0.22247586, 0.221874476, 0.220361479, 0.219788712, 0.215529201, 0.215, 0.213699932, 0.213310722, 0.211400535, 0.211119158, 0.209989682, 0.208564441, 0.207897944, 0.206172544, 0.206152503, 0.204594016, 0.204384063, 0.202623481, 0.202189822, 0.202026112, 0.199780332, 0.198006123, 0.197836045, 0.197309027, 0.197309027, 0.19611457, 0.194563692, 0.192464646, 0.192452832, 0.192199233, 0.192050816, 0.190213455, 0.190007855, 0.189237276, 0.189235645, 0.187, 0.186053725, 0.186053725, 0.185134293, 0.180274123, 0.179570008, 0.179265204, 0.179100502, 0.178416018, 0.17761315, 0.173352964, 0.173069884, 0.173013509, 0.17184484, 0.171387346, 0.171021472, 0.170948175, 0.16969093, 0.169332978, 0.168957466, 0.16772231, 0.16533318, 0.163442937, 0.162944923, 0.162934204, 0.162721934, 0.162666456, 0.161542817, 0.161089539, 0.160078586, 0.15914832, 0.158365452, 0.157092801, 0.156505388, 0.15501934, 0.154638116, 0.15441533, 0.153720944, 0.152741108, 0.152079955, 0.151165787, 0.150962475, 0.14937878, 0.149044513, 0.149002735, 0.148029544, 0.14782893, 0.147717833, 0.14686656, 0.146497771, 0.146227789, 0.144657393, 0.142775136, 0.141526499, 0.140470746, 0.140161792, 0.139428778, 0.137935567, 0.137431292, 0.137346497, 0.137346497, 0.136117361, 0.13568, 0.1339863, 0.133718711, 0.133432856, 0.133394165, 0.132876699, 0.1324, 0.1324, 0.130494793, 0.130005915, 0.129394835, 0.128263217, 0.127869379, 0.127730736, 0.126546518, 0.126546518, 0.124914842, 0.124312007, 0.124272124, 0.12264482, 0.122563539, 0.122413057, 0.122320455, 0.12120194, 0.120455994, 0.119277373, 0.119137784, 0.118563637, 0.118338361, 0.118154099, 0.117575636, 0.117510273, 0.117195061, 0.116786831, 0.116540861, 0.11629764, 0.115805331, 0.115678257, 0.115664037, 0.11555058, 0.115134289, 0.11490883, 0.114830111, 0.114178613, 0.113916474, 0.113857533, 0.113206241, 0.11182819, 0.109862682, 0.109862682, 0.109824694, 0.109, 0.109, 0.108899077, 0.108782847, 0.10860931, 0.10825577, 0.108047131, 0.108036947, 0.107139399, 0.106511453, 0.105610124, 0.105316267, 0.104945765, 0.104945765, 0.104945765, 0.104719357, 0.104478416, 0.104384188, 0.104384188, 0.104303851, 0.104120208, 0.103951461, 0.103951461, 0.103710274, 0.103039258, 0.102529779, 0.100525432, 0.100523181, 0.100523181, 0.100243057, 0.100076342, 0.100076342, 0.1, 0.099965753, 0.099743548, 0.098998113, 0.097607453, 0.097542952, 0.097117631, 0.096677469, 0.09664881, 0.096085477, 0.096060858, 0.096060858, 0.094413748, 0.093772522, 0.093375151, 0.093246388, 0.091327197, 0.09010545, 0.089519773, 0.088346473, 0.087754044, 0.087659528, 0.086804647, 0.086362372, 0.086165646, 0.0855123, 0.085498534, 0.085486285, 0.085446075, 0.08514546, 0.08513183, 0.08513183, 0.084601681, 0.084146832, 0.083860062, 0.083282296, 0.082702023, 0.082608174, 0.08246667, 0.082394288, 0.082391145, 0.082347656, 0.082169884, 0.082102379, 0.081311885, 0.081272766, 0.080197993, 0.080152424, 0.07979988, 0.079620072, 0.079478663, 0.079388787, 0.078874843, 0.078739897, 0.078739897, 0.078099553, 0.077944725, 0.077713525, 0.077477008, 0.076488889, 0.076432727, 0.076175166, 0.075715436, 0.075511123, 0.074597643, 0.074208267, 0.07383034, 0.07330117, 0.073090611, 0.072779, 0.072702456, 0.071971376, 0.07044294, 0.070067909, 0.07, 0.069834815, 0.068729358, 0.068514844, 0.068377859, 0.068369434, 0.068349884, 0.068296293, 0.068129518, 0.067800064, 0.067312826, 0.067192859, 0.066821036, 0.066821036, 0.066787908, 0.06648608, 0.066468332, 0.066122026, 0.066002004, 0.065833513, 0.065754228, 0.065595359, 0.064626786, 0.064445708, 0.064437847, 0.064270895, 0.06423844, 0.063833449, 0.063464861, 0.063229864, 0.062776289, 0.062771059, 0.062348079, 0.062076141, 0.061678538, 0.061548707, 0.06114103, 0.061063393, 0.060657418, 0.060378584, 0.060273173, 0.060112796, 0.059908565, 0.059520298, 0.059192128, 0.058978653, 0.05854863, 0.057958696, 0.057881056, 0.057777106, 0.056714147, 0.05635998, 0.056309766, 0.056309766, 0.056298474, 0.056255142, 0.055707411, 0.055534455, 0.055157539, 0.054926886, 0.054837234, 0.054700105, 0.054674226, 0.054607114, 0.054416464, 0.054416464, 0.054249294, 0.053830415, 0.05359373, 0.05353141, 0.052882018, 0.052642258, 0.052572764, 0.051424799, 0.051053787, 0.051053787, 0.051053787, 0.050907422, 0.050907234, 0.050877145, 0.050515963, 0.050365377, 0.049830607, 0.049830607, 0.049779728, 0.049645327, 0.049469904, 0.049263404, 0.048623572, 0.048428063, 0.048065672, 0.048065672, 0.047738099, 0.047738099, 0.047175038, 0.04708899, 0.04680934, 0.046770602, 0.046546197, 0.046396427, 0.046221189, 0.046201432, 0.045742101, 0.045735397, 0.045525852, 0.04547911, 0.0453, 0.044806783, 0.044030246, 0.043928932, 0.043793497, 0.043528634, 0.042930462, 0.042792561, 0.042629776, 0.04248739, 0.04248739, 0.042333295, 0.042045846, 0.041819064, 0.041637263, 0.041627431, 0.041480851, 0.041387687, 0.040492759, 0.040452643, 0.04020302, 0.040105542, 0.040031879, 0.039438674, 0.0393, 0.0393, 0.039267515, 0.038955598, 0.038793283, 0.038697217, 0.038610009, 0.038368909, 0.038, 0.037967148, 0.037664855, 0.037384046, 0.037036004, 0.036993168, 0.036893721, 0.036869414, 0.036837785, 0.036754634, 0.036754634, 0.036716538, 0.036616869, 0.036609995, 0.036433975, 0.036433975, 0.036262687, 0.036160375, 0.036133014, 0.036037909, 0.035926213, 0.035743308, 0.035485608, 0.035485056, 0.03540232, 0.035401758, 0.035387212, 0.03529447, 0.03513482, 0.035078241, 0.03478696, 0.034742066, 0.034266564, 0.034257411, 0.033662874, 0.033526835, 0.033463969, 0.0334, 0.033333531, 0.033043455, 0.033, 0.032973937, 0.032726956, 0.032726956, 0.032491317, 0.032438988, 0.032438988, 0.032438988, 0.032438988, 0.032438988, 0.032438988, 0.032255876, 0.032248241, 0.03220403, 0.03220403, 0.032189727, 0.03216897, 0.031912793, 0.031912793, 0.031724284, 0.031327899, 0.031179516, 0.030987695, 0.030800231, 0.030630185, 0.030551495, 0.030426096, 0.030199105, 0.030114487, 0.03, 0.029922472, 0.029907685, 0.029789, 0.029420266, 0.029331068, 0.029026215, 0.029010817, 0.028818995, 0.028780255, 0.028650575, 0.028541625, 0.02812867, 0.028008462, 0.028, 0.027685016, 0.027610873, 0.027437881, 0.027388767, 0.02733, 0.027187375, 0.027105095, 0.026820641, 0.026666409, 0.026268651, 0.026049082, 0.025871834, 0.025687179, 0.025562924, 0.025549538, 0.025482931, 0.025399945, 0.025303038, 0.025224242, 0.025037897, 0.025005257, 0.024829644, 0.024, 0.023978402, 0.023750075, 0.023619609, 0.023430766, 0.023006849, 0.022963701, 0.022456509, 0.022441323, 0.022309223, 0.022165608, 0.021819348, 0.021786738, 0.0215877, 0.021510851, 0.021126225, 0.020796847, 0.020416563, 0.020342161, 0.020117339, 0.019682924, 0.019560274, 0.019478106, 0.019412993, 0.019255873, 0.018948425, 0.018928871, 0.018902015, 0.018750246, 0.018720175, 0.018662027, 0.018409891, 0.01834, 0.018197398, 0.01811579, 0.0178, 0.017766245, 0.017741298, 0.0175, 0.017432163, 0.017425, 0.017297244, 0.017286299, 0.017273593, 0.017024782, 0.017024782, 0.016991902, 0.016863583, 0.016605763, 0.016549477, 0.01650546, 0.016158487, 0.01600242, 0.016, 0.015843608, 0.015520023, 0.015179302, 0.015007991, 0.014828081, 0.014782676, 0.014782676, 0.014775068, 0.014655628, 0.01446, 0.014373825, 0.01433379, 0.014010832, 0.013865435, 0.013678913, 0.013555988, 0.013521829, 0.013405595, 0.013395939, 0.013276953, 0.013231461, 0.013231461, 0.013196245, 0.013, 0.012923936, 0.012434778, 0.012036149, 0.011992014, 0.011790979, 0.011417362, 0.01112209, 0.010848783, 0.010629321, 0.010429707, 0.010429707, 0.010329747, 0.010229331, 0.010089373, 0.01, 0.009902115, 0.009627492, 0.009622846, 0.009620399, 0.009576495, 0.0095, 0.009479718, 0.009450897, 0.00923747, 0.009104716, 0.00876289, 0.008586376, 0.008493728, 0.008459458, 0.008454301, 0.008352885, 0.008112712, 0.008106475, 0.007938872, 0.007587485, 0.007316658, 0.007266209, 0.007103973, 0.007033683, 0.007022728, 0.007018189, 0.00680855, 0.00673298, 0.006420319, 0.006416302, 0.006413915, 0.00611, 0.005634828, 0.005496951, 0.005410749, 0.005380251, 0.005359645, 0.005217498, 0.005210988, 0.00510882, 0.005, 0.004644108, 0.004636169, 0.004627375, 0.004440055, 0.00441758, 0.00441758, 0.004349187, 0.003964682, 0.003878993, 0.003646994, 0.003639345, 0.003547209, 0.003533227, 0.003485127, 0.003430018, 0.003428048, 0.002995811, 0.002849142, 0.00269793, 0.0026268, 0.002614773, 0.0025, 0.002466444, 0.002450846, 0.002415472, 0.00240151, 0.002367161, 0.002295423, 0.002281089, 0.002062066, 0.002054941, 0.002033165], \"xaxis\": \"x\", \"y\": [\"Peter Jackson\", \"Christopher Nolan\", \"David Yates\", \"Michael Bay\", \"J.J. Abrams\", \"Gore Verbinski\", \"Steven Spielberg\", \"Ridley Scott\", \"Francis Lawrence\", \"Sam Raimi\", \"Joss Whedon\", \"James Cameron\", \"Pierre Coffin\", \"Tim Burton\", \"Andrew Adamson\", \"Lee Unkrich\", \"Chris Columbus\", \"Sam Mendes\", \"Carlos Saldanha\", \"Eric Darnell\", \"Shawn Levy\", \"Tom McGrath\", \"Brad Bird\", \"Pete Docter\", \"Ron Howard\", \"Steven Soderbergh\", \"Conrad Vernon\", \"Roland Emmerich\", \"Justin Lin\", \"Clint Eastwood\", \"James Wan\", \"Chris Renaud\", \"M. Night Shyamalan\", \"Bill Condon\", \"Rob Marshall\", \"Todd Phillips\", \"Andrew Stanton\", \"Jon Favreau\", \"Zack Snyder\", \"Brett Ratner\", \"Raja Gosnell\", \"Alfonso Cuar\\u00c3\\u00b3n\", \"Lana Wachowski\", \"Lilly Wachowski\", \"Marc Webb\", \"Bryan Singer\", \"Colin Trevorrow\", \"Kyle Balda\", \"George Lucas\", \"Robert Zemeckis\", \"Martin Scorsese\", \"David Fincher\", \"Chris Buck\", \"Steve Martino\", \"Quentin Tarantino\", \"Marc Forster\", \"Chris Miller\", \"Doug Liman\", \"Peter Berg\", \"Dennis Dugan\", \"Jennifer Lee\", \"Martin Campbell\", \"Dean DeBlois\", \"Nancy Meyers\", \"Jay Roach\", \"Mike Newell\", \"Kelly Asbury\", \"Chris Sanders\", \"Jon Turteltaub\", \"Shane Black\", \"Chris Weitz\", \"Mike Mitchell\", \"Barry Sonnenfeld\", \"Rob Letterman\", \"Paul W.S. Anderson\", \"Christopher Miller\", \"Phil Lord\", \"David Silverman\", \"Guy Ritchie\", \"Peyton Reed\", \"Kenneth Branagh\", \"Stephen Sommers\", \"Ang Lee\", \"Rob Cohen\", \"James Mangold\", \"John Lasseter\", \"Wolfgang Petersen\", \"Paul Greengrass\", \"Tim Story\", \"Peter Segal\", \"Jonathan Liebesman\", \"Matthew Vaughn\", \"Antoine Fuqua\", \"Chris Williams\", \"Brad Peyton\", \"McG\", \"Robert Rodriguez\", \"Alan Taylor\", \"Tom Hooper\", \"George Miller\", \"Chris Wedge\", \"Matt Reeves\", \"Byron Howard\", \"Christopher McQuarrie\", \"Guillermo del Toro\", \"Mike Thurmeier\", \"Adam Shankman\", \"Olivier Megaton\", \"Adam McKay\", \"Vicky Jenson\", \"Peter Farrelly\", \"Joe Johnston\", \"Anthony Russo\", \"Joe Russo\", \"Gary Ross\", \"Alejandro Gonz\\u00c3\\u00a1lez I\\u00c3\\u00b1\\u00c3\\u00a1rritu\", \"Genndy Tartakovsky\", \"Bobby Farrelly\", \"Joel Coen\", \"James Gunn\", \"Raman Hui\", \"Andy Tennant\", \"Tony Scott\", \"Len Wiseman\", \"Edward Zwick\", \"David Slade\", \"Seth MacFarlane\", \"Robert Stromberg\", \"Rob Minkoff\", \"Darren Aronofsky\", \"Dan Scanlon\", \"Mel Gibson\", \"Bob Peterson\", \"Mark Osborne\", \"Phyllida Lloyd\", \"John Woo\", \"Tom Shadyac\", \"Simon West\", \"Michael Patrick King\", \"Michael Mann\", \"Danny Boyle\", \"Louis Leterrier\", \"David Frankel\", \"Joseph Kosinski\", \"Jonathan Mostow\", \"Robert Luketic\", \"Paul Feig\", \"Don Hall\", \"Jennifer Yuh\", \"Simon J. Smith\", \"Wes Ball\", \"Robert Schwentke\", \"Kirk De Micco\", \"F. Gary Gray\", \"Anne Fletcher\", \"Keenen Ivory Wayans\", \"Steve Carr\", \"Lee Tamahori\", \"John Stevenson\", \"David Dobkin\", \"Jan Pinkava\", \"John Moore\", \"Ethan Coen\", \"Garry Marshall\", \"Judd Apatow\", \"Frank Coraci\", \"Neill Blomkamp\", \"Nathan Greno\", \"Baz Luhrmann\", \"Sam Taylor-Johnson\", \"Tim Hill\", \"Brad Lewis\", \"Andy Fickman\", \"John Singleton\", \"Tarsem Singh\", \"Sylvester Stallone\", \"Oliver Stone\", \"Mark Andrews\", \"Steve Purcell\", \"Brenda Chapman\", \"Neil Burger\", \"D.J. Caruso\", \"Jaume Collet-Serra\", \"Lasse Hallstr\\u00c3\\u00b6m\", \"Gareth Edwards\", \"Gavin Hood\", \"Kevin Lima\", \"Tim Johnson\", \"John Lee Hancock\", \"Rupert Wyatt\", \"Betty Thomas\", \"Nicholas Stoller\", \"Mark Waters\", \"Nick Cassavetes\", \"Harald Zwart\", \"Alex Proyas\", \"Luc Besson\", \"Catherine Hardwicke\", \"Paul Weitz\", \"Dominic Sena\", \"Mark Dindal\", \"Gabriele Muccino\", \"Joe Wright\", \"Rich Moore\", \"Michael Apted\", \"David O. Russell\", \"Joe Ranft\", \"Seth Gordon\", \"Cameron Crowe\", \"Donald Petrie\", \"Bibo Bergeron\", \"Jason Reitman\", \"Larry Charles\", \"Ben Stiller\", \"Tony Gilroy\", \"Ben Affleck\", \"Jimmy Hayward\", \"Nick Park\", \"Jon M. Chu\", \"Alexander Payne\", \"Mark Steven Johnson\", \"Joel Schumacher\", \"David R. Ellis\", \"Sean Anders\", \"Peter Chelsom\", \"David Zucker\", \"Baltasar Korm\\u00c3\\u00a1kur\", \"Rupert Sanders\", \"Wes Anderson\", \"Loveleen Tandan\", \"Scott Derrickson\", \"Ron Clements\", \"John Musker\", \"Mikael H\\u00c3\\u00a5fstr\\u00c3\\u00b6m\", \"Timur Bekmambetov\", \"Joel Zwick\", \"Jake Kasdan\", \"Phillip Noyce\", \"Will Gluck\", \"Wes Craven\", \"Ralph Zondag\", \"Eric Leighton\", \"Henry Joost\", \"Ariel Schulman\", \"Noam Murro\", \"Ken Kwapis\", \"Peter Lord\", \"David Ayer\", \"Peter Sohn\", \"Marc Lawrence\", \"Thor Freudenthal\", \"Tom Tykwer\", \"Elizabeth Banks\", \"Jesse Dylan\", \"George Clooney\", \"Steven Quale\", \"Jason Friedberg\", \"Aaron Seltzer\", \"Breck Eisner\", \"Josh Trank\", \"Luke Greenfield\", \"Joe Carnahan\", \"Paul Tibbitt\", \"John Requa\", \"Glenn Ficarra\", \"Peter Ramsey\", \"Anthony Stacchi\", \"Josh Boone\", \"Eric Brevig\", \"Darren Lynn Bousman\", \"Michel Gondry\", \"Michael Lembeck\", \"Andrzej Bartkowiak\", \"Hoyt Yeatman\", \"David Twohy\", \"Jeff Tremaine\", \"Steve Hickner\", \"J.B. Rogers\", \"Greg Mottola\", \"Scott Waugh\", \"David Soren\", \"Brian Robbins\", \"Sharon Maguire\", \"Richard Curtis\", \"Rob Reiner\", \"Woody Allen\", \"Hayden Schlossberg\", \"Jon Hurwitz\", \"Florian Henckel von Donnersmarck\", \"Marcus Nispel\", \"Brad Silberling\", \"Randall Wallace\", \"Stephen Daldry\", \"Steven Brill\", \"Stephen Frears\", \"Mark Neveldine\", \"Brian Taylor\", \"Brian Helgeland\", \"Brian A Miller\", \"John Hamburg\", \"Andrew Niccol\", \"Nora Ephron\", \"Paul King\", \"Boaz Yakin\", \"David Bowers\", \"John R. Leonetti\", \"Gil Kenan\", \"Allen Hughes\", \"Tom Dey\", \"Stefen Fangmeier\", \"Alejandro Amen\\u00c3\\u00a1bar\", \"Cody Cameron\", \"Kris Pearn\", \"Ruben Fleischer\", \"Pierre Morel\", \"Ivan Reitman\", \"James Bobin\", \"Jos\\u00c3\\u00a9 Padilha\", \"James McTeigue\", \"Frank Miller\", \"Malcolm D. Lee\", \"Mike Nichols\", \"Morten Tyldum\", \"Gary Fleder\", \"Peter Weir\", \"David S. Goyer\", \"Albert Hughes\", \"P.J. Hogan\", \"Steve Bendelack\", \"Wayne Wang\", \"Alexandre Aja\", \"Tommy Wirkola\", \"Takashi Shimizu\", \"Sam Fell\", \"John Whitesell\", \"Jason Moore\", \"Klay Hall\", \"Gary Shore\", \"Curtis Hanson\", \"Mathieu Kassovitz\", \"Peter Hewitt\", \"Daniel Espinosa\", \"Gary Winick\", \"Kathryn Bigelow\", \"Jonathan Levine\", \"Roman Polanski\", \"Patrick Hughes\", \"Denis Villeneuve\", \"Ryan Murphy\", \"Kevin Greutert\", \"Brian Levant\", \"Kirk Jones\", \"Dean Parisot\", \"Iain Softley\", \"Richard LaGravenese\", \"Thomas Carter\", \"Roger Allers\", \"Jill Culton\", \"Michael Sucsy\", \"Clark Johnson\", \"Nimr\\u00c3\\u00b3d Antal\", \"Steve Box\", \"Pete Travis\", \"Renny Harlin\", \"Paul Verhoeven\", \"John Madden\", \"Spike Lee\", \"Burr Steers\", \"Steve McQueen\", \"Gary Trousdale\", \"Kirk Wise\", \"Tom Vaughan\", \"Juan Antonio Bayona\", \"Lee Daniels\", \"Stephen Norrington\", \"Paul Haggis\", \"Peter Howitt\", \"Jay Russell\", \"Richard Linklater\", \"Frank Oz\", \"Anthony Minghella\", \"Peter Billingsley\", \"Bennett Miller\", \"James Wong\", \"Taylor Hackford\", \"David Gordon Green\", \"Stephen J. Anderson\", \"John Erick Dowdle\", \"Rawson Marshall Thurber\", \"Chuck Russell\", \"Angelina Jolie\", \"Sydney Pollack\", \"Kevin Macdonald\", \"Simon Wells\", \"Patrick Lussier\", \"Rob Zombie\", \"Michael Moore\", \"Oliver Parker\", \"Jean-Jacques Annaud\", \"Kevin Smith\", \"Duncan Jones\", \"Jan de Bont\", \"Karey Kirkpatrick\", \"Scott Cooper\", \"David Koepp\", \"Roger Michell\", \"Harold Ramis\", \"Steve Pink\", \"Roberts Gannaway\", \"Carl Rinsch\", \"David Cronenberg\", \"Ash Brannon\", \"Paul McGuigan\", \"Brad Furman\", \"Charles Martin Smith\", \"Russell Mulcahy\", \"Tyler Perry\", \"Andy Muschietti\", \"Scott Stewart\", \"G\\u00c3\\u00a1bor Csup\\u00c3\\u00b3\", \"Gus Van Sant\", \"Camille Delamarre\", \"Scott Speer\", \"Stephen Hillenburg\", \"Nigel Cole\", \"Ryan Coogler\", \"Jonathan Demme\", \"Seth Rogen\", \"Evan Goldberg\", \"John A. Davis\", \"Steve Trenbirth\", \"Kevin Rodney Sullivan\", \"Ericson Core\", \"Michel Hazanavicius\", \"Andrew Davis\", \"Gregory Hoblit\", \"M\\u00c3\\u00a5ns M\\u00c3\\u00a5rlind\", \"Bj\\u00c3\\u00b6rn Stein\", \"Walt Becker\", \"Henry Selick\", \"Alexander Witt\", \"Jim Sheridan\", \"George Nolfi\", \"James Watkins\", \"Barry Cook\", \"Neil Nightingale\", \"Charles Herman-Wurmfeld\", \"Richard Loncraine\", \"Tate Taylor\", \"John Polson\", \"Lorna Cook\", \"Gregory Jacobs\", \"Victor Salva\", \"James Marsh\", \"Frank Marshall\", \"Carl Franklin\", \"Adrian Lyne\", \"Barry Levinson\", \"Jeff Newitt\", \"Robert Redford\", \"Joseph Ruben\", \"Miguel Arteta\", \"Mike Johnson\", \"Scott Hicks\", \"David Wain\", \"John Luessenhop\", \"Jay Chandrasekhar\", \"John Wells\", \"Samuel Bayer\", \"Paul Thomas Anderson\", \"Geoffrey Sax\", \"Ronny Yu\", \"Alejandro Agresti\", \"Sergey Bodrov\", \"David McNally\", \"David Hackl\", \"John Stockwell\", \"George Tillman, Jr.\", \"Donovan Cook\", \"Robin Budd\", \"Jonathan Lynn\", \"Alastair Fothergill\", \"Mark Linfield\", \"William Friedkin\", \"James DeMonaco\", \"Alister Grierson\", \"Graham Annable\", \"Andrew Douglas\", \"Roger Kumble\", \"Chris Butler\", \"Etan Cohen\", \"Greg Berlanti\", \"Terry Gilliam\", \"Javier Abad\", \"Jorge Blanco\", \"Marcos Mart\\u00c3\\u00adnez\", \"Stephen Gaghan\", \"Garth Jennings\", \"John Francis Daley\", \"Jonathan M. Goldstein\", \"Leigh Whannell\", \"Shekhar Kapur\", \"John Sanford\", \"Will Finn\", \"James L. Brooks\", \"Wally Pfister\", \"Stiles White\", \"Ben Falcone\", \"Jonathan Dayton\", \"Valerie Faris\", \"Kevin Munroe\", \"Jennifer Flackett\", \"Mark Levin\", \"Nima Nourizadeh\", \"Xavier Gens\", \"Rob Bowman\", \"Bille Woodruff\", \"Christophe Gans\", \"Fede Alvarez\", \"Danny Leiner\", \"Simon Curtis\", \"Craig Brewer\", \"Roger Spottiswoode\", \"Eric Bress\", \"J. Mackye Gruber\", \"Frank Darabont\", \"Frederik Du Chau\", \"Lawrence Guterman\", \"Susanna White\", \"Patrick Tatopoulos\", \"Jon Avnet\", \"Steve Antin\", \"Tom McCarthy\", \"Robert Altman\", \"Stuart Beattie\", \"Neil LaBute\", \"Christopher B. Landon\", \"Trish Sie\", \"Jake Schreier\", \"Jerry Zucker\", \"Lone Scherfig\", \"Ole Bornedal\", \"Richard Donner\", \"Motonori Sakakibara\", \"Hironobu Sakaguchi\", \"Paul Weiland\", \"Mennan Yapo\", \"Karyn Kusama\", \"Ted Demme\", \"Brad Anderson\", \"Jean-Marc Vall\\u00c3\\u00a9e\", \"Fernando Meirelles\", \"Kimberly Peirce\", \"Bryan Bertino\", \"Aleksander Bach\", \"Peter Webber\", \"Pitof\", \"John Hillcoat\", \"Mike McCoy\", \"Jared Hess\", \"Spike Jonze\", \"Jeremy Garelick\", \"Sofia Coppola\", \"Roger Donaldson\", \"Charles Stone III\", \"R.J. Cutler\", \"Chad Stahelski\", \"David Leitch\", \"Gregory Plotkin\", \"Florent-Emilio Siri\", \"Brian De Palma\", \"Alan Poul\", \"Terry Zwigoff\", \"Don Michael Paul\", \"Nicolas Winding Refn\", \"Lawrence Kasdan\", \"Sylvain White\", \"Callan Brunker\", \"Jon Amiel\", \"Steve Shill\", \"Todd Haynes\", \"James Foley\", \"Steve Oedekerk\", \"Edgar Wright\", \"Mike Tollin\", \"Fred Wolf\", \"Mark Rosman\", \"Rajkumar Hirani\", \"Matthew O'Callaghan\", \"Grant Heslov\", \"Joe Dante\", \"Peter Hedges\", \"Chris Carter\", \"Steve Beck\", \"Kevin Costner\", \"Fyodor Bondarchuk\", \"Christopher Spencer\", \"Stuart Baird\", \"Stephen Kay\", \"Greg Strause\", \"Colin Strause\", \"Ava DuVernay\", \"Drew Goddard\", \"Joel Gallen\", \"Kirsten Sheridan\", \"Angela Robinson\", \"Gina Prince-Bythewood\", \"Pat O'Connor\", \"Ken Scott\", \"Chris Gorak\", \"Gavin O'Connor\", \"Chris Nahon\", \"Jessie Nelson\", \"Juan Carlos Fresnadillo\", \"Michael McCullers\", \"John Carney\", \"Craig Gillespie\", \"Howard Deutch\", \"Stephen Hopkins\", \"Salim Akil\", \"John Crowley\", \"Mark Romanek\", \"Michael Dougherty\", \"Tamra Davis\", \"Michael Caton-Jones\", \"Eli Roth\", \"Patty Jenkins\", \"David M. Rosenthal\", \"Michael J. Bassett\", \"Robert De Niro\", \"Dustin Hoffman\", \"Mark Helfrich\", \"Joel Edgerton\", \"Scott Frank\", \"Kerry Conran\", \"John Schultz\", \"Gary McKendry\", \"Barbet Schroeder\", \"John Herzfeld\", \"David Moreau\", \"Xavier Palud\", \"Julie Taymor\", \"Sean Penn\", \"Mimi Leder\", \"Jim Fall\", \"Mark Pellington\", \"James Gray\", \"Theodore Melfi\", \"Jonathan Hensleigh\", \"Terrence Malick\", \"Shana Feste\", \"Michael Spierig\", \"Peter Spierig\", \"Harold Becker\", \"Sam Miller\", \"Denzel Washington\", \"Joshua Michael Stern\", \"Ciaran Foy\", \"Andrew Dominik\", \"Rian Johnson\", \"Martin McDonagh\", \"Todd Edwards\", \"Cory Edwards\", \"Tony Leech\", \"Trey Parker\", \"John Patrick Shanley\", \"Robert Stevenhagen\", \"Julian Jarrold\", \"Anthony Hemingway\", \"Will Speck\", \"Josh Gordon\", \"Jim Field Smith\", \"Christian Alvart\", \"Richard Eyre\", \"Doug Ellin\", \"Peter Landesman\", \"Shane Acker\", \"Jon Lucas\", \"Scott Moore\", \"Shari Springer Berman\", \"Robert Pulcini\", \"Clare Kilner\", \"Sean McNamara\", \"John Dahl\", \"George A. Romero\", \"Joseph Kahn\", \"Sanjay Gadhvi\", \"Asger Leth\", \"Rupert Wainwright\", \"Jim Jarmusch\", \"Jason Winer\", \"Daniel Barnz\", \"Michael Rymer\", \"Dave Green\", \"Dan Bradley\", \"Mike Flanagan\", \"Corey Yuen Kwai\", \"Mike Binder\", \"Ari Sandel\", \"Ric Roman Waugh\", \"John McTiernan\", \"Lee Toland Krieger\", \"Danny Pang\", \"Oxide Pang Chun\", \"Olatunde Osunsanmi\", \"Nanette Burstein\", \"Marco Schnabel\", \"Bruce A. Evans\", \"Jeff Wadlow\", \"Phil Joanou\", \"Nicholas Hytner\", \"Christian E. Christiansen\", \"Philip G. Atwell\", \"Beeban Kidron\", \"Phil Traill\", \"Lars von Trier\", \"Simon Wincer\", \"Ben Gluck\", \"Anthony Bell\", \"Troy Miller\", \"Alan Parker\", \"Jonathan Frakes\", \"Dan Gilroy\", \"Toby Wilkins\", \"Greg Coolidge\", \"Terry George\", \"Rod Lurie\", \"Rick Rosenthal\", \"Steve 'Spaz' Williams\", \"Edward Norton\", \"Troy Nixey\", \"Julie Anne Robinson\", \"Alex Garland\", \"Oliver Hirschbiegel\", \"Don Bluth\", \"Gary Goldman\", \"Walter Hill\", \"Luis Mandoki\", \"Bonnie Hunt\", \"Tyler Gillett\", \"Matt Bettinelli-Olpin\", \"Mira Nair\", \"Tom Hanks\", \"Brandon Camp\", \"Diane Keaton\", \"Michael Hoffman\", \"Penny Marshall\", \"Derek Cianfrance\", \"Nicholas Jarecki\", \"Michael Cristofer\", \"Lenny Abrahamson\", \"Todd Strauss-Schulson\", \"Jean-Fran\\u00c3\\u00a7ois Richet\", \"Des McAnuff\", \"Chris Noonan\", \"Feng Xiaogang\", \"Liz Friedlander\", \"Mary Harron\", \"Walter Salles\", \"Benny Chan\", \"Marcus Raboy\", \"Antony Hoffman\", \"Stephen Chbosky\", \"Richard Kelly\", \"Peter Hyams\", \"David Schwimmer\", \"Peter Sollett\", \"Dan Cutforth\", \"Jane Lipsitz\", \"Stewart Hendler\", \"James Duffy\", \"Patrik Forsberg\", \"Rusty Cundieff\", \"Griffin Dunne\", \"Will Graham\", \"Jonathan van Tulleken\", \"Philip Kaufman\", \"Dean Israelite\", \"James Mather\", \"Stephen St. Leger\", \"Billy Ray\", \"John Frankenheimer\", \"Matthew Robinson\", \"Ricky Gervais\", \"Harmony Korine\", \"Ethan Maniquis\", \"Christopher Erskin\", \"Dennie Gordon\", \"Akiva Goldsman\", \"Reginald Hudlin\", \"Douglas McGrath\", \"Mark Mylod\", \"Christian Duguay\", \"Nick Hamm\", \"Anthony Leondis\", \"Anand Tucker\", \"Jim Sonzero\", \"Harold Cronk\", \"Nick Hurran\", \"Sara Sugarman\", \"Neil Marshall\", \"Jonas Elmer\", \"Kevin Allen\", \"Ben Younger\", \"Rob Schmidt\", \"Bill Paxton\", \"Matthijs van Heijningen Jr.\", \"John Boorman\", \"Kevin Reynolds\", \"Guy Ferland\", \"Danny Cannon\", \"Don Scardino\", \"Tommy O'Haver\", \"Justin Chadwick\", \"Anthony Silverston\", \"William Brent Bell\", \"Michael Davis\", \"Uwe Boll\", \"Bruce Beresford\", \"Tom Gormican\", \"Craig Mazin\", \"Courtney Solomon\", \"Gonzalo L\\u00c3\\u00b3pez-Gallego\", \"Robert Iscove\", \"Kevin Bray\", \"Dave Meyers\", \"Doug Lefler\", \"Niki Caro\", \"Jason Eisener\", \"Sidney Lumet\", \"Don Mancini\", \"Bruce Robinson\", \"Rob Pritts\", \"Joe Nussbaum\", \"Daniel Sackheim\", \"Gregory Poirier\", \"Elizabeth Allen Rosenbaum\", \"Rachid Bouchareb\", \"David E. Talbert\", \"Fran\\u00c3\\u00a7ois Ozon\", \"Jonathan Teplitzky\", \"John Bonito\", \"Justin Zackham\", \"Wong Kar-wai\", \"Jeff Nichols\", \"Glen Morgan\", \"John Maybury\", \"Jeff Schaffer\", \"Mark Herman\", \"Ben Garant\", \"David Lynch\", \"Vic Armstrong\", \"John Michael McDonagh\", \"Gary Chapman\", \"Stephen T. Kay\", \"Giuseppe Tornatore\", \"Doug Atchison\", \"Michael Winterbottom\", \"William Malone\", \"Christopher Guest\", \"Demian Lichtenstein\", \"Dan St. Pierre\", \"Miguel Sapochnik\", \"Jocelyn Moorhouse\", \"Fred Savage\", \"J.C. Chandor\", \"Tony Bill\", \"Werner Herzog\", \"Marcel Langenegger\", \"Jon Kasdan\", \"Chris Koch\", \"Thomas Bezucha\", \"Richard Shepard\", \"Robert B. Weide\", \"Jesse Peretz\", \"Brian Koppelman\", \"David Levien\", \"Stephen Herek\", \"Mabrouk El Mechri\", \"Paul Abascal\", \"Benson Lee\", \"Amma Asante\", \"Susannah Grant\", \"Sarah Gavron\", \"James Isaac\", \"Douglas Aarniokoski\", \"Russell Crowe\", \"Ed Gass-Donnelly\", \"Bruce Hunt\", \"Jack Sholder\", \"Emmett Malloy\", \"Brendan Malloy\", \"Michael Dowse\", \"Joe Roth\", \"Stephen Anderson\", \"Joby Harold\", \"Ilya Naishuller\", \"John Carpenter\", \"Gr\\u00c3\\u00a9gory Levasseur\", \"Les Mayfield\", \"Uli Edel\", \"Mike Disa\", \"Liam Lynch\", \"Charles Shyer\", \"Francine McDougall\", \"Lee Sternthal\", \"Brian Klugman\", \"Chris Rock\", \"E. Elias Merhige\", \"Ronald F. Maxwell\", \"Alex Kurtzman\", \"Tommy Lee Jones\", \"Asif Kapadia\", \"Paolo Sorrentino\", \"Josh Schwartz\", \"Max Joseph\", \"Mike Judge\", \"Troy Duffy\", \"Andrew Erwin\", \"Jon Erwin\", \"Daniel Barber\", \"DJ Pooh\", \"Lexi Alexander\", \"Christine Jeffs\", \"David Raynr\", \"Todd Lincoln \", \"Dean Wright\", \"Chris Sivertson\", \"Amy Heckerling\", \"Wayne Kramer\", \"John Curran\", \"Steven Zaillian\", \"Ron Shelton\", \"Saul Dibb\", \"Peter Cattaneo\", \"Mort Nathan\", \"John Gulager\", \"Atom Egoyan\", \"Richard J. Lewis\", \"Steven Knight\", \"David Mamet\", \"Juan Diego Solanas\", \"Michael Haneke\", \"Noah Baumbach\", \"Ernest R. Dickerson\", \"Martin Brest\", \"Ron Underwood\", \"Howard McCain\", \"Derrick Borte\", \"Kasi Lemmons\", \"George Armitage\", \"Tony Goldwyn\", \"Alejandro Monteverde\", \"Jim Gillespie\", \"Dewey Nicks\", \"Jorma Taccone\", \"Rodrigo Garc\\u00c3\\u00ada\", \"Scott Walker\", \"David Leland\", \"Jonathan Glazer\", \"Kurt Wimmer\", \"Mary Lambert\", \"Todd Graff\", \"Davis Guggenheim\", \"Vipul Amrutlal Shah\", \"William Monahan\", \"David Barrett\", \"Paul Johansson\", \"Jane Campion\", \"Mark Duplass\", \"Jay Duplass\", \"John Landis\", \"Joe Cornish\", \"William Dear\", \"Peter Bogdanovich\", \"Dito Montiel\", \"Jaco Van Dormael\", \"Ry\\u00c3\\u00bbhei Kitamura\", \"Rob Thomas\", \"Don McKellar\", \"Henry Alex Rubin\", \"Floria Sigismondi\", \"Susanne Bier\", \"Liev Schreiber\", \"Roland Joff\\u00c3\\u00a9\", \"Dan Rush\", \"David Mackenzie\", \"James Cox\", \"Michael Cuesta\", \"Guillaume Canet\", \"Zal Batmanglij\", \"Adam Wingard\", \"David Mich\\u00c3\\u00b4d\", \"Steven Shainberg\", \"Paul Schrader\", \"Keanu Reeves\", \"Simon Hunter\"], \"yaxis\": \"y\"}],                        {\"barmode\": \"relative\", \"legend\": {\"tracegroupgap\": 0}, \"margin\": {\"t\": 60}, \"template\": {\"data\": {\"bar\": [{\"error_x\": {\"color\": \"#2a3f5f\"}, \"error_y\": {\"color\": \"#2a3f5f\"}, \"marker\": {\"line\": {\"color\": \"#E5ECF6\", \"width\": 0.5}}, \"type\": \"bar\"}], \"barpolar\": [{\"marker\": {\"line\": {\"color\": \"#E5ECF6\", \"width\": 0.5}}, \"type\": \"barpolar\"}], \"carpet\": [{\"aaxis\": {\"endlinecolor\": \"#2a3f5f\", \"gridcolor\": \"white\", \"linecolor\": \"white\", \"minorgridcolor\": \"white\", \"startlinecolor\": \"#2a3f5f\"}, \"baxis\": {\"endlinecolor\": \"#2a3f5f\", \"gridcolor\": \"white\", \"linecolor\": \"white\", \"minorgridcolor\": \"white\", \"startlinecolor\": \"#2a3f5f\"}, \"type\": \"carpet\"}], \"choropleth\": [{\"colorbar\": {\"outlinewidth\": 0, \"ticks\": \"\"}, \"type\": \"choropleth\"}], \"contour\": [{\"colorbar\": {\"outlinewidth\": 0, \"ticks\": \"\"}, \"colorscale\": [[0.0, \"#0d0887\"], [0.1111111111111111, \"#46039f\"], [0.2222222222222222, \"#7201a8\"], [0.3333333333333333, \"#9c179e\"], [0.4444444444444444, \"#bd3786\"], [0.5555555555555556, \"#d8576b\"], [0.6666666666666666, \"#ed7953\"], [0.7777777777777778, \"#fb9f3a\"], [0.8888888888888888, \"#fdca26\"], [1.0, \"#f0f921\"]], \"type\": \"contour\"}], \"contourcarpet\": [{\"colorbar\": {\"outlinewidth\": 0, \"ticks\": \"\"}, \"type\": \"contourcarpet\"}], \"heatmap\": [{\"colorbar\": {\"outlinewidth\": 0, \"ticks\": \"\"}, \"colorscale\": [[0.0, \"#0d0887\"], [0.1111111111111111, \"#46039f\"], [0.2222222222222222, \"#7201a8\"], [0.3333333333333333, \"#9c179e\"], [0.4444444444444444, \"#bd3786\"], [0.5555555555555556, \"#d8576b\"], [0.6666666666666666, \"#ed7953\"], [0.7777777777777778, \"#fb9f3a\"], [0.8888888888888888, \"#fdca26\"], [1.0, \"#f0f921\"]], \"type\": \"heatmap\"}], \"heatmapgl\": [{\"colorbar\": {\"outlinewidth\": 0, \"ticks\": \"\"}, \"colorscale\": [[0.0, \"#0d0887\"], [0.1111111111111111, \"#46039f\"], [0.2222222222222222, \"#7201a8\"], [0.3333333333333333, \"#9c179e\"], [0.4444444444444444, \"#bd3786\"], [0.5555555555555556, \"#d8576b\"], [0.6666666666666666, \"#ed7953\"], [0.7777777777777778, \"#fb9f3a\"], [0.8888888888888888, \"#fdca26\"], [1.0, \"#f0f921\"]], \"type\": \"heatmapgl\"}], \"histogram\": [{\"marker\": {\"colorbar\": {\"outlinewidth\": 0, \"ticks\": \"\"}}, \"type\": \"histogram\"}], \"histogram2d\": [{\"colorbar\": {\"outlinewidth\": 0, \"ticks\": \"\"}, \"colorscale\": [[0.0, \"#0d0887\"], [0.1111111111111111, \"#46039f\"], [0.2222222222222222, \"#7201a8\"], [0.3333333333333333, \"#9c179e\"], [0.4444444444444444, \"#bd3786\"], [0.5555555555555556, \"#d8576b\"], [0.6666666666666666, \"#ed7953\"], [0.7777777777777778, \"#fb9f3a\"], [0.8888888888888888, \"#fdca26\"], [1.0, \"#f0f921\"]], \"type\": \"histogram2d\"}], \"histogram2dcontour\": [{\"colorbar\": {\"outlinewidth\": 0, \"ticks\": \"\"}, \"colorscale\": [[0.0, \"#0d0887\"], [0.1111111111111111, \"#46039f\"], [0.2222222222222222, \"#7201a8\"], [0.3333333333333333, \"#9c179e\"], [0.4444444444444444, \"#bd3786\"], [0.5555555555555556, \"#d8576b\"], [0.6666666666666666, \"#ed7953\"], [0.7777777777777778, \"#fb9f3a\"], [0.8888888888888888, \"#fdca26\"], [1.0, \"#f0f921\"]], \"type\": \"histogram2dcontour\"}], \"mesh3d\": [{\"colorbar\": {\"outlinewidth\": 0, \"ticks\": \"\"}, \"type\": \"mesh3d\"}], \"parcoords\": [{\"line\": {\"colorbar\": {\"outlinewidth\": 0, \"ticks\": \"\"}}, \"type\": \"parcoords\"}], \"pie\": [{\"automargin\": true, \"type\": \"pie\"}], \"scatter\": [{\"marker\": {\"colorbar\": {\"outlinewidth\": 0, \"ticks\": \"\"}}, \"type\": \"scatter\"}], \"scatter3d\": [{\"line\": {\"colorbar\": {\"outlinewidth\": 0, \"ticks\": \"\"}}, \"marker\": {\"colorbar\": {\"outlinewidth\": 0, \"ticks\": \"\"}}, \"type\": \"scatter3d\"}], \"scattercarpet\": [{\"marker\": {\"colorbar\": {\"outlinewidth\": 0, \"ticks\": \"\"}}, \"type\": \"scattercarpet\"}], \"scattergeo\": [{\"marker\": {\"colorbar\": {\"outlinewidth\": 0, \"ticks\": \"\"}}, \"type\": \"scattergeo\"}], \"scattergl\": [{\"marker\": {\"colorbar\": {\"outlinewidth\": 0, \"ticks\": \"\"}}, \"type\": \"scattergl\"}], \"scattermapbox\": [{\"marker\": {\"colorbar\": {\"outlinewidth\": 0, \"ticks\": \"\"}}, \"type\": \"scattermapbox\"}], \"scatterpolar\": [{\"marker\": {\"colorbar\": {\"outlinewidth\": 0, \"ticks\": \"\"}}, \"type\": \"scatterpolar\"}], \"scatterpolargl\": [{\"marker\": {\"colorbar\": {\"outlinewidth\": 0, \"ticks\": \"\"}}, \"type\": \"scatterpolargl\"}], \"scatterternary\": [{\"marker\": {\"colorbar\": {\"outlinewidth\": 0, \"ticks\": \"\"}}, \"type\": \"scatterternary\"}], \"surface\": [{\"colorbar\": {\"outlinewidth\": 0, \"ticks\": \"\"}, \"colorscale\": [[0.0, \"#0d0887\"], [0.1111111111111111, \"#46039f\"], [0.2222222222222222, \"#7201a8\"], [0.3333333333333333, \"#9c179e\"], [0.4444444444444444, \"#bd3786\"], [0.5555555555555556, \"#d8576b\"], [0.6666666666666666, \"#ed7953\"], [0.7777777777777778, \"#fb9f3a\"], [0.8888888888888888, \"#fdca26\"], [1.0, \"#f0f921\"]], \"type\": \"surface\"}], \"table\": [{\"cells\": {\"fill\": {\"color\": \"#EBF0F8\"}, \"line\": {\"color\": \"white\"}}, \"header\": {\"fill\": {\"color\": \"#C8D4E3\"}, \"line\": {\"color\": \"white\"}}, \"type\": \"table\"}]}, \"layout\": {\"annotationdefaults\": {\"arrowcolor\": \"#2a3f5f\", \"arrowhead\": 0, \"arrowwidth\": 1}, \"autotypenumbers\": \"strict\", \"coloraxis\": {\"colorbar\": {\"outlinewidth\": 0, \"ticks\": \"\"}}, \"colorscale\": {\"diverging\": [[0, \"#8e0152\"], [0.1, \"#c51b7d\"], [0.2, \"#de77ae\"], [0.3, \"#f1b6da\"], [0.4, \"#fde0ef\"], [0.5, \"#f7f7f7\"], [0.6, \"#e6f5d0\"], [0.7, \"#b8e186\"], [0.8, \"#7fbc41\"], [0.9, \"#4d9221\"], [1, \"#276419\"]], \"sequential\": [[0.0, \"#0d0887\"], [0.1111111111111111, \"#46039f\"], [0.2222222222222222, \"#7201a8\"], [0.3333333333333333, \"#9c179e\"], [0.4444444444444444, \"#bd3786\"], [0.5555555555555556, \"#d8576b\"], [0.6666666666666666, \"#ed7953\"], [0.7777777777777778, \"#fb9f3a\"], [0.8888888888888888, \"#fdca26\"], [1.0, \"#f0f921\"]], \"sequentialminus\": [[0.0, \"#0d0887\"], [0.1111111111111111, \"#46039f\"], [0.2222222222222222, \"#7201a8\"], [0.3333333333333333, \"#9c179e\"], [0.4444444444444444, \"#bd3786\"], [0.5555555555555556, \"#d8576b\"], [0.6666666666666666, \"#ed7953\"], [0.7777777777777778, \"#fb9f3a\"], [0.8888888888888888, \"#fdca26\"], [1.0, \"#f0f921\"]]}, \"colorway\": [\"#636efa\", \"#EF553B\", \"#00cc96\", \"#ab63fa\", \"#FFA15A\", \"#19d3f3\", \"#FF6692\", \"#B6E880\", \"#FF97FF\", \"#FECB52\"], \"font\": {\"color\": \"#2a3f5f\"}, \"geo\": {\"bgcolor\": \"white\", \"lakecolor\": \"white\", \"landcolor\": \"#E5ECF6\", \"showlakes\": true, \"showland\": true, \"subunitcolor\": \"white\"}, \"hoverlabel\": {\"align\": \"left\"}, \"hovermode\": \"closest\", \"mapbox\": {\"style\": \"light\"}, \"paper_bgcolor\": \"white\", \"plot_bgcolor\": \"#E5ECF6\", \"polar\": {\"angularaxis\": {\"gridcolor\": \"white\", \"linecolor\": \"white\", \"ticks\": \"\"}, \"bgcolor\": \"#E5ECF6\", \"radialaxis\": {\"gridcolor\": \"white\", \"linecolor\": \"white\", \"ticks\": \"\"}}, \"scene\": {\"xaxis\": {\"backgroundcolor\": \"#E5ECF6\", \"gridcolor\": \"white\", \"gridwidth\": 2, \"linecolor\": \"white\", \"showbackground\": true, \"ticks\": \"\", \"zerolinecolor\": \"white\"}, \"yaxis\": {\"backgroundcolor\": \"#E5ECF6\", \"gridcolor\": \"white\", \"gridwidth\": 2, \"linecolor\": \"white\", \"showbackground\": true, \"ticks\": \"\", \"zerolinecolor\": \"white\"}, \"zaxis\": {\"backgroundcolor\": \"#E5ECF6\", \"gridcolor\": \"white\", \"gridwidth\": 2, \"linecolor\": \"white\", \"showbackground\": true, \"ticks\": \"\", \"zerolinecolor\": \"white\"}}, \"shapedefaults\": {\"line\": {\"color\": \"#2a3f5f\"}}, \"ternary\": {\"aaxis\": {\"gridcolor\": \"white\", \"linecolor\": \"white\", \"ticks\": \"\"}, \"baxis\": {\"gridcolor\": \"white\", \"linecolor\": \"white\", \"ticks\": \"\"}, \"bgcolor\": \"#E5ECF6\", \"caxis\": {\"gridcolor\": \"white\", \"linecolor\": \"white\", \"ticks\": \"\"}}, \"title\": {\"x\": 0.05}, \"xaxis\": {\"automargin\": true, \"gridcolor\": \"white\", \"linecolor\": \"white\", \"ticks\": \"\", \"title\": {\"standoff\": 15}, \"zerolinecolor\": \"white\", \"zerolinewidth\": 2}, \"yaxis\": {\"automargin\": true, \"gridcolor\": \"white\", \"linecolor\": \"white\", \"ticks\": \"\", \"title\": {\"standoff\": 15}, \"zerolinecolor\": \"white\", \"zerolinewidth\": 2}}}, \"xaxis\": {\"anchor\": \"y\", \"domain\": [0.0, 1.0], \"title\": {\"text\": \"x\"}}, \"yaxis\": {\"anchor\": \"x\", \"domain\": [0.0, 1.0], \"title\": {\"text\": \"y\"}}},                        {\"responsive\": true}                    ).then(function(){\n",
       "                            \n",
       "var gd = document.getElementById('936797dc-d020-44e4-bf57-7c110082cf51');\n",
       "var x = new MutationObserver(function (mutations, observer) {{\n",
       "        var display = window.getComputedStyle(gd).display;\n",
       "        if (!display || display === 'none') {{\n",
       "            console.log([gd, 'removed!']);\n",
       "            Plotly.purge(gd);\n",
       "            observer.disconnect();\n",
       "        }}\n",
       "}});\n",
       "\n",
       "// Listen for the removal of the full notebook cells\n",
       "var notebookContainer = gd.closest('#notebook-container');\n",
       "if (notebookContainer) {{\n",
       "    x.observe(notebookContainer, {childList: true});\n",
       "}}\n",
       "\n",
       "// Listen for the clearing of the current output cell\n",
       "var outputEl = gd.closest('.output');\n",
       "if (outputEl) {{\n",
       "    x.observe(outputEl, {childList: true});\n",
       "}}\n",
       "\n",
       "                        })                };                });            </script>        </div>"
      ]
     },
     "metadata": {},
     "output_type": "display_data"
    }
   ],
   "source": [
    "fig = px.bar(data_director, \n",
    "             x=(data_director.groupby(['director']).revenue.sum().sort_values(ascending=False).values)/1000000000, \n",
    "             y=data_director.groupby(['director']).revenue.sum().sort_values(ascending=False).index)\n",
    "\n",
    "fig.show()"
   ]
  },
  {
   "cell_type": "code",
   "execution_count": 29,
   "metadata": {
    "scrolled": false
   },
   "outputs": [
    {
     "name": "stdout",
     "output_type": "stream",
     "text": [
      "Размер нового датасета: (2053, 18)\n"
     ]
    },
    {
     "data": {
      "text/plain": [
       "<matplotlib.axes._subplots.AxesSubplot at 0x1cf383adbe0>"
      ]
     },
     "execution_count": 29,
     "metadata": {},
     "output_type": "execute_result"
    },
    {
     "data": {
      "image/png": "[encoded data removed]",
      "text/plain": [
       "<Figure size 1440x576 with 1 Axes>"
      ]
     },
     "metadata": {},
     "output_type": "display_data"
    }
   ],
   "source": [
    "# Новый датасет, где в каждой строке в колонке director только один режиссер\n",
    "data_director = data.explode('director') \n",
    "print(\"Размер нового датасета: {}\".format(data_director.shape))\n",
    "\n",
    "# Построим график для первых 15-ти режиссеров по кассовым сборам\n",
    "sns.set(font_scale=2)\n",
    "plt.subplots(figsize=(20, 8))\n",
    "plt.title('Суммарные кассовые сборы, млрд. $')\n",
    "sns.color_palette(\"Set2\")\n",
    "sns.barplot(x=(data_director.groupby(['director']).revenue.sum().sort_values(ascending=False)[:15].values)/1000000000,\n",
    "            y=data_director.groupby(['director']).revenue.sum().sort_values(ascending=False)[:15].index,\n",
    "            palette='Set2', \n",
    "            orient='h')"
   ]
  },
  {
   "cell_type": "code",
   "execution_count": 186,
   "metadata": {},
   "outputs": [
    {
     "data": {
      "text/plain": [
       "director\n",
       "Peter Jackson        6490593685\n",
       "Christopher Nolan    4167548502\n",
       "David Yates          4154295625\n",
       "Michael Bay          3886938960\n",
       "J.J. Abrams          3579169916\n",
       "                        ...    \n",
       "David MichÃ´d           2295423\n",
       "Steven Shainberg        2281089\n",
       "Paul Schrader           2062066\n",
       "Keanu Reeves            2054941\n",
       "Simon Hunter            2033165\n",
       "Name: revenue, Length: 997, dtype: int64"
      ]
     },
     "execution_count": 186,
     "metadata": {},
     "output_type": "execute_result"
    }
   ],
   "source": [
    "data_director.groupby(['director']).revenue.sum().sort_values(ascending=False)"
   ]
  },
  {
   "cell_type": "code",
   "execution_count": 30,
   "metadata": {},
   "outputs": [],
   "source": [
    "answers['13'] = data_director.groupby(['director']).revenue.sum().idxmax() "
   ]
  },
  {
   "cell_type": "markdown",
   "metadata": {
    "colab_type": "text",
    "heading_collapsed": true,
    "id": "PsYC9FgRVp_a"
   },
   "source": [
    "## 14. Какой режисер снял больше всего фильмов в стиле Action?"
   ]
  },
  {
   "cell_type": "code",
   "execution_count": 150,
   "metadata": {
    "colab": {},
    "colab_type": "code",
    "hidden": true,
    "id": "wd2M-wHeVp_b"
   },
   "outputs": [
    {
     "data": {
      "text/plain": [
       "<matplotlib.axes._subplots.AxesSubplot at 0x1d6eacba910>"
      ]
     },
     "execution_count": 150,
     "metadata": {},
     "output_type": "execute_result"
    },
    {
     "data": {
      "image/png": "[encoded data removed]",
      "text/plain": [
       "<Figure size 1440x576 with 1 Axes>"
      ]
     },
     "metadata": {},
     "output_type": "display_data"
    }
   ],
   "source": [
    "data_action = data_genres[data_genres['genres'] == 'Action']\n",
    "data_act_dir = data_action.explode('director')\n",
    "data_act_dir['director'].value_counts()\n",
    "\n",
    "\n",
    "# Построим график для первых 15-ти режиссеров по количеству\n",
    "sns.set(font_scale=2)\n",
    "plt.subplots(figsize=(20, 8))\n",
    "plt.title('Количество фильмов в жанре Action')\n",
    "sns.countplot(y=\"director\", \n",
    "              data=data_act_dir,\n",
    "              order=data_act_dir.director.value_counts()[:15].index,\n",
    "              palette='Set2')"
   ]
  },
  {
   "cell_type": "code",
   "execution_count": 32,
   "metadata": {
    "hidden": true
   },
   "outputs": [],
   "source": [
    "answers['14'] = data_act_dir['director'].value_counts().index[0]  "
   ]
  },
  {
   "cell_type": "markdown",
   "metadata": {
    "colab_type": "text",
    "heading_collapsed": true,
    "id": "PQ0KciD7Vp_f"
   },
   "source": [
    "## 15. Фильмы с каким актером принесли самые высокие кассовые сборы в 2012 году? "
   ]
  },
  {
   "cell_type": "code",
   "execution_count": 201,
   "metadata": {
    "colab": {},
    "colab_type": "code",
    "hidden": true,
    "id": "aga62oeKVp_g"
   },
   "outputs": [
    {
     "name": "stdout",
     "output_type": "stream",
     "text": [
      "Размер нового датасета: (555, 18)\n"
     ]
    },
    {
     "data": {
      "text/plain": [
       "<matplotlib.axes._subplots.AxesSubplot at 0x1d71c13ee50>"
      ]
     },
     "execution_count": 201,
     "metadata": {},
     "output_type": "execute_result"
    },
    {
     "data": {
      "image/png": "[encoded data removed]",
      "text/plain": [
       "<Figure size 1440x576 with 1 Axes>"
      ]
     },
     "metadata": {},
     "output_type": "display_data"
    }
   ],
   "source": [
    "data_2012 = data[data.release_year == 2012].copy()\n",
    "data_cast2012 = data_2012.explode('cast')\n",
    "print(\"Размер нового датасета: {}\".format(data_cast2012.shape))\n",
    "\n",
    "# Построим график для первых 15-ти актёров по кассовым сборам\n",
    "sns.set(font_scale=2)\n",
    "plt.subplots(figsize=(20, 8))\n",
    "plt.title('Суммарные кассовые сборы, млрд. $')\n",
    "sns.color_palette(\"Set2\")\n",
    "sns.barplot(x=data_cast2012.groupby(['cast']).revenue.sum().sort_values(ascending=False)[:15].values/1000000000,\n",
    "            y=data_cast2012.groupby(['cast']).revenue.sum().sort_values(ascending=False)[:15].index,\n",
    "            palette='Set2', \n",
    "            orient='h')"
   ]
  },
  {
   "cell_type": "code",
   "execution_count": 34,
   "metadata": {
    "hidden": true
   },
   "outputs": [],
   "source": [
    "answers['15'] = data_cast2012.groupby(['cast']).revenue.sum().idxmax()  # \"+\""
   ]
  },
  {
   "cell_type": "markdown",
   "metadata": {
    "colab_type": "text",
    "heading_collapsed": true,
    "id": "mWHyyL7QVp_j"
   },
   "source": [
    "## 16. Какой актер снялся в большем количестве высокобюджетных фильмов?"
   ]
  },
  {
   "cell_type": "code",
   "execution_count": 167,
   "metadata": {
    "colab": {},
    "colab_type": "code",
    "hidden": true,
    "id": "qQtmHKTFVp_k"
   },
   "outputs": [
    {
     "data": {
      "text/plain": [
       "<matplotlib.axes._subplots.AxesSubplot at 0x1d70400f1f0>"
      ]
     },
     "execution_count": 167,
     "metadata": {},
     "output_type": "execute_result"
    },
    {
     "data": {
      "image/png": "[encoded data removed]",
      "text/plain": [
       "<Figure size 1440x576 with 1 Axes>"
      ]
     },
     "metadata": {},
     "output_type": "display_data"
    }
   ],
   "source": [
    "data_mome = data[data['budget'] > data['budget'].mean()]  # высокобюджетные - бюджет выше среднего\n",
    "data_cast_mome = data_mome.explode('cast')\n",
    "data_cast_mome['cast'].value_counts()\n",
    "\n",
    "# Построим график для первых 15-ти актёров по cъемках в высокобюджетных фильмах\n",
    "sns.set(font_scale=2)\n",
    "plt.subplots(figsize=(20, 8))\n",
    "plt.xticks(ticks = range(0,20))\n",
    "plt.title('Количество высокобюджетных фильмов')\n",
    "sns.color_palette(\"Set2\")\n",
    "sns.barplot(x=data_cast_mome['cast'].value_counts()[:15].values,\n",
    "            y=data_cast_mome['cast'].value_counts()[:15].index,\n",
    "            palette='Set2',\n",
    "            orient='h')"
   ]
  },
  {
   "cell_type": "code",
   "execution_count": 36,
   "metadata": {
    "hidden": true
   },
   "outputs": [],
   "source": [
    "answers['16'] = data_cast_mome['cast'].value_counts().index[0] "
   ]
  },
  {
   "cell_type": "markdown",
   "metadata": {
    "colab_type": "text",
    "heading_collapsed": true,
    "id": "NIh6AaW5Vp_n"
   },
   "source": [
    "## 17. В фильмах какого жанра больше всего снимался Nicolas Cage? "
   ]
  },
  {
   "cell_type": "code",
   "execution_count": 204,
   "metadata": {
    "colab": {},
    "colab_type": "code",
    "hidden": true,
    "id": "H74SJDIBVp_n"
   },
   "outputs": [
    {
     "data": {
      "text/plain": [
       "<matplotlib.axes._subplots.AxesSubplot at 0x1d71cac0220>"
      ]
     },
     "execution_count": 204,
     "metadata": {},
     "output_type": "execute_result"
    },
    {
     "data": {
      "image/png": "[encoded data removed]",
      "text/plain": [
       "<Figure size 1440x576 with 1 Axes>"
      ]
     },
     "metadata": {},
     "output_type": "display_data"
    }
   ],
   "source": [
    "data_cast = data.explode('cast')\n",
    "data_Cage = data_cast[data_cast['cast'] == 'Nicolas Cage']\n",
    "data_genres_Cage = data_Cage.explode('genres')\n",
    "data_genres_Cage['genres'].value_counts()\n",
    "\n",
    "# Количество фильмов каждого жанра\n",
    "sns.set(font_scale=2)\n",
    "plt.subplots(figsize=(20, 8))\n",
    "plt.xticks(ticks = range(0,20,1))\n",
    "plt.title('Фильмы с участием Николаса Кейджа')\n",
    "sns.color_palette(\"Set2\")\n",
    "sns.barplot(x=data_genres_Cage['genres'].value_counts().values,\n",
    "            y=data_genres_Cage['genres'].value_counts().index,\n",
    "            palette='Set2', \n",
    "            orient='h')"
   ]
  },
  {
   "cell_type": "code",
   "execution_count": 38,
   "metadata": {
    "hidden": true
   },
   "outputs": [],
   "source": [
    "answers['17'] = data_genres_Cage['genres'].value_counts().index[0] "
   ]
  },
  {
   "cell_type": "markdown",
   "metadata": {
    "colab_type": "text",
    "heading_collapsed": true,
    "id": "RqOmPRfWVp_q"
   },
   "source": [
    "## 18. Самый убыточный фильм от Paramount Pictures"
   ]
  },
  {
   "cell_type": "code",
   "execution_count": 222,
   "metadata": {
    "colab": {},
    "colab_type": "code",
    "hidden": true,
    "id": "9E_B0Y96Vp_r"
   },
   "outputs": [
    {
     "data": {
      "text/plain": [
       "<matplotlib.axes._subplots.AxesSubplot at 0x1d7212c8430>"
      ]
     },
     "execution_count": 222,
     "metadata": {},
     "output_type": "execute_result"
    },
    {
     "data": {
      "image/png": "[encoded data removed]",
      "text/plain": [
       "<Figure size 1440x648 with 1 Axes>"
      ]
     },
     "metadata": {},
     "output_type": "display_data"
    }
   ],
   "source": [
    "data_companies = data.explode('production_companies')\n",
    "data_Paramount = data_companies[data_companies['production_companies'] == 'Paramount Pictures']\n",
    "data_Paramount[['original_title', 'profit']].sort_values(['profit'])['original_title']\n",
    "\n",
    "# Построим графикх 15-ти самых убыточных фильмов от Paramount Pictures\n",
    "sns.set(font_scale=1.8)\n",
    "plt.subplots(figsize=(20, 9))\n",
    "plt.xticks(ticks = range(-70,0,5))\n",
    "plt.title('Самые убыточные фильмы от Paramount Pictures, млн. $')\n",
    "sns.color_palette(\"Set2\")\n",
    "sns.barplot(x=(data_Paramount[['original_title', 'profit']].sort_values(['profit'])[:15]['profit'])/1000000,\n",
    "            y=data_Paramount[['original_title', 'profit']].sort_values(['profit'])[:15]['original_title'],\n",
    "            palette='Set2', \n",
    "            orient='h')"
   ]
  },
  {
   "cell_type": "code",
   "execution_count": 40,
   "metadata": {
    "hidden": true
   },
   "outputs": [],
   "source": [
    "answers['18'] = data_Paramount[['original_title', 'profit']].sort_values(['profit'])['original_title'].iloc[0]  "
   ]
  },
  {
   "cell_type": "markdown",
   "metadata": {
    "colab_type": "text",
    "heading_collapsed": true,
    "id": "vS8Ur6ddVp_u"
   },
   "source": [
    "## 19. Какой год стал самым успешным по суммарным кассовым сборам?"
   ]
  },
  {
   "cell_type": "code",
   "execution_count": 227,
   "metadata": {
    "colab": {},
    "colab_type": "code",
    "hidden": true,
    "id": "Dnbt4GdIVp_v"
   },
   "outputs": [
    {
     "data": {
      "text/plain": [
       "<matplotlib.axes._subplots.AxesSubplot at 0x1d72258b430>"
      ]
     },
     "execution_count": 227,
     "metadata": {},
     "output_type": "execute_result"
    },
    {
     "data": {
      "image/png": "[encoded data removed]",
      "text/plain": [
       "<Figure size 1440x648 with 1 Axes>"
      ]
     },
     "metadata": {},
     "output_type": "display_data"
    }
   ],
   "source": [
    "data.groupby('release_year')['revenue'].sum().sort_values(ascending=False)\n",
    "\n",
    "sns.set(font_scale=1.8)\n",
    "plt.subplots(figsize=(20, 9))\n",
    "plt.xticks(ticks = range(0,25,2))\n",
    "plt.title('Суммарные кассовые сборы, млрд. $')\n",
    "sns.color_palette(\"Set2\")\n",
    "sns.barplot(x=data.groupby('release_year')['revenue'].sum().sort_values(ascending=False).values/1000000000,\n",
    "            y=data.groupby('release_year')['revenue'].sum().sort_values(ascending=False).index,\n",
    "            palette='Set2', \n",
    "            orient='h')"
   ]
  },
  {
   "cell_type": "code",
   "execution_count": 42,
   "metadata": {
    "hidden": true
   },
   "outputs": [],
   "source": [
    "answers['19'] = data.groupby('release_year')['revenue'].sum().idxmax()  "
   ]
  },
  {
   "cell_type": "markdown",
   "metadata": {
    "colab_type": "text",
    "id": "JAzJh4QAVp_z"
   },
   "source": [
    "## 20. Какой самый прибыльный год для студии Warner Bros?"
   ]
  },
  {
   "cell_type": "code",
   "execution_count": 245,
   "metadata": {
    "colab": {},
    "colab_type": "code",
    "id": "wgVu02DEVp_0"
   },
   "outputs": [
    {
     "data": {
      "text/plain": [
       "<matplotlib.axes._subplots.AxesSubplot at 0x1d728463280>"
      ]
     },
     "execution_count": 245,
     "metadata": {},
     "output_type": "execute_result"
    },
    {
     "data": {
      "image/png": "[encoded data removed]",
      "text/plain": [
       "<Figure size 1440x576 with 1 Axes>"
      ]
     },
     "metadata": {},
     "output_type": "display_data"
    }
   ],
   "source": [
    "data_Warner = data_companies[data_companies['production_companies'].str.contains(\"Warner\")]\n",
    "data_Warner_profit = data_Warner.groupby(\n",
    "    'release_year')['profit'].sum().sort_values(ascending=False).sort_index()\n",
    "\n",
    "sns.set(font_scale=1.8)\n",
    "plt.subplots(figsize=(20, 8))\n",
    "plt.xticks(ticks=np.arange(0,2.5, 0.25))\n",
    "plt.title('Прибыль студии Warner Bros, млрд. $')\n",
    "sns.color_palette(\"Set2\")\n",
    "sns.barplot(x=data_Warner_profit.values/1000000000,\n",
    "            y=data_Warner_profit.index,\n",
    "            palette='Set2',\n",
    "            orient='h')"
   ]
  },
  {
   "cell_type": "code",
   "execution_count": 44,
   "metadata": {},
   "outputs": [],
   "source": [
    "answers['20'] = data_Warner.groupby('release_year')['profit'].sum().idxmax()"
   ]
  },
  {
   "cell_type": "markdown",
   "metadata": {
    "colab_type": "text",
    "heading_collapsed": true,
    "id": "8Im1S2HRVp_4"
   },
   "source": [
    "## 21. В каком месяце за все годы суммарно вышло больше всего фильмов?"
   ]
  },
  {
   "cell_type": "code",
   "execution_count": 45,
   "metadata": {
    "hidden": true
   },
   "outputs": [
    {
     "data": {
      "text/plain": [
       "September    227\n",
       "December     190\n",
       "October      186\n",
       "August       161\n",
       "March        156\n",
       "April        149\n",
       "June         147\n",
       "November     146\n",
       "July         142\n",
       "May          140\n",
       "February     135\n",
       "January      110\n",
       "Name: month, dtype: int64"
      ]
     },
     "execution_count": 45,
     "metadata": {},
     "output_type": "execute_result"
    }
   ],
   "source": [
    "data['month'].value_counts().sort_values(ascending=False)"
   ]
  },
  {
   "cell_type": "code",
   "execution_count": 46,
   "metadata": {
    "hidden": true
   },
   "outputs": [],
   "source": [
    "answers['21'] = data['month'].value_counts().idxmax()  # \"+\""
   ]
  },
  {
   "cell_type": "markdown",
   "metadata": {
    "colab_type": "text",
    "heading_collapsed": true,
    "id": "uAJsZ_NeVp_7"
   },
   "source": [
    "## 22. Сколько суммарно вышло фильмов летом? (за июнь, июль, август)"
   ]
  },
  {
   "cell_type": "code",
   "execution_count": 47,
   "metadata": {
    "colab": {},
    "colab_type": "code",
    "hidden": true,
    "id": "Aa-hEREoVp_8"
   },
   "outputs": [
    {
     "data": {
      "text/plain": [
       "450"
      ]
     },
     "execution_count": 47,
     "metadata": {},
     "output_type": "execute_result"
    }
   ],
   "source": [
    "data[((data['month'] == 'June')|\n",
    "      (data['month'] == 'July')|\n",
    "      (data['month'] == 'August'))]['imdb_id'].nunique()"
   ]
  },
  {
   "cell_type": "code",
   "execution_count": 48,
   "metadata": {
    "hidden": true
   },
   "outputs": [],
   "source": [
    "answers['22'] = data[((data['month'] == 'June')|\n",
    "                      (data['month'] == 'July')|\n",
    "                      (data['month'] == 'August'))]['imdb_id'].nunique()  # \"+\""
   ]
  },
  {
   "cell_type": "markdown",
   "metadata": {
    "colab_type": "text",
    "heading_collapsed": true,
    "id": "G94ppOY1VqAA"
   },
   "source": [
    "## 23. Для какого режиссера зима – самое продуктивное время года? "
   ]
  },
  {
   "cell_type": "code",
   "execution_count": 49,
   "metadata": {
    "colab": {},
    "colab_type": "code",
    "hidden": true,
    "id": "RhNTsamuVqAB",
    "scrolled": true
   },
   "outputs": [
    {
     "name": "stderr",
     "output_type": "stream",
     "text": [
      "<ipython-input-49-aa56e07c158e>:1: UserWarning: Boolean Series key will be reindexed to match DataFrame index.\n",
      "  data_director[((data['month'] == 'December')|\n"
     ]
    },
    {
     "data": {
      "text/plain": [
       "Peter Jackson        7\n",
       "Clint Eastwood       6\n",
       "Steven Soderbergh    6\n",
       "Adam Shankman        4\n",
       "Shawn Levy           4\n",
       "                    ..\n",
       "David R. Ellis       1\n",
       "Mike Mitchell        1\n",
       "Jessie Nelson        1\n",
       "Seth Rogen           1\n",
       "Joe Roth             1\n",
       "Name: director, Length: 358, dtype: int64"
      ]
     },
     "execution_count": 49,
     "metadata": {},
     "output_type": "execute_result"
    }
   ],
   "source": [
    "data_director[((data['month'] == 'December')|\n",
    "               (data['month'] == 'January')|\n",
    "               (data['month'] == 'February'))]['director'].value_counts()"
   ]
  },
  {
   "cell_type": "code",
   "execution_count": 50,
   "metadata": {
    "hidden": true
   },
   "outputs": [
    {
     "name": "stderr",
     "output_type": "stream",
     "text": [
      "<ipython-input-50-c0d1020768dc>:1: UserWarning: Boolean Series key will be reindexed to match DataFrame index.\n",
      "  answers['23'] = data_director[((data['month'] == 'December')|\n"
     ]
    }
   ],
   "source": [
    "answers['23'] = data_director[((data['month'] == 'December')|\n",
    "                               (data['month'] == 'January')|\n",
    "                               (data['month'] == 'February'))]['director'].value_counts().index[0]"
   ]
  },
  {
   "cell_type": "markdown",
   "metadata": {
    "colab_type": "text",
    "heading_collapsed": true,
    "id": "RBo0JVjVVqAF"
   },
   "source": [
    "## 24. Какая студия дает самые длинные названия своим фильмам по количеству символов?"
   ]
  },
  {
   "cell_type": "code",
   "execution_count": 51,
   "metadata": {
    "hidden": true
   },
   "outputs": [
    {
     "data": {
      "text/plain": [
       "production_companies\n",
       "Four By Two Productions       83.0\n",
       "Jim Henson Company, The       59.0\n",
       "Dos Corazones                 47.0\n",
       "Museum Canada Productions     46.0\n",
       "Polsky Films                  46.0\n",
       "                              ... \n",
       "Everest Entertainment          3.0\n",
       "Berlanti Productions           3.0\n",
       "XM2 Productions                2.0\n",
       "Ixtlan Productions             2.0\n",
       "Global Entertainment Group     2.0\n",
       "Name: len_title, Length: 1771, dtype: float64"
      ]
     },
     "execution_count": 51,
     "metadata": {},
     "output_type": "execute_result"
    }
   ],
   "source": [
    "data_companies.groupby(['production_companies'])['len_title'].mean().sort_values(ascending=False)"
   ]
  },
  {
   "cell_type": "code",
   "execution_count": 52,
   "metadata": {
    "hidden": true
   },
   "outputs": [],
   "source": [
    "answers['24'] = data_companies.groupby(['production_companies'])['len_title'].mean().idxmax()"
   ]
  },
  {
   "cell_type": "markdown",
   "metadata": {
    "colab_type": "text",
    "heading_collapsed": true,
    "id": "9G0hbvR7VqAK"
   },
   "source": [
    "## 25. Описание фильмов какой студии в среднем самые длинные по количеству слов?"
   ]
  },
  {
   "cell_type": "code",
   "execution_count": 53,
   "metadata": {
    "colab": {},
    "colab_type": "code",
    "hidden": true,
    "id": "Ge2GsLNxVqAK"
   },
   "outputs": [
    {
     "data": {
      "text/plain": [
       "production_companies\n",
       "Midnight Picture Show                    175.0\n",
       "Room 9 Entertainment                     161.0\n",
       "Heineken Branded Entertainment           161.0\n",
       "98 MPH Productions                       159.0\n",
       "Brookwell-McNamara Entertainment         156.0\n",
       "                                         ...  \n",
       "London Boulevard                          13.0\n",
       "Phantom Four                              13.0\n",
       "Henceforth                                13.0\n",
       "Empire Pictures                           11.0\n",
       "Motion Picture Corporation of America     11.0\n",
       "Name: words_in_overview, Length: 1771, dtype: float64"
      ]
     },
     "execution_count": 53,
     "metadata": {},
     "output_type": "execute_result"
    }
   ],
   "source": [
    "data_companies.groupby(['production_companies'])['words_in_overview'].mean().sort_values(ascending=False)"
   ]
  },
  {
   "cell_type": "code",
   "execution_count": 54,
   "metadata": {
    "hidden": true
   },
   "outputs": [],
   "source": [
    "answers['25'] = data_companies.groupby(['production_companies'])['words_in_overview'].mean().idxmax()"
   ]
  },
  {
   "cell_type": "markdown",
   "metadata": {
    "colab": {},
    "colab_type": "code",
    "heading_collapsed": true,
    "id": "8qmJVq4CVqAQ"
   },
   "source": [
    "## 26. Какие фильмы входят в 1 процент лучших по рейтингу? \n"
   ]
  },
  {
   "cell_type": "code",
   "execution_count": 55,
   "metadata": {
    "hidden": true,
    "scrolled": true
   },
   "outputs": [
    {
     "data": {
      "text/plain": [
       "9                                          Inside Out\n",
       "34                                               Room\n",
       "118                                      Interstellar\n",
       "119                           Guardians of the Galaxy\n",
       "125                                The Imitation Game\n",
       "128                                         Gone Girl\n",
       "138                          The Grand Budapest Hotel\n",
       "370                                         Inception\n",
       "599                                   The Dark Knight\n",
       "872                                       The Pianist\n",
       "1081    The Lord of the Rings: The Return of the King\n",
       "1183                          The Wolf of Wall Street\n",
       "1191                                 12 Years a Slave\n",
       "1800                                          Memento\n",
       "Name: original_title, dtype: object"
      ]
     },
     "execution_count": 55,
     "metadata": {},
     "output_type": "execute_result"
    }
   ],
   "source": [
    "data[data['vote_average'] > data['vote_average'].quantile(0.99)]['original_title']"
   ]
  },
  {
   "cell_type": "code",
   "execution_count": 56,
   "metadata": {
    "hidden": true
   },
   "outputs": [],
   "source": [
    "answers['26'] = data[data['vote_average'] > data['vote_average'].quantile(0.99)]['original_title']"
   ]
  },
  {
   "cell_type": "markdown",
   "metadata": {
    "colab_type": "text",
    "heading_collapsed": true,
    "id": "MdXsUXbCVqAV"
   },
   "source": [
    "## 27. Какие актеры чаще всего снимаются в одном фильме вместе?\n"
   ]
  },
  {
   "cell_type": "code",
   "execution_count": 57,
   "metadata": {
    "hidden": true
   },
   "outputs": [
    {
     "data": {
      "text/plain": [
       "[(('Daniel Radcliffe', 'Rupert Grint'), 8)]"
      ]
     },
     "execution_count": 57,
     "metadata": {},
     "output_type": "execute_result"
    }
   ],
   "source": [
    "data['pairs'] = data['cast'].apply(lambda x: list(combinations(x,2)))\n",
    "data_pairs = data.explode('pairs')\n",
    "Counter(data_pairs['pairs']).most_common(1)"
   ]
  },
  {
   "cell_type": "code",
   "execution_count": 58,
   "metadata": {
    "hidden": true
   },
   "outputs": [],
   "source": [
    "answers['27'] = Counter(data_pairs['pairs']).most_common(1)[0][0]"
   ]
  },
  {
   "cell_type": "markdown",
   "metadata": {
    "colab_type": "text",
    "id": "U0nONFnGVqAX"
   },
   "source": [
    "# Submission"
   ]
  },
  {
   "cell_type": "code",
   "execution_count": 59,
   "metadata": {
    "colab": {},
    "colab_type": "code",
    "id": "IfcaRO9-VqAX",
    "outputId": "0f132912-32bb-4196-c98c-abfbc4ad5a5f"
   },
   "outputs": [
    {
     "data": {
      "text/plain": [
       "{'1': 'Pirates of the Caribbean: On Stranger Tides',\n",
       " '2': 'Gods and Generals',\n",
       " '3': 'Winnie the Pooh',\n",
       " '4': 109.6585494970884,\n",
       " '5': 107.0,\n",
       " '6': 'Avatar',\n",
       " '7': 'The Lone Ranger',\n",
       " '8': 1478,\n",
       " '9': 'The Dark Knight',\n",
       " '10': 'The Lone Ranger',\n",
       " '11': 'Drama',\n",
       " '12': 'Drama',\n",
       " '13': 'Peter Jackson',\n",
       " '14': 'Robert Rodriguez',\n",
       " '15': 'Chris Hemsworth',\n",
       " '16': 'Matt Damon',\n",
       " '17': 'Action',\n",
       " '18': 'K-19: The Widowmaker',\n",
       " '19': 2015,\n",
       " '20': 2014,\n",
       " '21': 'September',\n",
       " '22': 450,\n",
       " '23': 'Peter Jackson',\n",
       " '24': 'Four By Two Productions',\n",
       " '25': 'Midnight Picture Show',\n",
       " '26': 9                                          Inside Out\n",
       " 34                                               Room\n",
       " 118                                      Interstellar\n",
       " 119                           Guardians of the Galaxy\n",
       " 125                                The Imitation Game\n",
       " 128                                         Gone Girl\n",
       " 138                          The Grand Budapest Hotel\n",
       " 370                                         Inception\n",
       " 599                                   The Dark Knight\n",
       " 872                                       The Pianist\n",
       " 1081    The Lord of the Rings: The Return of the King\n",
       " 1183                          The Wolf of Wall Street\n",
       " 1191                                 12 Years a Slave\n",
       " 1800                                          Memento\n",
       " Name: original_title, dtype: object,\n",
       " '27': ('Daniel Radcliffe', 'Rupert Grint')}"
      ]
     },
     "execution_count": 59,
     "metadata": {},
     "output_type": "execute_result"
    }
   ],
   "source": [
    "answers  # в конце можно посмотреть свои ответы к каждому вопросу"
   ]
  },
  {
   "cell_type": "code",
   "execution_count": 60,
   "metadata": {
    "colab": {},
    "colab_type": "code",
    "id": "SiRmHPl8VqAd"
   },
   "outputs": [
    {
     "data": {
      "text/plain": [
       "27"
      ]
     },
     "execution_count": 60,
     "metadata": {},
     "output_type": "execute_result"
    }
   ],
   "source": [
    "len(answers)  # и убедиться что ни чего не пропустил)"
   ]
  }
 ],
 "metadata": {
  "colab": {
   "name": "Copy of [SF-DST] Movies IMBD v4.1 TEMPLATE.ipynb",
   "provenance": []
  },
  "kernelspec": {
   "display_name": "Python 3",
   "language": "python",
   "name": "python3"
  },
  "language_info": {
   "codemirror_mode": {
    "name": "ipython",
    "version": 3
   },
   "file_extension": ".py",
   "mimetype": "text/x-python",
   "name": "python",
   "nbconvert_exporter": "python",
   "pygments_lexer": "ipython3",
   "version": "3.8.3"
  }
 },
 "nbformat": 4,
 "nbformat_minor": 1
}
