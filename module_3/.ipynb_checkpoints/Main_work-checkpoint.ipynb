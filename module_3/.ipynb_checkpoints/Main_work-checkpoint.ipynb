{
 "cells": [
  {
   "cell_type": "code",
   "execution_count": null,
   "metadata": {},
   "outputs": [],
   "source": [
    "import pandas as pd\n",
    "import numpy as np\n",
    "\n",
    "from sklearn.model_selection import train_test_split\n",
    "\n",
    "import cufflinks as cf\n",
    "from plotly.offline import download_plotlyjs, init_notebook_mode, plot, iplot\n",
    "%matplotlib inline\n",
    "\n",
    "pd.set_option('max_colwidth', 120)\n",
    "pd.set_option('display.width', 500)\n",
    "pd.set_option('display.max_rows', 20)\n",
    "pd.set_option('display.max_columns', 50)\n",
    "\n",
    "df = pd.read_csv('main_task.xls')"
   ]
  },
  {
   "cell_type": "code",
   "execution_count": null,
   "metadata": {},
   "outputs": [],
   "source": []
  },
  {
   "cell_type": "code",
   "execution_count": null,
   "metadata": {},
   "outputs": [],
   "source": [
    "df.info()"
   ]
  },
  {
   "cell_type": "code",
   "execution_count": null,
   "metadata": {
    "scrolled": false
   },
   "outputs": [],
   "source": [
    "df.head(3)"
   ]
  },
  {
   "cell_type": "markdown",
   "metadata": {},
   "source": [
    "---------"
   ]
  },
  {
   "cell_type": "markdown",
   "metadata": {},
   "source": [
    "# Population"
   ]
  },
  {
   "cell_type": "code",
   "execution_count": null,
   "metadata": {
    "scrolled": true
   },
   "outputs": [],
   "source": [
    "# Создам словарь с городами и населением в них (в тыс. человек)\n",
    "population_in_the_сity = {'Paris': 2148, 'Stockholm': 961, 'London': 8908, 'Berlin': 3644, 'Munich': 1471, 'Oporto': 237,\n",
    "                          'Milan': 1378, 'Bratislava': 437, 'Vienna': 1897, 'Rome': 2870, 'Barcelona': 1664, 'Madrid': 3266,\n",
    "                          'Dublin': 1173, 'Brussels': 179, 'Zurich': 428, 'Warsaw': 1790, 'Budapest': 1752, 'Copenhagen': 615,\n",
    "                          'Amsterdam': 872, 'Lyon': 506, 'Hamburg': 1841, 'Lisbon': 505, 'Prague': 1301, 'Oslo': 673,\n",
    "                          'Helsinki': 655, 'Edinburgh': 488, 'Geneva': 200, 'Ljubljana': 284, 'Athens': 664,\n",
    "                          'Luxembourg': 602, 'Krakow': 779}"
   ]
  },
  {
   "cell_type": "code",
   "execution_count": null,
   "metadata": {},
   "outputs": [],
   "source": [
    "df['Population'] = df['City'].apply(lambda x: population_in_the_сity[x])  # Создание столбца с населением в городе"
   ]
  },
  {
   "cell_type": "markdown",
   "metadata": {},
   "source": [
    "-----------"
   ]
  },
  {
   "cell_type": "markdown",
   "metadata": {},
   "source": [
    "# Cuisine Style"
   ]
  },
  {
   "cell_type": "code",
   "execution_count": null,
   "metadata": {
    "scrolled": true
   },
   "outputs": [],
   "source": [
    "df['Cuisine Style'] = df['Cuisine Style'].fillna('[]')\n",
    "df['Cuisine Style'] = df['Cuisine Style'].apply(lambda x: x.replace('[','').replace(']','').replace(\"'\", '').replace(' ',''))\n",
    "df['Cuisine Style'] = df['Cuisine Style'].apply(lambda x: x.split(','))\n",
    "df['Number of kitchen'] = df['Cuisine Style'].apply(lambda x: len(x))"
   ]
  },
  {
   "cell_type": "code",
   "execution_count": null,
   "metadata": {},
   "outputs": [],
   "source": []
  },
  {
   "cell_type": "code",
   "execution_count": null,
   "metadata": {
    "scrolled": false
   },
   "outputs": [],
   "source": [
    "df.sample(3)"
   ]
  },
  {
   "cell_type": "code",
   "execution_count": null,
   "metadata": {},
   "outputs": [],
   "source": [
    "#df['middle_east'] = 0\n",
    "#df['africa'] = 0\n",
    "#df['asia'] = 0\n",
    "#df['europe'] = 0\n",
    "#df['n_america'] = 0\n",
    "#df['s_america'] = 0\n",
    "#df['australia_and_islands'] = 0"
   ]
  },
  {
   "cell_type": "code",
   "execution_count": null,
   "metadata": {},
   "outputs": [],
   "source": [
    "#df['africa'] = df['Cuisine Style'].apply(lambda x: 1 if for i in x: in africa else 0)"
   ]
  },
  {
   "cell_type": "code",
   "execution_count": null,
   "metadata": {},
   "outputs": [],
   "source": [
    "#def ASD():\n",
    " #   for i in df['Cuisine Style']:\n",
    "  #      for j in i:\n",
    "   #         if j in africa:\n",
    "    #            return True"
   ]
  },
  {
   "cell_type": "code",
   "execution_count": null,
   "metadata": {},
   "outputs": [],
   "source": [
    "#cuisine = set()"
   ]
  },
  {
   "cell_type": "code",
   "execution_count": null,
   "metadata": {},
   "outputs": [],
   "source": [
    "#for i in df['Cuisine Style']:\n",
    " #   for j in i:\n",
    "  #      cuisine.add(j)"
   ]
  },
  {
   "cell_type": "code",
   "execution_count": null,
   "metadata": {
    "scrolled": true
   },
   "outputs": [],
   "source": [
    "#display(cuisine)"
   ]
  },
  {
   "cell_type": "code",
   "execution_count": null,
   "metadata": {},
   "outputs": [],
   "source": [
    "middle_east = ['Afghani', 'Arabic', 'Armenian', 'Azerbaijani', 'Caucasian', 'Georgian', 'Lebanese', 'MiddleEastern',\n",
    "               'Pakistani', 'Persian', 'Turkish', 'Uzbek']\n",
    "africa = ['African', 'Egyptian', 'Ethiopian', 'Moroccan', 'Tunisian']\n",
    "asia = ['Asian', 'Bangladeshi', 'Burmese', 'Cambodian', 'CentralAsian', 'Chinese', 'Fujian', 'Indian', 'Japanese', 'Korean',\n",
    "        'MinorityChinese',  'Mongolian', 'Nepali', 'Singaporean', 'SriLankan', 'Sushi', 'Taiwanese', 'Thai', 'Tibetan',\n",
    "        'Vietnamese', 'Xinjiang', 'Yunnan']\n",
    "europe = ['Albanian', 'Austrian', 'Balti', 'Belgian', 'British', 'CentralEuropean', 'Croatian', 'Czech', 'Danish', 'Dutch',\n",
    "          'EasternEuropean', 'European', 'French', 'German', 'Greek', 'Hungarian', 'Irish', 'Israeli', 'Italian', 'Latvian',\n",
    "          'Mediterranean', 'Norwegian', 'Polish', 'Portuguese', 'Romanian', 'Russian', 'Scandinavian', 'Scottish', 'Slovenian',\n",
    "          'Spanish', 'Swedish', 'Swiss', 'Ukrainian', 'Welsh']\n",
    "n_america = ['American', 'Canadian', 'Caribbean', 'CentralAmerican', 'Cuban', 'Jamaican', 'Latin', 'Mexican', 'NativeAmerican',\n",
    "             'Salvadoran', 'SouthAmerican', 'Southwestern']\n",
    "s_america = ['Argentinean', 'Brazilian', 'Chilean',\n",
    "             'Colombian', 'Ecuadorean', 'Peruvian', 'Venezuelan']\n",
    "australia_and_islands = ['Australian', 'Hawaiian', 'Filipino',\n",
    "                         'Indonesian', 'Malaysian', 'NewZealand', 'Polynesian']"
   ]
  },
  {
   "cell_type": "code",
   "execution_count": null,
   "metadata": {},
   "outputs": [],
   "source": [
    "#def create_cuisine(name, region):\n",
    "#    df[name] = df['Cuisine Style'].apply(lambda x: 1 if x in region else 0)"
   ]
  },
  {
   "cell_type": "code",
   "execution_count": null,
   "metadata": {},
   "outputs": [],
   "source": []
  },
  {
   "cell_type": "markdown",
   "metadata": {},
   "source": [
    "----------"
   ]
  },
  {
   "cell_type": "markdown",
   "metadata": {},
   "source": [
    "# Price Range"
   ]
  },
  {
   "cell_type": "code",
   "execution_count": null,
   "metadata": {},
   "outputs": [],
   "source": [
    "df['Price Range'].value_counts()"
   ]
  },
  {
   "cell_type": "code",
   "execution_count": null,
   "metadata": {},
   "outputs": [],
   "source": [
    "df['Price Range'] = df['Price Range'].fillna('$$ - $$$')\n",
    "#df['Price Range'] = df['Price Range'].apply(lambda x: 1 if x == '$' else 2.5 if x == '$$ - $$$' else 4)"
   ]
  },
  {
   "cell_type": "code",
   "execution_count": null,
   "metadata": {},
   "outputs": [],
   "source": [
    "price_df = pd.get_dummies(df['Price Range'])  # Делаем дамми-признаки цен\n",
    "price_df.sample(3)"
   ]
  },
  {
   "cell_type": "code",
   "execution_count": null,
   "metadata": {},
   "outputs": [],
   "source": [
    "df = pd.concat([df, price_df], axis=1)  # Добавляем дамми-цены в таблицу\n",
    "df.sample(3)"
   ]
  },
  {
   "cell_type": "markdown",
   "metadata": {},
   "source": [
    "---------"
   ]
  },
  {
   "cell_type": "markdown",
   "metadata": {},
   "source": [
    "# Reviews"
   ]
  },
  {
   "cell_type": "code",
   "execution_count": 7,
   "metadata": {},
   "outputs": [],
   "source": [
    "import pandas as pd\n",
    "import numpy as np\n",
    "\n",
    "from sklearn.model_selection import train_test_split\n",
    "\n",
    "import cufflinks as cf\n",
    "from plotly.offline import download_plotlyjs, init_notebook_mode, plot, iplot\n",
    "%matplotlib inline\n",
    "\n",
    "pd.set_option('max_colwidth', 120)\n",
    "pd.set_option('display.width', 500)\n",
    "pd.set_option('display.max_rows', 20)\n",
    "pd.set_option('display.max_columns', 50)\n",
    "\n",
    "df = pd.read_csv('main_task.xls')"
   ]
  },
  {
   "cell_type": "code",
   "execution_count": null,
   "metadata": {},
   "outputs": [],
   "source": [
    "#df['Words'] = df['Reviews'].apply(lambda x: x.split('],')[0])\n",
    "#df['Words'] = df['Words'].apply(lambda x: x.replace('[','').replace(\"'\", ''))\n",
    "#df.Words.sample(10)"
   ]
  },
  {
   "cell_type": "code",
   "execution_count": 8,
   "metadata": {},
   "outputs": [
    {
     "data": {
      "text/plain": [
       "0               Good food at your doorstep\n",
       "1                           Unique cuisine\n",
       "2                    Catch up with friends\n",
       "3                                         \n",
       "4        Best place to try a Bavarian food\n",
       "                       ...                \n",
       "39995         The real Italian experience!\n",
       "39996                  Parisian atmosphere\n",
       "39997            Good by swedish standards\n",
       "39998               Underground restaurant\n",
       "39999                              Average\n",
       "Name: Review_1, Length: 40000, dtype: object"
      ]
     },
     "execution_count": 8,
     "metadata": {},
     "output_type": "execute_result"
    }
   ],
   "source": [
    "df['Two_reviews'] = df['Reviews'].apply(lambda x: x.split('],')[0])\n",
    "df['Two_reviews'] = df['Two_reviews'].apply(lambda x: x.split(\"',\"))\n",
    "df['Review_1'] = df['Two_reviews'].apply(lambda x: x[0])\n",
    "df['Review_1'] = df['Review_1'].apply(lambda x: x.replace('[','').replace(\"'\", ''))\n",
    "df['Review_1']"
   ]
  },
  {
   "cell_type": "code",
   "execution_count": 9,
   "metadata": {
    "scrolled": true
   },
   "outputs": [
    {
     "data": {
      "text/plain": [
       "0                               A good hotel restaurant\n",
       "1                               Delicious Nepalese food\n",
       "2                                       Not exceptional\n",
       "3                                                      \n",
       "4          Nice building but improvements need to be...\n",
       "                              ...                      \n",
       "39995              Wonderful food, wonderful experience\n",
       "39996      Bit pricey but interesting decor and good...\n",
       "39997     A hidden jewel in the middle of Västertorp...\n",
       "39998                       Oldest Restaurant in Warsaw\n",
       "39999                                  Nice an informal\n",
       "Name: Review_2, Length: 40000, dtype: object"
      ]
     },
     "execution_count": 9,
     "metadata": {},
     "output_type": "execute_result"
    }
   ],
   "source": [
    "df['Review_2'] = df['Two_reviews'].apply(lambda x: x[-1])\n",
    "df['Review_2'] = df['Review_2'].apply(lambda x: x.replace('[','').replace(\"'\", ''))\n",
    "df['Review_2']"
   ]
  },
  {
   "cell_type": "markdown",
   "metadata": {},
   "source": [
    "-----------"
   ]
  },
  {
   "cell_type": "markdown",
   "metadata": {},
   "source": [
    "# Тональный анализ"
   ]
  },
  {
   "cell_type": "code",
   "execution_count": 2,
   "metadata": {},
   "outputs": [],
   "source": [
    "#Установка и подключение необходимой библиотеки\n",
    "#conda install -c conda-forge textblob\n",
    "\n",
    "from textblob import TextBlob"
   ]
  },
  {
   "cell_type": "code",
   "execution_count": null,
   "metadata": {},
   "outputs": [],
   "source": [
    "#for i in range(30):\n",
    "#    sentence = df.Words[i]\n",
    "#    analysis = TextBlob(sentence).sentiment\n",
    "#    print(df.Words[i])\n",
    "#    print(analysis)\n",
    "#    print()"
   ]
  },
  {
   "cell_type": "code",
   "execution_count": null,
   "metadata": {},
   "outputs": [],
   "source": [
    "#import nltk\n",
    "#nltk.download('movie_reviews')"
   ]
  },
  {
   "cell_type": "code",
   "execution_count": 3,
   "metadata": {},
   "outputs": [
    {
     "data": {
      "text/plain": [
       "Sentiment(polarity=0.7, subjectivity=0.6000000000000001)"
      ]
     },
     "execution_count": 3,
     "metadata": {},
     "output_type": "execute_result"
    }
   ],
   "source": [
    "a = '[[Good food at your doorstep'\n",
    "TextBlob(a).sentiment"
   ]
  },
  {
   "cell_type": "code",
   "execution_count": null,
   "metadata": {},
   "outputs": [],
   "source": [
    "#from textblob.sentiments import NaiveBayesAnalyzer"
   ]
  },
  {
   "cell_type": "code",
   "execution_count": null,
   "metadata": {},
   "outputs": [],
   "source": []
  },
  {
   "cell_type": "markdown",
   "metadata": {},
   "source": [
    " -------"
   ]
  },
  {
   "cell_type": "code",
   "execution_count": null,
   "metadata": {},
   "outputs": [],
   "source": [
    "init_notebook_mode(connected = True)\n",
    "cf.go_offline()"
   ]
  },
  {
   "cell_type": "code",
   "execution_count": null,
   "metadata": {},
   "outputs": [],
   "source": [
    "df['Price Range'].iplot()"
   ]
  },
  {
   "cell_type": "markdown",
   "metadata": {},
   "source": [
    "-------"
   ]
  },
  {
   "cell_type": "markdown",
   "metadata": {},
   "source": [
    "# City"
   ]
  },
  {
   "cell_type": "code",
   "execution_count": null,
   "metadata": {},
   "outputs": [],
   "source": [
    "df.City.unique()  # Список всех городов"
   ]
  },
  {
   "cell_type": "code",
   "execution_count": null,
   "metadata": {},
   "outputs": [],
   "source": [
    "city_df = pd.get_dummies(df.City)  # Делаем дамми-признаки всех городов\n",
    "city_df"
   ]
  },
  {
   "cell_type": "code",
   "execution_count": null,
   "metadata": {},
   "outputs": [],
   "source": [
    "df = pd.concat([df, city_df], axis=1)  # Добавляем дамми-города в таблицу\n",
    "df.sample(3)"
   ]
  },
  {
   "cell_type": "markdown",
   "metadata": {},
   "source": [
    "------------"
   ]
  },
  {
   "cell_type": "markdown",
   "metadata": {},
   "source": [
    "# Удаление и сбор данных"
   ]
  },
  {
   "cell_type": "code",
   "execution_count": null,
   "metadata": {},
   "outputs": [],
   "source": [
    "df = df.drop(['Restaurant_id', 'City', 'Cuisine Style', 'Price Range', 'Reviews', 'URL_TA', 'ID_TA'], axis = 1)\n",
    "df = df.fillna(0)"
   ]
  },
  {
   "cell_type": "code",
   "execution_count": null,
   "metadata": {},
   "outputs": [],
   "source": [
    "X = df.drop(['Rating'], axis = 1)  \n",
    "y = df['Rating'] "
   ]
  },
  {
   "cell_type": "code",
   "execution_count": null,
   "metadata": {},
   "outputs": [],
   "source": [
    "X_train, X_test, y_train, y_test = train_test_split(X, y, test_size=0.25)"
   ]
  },
  {
   "cell_type": "code",
   "execution_count": null,
   "metadata": {},
   "outputs": [],
   "source": [
    "# Импортируем необходимые библиотеки:\n",
    "from sklearn.ensemble import RandomForestRegressor # инструмент для создания и обучения модели\n",
    "from sklearn import metrics # инструменты для оценки точности модели"
   ]
  },
  {
   "cell_type": "code",
   "execution_count": null,
   "metadata": {},
   "outputs": [],
   "source": [
    "# Создаём модель\n",
    "regr = RandomForestRegressor(n_estimators=100)\n",
    "\n",
    "# Обучаем модель на тестовом наборе данных\n",
    "regr.fit(X_train, y_train)\n",
    "\n",
    "# Используем обученную модель для предсказания рейтинга ресторанов в тестовой выборке.\n",
    "# Предсказанные значения записываем в переменную y_pred\n",
    "y_pred = regr.predict(X_test)"
   ]
  },
  {
   "cell_type": "code",
   "execution_count": null,
   "metadata": {},
   "outputs": [],
   "source": [
    "# Сравниваем предсказанные значения (y_pred) с реальными (y_test), и смотрим насколько они в среднем отличаются\n",
    "# Метрика называется Mean Absolute Error (MAE) и показывает среднее отклонение предсказанных значений от фактических.\n",
    "print('MAE:', metrics.mean_absolute_error(y_test, y_pred))"
   ]
  },
  {
   "cell_type": "code",
   "execution_count": null,
   "metadata": {},
   "outputs": [],
   "source": [
    "# Результаты:\n",
    "# Цена заменена на 2.5\n",
    "# Население, дамми-города, кол. кухонь, цены в столбце 0.21535249999999997\n",
    "# Население, дамми-города, кол. кухонь, дамми-цены 0.2134015\n",
    "# \n",
    "# "
   ]
  }
 ],
 "metadata": {
  "kernelspec": {
   "display_name": "Python 3",
   "language": "python",
   "name": "python3"
  },
  "language_info": {
   "codemirror_mode": {
    "name": "ipython",
    "version": 3
   },
   "file_extension": ".py",
   "mimetype": "text/x-python",
   "name": "python",
   "nbconvert_exporter": "python",
   "pygments_lexer": "ipython3",
   "version": "3.8.3"
  },
  "widgets": {
   "application/vnd.jupyter.widget-state+json": {
    "state": {},
    "version_major": 2,
    "version_minor": 0
   }
  }
 },
 "nbformat": 4,
 "nbformat_minor": 4
}
