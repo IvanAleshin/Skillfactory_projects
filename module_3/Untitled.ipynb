{
 "cells": [
  {
   "cell_type": "code",
   "execution_count": 2,
   "metadata": {},
   "outputs": [],
   "source": [
    "import pandas as pd\n",
    "\n",
    "from sklearn.model_selection import train_test_split  # Для разбивки выборки для обучения и теста  \n",
    "\n",
    "pd.set_option('max_colwidth', 120)\n",
    "pd.set_option('display.width', 500)\n",
    "\n",
    "df = pd.read_csv('main_task.xls')"
   ]
  },
  {
   "cell_type": "code",
   "execution_count": null,
   "metadata": {},
   "outputs": [],
   "source": [
    "display(df.sample(10))"
   ]
  },
  {
   "cell_type": "code",
   "execution_count": null,
   "metadata": {},
   "outputs": [],
   "source": [
    "df.info()"
   ]
  },
  {
   "cell_type": "code",
   "execution_count": null,
   "metadata": {},
   "outputs": [],
   "source": [
    "df.iloc[31594]"
   ]
  },
  {
   "cell_type": "code",
   "execution_count": null,
   "metadata": {},
   "outputs": [],
   "source": [
    "df = df.drop(['Restaurant_id', 'City', 'Cuisine Style', 'Price Range', 'Reviews', 'URL_TA', 'ID_TA'], axis = 1)"
   ]
  },
  {
   "cell_type": "code",
   "execution_count": null,
   "metadata": {},
   "outputs": [],
   "source": [
    "df.sample(3)"
   ]
  },
  {
   "cell_type": "code",
   "execution_count": null,
   "metadata": {},
   "outputs": [],
   "source": [
    "df = df.fillna(0)"
   ]
  },
  {
   "cell_type": "code",
   "execution_count": null,
   "metadata": {},
   "outputs": [],
   "source": [
    "df.info()"
   ]
  },
  {
   "cell_type": "markdown",
   "metadata": {},
   "source": [
    "---------------"
   ]
  },
  {
   "cell_type": "code",
   "execution_count": null,
   "metadata": {},
   "outputs": [],
   "source": [
    "X = df.drop(['Rating'], axis = 1)  "
   ]
  },
  {
   "cell_type": "code",
   "execution_count": null,
   "metadata": {
    "scrolled": true
   },
   "outputs": [],
   "source": [
    "X.sample(3)"
   ]
  },
  {
   "cell_type": "code",
   "execution_count": null,
   "metadata": {},
   "outputs": [],
   "source": [
    "y = df['Rating'] "
   ]
  },
  {
   "cell_type": "code",
   "execution_count": null,
   "metadata": {},
   "outputs": [],
   "source": [
    "X_train, X_test, y_train, y_test = train_test_split(X, y, test_size=0.25)"
   ]
  },
  {
   "cell_type": "code",
   "execution_count": null,
   "metadata": {},
   "outputs": [],
   "source": [
    "X_train.sample(3)"
   ]
  },
  {
   "cell_type": "code",
   "execution_count": null,
   "metadata": {},
   "outputs": [],
   "source": [
    "# Импортируем необходимые библиотеки:\n",
    "from sklearn.ensemble import RandomForestRegressor # инструмент для создания и обучения модели\n",
    "from sklearn import metrics # инструменты для оценки точности модели"
   ]
  },
  {
   "cell_type": "code",
   "execution_count": null,
   "metadata": {},
   "outputs": [],
   "source": [
    "# Создаём модель\n",
    "regr = RandomForestRegressor(n_estimators=100)\n",
    "\n",
    "# Обучаем модель на тестовом наборе данных\n",
    "regr.fit(X_train, y_train)\n",
    "\n",
    "# Используем обученную модель для предсказания рейтинга ресторанов в тестовой выборке.\n",
    "# Предсказанные значения записываем в переменную y_pred\n",
    "y_pred = regr.predict(X_test)"
   ]
  },
  {
   "cell_type": "code",
   "execution_count": null,
   "metadata": {},
   "outputs": [],
   "source": [
    "# Сравниваем предсказанные значения (y_pred) с реальными (y_test), и смотрим насколько они в среднем отличаются\n",
    "# Метрика называется Mean Absolute Error (MAE) и показывает среднее отклонение предсказанных значений от фактических.\n",
    "print('MAE:', metrics.mean_absolute_error(y_test, y_pred))"
   ]
  },
  {
   "cell_type": "code",
   "execution_count": null,
   "metadata": {},
   "outputs": [],
   "source": [
    "df.sample(3)"
   ]
  },
  {
   "cell_type": "code",
   "execution_count": null,
   "metadata": {},
   "outputs": [],
   "source": [
    "df['Price Range'].value_counts()"
   ]
  },
  {
   "cell_type": "code",
   "execution_count": 3,
   "metadata": {},
   "outputs": [
    {
     "data": {
      "text/plain": [
       "array(['Paris', 'Stockholm', 'London', 'Berlin', 'Munich', 'Oporto',\n",
       "       'Milan', 'Bratislava', 'Vienna', 'Rome', 'Barcelona', 'Madrid',\n",
       "       'Dublin', 'Brussels', 'Zurich', 'Warsaw', 'Budapest', 'Copenhagen',\n",
       "       'Amsterdam', 'Lyon', 'Hamburg', 'Lisbon', 'Prague', 'Oslo',\n",
       "       'Helsinki', 'Edinburgh', 'Geneva', 'Ljubljana', 'Athens',\n",
       "       'Luxembourg', 'Krakow'], dtype=object)"
      ]
     },
     "execution_count": 3,
     "metadata": {},
     "output_type": "execute_result"
    }
   ],
   "source": [
    "df.City.unique()"
   ]
  },
  {
   "cell_type": "code",
   "execution_count": 4,
   "metadata": {},
   "outputs": [],
   "source": [
    "cuisine = set()"
   ]
  },
  {
   "cell_type": "code",
   "execution_count": 5,
   "metadata": {
    "scrolled": true
   },
   "outputs": [
    {
     "data": {
      "text/html": [
       "<div>\n",
       "<style scoped>\n",
       "    .dataframe tbody tr th:only-of-type {\n",
       "        vertical-align: middle;\n",
       "    }\n",
       "\n",
       "    .dataframe tbody tr th {\n",
       "        vertical-align: top;\n",
       "    }\n",
       "\n",
       "    .dataframe thead th {\n",
       "        text-align: right;\n",
       "    }\n",
       "</style>\n",
       "<table border=\"1\" class=\"dataframe\">\n",
       "  <thead>\n",
       "    <tr style=\"text-align: right;\">\n",
       "      <th></th>\n",
       "      <th>Restaurant_id</th>\n",
       "      <th>City</th>\n",
       "      <th>Cuisine Style</th>\n",
       "      <th>Ranking</th>\n",
       "      <th>Rating</th>\n",
       "      <th>Price Range</th>\n",
       "      <th>Number of Reviews</th>\n",
       "      <th>Reviews</th>\n",
       "      <th>URL_TA</th>\n",
       "      <th>ID_TA</th>\n",
       "    </tr>\n",
       "  </thead>\n",
       "  <tbody>\n",
       "    <tr>\n",
       "      <th>25719</th>\n",
       "      <td>id_4257</td>\n",
       "      <td>Milan</td>\n",
       "      <td>['Italian']</td>\n",
       "      <td>4260.0</td>\n",
       "      <td>4.0</td>\n",
       "      <td>NaN</td>\n",
       "      <td>19.0</td>\n",
       "      <td>[[], []]</td>\n",
       "      <td>/Restaurant_Review-g187849-d2019326-Reviews-Ristorante_Silver-Milan_Lombardy.html</td>\n",
       "      <td>d2019326</td>\n",
       "    </tr>\n",
       "    <tr>\n",
       "      <th>21917</th>\n",
       "      <td>id_5554</td>\n",
       "      <td>Paris</td>\n",
       "      <td>['Asian', 'Thai']</td>\n",
       "      <td>5555.0</td>\n",
       "      <td>3.5</td>\n",
       "      <td>$$ - $$$</td>\n",
       "      <td>82.0</td>\n",
       "      <td>[['Excellent authentic Thai food with gentle...', 'Tasty fresh Thai'], ['03/25/2017', '09/22/2016']]</td>\n",
       "      <td>/Restaurant_Review-g187147-d786640-Reviews-Ban_Som_Tam-Paris_Ile_de_France.html</td>\n",
       "      <td>d786640</td>\n",
       "    </tr>\n",
       "    <tr>\n",
       "      <th>37338</th>\n",
       "      <td>id_14999</td>\n",
       "      <td>London</td>\n",
       "      <td>['American', 'Bar', 'British', 'Pub']</td>\n",
       "      <td>15010.0</td>\n",
       "      <td>3.0</td>\n",
       "      <td>$$ - $$$</td>\n",
       "      <td>243.0</td>\n",
       "      <td>[['Bossy manageress !!', 'Nothing great, but good value'], ['11/25/2017', '10/03/2017']]</td>\n",
       "      <td>/Restaurant_Review-g186338-d1989643-Reviews-Sports_Bar_Grill_Marylebone-London_England.html</td>\n",
       "      <td>d1989643</td>\n",
       "    </tr>\n",
       "  </tbody>\n",
       "</table>\n",
       "</div>"
      ],
      "text/plain": [
       "      Restaurant_id    City                          Cuisine Style  Ranking  Rating Price Range  Number of Reviews                                                                                               Reviews                                                                                       URL_TA     ID_TA\n",
       "25719       id_4257   Milan                            ['Italian']   4260.0     4.0         NaN               19.0                                                                                              [[], []]            /Restaurant_Review-g187849-d2019326-Reviews-Ristorante_Silver-Milan_Lombardy.html  d2019326\n",
       "21917       id_5554   Paris                      ['Asian', 'Thai']   5555.0     3.5    $$ - $$$               82.0  [['Excellent authentic Thai food with gentle...', 'Tasty fresh Thai'], ['03/25/2017', '09/22/2016']]              /Restaurant_Review-g187147-d786640-Reviews-Ban_Som_Tam-Paris_Ile_de_France.html   d786640\n",
       "37338      id_14999  London  ['American', 'Bar', 'British', 'Pub']  15010.0     3.0    $$ - $$$              243.0              [['Bossy manageress !!', 'Nothing great, but good value'], ['11/25/2017', '10/03/2017']]  /Restaurant_Review-g186338-d1989643-Reviews-Sports_Bar_Grill_Marylebone-London_England.html  d1989643"
      ]
     },
     "execution_count": 5,
     "metadata": {},
     "output_type": "execute_result"
    }
   ],
   "source": [
    "df.sample(3)"
   ]
  },
  {
   "cell_type": "code",
   "execution_count": 6,
   "metadata": {},
   "outputs": [
    {
     "data": {
      "text/plain": [
       "0                                                                       ['European', 'French', 'International']\n",
       "1                                                                                                          None\n",
       "2        ['Japanese', 'Sushi', 'Asian', 'Grill', 'Vegetarian Friendly', 'Vegan Options', 'Gluten Free Options']\n",
       "3                                                                                                          None\n",
       "4                                                         ['German', 'Central European', 'Vegetarian Friendly']\n",
       "                                                          ...                                                  \n",
       "39995                                ['Italian', 'Vegetarian Friendly', 'Vegan Options', 'Gluten Free Options']\n",
       "39996                                          ['French', 'American', 'Bar', 'European', 'Vegetarian Friendly']\n",
       "39997                                                                                     ['Japanese', 'Sushi']\n",
       "39998                     ['Polish', 'European', 'Eastern European', 'Central European', 'Vegetarian Friendly']\n",
       "39999                                                                                               ['Spanish']\n",
       "Name: Cuisine Style, Length: 40000, dtype: object"
      ]
     },
     "execution_count": 6,
     "metadata": {},
     "output_type": "execute_result"
    }
   ],
   "source": [
    "df['Cuisine Style'] = df['Cuisine Style'].apply(lambda x: None if pd.isnull(x) else x)\n",
    "df['Cuisine Style']"
   ]
  },
  {
   "cell_type": "code",
   "execution_count": 7,
   "metadata": {},
   "outputs": [],
   "source": [
    "for i in df['Cuisine Style']:\n",
    "    if i != None:\n",
    "        for j in i:\n",
    "            cuisine.add(j)"
   ]
  },
  {
   "cell_type": "code",
   "execution_count": 7,
   "metadata": {},
   "outputs": [
    {
     "data": {
      "text/plain": [
       "0                                                                   ['European', 'French', 'International']\n",
       "1                                                                                                      None\n",
       "2        ['Japanese', 'Sushi', 'Asian', 'Grill', 'VegetarianFriendly', 'VeganOptions', 'GlutenFreeOptions']\n",
       "3                                                                                                      None\n",
       "4                                                       ['German', 'CentralEuropean', 'VegetarianFriendly']\n",
       "                                                        ...                                                \n",
       "39995                                ['Italian', 'VegetarianFriendly', 'VeganOptions', 'GlutenFreeOptions']\n",
       "39996                                       ['French', 'American', 'Bar', 'European', 'VegetarianFriendly']\n",
       "39997                                                                                 ['Japanese', 'Sushi']\n",
       "39998                    ['Polish', 'European', 'EasternEuropean', 'CentralEuropean', 'VegetarianFriendly']\n",
       "39999                                                                                           ['Spanish']\n",
       "Name: Cuisine Style, Length: 40000, dtype: object"
      ]
     },
     "execution_count": 7,
     "metadata": {},
     "output_type": "execute_result"
    }
   ],
   "source": [
    "df['Cuisine Style'] = df['Cuisine Style'].str.replace(']', '')\n",
    "df['Cuisine Style'] = df['Cuisine Style'].str.replace('[', '')\n",
    "df['Cuisine Style'] = df['Cuisine Style'].str.replace(' ', '')\n",
    "df['Cuisine Style'] = df['Cuisine Style'].str.split(',')\n",
    "df['Cuisine Style']"
   ]
  },
  {
   "cell_type": "code",
   "execution_count": 8,
   "metadata": {},
   "outputs": [
    {
     "data": {
      "text/plain": [
       "0                                                                       ['European', 'French', 'International']\n",
       "1                                                                                                          None\n",
       "2        ['Japanese', 'Sushi', 'Asian', 'Grill', 'Vegetarian Friendly', 'Vegan Options', 'Gluten Free Options']\n",
       "3                                                                                                          None\n",
       "4                                                         ['German', 'Central European', 'Vegetarian Friendly']\n",
       "                                                          ...                                                  \n",
       "39995                                ['Italian', 'Vegetarian Friendly', 'Vegan Options', 'Gluten Free Options']\n",
       "39996                                          ['French', 'American', 'Bar', 'European', 'Vegetarian Friendly']\n",
       "39997                                                                                     ['Japanese', 'Sushi']\n",
       "39998                     ['Polish', 'European', 'Eastern European', 'Central European', 'Vegetarian Friendly']\n",
       "39999                                                                                               ['Spanish']\n",
       "Name: Cuisine Style, Length: 40000, dtype: object"
      ]
     },
     "execution_count": 8,
     "metadata": {},
     "output_type": "execute_result"
    }
   ],
   "source": [
    "df['Cuisine Style']"
   ]
  },
  {
   "cell_type": "code",
   "execution_count": 9,
   "metadata": {},
   "outputs": [
    {
     "data": {
      "text/plain": [
       "{' ',\n",
       " '&',\n",
       " \"'\",\n",
       " ',',\n",
       " 'A',\n",
       " 'B',\n",
       " 'C',\n",
       " 'D',\n",
       " 'E',\n",
       " 'F',\n",
       " 'G',\n",
       " 'H',\n",
       " 'I',\n",
       " 'J',\n",
       " 'K',\n",
       " 'L',\n",
       " 'M',\n",
       " 'N',\n",
       " 'O',\n",
       " 'P',\n",
       " 'R',\n",
       " 'S',\n",
       " 'T',\n",
       " 'U',\n",
       " 'V',\n",
       " 'W',\n",
       " 'X',\n",
       " 'Y',\n",
       " 'Z',\n",
       " '[',\n",
       " ']',\n",
       " 'a',\n",
       " 'b',\n",
       " 'c',\n",
       " 'd',\n",
       " 'e',\n",
       " 'f',\n",
       " 'g',\n",
       " 'h',\n",
       " 'i',\n",
       " 'j',\n",
       " 'k',\n",
       " 'l',\n",
       " 'm',\n",
       " 'n',\n",
       " 'o',\n",
       " 'p',\n",
       " 'r',\n",
       " 's',\n",
       " 't',\n",
       " 'u',\n",
       " 'v',\n",
       " 'w',\n",
       " 'x',\n",
       " 'y',\n",
       " 'z'}"
      ]
     },
     "execution_count": 9,
     "metadata": {},
     "output_type": "execute_result"
    }
   ],
   "source": [
    "cuisine"
   ]
  },
  {
   "cell_type": "code",
   "execution_count": null,
   "metadata": {},
   "outputs": [],
   "source": []
  }
 ],
 "metadata": {
  "kernelspec": {
   "display_name": "Python 3",
   "language": "python",
   "name": "python3"
  },
  "language_info": {
   "codemirror_mode": {
    "name": "ipython",
    "version": 3
   },
   "file_extension": ".py",
   "mimetype": "text/x-python",
   "name": "python",
   "nbconvert_exporter": "python",
   "pygments_lexer": "ipython3",
   "version": "3.8.3"
  }
 },
 "nbformat": 4,
 "nbformat_minor": 4
}
