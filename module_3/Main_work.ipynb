{
 "cells": [
  {
   "cell_type": "code",
   "execution_count": 1,
   "metadata": {},
   "outputs": [],
   "source": [
    "import pandas as pd\n",
    "import numpy as np\n",
    "\n",
    "from sklearn.model_selection import train_test_split\n",
    "\n",
    "import cufflinks as cf\n",
    "from plotly.offline import download_plotlyjs, init_notebook_mode, plot, iplot\n",
    "%matplotlib inline\n",
    "\n",
    "pd.set_option('max_colwidth', 120)\n",
    "pd.set_option('display.width', 500)\n",
    "pd.set_option('display.max_rows', 20)\n",
    "pd.set_option('display.max_columns', 50)\n",
    "\n",
    "df = pd.read_csv('main_task.xls')"
   ]
  },
  {
   "cell_type": "code",
   "execution_count": null,
   "metadata": {},
   "outputs": [],
   "source": [
    "df.info()"
   ]
  },
  {
   "cell_type": "code",
   "execution_count": null,
   "metadata": {
    "scrolled": false
   },
   "outputs": [],
   "source": [
    "df.head(3)"
   ]
  },
  {
   "cell_type": "markdown",
   "metadata": {},
   "source": [
    "---------"
   ]
  },
  {
   "cell_type": "markdown",
   "metadata": {},
   "source": [
    "# Population"
   ]
  },
  {
   "cell_type": "code",
   "execution_count": 2,
   "metadata": {
    "scrolled": true
   },
   "outputs": [],
   "source": [
    "# Создам словарь с городами и населением в них (в тыс. человек)\n",
    "population_in_the_сity = {'Paris': 2148, 'Stockholm': 961, 'London': 8908, 'Berlin': 3644, 'Munich': 1471, 'Oporto': 237,\n",
    "                          'Milan': 1378, 'Bratislava': 437, 'Vienna': 1897, 'Rome': 2870, 'Barcelona': 1664, 'Madrid': 3266,\n",
    "                          'Dublin': 1173, 'Brussels': 179, 'Zurich': 428, 'Warsaw': 1790, 'Budapest': 1752, 'Copenhagen': 615,\n",
    "                          'Amsterdam': 872, 'Lyon': 506, 'Hamburg': 1841, 'Lisbon': 505, 'Prague': 1301, 'Oslo': 673,\n",
    "                          'Helsinki': 655, 'Edinburgh': 488, 'Geneva': 200, 'Ljubljana': 284, 'Athens': 664,\n",
    "                          'Luxembourg': 602, 'Krakow': 779}"
   ]
  },
  {
   "cell_type": "code",
   "execution_count": 3,
   "metadata": {},
   "outputs": [],
   "source": [
    "df['Population'] = df['City'].apply(lambda x: population_in_the_сity[x])  # Создание столбца с населением в городе"
   ]
  },
  {
   "cell_type": "markdown",
   "metadata": {},
   "source": [
    "-----------"
   ]
  },
  {
   "cell_type": "markdown",
   "metadata": {},
   "source": [
    "# Cuisine Style"
   ]
  },
  {
   "cell_type": "code",
   "execution_count": 4,
   "metadata": {
    "scrolled": true
   },
   "outputs": [],
   "source": [
    "df['Cuisine Style'] = df['Cuisine Style'].fillna('[]')\n",
    "df['Cuisine Style'] = df['Cuisine Style'].apply(lambda x: x.replace('[','').replace(']','').replace(\"'\", '').replace(' ',''))\n",
    "df['Cuisine Style'] = df['Cuisine Style'].apply(lambda x: x.split(','))\n",
    "df['Number of kitchen'] = df['Cuisine Style'].apply(lambda x: len(x))"
   ]
  },
  {
   "cell_type": "markdown",
   "metadata": {
    "heading_collapsed": true
   },
   "source": [
    "# Дополнительно к кухням"
   ]
  },
  {
   "cell_type": "code",
   "execution_count": null,
   "metadata": {
    "hidden": true,
    "scrolled": false
   },
   "outputs": [],
   "source": [
    "df.sample(3)"
   ]
  },
  {
   "cell_type": "code",
   "execution_count": null,
   "metadata": {
    "hidden": true
   },
   "outputs": [],
   "source": [
    "#df['middle_east'] = 0\n",
    "#df['africa'] = 0\n",
    "#df['asia'] = 0\n",
    "#df['europe'] = 0\n",
    "#df['n_america'] = 0\n",
    "#df['s_america'] = 0\n",
    "#df['australia_and_islands'] = 0"
   ]
  },
  {
   "cell_type": "code",
   "execution_count": null,
   "metadata": {
    "hidden": true
   },
   "outputs": [],
   "source": [
    "#df['africa'] = df['Cuisine Style'].apply(lambda x: 1 if for i in x: in africa else 0)"
   ]
  },
  {
   "cell_type": "code",
   "execution_count": null,
   "metadata": {
    "hidden": true
   },
   "outputs": [],
   "source": [
    "#def ASD():\n",
    " #   for i in df['Cuisine Style']:\n",
    "  #      for j in i:\n",
    "   #         if j in africa:\n",
    "    #            return True"
   ]
  },
  {
   "cell_type": "code",
   "execution_count": null,
   "metadata": {
    "hidden": true
   },
   "outputs": [],
   "source": [
    "#cuisine = set()"
   ]
  },
  {
   "cell_type": "code",
   "execution_count": null,
   "metadata": {
    "hidden": true
   },
   "outputs": [],
   "source": [
    "#for i in df['Cuisine Style']:\n",
    " #   for j in i:\n",
    "  #      cuisine.add(j)"
   ]
  },
  {
   "cell_type": "code",
   "execution_count": null,
   "metadata": {
    "hidden": true,
    "scrolled": true
   },
   "outputs": [],
   "source": [
    "#display(cuisine)"
   ]
  },
  {
   "cell_type": "code",
   "execution_count": null,
   "metadata": {
    "hidden": true
   },
   "outputs": [],
   "source": [
    "middle_east = ['Afghani', 'Arabic', 'Armenian', 'Azerbaijani', 'Caucasian', 'Georgian', 'Lebanese', 'MiddleEastern',\n",
    "               'Pakistani', 'Persian', 'Turkish', 'Uzbek']\n",
    "africa = ['African', 'Egyptian', 'Ethiopian', 'Moroccan', 'Tunisian']\n",
    "asia = ['Asian', 'Bangladeshi', 'Burmese', 'Cambodian', 'CentralAsian', 'Chinese', 'Fujian', 'Indian', 'Japanese', 'Korean',\n",
    "        'MinorityChinese',  'Mongolian', 'Nepali', 'Singaporean', 'SriLankan', 'Sushi', 'Taiwanese', 'Thai', 'Tibetan',\n",
    "        'Vietnamese', 'Xinjiang', 'Yunnan']\n",
    "europe = ['Albanian', 'Austrian', 'Balti', 'Belgian', 'British', 'CentralEuropean', 'Croatian', 'Czech', 'Danish', 'Dutch',\n",
    "          'EasternEuropean', 'European', 'French', 'German', 'Greek', 'Hungarian', 'Irish', 'Israeli', 'Italian', 'Latvian',\n",
    "          'Mediterranean', 'Norwegian', 'Polish', 'Portuguese', 'Romanian', 'Russian', 'Scandinavian', 'Scottish', 'Slovenian',\n",
    "          'Spanish', 'Swedish', 'Swiss', 'Ukrainian', 'Welsh']\n",
    "n_america = ['American', 'Canadian', 'Caribbean', 'CentralAmerican', 'Cuban', 'Jamaican', 'Latin', 'Mexican', 'NativeAmerican',\n",
    "             'Salvadoran', 'SouthAmerican', 'Southwestern']\n",
    "s_america = ['Argentinean', 'Brazilian', 'Chilean',\n",
    "             'Colombian', 'Ecuadorean', 'Peruvian', 'Venezuelan']\n",
    "australia_and_islands = ['Australian', 'Hawaiian', 'Filipino',\n",
    "                         'Indonesian', 'Malaysian', 'NewZealand', 'Polynesian']"
   ]
  },
  {
   "cell_type": "code",
   "execution_count": null,
   "metadata": {
    "hidden": true
   },
   "outputs": [],
   "source": [
    "#def create_cuisine(name, region):\n",
    "#    df[name] = df['Cuisine Style'].apply(lambda x: 1 if x in region else 0)"
   ]
  },
  {
   "cell_type": "markdown",
   "metadata": {
    "hidden": true
   },
   "source": [
    "----------"
   ]
  },
  {
   "cell_type": "markdown",
   "metadata": {},
   "source": [
    "# Price Range"
   ]
  },
  {
   "cell_type": "code",
   "execution_count": null,
   "metadata": {},
   "outputs": [],
   "source": [
    "df['Price Range'].value_counts()"
   ]
  },
  {
   "cell_type": "code",
   "execution_count": 5,
   "metadata": {},
   "outputs": [],
   "source": [
    "df['Price Range'] = df['Price Range'].fillna('$$ - $$$')\n",
    "#df['Price Range'] = df['Price Range'].apply(lambda x: 1 if x == '$' else 2.5 if x == '$$ - $$$' else 4)"
   ]
  },
  {
   "cell_type": "code",
   "execution_count": 6,
   "metadata": {},
   "outputs": [
    {
     "data": {
      "text/html": [
       "<div>\n",
       "<style scoped>\n",
       "    .dataframe tbody tr th:only-of-type {\n",
       "        vertical-align: middle;\n",
       "    }\n",
       "\n",
       "    .dataframe tbody tr th {\n",
       "        vertical-align: top;\n",
       "    }\n",
       "\n",
       "    .dataframe thead th {\n",
       "        text-align: right;\n",
       "    }\n",
       "</style>\n",
       "<table border=\"1\" class=\"dataframe\">\n",
       "  <thead>\n",
       "    <tr style=\"text-align: right;\">\n",
       "      <th></th>\n",
       "      <th>$</th>\n",
       "      <th>$$ - $$$</th>\n",
       "      <th>$$$$</th>\n",
       "    </tr>\n",
       "  </thead>\n",
       "  <tbody>\n",
       "    <tr>\n",
       "      <th>321</th>\n",
       "      <td>0</td>\n",
       "      <td>1</td>\n",
       "      <td>0</td>\n",
       "    </tr>\n",
       "    <tr>\n",
       "      <th>10052</th>\n",
       "      <td>1</td>\n",
       "      <td>0</td>\n",
       "      <td>0</td>\n",
       "    </tr>\n",
       "    <tr>\n",
       "      <th>18119</th>\n",
       "      <td>1</td>\n",
       "      <td>0</td>\n",
       "      <td>0</td>\n",
       "    </tr>\n",
       "  </tbody>\n",
       "</table>\n",
       "</div>"
      ],
      "text/plain": [
       "       $  $$ - $$$  $$$$\n",
       "321    0         1     0\n",
       "10052  1         0     0\n",
       "18119  1         0     0"
      ]
     },
     "execution_count": 6,
     "metadata": {},
     "output_type": "execute_result"
    }
   ],
   "source": [
    "price_df = pd.get_dummies(df['Price Range'])  # Делаем дамми-признаки цен\n",
    "price_df.sample(3)"
   ]
  },
  {
   "cell_type": "code",
   "execution_count": 7,
   "metadata": {},
   "outputs": [
    {
     "data": {
      "text/html": [
       "<div>\n",
       "<style scoped>\n",
       "    .dataframe tbody tr th:only-of-type {\n",
       "        vertical-align: middle;\n",
       "    }\n",
       "\n",
       "    .dataframe tbody tr th {\n",
       "        vertical-align: top;\n",
       "    }\n",
       "\n",
       "    .dataframe thead th {\n",
       "        text-align: right;\n",
       "    }\n",
       "</style>\n",
       "<table border=\"1\" class=\"dataframe\">\n",
       "  <thead>\n",
       "    <tr style=\"text-align: right;\">\n",
       "      <th></th>\n",
       "      <th>Restaurant_id</th>\n",
       "      <th>City</th>\n",
       "      <th>Cuisine Style</th>\n",
       "      <th>Ranking</th>\n",
       "      <th>Rating</th>\n",
       "      <th>Price Range</th>\n",
       "      <th>Number of Reviews</th>\n",
       "      <th>Reviews</th>\n",
       "      <th>URL_TA</th>\n",
       "      <th>ID_TA</th>\n",
       "      <th>Population</th>\n",
       "      <th>Number of kitchen</th>\n",
       "      <th>$</th>\n",
       "      <th>$$ - $$$</th>\n",
       "      <th>$$$$</th>\n",
       "    </tr>\n",
       "  </thead>\n",
       "  <tbody>\n",
       "    <tr>\n",
       "      <th>9615</th>\n",
       "      <td>id_4111</td>\n",
       "      <td>Paris</td>\n",
       "      <td>[French, European, SouthAmerican]</td>\n",
       "      <td>4112.0</td>\n",
       "      <td>4.5</td>\n",
       "      <td>$$ - $$$</td>\n",
       "      <td>19.0</td>\n",
       "      <td>[['Very nice staff', 'Great Food, Drink and Staff!'], ['12/28/2017', '12/20/2017']]</td>\n",
       "      <td>/Restaurant_Review-g187147-d12999266-Reviews-Limon-Paris_Ile_de_France.html</td>\n",
       "      <td>d12999266</td>\n",
       "      <td>2148</td>\n",
       "      <td>3</td>\n",
       "      <td>0</td>\n",
       "      <td>1</td>\n",
       "      <td>0</td>\n",
       "    </tr>\n",
       "    <tr>\n",
       "      <th>27091</th>\n",
       "      <td>id_1943</td>\n",
       "      <td>Lyon</td>\n",
       "      <td>[French]</td>\n",
       "      <td>1944.0</td>\n",
       "      <td>4.0</td>\n",
       "      <td>$$ - $$$</td>\n",
       "      <td>5.0</td>\n",
       "      <td>[[], []]</td>\n",
       "      <td>/Restaurant_Review-g187265-d3774112-Reviews-La_Table_des_Allumes-Lyon_Rhone_Auvergne_Rhone_Alpes.html</td>\n",
       "      <td>d3774112</td>\n",
       "      <td>506</td>\n",
       "      <td>1</td>\n",
       "      <td>0</td>\n",
       "      <td>1</td>\n",
       "      <td>0</td>\n",
       "    </tr>\n",
       "    <tr>\n",
       "      <th>38648</th>\n",
       "      <td>id_6509</td>\n",
       "      <td>Madrid</td>\n",
       "      <td>[]</td>\n",
       "      <td>6512.0</td>\n",
       "      <td>4.0</td>\n",
       "      <td>$$ - $$$</td>\n",
       "      <td>18.0</td>\n",
       "      <td>[['Nothing was good', 'My second home in Madrid'], ['12/10/2017', '08/18/2016']]</td>\n",
       "      <td>/Restaurant_Review-g187514-d987893-Reviews-Cerveceria_Lena_CB-Madrid.html</td>\n",
       "      <td>d987893</td>\n",
       "      <td>3266</td>\n",
       "      <td>1</td>\n",
       "      <td>0</td>\n",
       "      <td>1</td>\n",
       "      <td>0</td>\n",
       "    </tr>\n",
       "  </tbody>\n",
       "</table>\n",
       "</div>"
      ],
      "text/plain": [
       "      Restaurant_id    City                      Cuisine Style  Ranking  Rating Price Range  Number of Reviews                                                                              Reviews                                                                                                 URL_TA      ID_TA  Population  Number of kitchen  $  $$ - $$$  $$$$\n",
       "9615        id_4111   Paris  [French, European, SouthAmerican]   4112.0     4.5    $$ - $$$               19.0  [['Very nice staff', 'Great Food, Drink and Staff!'], ['12/28/2017', '12/20/2017']]                            /Restaurant_Review-g187147-d12999266-Reviews-Limon-Paris_Ile_de_France.html  d12999266        2148                  3  0         1     0\n",
       "27091       id_1943    Lyon                           [French]   1944.0     4.0    $$ - $$$                5.0                                                                             [[], []]  /Restaurant_Review-g187265-d3774112-Reviews-La_Table_des_Allumes-Lyon_Rhone_Auvergne_Rhone_Alpes.html   d3774112         506                  1  0         1     0\n",
       "38648       id_6509  Madrid                                 []   6512.0     4.0    $$ - $$$               18.0     [['Nothing was good', 'My second home in Madrid'], ['12/10/2017', '08/18/2016']]                              /Restaurant_Review-g187514-d987893-Reviews-Cerveceria_Lena_CB-Madrid.html    d987893        3266                  1  0         1     0"
      ]
     },
     "execution_count": 7,
     "metadata": {},
     "output_type": "execute_result"
    }
   ],
   "source": [
    "df = pd.concat([df, price_df], axis=1)  # Добавляем дамми-цены в таблицу\n",
    "df.sample(3)"
   ]
  },
  {
   "cell_type": "markdown",
   "metadata": {},
   "source": [
    "---------"
   ]
  },
  {
   "cell_type": "markdown",
   "metadata": {},
   "source": [
    "# Reviews"
   ]
  },
  {
   "cell_type": "code",
   "execution_count": null,
   "metadata": {},
   "outputs": [],
   "source": [
    "#import pandas as pd\n",
    "#import numpy as np\n",
    "#\n",
    "#from sklearn.model_selection import train_test_split\n",
    "#\n",
    "#import cufflinks as cf\n",
    "#from plotly.offline import download_plotlyjs, init_notebook_mode, plot, iplot\n",
    "#%matplotlib inline\n",
    "#\n",
    "#pd.set_option('max_colwidth', 120)\n",
    "#pd.set_option('display.width', 500)\n",
    "#pd.set_option('display.max_rows', 20)\n",
    "#pd.set_option('display.max_columns', 50)\n",
    "#\n",
    "#df = pd.read_csv('main_task.xls')"
   ]
  },
  {
   "cell_type": "code",
   "execution_count": null,
   "metadata": {},
   "outputs": [],
   "source": [
    "#df['Words'] = df['Reviews'].apply(lambda x: x.split('],')[0])\n",
    "#df['Words'] = df['Words'].apply(lambda x: x.replace('[','').replace(\"'\", ''))\n",
    "#df.Words.sample(10)"
   ]
  },
  {
   "cell_type": "code",
   "execution_count": 8,
   "metadata": {},
   "outputs": [],
   "source": [
    "df['Two_reviews'] = df['Reviews'].apply(lambda x: x.split('],')[0])\n",
    "df['Two_reviews'] = df['Two_reviews'].apply(lambda x: x.split(\"',\"))\n",
    "df['Review_1'] = df['Two_reviews'].apply(lambda x: x[0])\n",
    "df['Review_1'] = df['Review_1'].apply(lambda x: x.replace('[','').replace(\"'\", ''))"
   ]
  },
  {
   "cell_type": "code",
   "execution_count": 9,
   "metadata": {
    "scrolled": true
   },
   "outputs": [],
   "source": [
    "df['Review_2'] = df['Two_reviews'].apply(lambda x: x[-1])\n",
    "df['Review_2'] = df['Review_2'].apply(lambda x: x.replace('[','').replace(\"'\", ''))"
   ]
  },
  {
   "cell_type": "markdown",
   "metadata": {},
   "source": [
    "-----------"
   ]
  },
  {
   "cell_type": "markdown",
   "metadata": {},
   "source": [
    "# Тональный анализ"
   ]
  },
  {
   "cell_type": "code",
   "execution_count": 10,
   "metadata": {},
   "outputs": [],
   "source": [
    "#Установка и подключение необходимой библиотеки\n",
    "#conda install -c conda-forge textblob\n",
    "\n",
    "from textblob import TextBlob"
   ]
  },
  {
   "cell_type": "code",
   "execution_count": 11,
   "metadata": {},
   "outputs": [],
   "source": [
    "df['Review_1'] = df['Review_1'].apply(lambda x: TextBlob(x).polarity)"
   ]
  },
  {
   "cell_type": "code",
   "execution_count": 12,
   "metadata": {},
   "outputs": [],
   "source": [
    "df['Review_2'] = df['Review_2'].apply(lambda x: TextBlob(x).polarity)"
   ]
  },
  {
   "cell_type": "code",
   "execution_count": null,
   "metadata": {},
   "outputs": [],
   "source": [
    "#df['Two_reviews'] = (df['Review_1']+df['Review_2'])/2"
   ]
  },
  {
   "cell_type": "code",
   "execution_count": null,
   "metadata": {},
   "outputs": [],
   "source": [
    "df.sample(3)"
   ]
  },
  {
   "cell_type": "code",
   "execution_count": null,
   "metadata": {},
   "outputs": [],
   "source": [
    "#for i in range(30):\n",
    "#    sentence = df.Words[i]\n",
    "#    analysis = TextBlob(sentence).sentiment\n",
    "#    print(df.Words[i])\n",
    "#    print(analysis)\n",
    "#    print()"
   ]
  },
  {
   "cell_type": "code",
   "execution_count": null,
   "metadata": {},
   "outputs": [],
   "source": [
    "#import nltk\n",
    "#nltk.download('movie_reviews')"
   ]
  },
  {
   "cell_type": "code",
   "execution_count": null,
   "metadata": {},
   "outputs": [],
   "source": [
    "a = '[[Good food at your doorstep'\n",
    "TextBlob(a).sentiment"
   ]
  },
  {
   "cell_type": "code",
   "execution_count": null,
   "metadata": {},
   "outputs": [],
   "source": [
    "#from textblob.sentiments import NaiveBayesAnalyzer"
   ]
  },
  {
   "cell_type": "code",
   "execution_count": null,
   "metadata": {},
   "outputs": [],
   "source": []
  },
  {
   "cell_type": "markdown",
   "metadata": {},
   "source": [
    " -------"
   ]
  },
  {
   "cell_type": "code",
   "execution_count": null,
   "metadata": {},
   "outputs": [],
   "source": [
    "init_notebook_mode(connected = True)\n",
    "cf.go_offline()"
   ]
  },
  {
   "cell_type": "code",
   "execution_count": null,
   "metadata": {},
   "outputs": [],
   "source": [
    "df['Price Range'].iplot()"
   ]
  },
  {
   "cell_type": "markdown",
   "metadata": {},
   "source": [
    "-------"
   ]
  },
  {
   "cell_type": "markdown",
   "metadata": {},
   "source": [
    "# City"
   ]
  },
  {
   "cell_type": "code",
   "execution_count": null,
   "metadata": {},
   "outputs": [],
   "source": [
    "df.City.unique()  # Список всех городов"
   ]
  },
  {
   "cell_type": "code",
   "execution_count": 13,
   "metadata": {},
   "outputs": [
    {
     "data": {
      "text/html": [
       "<div>\n",
       "<style scoped>\n",
       "    .dataframe tbody tr th:only-of-type {\n",
       "        vertical-align: middle;\n",
       "    }\n",
       "\n",
       "    .dataframe tbody tr th {\n",
       "        vertical-align: top;\n",
       "    }\n",
       "\n",
       "    .dataframe thead th {\n",
       "        text-align: right;\n",
       "    }\n",
       "</style>\n",
       "<table border=\"1\" class=\"dataframe\">\n",
       "  <thead>\n",
       "    <tr style=\"text-align: right;\">\n",
       "      <th></th>\n",
       "      <th>Amsterdam</th>\n",
       "      <th>Athens</th>\n",
       "      <th>Barcelona</th>\n",
       "      <th>Berlin</th>\n",
       "      <th>Bratislava</th>\n",
       "      <th>Brussels</th>\n",
       "      <th>Budapest</th>\n",
       "      <th>Copenhagen</th>\n",
       "      <th>Dublin</th>\n",
       "      <th>Edinburgh</th>\n",
       "      <th>Geneva</th>\n",
       "      <th>Hamburg</th>\n",
       "      <th>Helsinki</th>\n",
       "      <th>Krakow</th>\n",
       "      <th>Lisbon</th>\n",
       "      <th>Ljubljana</th>\n",
       "      <th>London</th>\n",
       "      <th>Luxembourg</th>\n",
       "      <th>Lyon</th>\n",
       "      <th>Madrid</th>\n",
       "      <th>Milan</th>\n",
       "      <th>Munich</th>\n",
       "      <th>Oporto</th>\n",
       "      <th>Oslo</th>\n",
       "      <th>Paris</th>\n",
       "      <th>Prague</th>\n",
       "      <th>Rome</th>\n",
       "      <th>Stockholm</th>\n",
       "      <th>Vienna</th>\n",
       "      <th>Warsaw</th>\n",
       "      <th>Zurich</th>\n",
       "    </tr>\n",
       "  </thead>\n",
       "  <tbody>\n",
       "    <tr>\n",
       "      <th>1780</th>\n",
       "      <td>0</td>\n",
       "      <td>0</td>\n",
       "      <td>0</td>\n",
       "      <td>0</td>\n",
       "      <td>0</td>\n",
       "      <td>0</td>\n",
       "      <td>0</td>\n",
       "      <td>1</td>\n",
       "      <td>0</td>\n",
       "      <td>0</td>\n",
       "      <td>0</td>\n",
       "      <td>0</td>\n",
       "      <td>0</td>\n",
       "      <td>0</td>\n",
       "      <td>0</td>\n",
       "      <td>0</td>\n",
       "      <td>0</td>\n",
       "      <td>0</td>\n",
       "      <td>0</td>\n",
       "      <td>0</td>\n",
       "      <td>0</td>\n",
       "      <td>0</td>\n",
       "      <td>0</td>\n",
       "      <td>0</td>\n",
       "      <td>0</td>\n",
       "      <td>0</td>\n",
       "      <td>0</td>\n",
       "      <td>0</td>\n",
       "      <td>0</td>\n",
       "      <td>0</td>\n",
       "      <td>0</td>\n",
       "    </tr>\n",
       "    <tr>\n",
       "      <th>24109</th>\n",
       "      <td>0</td>\n",
       "      <td>0</td>\n",
       "      <td>0</td>\n",
       "      <td>0</td>\n",
       "      <td>0</td>\n",
       "      <td>0</td>\n",
       "      <td>0</td>\n",
       "      <td>0</td>\n",
       "      <td>0</td>\n",
       "      <td>0</td>\n",
       "      <td>1</td>\n",
       "      <td>0</td>\n",
       "      <td>0</td>\n",
       "      <td>0</td>\n",
       "      <td>0</td>\n",
       "      <td>0</td>\n",
       "      <td>0</td>\n",
       "      <td>0</td>\n",
       "      <td>0</td>\n",
       "      <td>0</td>\n",
       "      <td>0</td>\n",
       "      <td>0</td>\n",
       "      <td>0</td>\n",
       "      <td>0</td>\n",
       "      <td>0</td>\n",
       "      <td>0</td>\n",
       "      <td>0</td>\n",
       "      <td>0</td>\n",
       "      <td>0</td>\n",
       "      <td>0</td>\n",
       "      <td>0</td>\n",
       "    </tr>\n",
       "    <tr>\n",
       "      <th>12219</th>\n",
       "      <td>0</td>\n",
       "      <td>0</td>\n",
       "      <td>1</td>\n",
       "      <td>0</td>\n",
       "      <td>0</td>\n",
       "      <td>0</td>\n",
       "      <td>0</td>\n",
       "      <td>0</td>\n",
       "      <td>0</td>\n",
       "      <td>0</td>\n",
       "      <td>0</td>\n",
       "      <td>0</td>\n",
       "      <td>0</td>\n",
       "      <td>0</td>\n",
       "      <td>0</td>\n",
       "      <td>0</td>\n",
       "      <td>0</td>\n",
       "      <td>0</td>\n",
       "      <td>0</td>\n",
       "      <td>0</td>\n",
       "      <td>0</td>\n",
       "      <td>0</td>\n",
       "      <td>0</td>\n",
       "      <td>0</td>\n",
       "      <td>0</td>\n",
       "      <td>0</td>\n",
       "      <td>0</td>\n",
       "      <td>0</td>\n",
       "      <td>0</td>\n",
       "      <td>0</td>\n",
       "      <td>0</td>\n",
       "    </tr>\n",
       "  </tbody>\n",
       "</table>\n",
       "</div>"
      ],
      "text/plain": [
       "       Amsterdam  Athens  Barcelona  Berlin  Bratislava  Brussels  Budapest  Copenhagen  Dublin  Edinburgh  Geneva  Hamburg  Helsinki  Krakow  Lisbon  Ljubljana  London  Luxembourg  Lyon  Madrid  Milan  Munich  Oporto  Oslo  Paris  Prague  Rome  Stockholm  Vienna  Warsaw  Zurich\n",
       "1780           0       0          0       0           0         0         0           1       0          0       0        0         0       0       0          0       0           0     0       0      0       0       0     0      0       0     0          0       0       0       0\n",
       "24109          0       0          0       0           0         0         0           0       0          0       1        0         0       0       0          0       0           0     0       0      0       0       0     0      0       0     0          0       0       0       0\n",
       "12219          0       0          1       0           0         0         0           0       0          0       0        0         0       0       0          0       0           0     0       0      0       0       0     0      0       0     0          0       0       0       0"
      ]
     },
     "execution_count": 13,
     "metadata": {},
     "output_type": "execute_result"
    }
   ],
   "source": [
    "city_df = pd.get_dummies(df.City)  # Делаем дамми-признаки всех городов\n",
    "city_df.sample(3)"
   ]
  },
  {
   "cell_type": "code",
   "execution_count": 14,
   "metadata": {},
   "outputs": [],
   "source": [
    "df = pd.concat([df, city_df], axis=1)  # Добавляем дамми-города в таблицу"
   ]
  },
  {
   "cell_type": "markdown",
   "metadata": {},
   "source": [
    "------------"
   ]
  },
  {
   "cell_type": "markdown",
   "metadata": {},
   "source": [
    "# Удаление и сбор данных"
   ]
  },
  {
   "cell_type": "code",
   "execution_count": 15,
   "metadata": {},
   "outputs": [
    {
     "data": {
      "text/html": [
       "<div>\n",
       "<style scoped>\n",
       "    .dataframe tbody tr th:only-of-type {\n",
       "        vertical-align: middle;\n",
       "    }\n",
       "\n",
       "    .dataframe tbody tr th {\n",
       "        vertical-align: top;\n",
       "    }\n",
       "\n",
       "    .dataframe thead th {\n",
       "        text-align: right;\n",
       "    }\n",
       "</style>\n",
       "<table border=\"1\" class=\"dataframe\">\n",
       "  <thead>\n",
       "    <tr style=\"text-align: right;\">\n",
       "      <th></th>\n",
       "      <th>Restaurant_id</th>\n",
       "      <th>City</th>\n",
       "      <th>Cuisine Style</th>\n",
       "      <th>Ranking</th>\n",
       "      <th>Rating</th>\n",
       "      <th>Price Range</th>\n",
       "      <th>Number of Reviews</th>\n",
       "      <th>Reviews</th>\n",
       "      <th>URL_TA</th>\n",
       "      <th>ID_TA</th>\n",
       "      <th>Population</th>\n",
       "      <th>Number of kitchen</th>\n",
       "      <th>$</th>\n",
       "      <th>$$ - $$$</th>\n",
       "      <th>$$$$</th>\n",
       "      <th>Two_reviews</th>\n",
       "      <th>Review_1</th>\n",
       "      <th>Review_2</th>\n",
       "      <th>Amsterdam</th>\n",
       "      <th>Athens</th>\n",
       "      <th>Barcelona</th>\n",
       "      <th>Berlin</th>\n",
       "      <th>Bratislava</th>\n",
       "      <th>Brussels</th>\n",
       "      <th>Budapest</th>\n",
       "      <th>Copenhagen</th>\n",
       "      <th>Dublin</th>\n",
       "      <th>Edinburgh</th>\n",
       "      <th>Geneva</th>\n",
       "      <th>Hamburg</th>\n",
       "      <th>Helsinki</th>\n",
       "      <th>Krakow</th>\n",
       "      <th>Lisbon</th>\n",
       "      <th>Ljubljana</th>\n",
       "      <th>London</th>\n",
       "      <th>Luxembourg</th>\n",
       "      <th>Lyon</th>\n",
       "      <th>Madrid</th>\n",
       "      <th>Milan</th>\n",
       "      <th>Munich</th>\n",
       "      <th>Oporto</th>\n",
       "      <th>Oslo</th>\n",
       "      <th>Paris</th>\n",
       "      <th>Prague</th>\n",
       "      <th>Rome</th>\n",
       "      <th>Stockholm</th>\n",
       "      <th>Vienna</th>\n",
       "      <th>Warsaw</th>\n",
       "      <th>Zurich</th>\n",
       "    </tr>\n",
       "  </thead>\n",
       "  <tbody>\n",
       "    <tr>\n",
       "      <th>1045</th>\n",
       "      <td>id_2242</td>\n",
       "      <td>Stockholm</td>\n",
       "      <td>[Thai]</td>\n",
       "      <td>2246.0</td>\n",
       "      <td>3.0</td>\n",
       "      <td>$</td>\n",
       "      <td>16.0</td>\n",
       "      <td>[['European style Thai food', 'quickly going down!'], ['08/19/2017', '12/07/2017']]</td>\n",
       "      <td>/Restaurant_Review-g189852-d10444782-Reviews-Mae_Thai_Fridhemsplan-Stockholm.html</td>\n",
       "      <td>d10444782</td>\n",
       "      <td>961</td>\n",
       "      <td>1</td>\n",
       "      <td>1</td>\n",
       "      <td>0</td>\n",
       "      <td>0</td>\n",
       "      <td>[[['European style Thai food,  'quickly going down!']</td>\n",
       "      <td>0.0</td>\n",
       "      <td>0.069444</td>\n",
       "      <td>0</td>\n",
       "      <td>0</td>\n",
       "      <td>0</td>\n",
       "      <td>0</td>\n",
       "      <td>0</td>\n",
       "      <td>0</td>\n",
       "      <td>0</td>\n",
       "      <td>0</td>\n",
       "      <td>0</td>\n",
       "      <td>0</td>\n",
       "      <td>0</td>\n",
       "      <td>0</td>\n",
       "      <td>0</td>\n",
       "      <td>0</td>\n",
       "      <td>0</td>\n",
       "      <td>0</td>\n",
       "      <td>0</td>\n",
       "      <td>0</td>\n",
       "      <td>0</td>\n",
       "      <td>0</td>\n",
       "      <td>0</td>\n",
       "      <td>0</td>\n",
       "      <td>0</td>\n",
       "      <td>0</td>\n",
       "      <td>0</td>\n",
       "      <td>0</td>\n",
       "      <td>0</td>\n",
       "      <td>1</td>\n",
       "      <td>0</td>\n",
       "      <td>0</td>\n",
       "      <td>0</td>\n",
       "    </tr>\n",
       "    <tr>\n",
       "      <th>24065</th>\n",
       "      <td>id_326</td>\n",
       "      <td>Hamburg</td>\n",
       "      <td>[VegetarianFriendly]</td>\n",
       "      <td>327.0</td>\n",
       "      <td>4.0</td>\n",
       "      <td>$$$$</td>\n",
       "      <td>69.0</td>\n",
       "      <td>[['Two tired tourists....', 'Reasonable Prices in a very nice location'], ['09/22/2017', '08/29/2017']]</td>\n",
       "      <td>/Restaurant_Review-g187331-d1112688-Reviews-Wandrahm-Hamburg.html</td>\n",
       "      <td>d1112688</td>\n",
       "      <td>1841</td>\n",
       "      <td>1</td>\n",
       "      <td>0</td>\n",
       "      <td>0</td>\n",
       "      <td>1</td>\n",
       "      <td>[[['Two tired tourists....,  'Reasonable Prices in a very nice location']</td>\n",
       "      <td>-0.4</td>\n",
       "      <td>0.490000</td>\n",
       "      <td>0</td>\n",
       "      <td>0</td>\n",
       "      <td>0</td>\n",
       "      <td>0</td>\n",
       "      <td>0</td>\n",
       "      <td>0</td>\n",
       "      <td>0</td>\n",
       "      <td>0</td>\n",
       "      <td>0</td>\n",
       "      <td>0</td>\n",
       "      <td>0</td>\n",
       "      <td>1</td>\n",
       "      <td>0</td>\n",
       "      <td>0</td>\n",
       "      <td>0</td>\n",
       "      <td>0</td>\n",
       "      <td>0</td>\n",
       "      <td>0</td>\n",
       "      <td>0</td>\n",
       "      <td>0</td>\n",
       "      <td>0</td>\n",
       "      <td>0</td>\n",
       "      <td>0</td>\n",
       "      <td>0</td>\n",
       "      <td>0</td>\n",
       "      <td>0</td>\n",
       "      <td>0</td>\n",
       "      <td>0</td>\n",
       "      <td>0</td>\n",
       "      <td>0</td>\n",
       "      <td>0</td>\n",
       "    </tr>\n",
       "    <tr>\n",
       "      <th>32463</th>\n",
       "      <td>id_3204</td>\n",
       "      <td>Milan</td>\n",
       "      <td>[]</td>\n",
       "      <td>3206.0</td>\n",
       "      <td>4.0</td>\n",
       "      <td>$$ - $$$</td>\n",
       "      <td>22.0</td>\n",
       "      <td>[['Restaurant… Fish only fish... but what fis...'], ['10/14/2014']]</td>\n",
       "      <td>/Restaurant_Review-g187849-d4404704-Reviews-Al_Bicocca_Milano-Milan_Lombardy.html</td>\n",
       "      <td>d4404704</td>\n",
       "      <td>1378</td>\n",
       "      <td>1</td>\n",
       "      <td>0</td>\n",
       "      <td>1</td>\n",
       "      <td>0</td>\n",
       "      <td>[[['Restaurant… Fish only fish... but what fis...']</td>\n",
       "      <td>0.0</td>\n",
       "      <td>0.000000</td>\n",
       "      <td>0</td>\n",
       "      <td>0</td>\n",
       "      <td>0</td>\n",
       "      <td>0</td>\n",
       "      <td>0</td>\n",
       "      <td>0</td>\n",
       "      <td>0</td>\n",
       "      <td>0</td>\n",
       "      <td>0</td>\n",
       "      <td>0</td>\n",
       "      <td>0</td>\n",
       "      <td>0</td>\n",
       "      <td>0</td>\n",
       "      <td>0</td>\n",
       "      <td>0</td>\n",
       "      <td>0</td>\n",
       "      <td>0</td>\n",
       "      <td>0</td>\n",
       "      <td>0</td>\n",
       "      <td>0</td>\n",
       "      <td>1</td>\n",
       "      <td>0</td>\n",
       "      <td>0</td>\n",
       "      <td>0</td>\n",
       "      <td>0</td>\n",
       "      <td>0</td>\n",
       "      <td>0</td>\n",
       "      <td>0</td>\n",
       "      <td>0</td>\n",
       "      <td>0</td>\n",
       "      <td>0</td>\n",
       "    </tr>\n",
       "  </tbody>\n",
       "</table>\n",
       "</div>"
      ],
      "text/plain": [
       "      Restaurant_id       City         Cuisine Style  Ranking  Rating Price Range  Number of Reviews                                                                                                  Reviews                                                                             URL_TA      ID_TA  Population  Number of kitchen  $  $$ - $$$  $$$$                                                                Two_reviews  Review_1  Review_2  Amsterdam  Athens  Barcelona  Berlin  Bratislava  \\\n",
       "1045        id_2242  Stockholm                [Thai]   2246.0     3.0           $               16.0                      [['European style Thai food', 'quickly going down!'], ['08/19/2017', '12/07/2017']]  /Restaurant_Review-g189852-d10444782-Reviews-Mae_Thai_Fridhemsplan-Stockholm.html  d10444782         961                  1  1         0     0                      [[['European style Thai food,  'quickly going down!']       0.0  0.069444          0       0          0       0           0   \n",
       "24065        id_326    Hamburg  [VegetarianFriendly]    327.0     4.0        $$$$               69.0  [['Two tired tourists....', 'Reasonable Prices in a very nice location'], ['09/22/2017', '08/29/2017']]                  /Restaurant_Review-g187331-d1112688-Reviews-Wandrahm-Hamburg.html   d1112688        1841                  1  0         0     1  [[['Two tired tourists....,  'Reasonable Prices in a very nice location']      -0.4  0.490000          0       0          0       0           0   \n",
       "32463       id_3204      Milan                    []   3206.0     4.0    $$ - $$$               22.0                                      [['Restaurant… Fish only fish... but what fis...'], ['10/14/2014']]  /Restaurant_Review-g187849-d4404704-Reviews-Al_Bicocca_Milano-Milan_Lombardy.html   d4404704        1378                  1  0         1     0                        [[['Restaurant… Fish only fish... but what fis...']       0.0  0.000000          0       0          0       0           0   \n",
       "\n",
       "       Brussels  Budapest  Copenhagen  Dublin  Edinburgh  Geneva  Hamburg  Helsinki  Krakow  Lisbon  Ljubljana  London  Luxembourg  Lyon  Madrid  Milan  Munich  Oporto  Oslo  Paris  Prague  Rome  Stockholm  Vienna  Warsaw  Zurich  \n",
       "1045          0         0           0       0          0       0        0         0       0       0          0       0           0     0       0      0       0       0     0      0       0     0          1       0       0       0  \n",
       "24065         0         0           0       0          0       0        1         0       0       0          0       0           0     0       0      0       0       0     0      0       0     0          0       0       0       0  \n",
       "32463         0         0           0       0          0       0        0         0       0       0          0       0           0     0       0      1       0       0     0      0       0     0          0       0       0       0  "
      ]
     },
     "execution_count": 15,
     "metadata": {},
     "output_type": "execute_result"
    }
   ],
   "source": [
    "df.sample(3)"
   ]
  },
  {
   "cell_type": "code",
   "execution_count": 16,
   "metadata": {},
   "outputs": [],
   "source": [
    "#df = df.drop(['Restaurant_id', 'City', 'Cuisine Style', 'Price Range', 'Reviews', 'URL_TA', 'ID_TA', 'Two_reviews',\n",
    "#              'Review_1', 'Review_2'], axis = 1)\n",
    "df = df.drop(['Restaurant_id', 'City', 'Price Range', 'Cuisine Style', 'Reviews', 'URL_TA', 'ID_TA', 'Two_reviews'], axis = 1)\n",
    "df = df.fillna(0)"
   ]
  },
  {
   "cell_type": "code",
   "execution_count": 17,
   "metadata": {},
   "outputs": [
    {
     "data": {
      "text/html": [
       "<div>\n",
       "<style scoped>\n",
       "    .dataframe tbody tr th:only-of-type {\n",
       "        vertical-align: middle;\n",
       "    }\n",
       "\n",
       "    .dataframe tbody tr th {\n",
       "        vertical-align: top;\n",
       "    }\n",
       "\n",
       "    .dataframe thead th {\n",
       "        text-align: right;\n",
       "    }\n",
       "</style>\n",
       "<table border=\"1\" class=\"dataframe\">\n",
       "  <thead>\n",
       "    <tr style=\"text-align: right;\">\n",
       "      <th></th>\n",
       "      <th>Ranking</th>\n",
       "      <th>Rating</th>\n",
       "      <th>Number of Reviews</th>\n",
       "      <th>Population</th>\n",
       "      <th>Number of kitchen</th>\n",
       "      <th>$</th>\n",
       "      <th>$$ - $$$</th>\n",
       "      <th>$$$$</th>\n",
       "      <th>Review_1</th>\n",
       "      <th>Review_2</th>\n",
       "      <th>Amsterdam</th>\n",
       "      <th>Athens</th>\n",
       "      <th>Barcelona</th>\n",
       "      <th>Berlin</th>\n",
       "      <th>Bratislava</th>\n",
       "      <th>Brussels</th>\n",
       "      <th>Budapest</th>\n",
       "      <th>Copenhagen</th>\n",
       "      <th>Dublin</th>\n",
       "      <th>Edinburgh</th>\n",
       "      <th>Geneva</th>\n",
       "      <th>Hamburg</th>\n",
       "      <th>Helsinki</th>\n",
       "      <th>Krakow</th>\n",
       "      <th>Lisbon</th>\n",
       "      <th>Ljubljana</th>\n",
       "      <th>London</th>\n",
       "      <th>Luxembourg</th>\n",
       "      <th>Lyon</th>\n",
       "      <th>Madrid</th>\n",
       "      <th>Milan</th>\n",
       "      <th>Munich</th>\n",
       "      <th>Oporto</th>\n",
       "      <th>Oslo</th>\n",
       "      <th>Paris</th>\n",
       "      <th>Prague</th>\n",
       "      <th>Rome</th>\n",
       "      <th>Stockholm</th>\n",
       "      <th>Vienna</th>\n",
       "      <th>Warsaw</th>\n",
       "      <th>Zurich</th>\n",
       "    </tr>\n",
       "  </thead>\n",
       "  <tbody>\n",
       "    <tr>\n",
       "      <th>11907</th>\n",
       "      <td>915.0</td>\n",
       "      <td>5.0</td>\n",
       "      <td>55.0</td>\n",
       "      <td>8908</td>\n",
       "      <td>5</td>\n",
       "      <td>1</td>\n",
       "      <td>0</td>\n",
       "      <td>0</td>\n",
       "      <td>1.00</td>\n",
       "      <td>1.00</td>\n",
       "      <td>0</td>\n",
       "      <td>0</td>\n",
       "      <td>0</td>\n",
       "      <td>0</td>\n",
       "      <td>0</td>\n",
       "      <td>0</td>\n",
       "      <td>0</td>\n",
       "      <td>0</td>\n",
       "      <td>0</td>\n",
       "      <td>0</td>\n",
       "      <td>0</td>\n",
       "      <td>0</td>\n",
       "      <td>0</td>\n",
       "      <td>0</td>\n",
       "      <td>0</td>\n",
       "      <td>0</td>\n",
       "      <td>1</td>\n",
       "      <td>0</td>\n",
       "      <td>0</td>\n",
       "      <td>0</td>\n",
       "      <td>0</td>\n",
       "      <td>0</td>\n",
       "      <td>0</td>\n",
       "      <td>0</td>\n",
       "      <td>0</td>\n",
       "      <td>0</td>\n",
       "      <td>0</td>\n",
       "      <td>0</td>\n",
       "      <td>0</td>\n",
       "      <td>0</td>\n",
       "      <td>0</td>\n",
       "    </tr>\n",
       "    <tr>\n",
       "      <th>8313</th>\n",
       "      <td>1715.0</td>\n",
       "      <td>3.5</td>\n",
       "      <td>180.0</td>\n",
       "      <td>1378</td>\n",
       "      <td>5</td>\n",
       "      <td>1</td>\n",
       "      <td>0</td>\n",
       "      <td>0</td>\n",
       "      <td>0.70</td>\n",
       "      <td>0.55</td>\n",
       "      <td>0</td>\n",
       "      <td>0</td>\n",
       "      <td>0</td>\n",
       "      <td>0</td>\n",
       "      <td>0</td>\n",
       "      <td>0</td>\n",
       "      <td>0</td>\n",
       "      <td>0</td>\n",
       "      <td>0</td>\n",
       "      <td>0</td>\n",
       "      <td>0</td>\n",
       "      <td>0</td>\n",
       "      <td>0</td>\n",
       "      <td>0</td>\n",
       "      <td>0</td>\n",
       "      <td>0</td>\n",
       "      <td>0</td>\n",
       "      <td>0</td>\n",
       "      <td>0</td>\n",
       "      <td>0</td>\n",
       "      <td>1</td>\n",
       "      <td>0</td>\n",
       "      <td>0</td>\n",
       "      <td>0</td>\n",
       "      <td>0</td>\n",
       "      <td>0</td>\n",
       "      <td>0</td>\n",
       "      <td>0</td>\n",
       "      <td>0</td>\n",
       "      <td>0</td>\n",
       "      <td>0</td>\n",
       "    </tr>\n",
       "    <tr>\n",
       "      <th>28506</th>\n",
       "      <td>645.0</td>\n",
       "      <td>4.0</td>\n",
       "      <td>205.0</td>\n",
       "      <td>3644</td>\n",
       "      <td>4</td>\n",
       "      <td>1</td>\n",
       "      <td>0</td>\n",
       "      <td>0</td>\n",
       "      <td>0.91</td>\n",
       "      <td>1.00</td>\n",
       "      <td>0</td>\n",
       "      <td>0</td>\n",
       "      <td>0</td>\n",
       "      <td>1</td>\n",
       "      <td>0</td>\n",
       "      <td>0</td>\n",
       "      <td>0</td>\n",
       "      <td>0</td>\n",
       "      <td>0</td>\n",
       "      <td>0</td>\n",
       "      <td>0</td>\n",
       "      <td>0</td>\n",
       "      <td>0</td>\n",
       "      <td>0</td>\n",
       "      <td>0</td>\n",
       "      <td>0</td>\n",
       "      <td>0</td>\n",
       "      <td>0</td>\n",
       "      <td>0</td>\n",
       "      <td>0</td>\n",
       "      <td>0</td>\n",
       "      <td>0</td>\n",
       "      <td>0</td>\n",
       "      <td>0</td>\n",
       "      <td>0</td>\n",
       "      <td>0</td>\n",
       "      <td>0</td>\n",
       "      <td>0</td>\n",
       "      <td>0</td>\n",
       "      <td>0</td>\n",
       "      <td>0</td>\n",
       "    </tr>\n",
       "  </tbody>\n",
       "</table>\n",
       "</div>"
      ],
      "text/plain": [
       "       Ranking  Rating  Number of Reviews  Population  Number of kitchen  $  $$ - $$$  $$$$  Review_1  Review_2  Amsterdam  Athens  Barcelona  Berlin  Bratislava  Brussels  Budapest  Copenhagen  Dublin  Edinburgh  Geneva  Hamburg  Helsinki  Krakow  Lisbon  Ljubljana  London  Luxembourg  Lyon  Madrid  Milan  Munich  Oporto  Oslo  Paris  Prague  Rome  Stockholm  Vienna  Warsaw  Zurich\n",
       "11907    915.0     5.0               55.0        8908                  5  1         0     0      1.00      1.00          0       0          0       0           0         0         0           0       0          0       0        0         0       0       0          0       1           0     0       0      0       0       0     0      0       0     0          0       0       0       0\n",
       "8313    1715.0     3.5              180.0        1378                  5  1         0     0      0.70      0.55          0       0          0       0           0         0         0           0       0          0       0        0         0       0       0          0       0           0     0       0      1       0       0     0      0       0     0          0       0       0       0\n",
       "28506    645.0     4.0              205.0        3644                  4  1         0     0      0.91      1.00          0       0          0       1           0         0         0           0       0          0       0        0         0       0       0          0       0           0     0       0      0       0       0     0      0       0     0          0       0       0       0"
      ]
     },
     "execution_count": 17,
     "metadata": {},
     "output_type": "execute_result"
    }
   ],
   "source": [
    "df.sample(3)"
   ]
  },
  {
   "cell_type": "code",
   "execution_count": 18,
   "metadata": {},
   "outputs": [],
   "source": [
    "X = df.drop(['Rating'], axis = 1)  \n",
    "y = df['Rating'] "
   ]
  },
  {
   "cell_type": "code",
   "execution_count": 19,
   "metadata": {},
   "outputs": [],
   "source": [
    "X_train, X_test, y_train, y_test = train_test_split(X, y, test_size=0.25)"
   ]
  },
  {
   "cell_type": "code",
   "execution_count": 20,
   "metadata": {},
   "outputs": [],
   "source": [
    "# Импортируем необходимые библиотеки:\n",
    "from sklearn.ensemble import RandomForestRegressor # инструмент для создания и обучения модели\n",
    "from sklearn import metrics # инструменты для оценки точности модели"
   ]
  },
  {
   "cell_type": "code",
   "execution_count": 21,
   "metadata": {},
   "outputs": [],
   "source": [
    "# Создаём модель\n",
    "regr = RandomForestRegressor(n_estimators=100)\n",
    "\n",
    "# Обучаем модель на тестовом наборе данных\n",
    "regr.fit(X_train, y_train)\n",
    "\n",
    "# Используем обученную модель для предсказания рейтинга ресторанов в тестовой выборке.\n",
    "# Предсказанные значения записываем в переменную y_pred\n",
    "y_pred = regr.predict(X_test)"
   ]
  },
  {
   "cell_type": "code",
   "execution_count": 22,
   "metadata": {},
   "outputs": [
    {
     "name": "stdout",
     "output_type": "stream",
     "text": [
      "MAE: 0.212815\n"
     ]
    }
   ],
   "source": [
    "# Сравниваем предсказанные значения (y_pred) с реальными (y_test), и смотрим насколько они в среднем отличаются\n",
    "# Метрика называется Mean Absolute Error (MAE) и показывает среднее отклонение предсказанных значений от фактических.\n",
    "print('MAE:', metrics.mean_absolute_error(y_test, y_pred))"
   ]
  },
  {
   "cell_type": "code",
   "execution_count": null,
   "metadata": {},
   "outputs": [],
   "source": [
    "# Результаты:\n",
    "# Цена заменена на 2.5 или на $$-$$$\n",
    "# Население, дамми-города, кол. кухонь, цены в столбце 0.212993\n",
    "# Население, дамми-города, кол. кухонь, дамми-цены 0.21267799999999998\n",
    "# Население, дамми-города, кол.кухонь, две рецензии 0.2092545\n",
    "# Население, дамми-города, кол.кухонь, две рецензии, дамми-цены 0.20769 (0.212815)\n",
    "# Население, дамми-города, кол.кухонь, две рецензии, цены в столбце 0.21114349999999998\n",
    "# Население, дамми-города, кол.кухонь, одна средняя рецензия 0.212187\n",
    "# Население, дамми-города, кол.кухонь, одна средняя рецензия, дамми-цены 0.21217249999999999\n",
    "# Население, дамми-города, кол.кухонь, одна средняя рецензия, цены в столбце 0.21305249999999995"
   ]
  }
 ],
 "metadata": {
  "kernelspec": {
   "display_name": "Python 3",
   "language": "python",
   "name": "python3"
  },
  "language_info": {
   "codemirror_mode": {
    "name": "ipython",
    "version": 3
   },
   "file_extension": ".py",
   "mimetype": "text/x-python",
   "name": "python",
   "nbconvert_exporter": "python",
   "pygments_lexer": "ipython3",
   "version": "3.8.3"
  },
  "widgets": {
   "application/vnd.jupyter.widget-state+json": {
    "state": {},
    "version_major": 2,
    "version_minor": 0
   }
  }
 },
 "nbformat": 4,
 "nbformat_minor": 4
}
