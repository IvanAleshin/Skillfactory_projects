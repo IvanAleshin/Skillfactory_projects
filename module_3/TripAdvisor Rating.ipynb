{
 "cells": [
  {
   "cell_type": "markdown",
   "metadata": {},
   "source": [
    "# Predict TripAdvisor Rating\n",
    "В этом соревновании нам предстоит предсказать рейтинг ресторана в TripAdvisor\n",
    "\n",
    "\n",
    "По ходу задачи:\n",
    "* Просмотрим данные, которые предоставили\n",
    "* Сделаем предобработку \n",
    "* Поработаем с пропущенными данными (Nan)\n",
    "* Сгенерируем новые признаки (Feature Engineering) разными способами\n",
    "* Создадим простую модель для предсказания рейтинга ресторана"
   ]
  },
  {
   "cell_type": "markdown",
   "metadata": {},
   "source": [
    "*-Всё что написано курсивом - пояснения именно моего процесса работы над этим проектом. Часть кода у меня закомментировано именно для того, что каждый мог самостоятельно проверить некоторые варианты решения поставленной задачи и убедиться, что в конечном результате я использовал данные, которые давали наимеший MEA (т.е действительно проверял разные варианты). Кое где у меня возникли спорные моменты-вопросы-*"
   ]
  },
  {
   "cell_type": "markdown",
   "metadata": {},
   "source": [
    "# import"
   ]
  },
  {
   "cell_type": "code",
   "execution_count": 1,
   "metadata": {
    "_cell_guid": "b1076dfc-b9ad-4769-8c92-a6c4dae69d19",
    "_uuid": "8f2839f25d086af736a60e9eeb907d3b93b6e0e5"
   },
   "outputs": [
    {
     "name": "stdout",
     "output_type": "stream",
     "text": [
      "/kaggle/input/sf-dst-restaurant-rating/sample_submission.csv\n",
      "/kaggle/input/sf-dst-restaurant-rating/main_task.csv\n",
      "/kaggle/input/sf-dst-restaurant-rating/kaggle_task.csv\n"
     ]
    }
   ],
   "source": [
    "# Импортируем необходимые модули\n",
    "import os\n",
    "from sklearn.model_selection import train_test_split \n",
    "from sklearn.preprocessing import PolynomialFeatures  # Для полиномиальных признаков\n",
    "import numpy as np\n",
    "import pandas as pd\n",
    "from datetime import datetime, timedelta\n",
    "from textblob import TextBlob  # Для определения тональности отзывов\n",
    "import matplotlib.pyplot as plt\n",
    "import seaborn as sns\n",
    "%matplotlib inline\n",
    "\n",
    "# Настройки для более комфортного отображения таблиц\n",
    "pd.set_option('max_colwidth', 120)\n",
    "pd.set_option('display.width', 500)\n",
    "pd.set_option('display.max_rows', 40)\n",
    "pd.set_option('display.max_columns', 50)\n",
    "\n",
    "# Просмотр файлов в директории\n",
    "for dirname, _, filenames in os.walk('/kaggle/input'):\n",
    "    for filename in filenames:\n",
    "        print(os.path.join(dirname, filename))"
   ]
  },
  {
   "cell_type": "code",
   "execution_count": 2,
   "metadata": {},
   "outputs": [],
   "source": [
    "# Фиксируем RANDOM_SEED, чтобы эксперименты были воспроизводимы!\n",
    "RANDOM_SEED = 42"
   ]
  },
  {
   "cell_type": "code",
   "execution_count": 3,
   "metadata": {},
   "outputs": [],
   "source": [
    "# Зафиксируем версию пакетов, чтобы эксперименты были воспроизводимы\n",
    "!pip freeze > requirements.txt"
   ]
  },
  {
   "cell_type": "markdown",
   "metadata": {},
   "source": [
    "# Вспомогательные функции"
   ]
  },
  {
   "cell_type": "code",
   "execution_count": 4,
   "metadata": {},
   "outputs": [],
   "source": [
    "def creatre_columns_NAN(data, list_columns):\n",
    "    \"\"\"На вход подаётся список колонок и ДФ, для которых создаются новые колонки с нулями и единицами,\n",
    "    где 1 - в месте пропуска\"\"\"\n",
    "    data_Nan = pd.DataFrame()\n",
    "    for i in list_columns:\n",
    "        data_Nan[i+'_is_NAN'] = pd.isna(data[i]).astype('uint8')\n",
    "    return data_Nan"
   ]
  },
  {
   "cell_type": "markdown",
   "metadata": {},
   "source": [
    "# Данные"
   ]
  },
  {
   "cell_type": "markdown",
   "metadata": {},
   "source": [
    "Открываем файлы, смотрим что из себя представляют"
   ]
  },
  {
   "cell_type": "code",
   "execution_count": 5,
   "metadata": {
    "_cell_guid": "79c7e3d0-c299-4dcb-8224-4455121ee9b0",
    "_uuid": "d629ff2d2480ee46fbb7e2d37f6b5fab8052498a"
   },
   "outputs": [],
   "source": [
    "DATA_DIR = '/kaggle/input/sf-dst-restaurant-rating/'\n",
    "df_train = pd.read_csv(DATA_DIR+'/main_task.csv')\n",
    "df_test = pd.read_csv(DATA_DIR+'kaggle_task.csv')\n",
    "sample_submission = pd.read_csv(DATA_DIR+'/sample_submission.csv')"
   ]
  },
  {
   "cell_type": "code",
   "execution_count": 6,
   "metadata": {},
   "outputs": [
    {
     "name": "stdout",
     "output_type": "stream",
     "text": [
      "<class 'pandas.core.frame.DataFrame'>\n",
      "RangeIndex: 40000 entries, 0 to 39999\n",
      "Data columns (total 10 columns):\n",
      "Restaurant_id        40000 non-null object\n",
      "City                 40000 non-null object\n",
      "Cuisine Style        30717 non-null object\n",
      "Ranking              40000 non-null float64\n",
      "Rating               40000 non-null float64\n",
      "Price Range          26114 non-null object\n",
      "Number of Reviews    37457 non-null float64\n",
      "Reviews              40000 non-null object\n",
      "URL_TA               40000 non-null object\n",
      "ID_TA                40000 non-null object\n",
      "dtypes: float64(3), object(7)\n",
      "memory usage: 3.1+ MB\n"
     ]
    }
   ],
   "source": [
    "df_train.info()"
   ]
  },
  {
   "cell_type": "code",
   "execution_count": 7,
   "metadata": {},
   "outputs": [
    {
     "data": {
      "text/html": [
       "<div>\n",
       "<style scoped>\n",
       "    .dataframe tbody tr th:only-of-type {\n",
       "        vertical-align: middle;\n",
       "    }\n",
       "\n",
       "    .dataframe tbody tr th {\n",
       "        vertical-align: top;\n",
       "    }\n",
       "\n",
       "    .dataframe thead th {\n",
       "        text-align: right;\n",
       "    }\n",
       "</style>\n",
       "<table border=\"1\" class=\"dataframe\">\n",
       "  <thead>\n",
       "    <tr style=\"text-align: right;\">\n",
       "      <th></th>\n",
       "      <th>Restaurant_id</th>\n",
       "      <th>City</th>\n",
       "      <th>Cuisine Style</th>\n",
       "      <th>Ranking</th>\n",
       "      <th>Rating</th>\n",
       "      <th>Price Range</th>\n",
       "      <th>Number of Reviews</th>\n",
       "      <th>Reviews</th>\n",
       "      <th>URL_TA</th>\n",
       "      <th>ID_TA</th>\n",
       "    </tr>\n",
       "  </thead>\n",
       "  <tbody>\n",
       "    <tr>\n",
       "      <th>3758</th>\n",
       "      <td>id_2821</td>\n",
       "      <td>Rome</td>\n",
       "      <td>['Italian', 'Mediterranean']</td>\n",
       "      <td>2822.0</td>\n",
       "      <td>4.0</td>\n",
       "      <td>$</td>\n",
       "      <td>150.0</td>\n",
       "      <td>[['Very surprised', 'Great selection, Fresh and good service'], ['08/23/2016', '06/26/2016']]</td>\n",
       "      <td>/Restaurant_Review-g187791-d3528375-Reviews-Mondo_Arancina-Rome_Lazio.html</td>\n",
       "      <td>d3528375</td>\n",
       "    </tr>\n",
       "    <tr>\n",
       "      <th>36377</th>\n",
       "      <td>id_482</td>\n",
       "      <td>Prague</td>\n",
       "      <td>['American', 'Bar', 'European', 'Vegetarian Friendly']</td>\n",
       "      <td>483.0</td>\n",
       "      <td>4.0</td>\n",
       "      <td>$$ - $$$</td>\n",
       "      <td>93.0</td>\n",
       "      <td>[['Just the job!', 'Cool, open, relaxed'], ['01/04/2018', '11/10/2017']]</td>\n",
       "      <td>/Restaurant_Review-g274707-d10536211-Reviews-Blackdog_Cantina-Prague_Bohemia.html</td>\n",
       "      <td>d10536211</td>\n",
       "    </tr>\n",
       "    <tr>\n",
       "      <th>19338</th>\n",
       "      <td>id_671</td>\n",
       "      <td>Milan</td>\n",
       "      <td>['Lebanese', 'Mediterranean', 'Vegetarian Friendly', 'Vegan Options', 'Gluten Free Options']</td>\n",
       "      <td>673.0</td>\n",
       "      <td>4.0</td>\n",
       "      <td>$$ - $$$</td>\n",
       "      <td>134.0</td>\n",
       "      <td>[['Nice ladies’ night out', 'Lunch with friends'], ['01/06/2018', '04/10/2017']]</td>\n",
       "      <td>/Restaurant_Review-g187849-d12059326-Reviews-Ristorante_Fairouz-Milan_Lombardy.html</td>\n",
       "      <td>d12059326</td>\n",
       "    </tr>\n",
       "  </tbody>\n",
       "</table>\n",
       "</div>"
      ],
      "text/plain": [
       "      Restaurant_id    City                                                                                 Cuisine Style  Ranking  Rating Price Range  Number of Reviews                                                                                        Reviews                                                                               URL_TA      ID_TA\n",
       "3758        id_2821    Rome                                                                  ['Italian', 'Mediterranean']   2822.0     4.0           $              150.0  [['Very surprised', 'Great selection, Fresh and good service'], ['08/23/2016', '06/26/2016']]           /Restaurant_Review-g187791-d3528375-Reviews-Mondo_Arancina-Rome_Lazio.html   d3528375\n",
       "36377        id_482  Prague                                        ['American', 'Bar', 'European', 'Vegetarian Friendly']    483.0     4.0    $$ - $$$               93.0                       [['Just the job!', 'Cool, open, relaxed'], ['01/04/2018', '11/10/2017']]    /Restaurant_Review-g274707-d10536211-Reviews-Blackdog_Cantina-Prague_Bohemia.html  d10536211\n",
       "19338        id_671   Milan  ['Lebanese', 'Mediterranean', 'Vegetarian Friendly', 'Vegan Options', 'Gluten Free Options']    673.0     4.0    $$ - $$$              134.0               [['Nice ladies’ night out', 'Lunch with friends'], ['01/06/2018', '04/10/2017']]  /Restaurant_Review-g187849-d12059326-Reviews-Ristorante_Fairouz-Milan_Lombardy.html  d12059326"
      ]
     },
     "execution_count": 7,
     "metadata": {},
     "output_type": "execute_result"
    }
   ],
   "source": [
    "df_train.sample(3)"
   ]
  },
  {
   "cell_type": "code",
   "execution_count": 8,
   "metadata": {},
   "outputs": [
    {
     "name": "stdout",
     "output_type": "stream",
     "text": [
      "<class 'pandas.core.frame.DataFrame'>\n",
      "RangeIndex: 10000 entries, 0 to 9999\n",
      "Data columns (total 9 columns):\n",
      "Restaurant_id        10000 non-null object\n",
      "City                 10000 non-null object\n",
      "Cuisine Style        7693 non-null object\n",
      "Ranking              10000 non-null float64\n",
      "Price Range          6525 non-null object\n",
      "Number of Reviews    9343 non-null float64\n",
      "Reviews              9998 non-null object\n",
      "URL_TA               10000 non-null object\n",
      "ID_TA                10000 non-null object\n",
      "dtypes: float64(2), object(7)\n",
      "memory usage: 703.2+ KB\n"
     ]
    }
   ],
   "source": [
    "df_test.info()"
   ]
  },
  {
   "cell_type": "code",
   "execution_count": 9,
   "metadata": {},
   "outputs": [
    {
     "data": {
      "text/html": [
       "<div>\n",
       "<style scoped>\n",
       "    .dataframe tbody tr th:only-of-type {\n",
       "        vertical-align: middle;\n",
       "    }\n",
       "\n",
       "    .dataframe tbody tr th {\n",
       "        vertical-align: top;\n",
       "    }\n",
       "\n",
       "    .dataframe thead th {\n",
       "        text-align: right;\n",
       "    }\n",
       "</style>\n",
       "<table border=\"1\" class=\"dataframe\">\n",
       "  <thead>\n",
       "    <tr style=\"text-align: right;\">\n",
       "      <th></th>\n",
       "      <th>Restaurant_id</th>\n",
       "      <th>City</th>\n",
       "      <th>Cuisine Style</th>\n",
       "      <th>Ranking</th>\n",
       "      <th>Price Range</th>\n",
       "      <th>Number of Reviews</th>\n",
       "      <th>Reviews</th>\n",
       "      <th>URL_TA</th>\n",
       "      <th>ID_TA</th>\n",
       "    </tr>\n",
       "  </thead>\n",
       "  <tbody>\n",
       "    <tr>\n",
       "      <th>5729</th>\n",
       "      <td>id_5729</td>\n",
       "      <td>Prague</td>\n",
       "      <td>['Asian']</td>\n",
       "      <td>3636.0</td>\n",
       "      <td>NaN</td>\n",
       "      <td>4.0</td>\n",
       "      <td>[['Dont bother!', 'Great discover'], ['10/10/2017', '05/02/2016']]</td>\n",
       "      <td>/Restaurant_Review-g274707-d7123906-Reviews-Yuan_Zhong_Yuan-Prague_Bohemia.html</td>\n",
       "      <td>d7123906</td>\n",
       "    </tr>\n",
       "    <tr>\n",
       "      <th>9112</th>\n",
       "      <td>id_9112</td>\n",
       "      <td>Madrid</td>\n",
       "      <td>NaN</td>\n",
       "      <td>8290.0</td>\n",
       "      <td>NaN</td>\n",
       "      <td>87.0</td>\n",
       "      <td>[['Good food and atmosphere', 'horrible'], ['12/15/2017', '08/29/2016']]</td>\n",
       "      <td>/Restaurant_Review-g187514-d7254620-Reviews-La_Divina_de_Castellana-Madrid.html</td>\n",
       "      <td>d7254620</td>\n",
       "    </tr>\n",
       "    <tr>\n",
       "      <th>2544</th>\n",
       "      <td>id_2544</td>\n",
       "      <td>Paris</td>\n",
       "      <td>NaN</td>\n",
       "      <td>12898.0</td>\n",
       "      <td>NaN</td>\n",
       "      <td>28.0</td>\n",
       "      <td>[['Good atmosphere', 'Looks cosy but be careful!'], ['10/02/2017', '11/14/2016']]</td>\n",
       "      <td>/Restaurant_Review-g187147-d10792252-Reviews-Le_Chantier_Interdit-Paris_Ile_de_France.html</td>\n",
       "      <td>d10792252</td>\n",
       "    </tr>\n",
       "  </tbody>\n",
       "</table>\n",
       "</div>"
      ],
      "text/plain": [
       "     Restaurant_id    City Cuisine Style  Ranking Price Range  Number of Reviews                                                                            Reviews                                                                                      URL_TA      ID_TA\n",
       "5729       id_5729  Prague     ['Asian']   3636.0         NaN                4.0                 [['Dont bother!', 'Great discover'], ['10/10/2017', '05/02/2016']]             /Restaurant_Review-g274707-d7123906-Reviews-Yuan_Zhong_Yuan-Prague_Bohemia.html   d7123906\n",
       "9112       id_9112  Madrid           NaN   8290.0         NaN               87.0           [['Good food and atmosphere', 'horrible'], ['12/15/2017', '08/29/2016']]             /Restaurant_Review-g187514-d7254620-Reviews-La_Divina_de_Castellana-Madrid.html   d7254620\n",
       "2544       id_2544   Paris           NaN  12898.0         NaN               28.0  [['Good atmosphere', 'Looks cosy but be careful!'], ['10/02/2017', '11/14/2016']]  /Restaurant_Review-g187147-d10792252-Reviews-Le_Chantier_Interdit-Paris_Ile_de_France.html  d10792252"
      ]
     },
     "execution_count": 9,
     "metadata": {},
     "output_type": "execute_result"
    }
   ],
   "source": [
    "df_test.sample(3)"
   ]
  },
  {
   "cell_type": "code",
   "execution_count": 10,
   "metadata": {},
   "outputs": [
    {
     "data": {
      "text/html": [
       "<div>\n",
       "<style scoped>\n",
       "    .dataframe tbody tr th:only-of-type {\n",
       "        vertical-align: middle;\n",
       "    }\n",
       "\n",
       "    .dataframe tbody tr th {\n",
       "        vertical-align: top;\n",
       "    }\n",
       "\n",
       "    .dataframe thead th {\n",
       "        text-align: right;\n",
       "    }\n",
       "</style>\n",
       "<table border=\"1\" class=\"dataframe\">\n",
       "  <thead>\n",
       "    <tr style=\"text-align: right;\">\n",
       "      <th></th>\n",
       "      <th>Restaurant_id</th>\n",
       "      <th>Rating</th>\n",
       "    </tr>\n",
       "  </thead>\n",
       "  <tbody>\n",
       "    <tr>\n",
       "      <th>0</th>\n",
       "      <td>id_0</td>\n",
       "      <td>2.0</td>\n",
       "    </tr>\n",
       "    <tr>\n",
       "      <th>1</th>\n",
       "      <td>id_1</td>\n",
       "      <td>2.5</td>\n",
       "    </tr>\n",
       "    <tr>\n",
       "      <th>2</th>\n",
       "      <td>id_2</td>\n",
       "      <td>4.0</td>\n",
       "    </tr>\n",
       "    <tr>\n",
       "      <th>3</th>\n",
       "      <td>id_3</td>\n",
       "      <td>1.0</td>\n",
       "    </tr>\n",
       "    <tr>\n",
       "      <th>4</th>\n",
       "      <td>id_4</td>\n",
       "      <td>4.0</td>\n",
       "    </tr>\n",
       "  </tbody>\n",
       "</table>\n",
       "</div>"
      ],
      "text/plain": [
       "  Restaurant_id  Rating\n",
       "0          id_0     2.0\n",
       "1          id_1     2.5\n",
       "2          id_2     4.0\n",
       "3          id_3     1.0\n",
       "4          id_4     4.0"
      ]
     },
     "execution_count": 10,
     "metadata": {},
     "output_type": "execute_result"
    }
   ],
   "source": [
    "sample_submission.head(5)"
   ]
  },
  {
   "cell_type": "code",
   "execution_count": 11,
   "metadata": {},
   "outputs": [
    {
     "name": "stdout",
     "output_type": "stream",
     "text": [
      "<class 'pandas.core.frame.DataFrame'>\n",
      "RangeIndex: 10000 entries, 0 to 9999\n",
      "Data columns (total 2 columns):\n",
      "Restaurant_id    10000 non-null object\n",
      "Rating           10000 non-null float64\n",
      "dtypes: float64(1), object(1)\n",
      "memory usage: 156.4+ KB\n"
     ]
    }
   ],
   "source": [
    "sample_submission.info()"
   ]
  },
  {
   "cell_type": "code",
   "execution_count": 12,
   "metadata": {},
   "outputs": [],
   "source": [
    "# ВАЖНО! для корректной обработки признаков объединяем трейн и тест в один датасет\n",
    "df_train['sample'] = 1 # помечаем где у нас трейн\n",
    "df_test['sample'] = 0 # помечаем где у нас тест\n",
    "df_test['Rating'] = 0 # в тесте у нас нет значения Rating, мы его должны предсказать, по этому пока просто заполняем нулями\n",
    "\n",
    "data = df_test.append(df_train, sort=False).reset_index(drop=True) # объединяем"
   ]
  },
  {
   "cell_type": "code",
   "execution_count": 13,
   "metadata": {},
   "outputs": [
    {
     "name": "stdout",
     "output_type": "stream",
     "text": [
      "<class 'pandas.core.frame.DataFrame'>\n",
      "RangeIndex: 50000 entries, 0 to 49999\n",
      "Data columns (total 11 columns):\n",
      "Restaurant_id        50000 non-null object\n",
      "City                 50000 non-null object\n",
      "Cuisine Style        38410 non-null object\n",
      "Ranking              50000 non-null float64\n",
      "Price Range          32639 non-null object\n",
      "Number of Reviews    46800 non-null float64\n",
      "Reviews              49998 non-null object\n",
      "URL_TA               50000 non-null object\n",
      "ID_TA                50000 non-null object\n",
      "sample               50000 non-null int64\n",
      "Rating               50000 non-null float64\n",
      "dtypes: float64(3), int64(1), object(7)\n",
      "memory usage: 4.2+ MB\n"
     ]
    }
   ],
   "source": [
    "data.info()"
   ]
  },
  {
   "cell_type": "code",
   "execution_count": 14,
   "metadata": {},
   "outputs": [
    {
     "data": {
      "text/html": [
       "<div>\n",
       "<style scoped>\n",
       "    .dataframe tbody tr th:only-of-type {\n",
       "        vertical-align: middle;\n",
       "    }\n",
       "\n",
       "    .dataframe tbody tr th {\n",
       "        vertical-align: top;\n",
       "    }\n",
       "\n",
       "    .dataframe thead th {\n",
       "        text-align: right;\n",
       "    }\n",
       "</style>\n",
       "<table border=\"1\" class=\"dataframe\">\n",
       "  <thead>\n",
       "    <tr style=\"text-align: right;\">\n",
       "      <th></th>\n",
       "      <th>Restaurant_id</th>\n",
       "      <th>City</th>\n",
       "      <th>Cuisine Style</th>\n",
       "      <th>Ranking</th>\n",
       "      <th>Price Range</th>\n",
       "      <th>Number of Reviews</th>\n",
       "      <th>Reviews</th>\n",
       "      <th>URL_TA</th>\n",
       "      <th>ID_TA</th>\n",
       "      <th>sample</th>\n",
       "      <th>Rating</th>\n",
       "    </tr>\n",
       "  </thead>\n",
       "  <tbody>\n",
       "    <tr>\n",
       "      <th>20731</th>\n",
       "      <td>id_480</td>\n",
       "      <td>Oslo</td>\n",
       "      <td>NaN</td>\n",
       "      <td>481.0</td>\n",
       "      <td>NaN</td>\n",
       "      <td>11.0</td>\n",
       "      <td>[['Good neighborhood wine bar', 'Oslos best winebar!'], ['02/13/2017', '11/29/2016']]</td>\n",
       "      <td>/Restaurant_Review-g190479-d8591199-Reviews-Barotto_AS-Oslo_Eastern_Norway.html</td>\n",
       "      <td>d8591199</td>\n",
       "      <td>1</td>\n",
       "      <td>4.5</td>\n",
       "    </tr>\n",
       "    <tr>\n",
       "      <th>46540</th>\n",
       "      <td>id_2316</td>\n",
       "      <td>Prague</td>\n",
       "      <td>NaN</td>\n",
       "      <td>2321.0</td>\n",
       "      <td>NaN</td>\n",
       "      <td>6.0</td>\n",
       "      <td>[['Great food', 'Decent lunch for moderate price'], ['03/06/2017', '03/14/2015']]</td>\n",
       "      <td>/Restaurant_Review-g274707-d4768017-Reviews-Amarilis_Energia-Prague_Bohemia.html</td>\n",
       "      <td>d4768017</td>\n",
       "      <td>1</td>\n",
       "      <td>4.0</td>\n",
       "    </tr>\n",
       "    <tr>\n",
       "      <th>18089</th>\n",
       "      <td>id_15879</td>\n",
       "      <td>London</td>\n",
       "      <td>['Chinese']</td>\n",
       "      <td>15891.0</td>\n",
       "      <td>$</td>\n",
       "      <td>8.0</td>\n",
       "      <td>[['English style chinese takeaway', 'Good food but terrible customer service'], ['10/23/2017', '10/08/2016']]</td>\n",
       "      <td>/Restaurant_Review-g186338-d5122276-Reviews-Hua_Xin-London_England.html</td>\n",
       "      <td>d5122276</td>\n",
       "      <td>1</td>\n",
       "      <td>2.0</td>\n",
       "    </tr>\n",
       "  </tbody>\n",
       "</table>\n",
       "</div>"
      ],
      "text/plain": [
       "      Restaurant_id    City Cuisine Style  Ranking Price Range  Number of Reviews                                                                                                        Reviews                                                                            URL_TA     ID_TA  sample  Rating\n",
       "20731        id_480    Oslo           NaN    481.0         NaN               11.0                          [['Good neighborhood wine bar', 'Oslos best winebar!'], ['02/13/2017', '11/29/2016']]   /Restaurant_Review-g190479-d8591199-Reviews-Barotto_AS-Oslo_Eastern_Norway.html  d8591199       1     4.5\n",
       "46540       id_2316  Prague           NaN   2321.0         NaN                6.0                              [['Great food', 'Decent lunch for moderate price'], ['03/06/2017', '03/14/2015']]  /Restaurant_Review-g274707-d4768017-Reviews-Amarilis_Energia-Prague_Bohemia.html  d4768017       1     4.0\n",
       "18089      id_15879  London   ['Chinese']  15891.0           $                8.0  [['English style chinese takeaway', 'Good food but terrible customer service'], ['10/23/2017', '10/08/2016']]           /Restaurant_Review-g186338-d5122276-Reviews-Hua_Xin-London_England.html  d5122276       1     2.0"
      ]
     },
     "execution_count": 14,
     "metadata": {},
     "output_type": "execute_result"
    }
   ],
   "source": [
    "data.sample(3)"
   ]
  },
  {
   "cell_type": "markdown",
   "metadata": {},
   "source": [
    "Большинство признаков у нас требует очистки и предварительной обработки."
   ]
  },
  {
   "cell_type": "markdown",
   "metadata": {},
   "source": [
    "# Обработка"
   ]
  },
  {
   "cell_type": "markdown",
   "metadata": {},
   "source": [
    "## 1. Обработка NAN \n",
    "У наличия пропусков могут быть разные причины, но пропуски нужно либо заполнить, либо исключить из набора полностью. Но с пропусками нужно быть внимательным, **даже отсутствие информации может быть важным признаком!**   \n",
    "Поэтому перед обработкой NAN лучше вынести информацию о наличии пропуска как отдельный признак "
   ]
  },
  {
   "cell_type": "code",
   "execution_count": 15,
   "metadata": {},
   "outputs": [
    {
     "name": "stdout",
     "output_type": "stream",
     "text": [
      "<class 'pandas.core.frame.DataFrame'>\n",
      "RangeIndex: 50000 entries, 0 to 49999\n",
      "Data columns (total 11 columns):\n",
      "Restaurant_id        50000 non-null object\n",
      "City                 50000 non-null object\n",
      "Cuisine Style        38410 non-null object\n",
      "Ranking              50000 non-null float64\n",
      "Price Range          32639 non-null object\n",
      "Number of Reviews    46800 non-null float64\n",
      "Reviews              49998 non-null object\n",
      "URL_TA               50000 non-null object\n",
      "ID_TA                50000 non-null object\n",
      "sample               50000 non-null int64\n",
      "Rating               50000 non-null float64\n",
      "dtypes: float64(3), int64(1), object(7)\n",
      "memory usage: 4.2+ MB\n"
     ]
    }
   ],
   "source": [
    "data.info()"
   ]
  },
  {
   "cell_type": "code",
   "execution_count": 16,
   "metadata": {},
   "outputs": [
    {
     "data": {
      "image/png": "[encoded data removed]",
      "text/plain": [
       "<Figure size 864x504 with 2 Axes>"
      ]
     },
     "metadata": {
      "needs_background": "light"
     },
     "output_type": "display_data"
    }
   ],
   "source": [
    "# \"Матрица\" с пропусками для примерной наглядной оценки\n",
    "ax = plt.subplots(figsize=(12, 7))\n",
    "ax = sns.heatmap(data.isnull())"
   ]
  },
  {
   "cell_type": "code",
   "execution_count": 17,
   "metadata": {},
   "outputs": [
    {
     "data": {
      "text/html": [
       "<div>\n",
       "<style scoped>\n",
       "    .dataframe tbody tr th:only-of-type {\n",
       "        vertical-align: middle;\n",
       "    }\n",
       "\n",
       "    .dataframe tbody tr th {\n",
       "        vertical-align: top;\n",
       "    }\n",
       "\n",
       "    .dataframe thead th {\n",
       "        text-align: right;\n",
       "    }\n",
       "</style>\n",
       "<table border=\"1\" class=\"dataframe\">\n",
       "  <thead>\n",
       "    <tr style=\"text-align: right;\">\n",
       "      <th></th>\n",
       "      <th>Number of Reviews_is_NAN</th>\n",
       "      <th>Cuisine Style_is_NAN</th>\n",
       "      <th>Price Range_is_NAN</th>\n",
       "      <th>Reviews_is_NAN</th>\n",
       "    </tr>\n",
       "  </thead>\n",
       "  <tbody>\n",
       "    <tr>\n",
       "      <th>0</th>\n",
       "      <td>0</td>\n",
       "      <td>0</td>\n",
       "      <td>0</td>\n",
       "      <td>0</td>\n",
       "    </tr>\n",
       "    <tr>\n",
       "      <th>1</th>\n",
       "      <td>0</td>\n",
       "      <td>0</td>\n",
       "      <td>0</td>\n",
       "      <td>0</td>\n",
       "    </tr>\n",
       "    <tr>\n",
       "      <th>2</th>\n",
       "      <td>0</td>\n",
       "      <td>0</td>\n",
       "      <td>0</td>\n",
       "      <td>0</td>\n",
       "    </tr>\n",
       "    <tr>\n",
       "      <th>3</th>\n",
       "      <td>0</td>\n",
       "      <td>0</td>\n",
       "      <td>0</td>\n",
       "      <td>0</td>\n",
       "    </tr>\n",
       "    <tr>\n",
       "      <th>4</th>\n",
       "      <td>0</td>\n",
       "      <td>0</td>\n",
       "      <td>0</td>\n",
       "      <td>0</td>\n",
       "    </tr>\n",
       "    <tr>\n",
       "      <th>...</th>\n",
       "      <td>...</td>\n",
       "      <td>...</td>\n",
       "      <td>...</td>\n",
       "      <td>...</td>\n",
       "    </tr>\n",
       "    <tr>\n",
       "      <th>49995</th>\n",
       "      <td>0</td>\n",
       "      <td>0</td>\n",
       "      <td>0</td>\n",
       "      <td>0</td>\n",
       "    </tr>\n",
       "    <tr>\n",
       "      <th>49996</th>\n",
       "      <td>0</td>\n",
       "      <td>0</td>\n",
       "      <td>0</td>\n",
       "      <td>0</td>\n",
       "    </tr>\n",
       "    <tr>\n",
       "      <th>49997</th>\n",
       "      <td>0</td>\n",
       "      <td>0</td>\n",
       "      <td>1</td>\n",
       "      <td>0</td>\n",
       "    </tr>\n",
       "    <tr>\n",
       "      <th>49998</th>\n",
       "      <td>0</td>\n",
       "      <td>0</td>\n",
       "      <td>0</td>\n",
       "      <td>0</td>\n",
       "    </tr>\n",
       "    <tr>\n",
       "      <th>49999</th>\n",
       "      <td>0</td>\n",
       "      <td>0</td>\n",
       "      <td>0</td>\n",
       "      <td>0</td>\n",
       "    </tr>\n",
       "  </tbody>\n",
       "</table>\n",
       "<p>50000 rows × 4 columns</p>\n",
       "</div>"
      ],
      "text/plain": [
       "       Number of Reviews_is_NAN  Cuisine Style_is_NAN  Price Range_is_NAN  Reviews_is_NAN\n",
       "0                             0                     0                   0               0\n",
       "1                             0                     0                   0               0\n",
       "2                             0                     0                   0               0\n",
       "3                             0                     0                   0               0\n",
       "4                             0                     0                   0               0\n",
       "...                         ...                   ...                 ...             ...\n",
       "49995                         0                     0                   0               0\n",
       "49996                         0                     0                   0               0\n",
       "49997                         0                     0                   1               0\n",
       "49998                         0                     0                   0               0\n",
       "49999                         0                     0                   0               0\n",
       "\n",
       "[50000 rows x 4 columns]"
      ]
     },
     "execution_count": 17,
     "metadata": {},
     "output_type": "execute_result"
    }
   ],
   "source": [
    "# Cоздаём список колонок, для которых сделаем другие колонки, отмечающие места пропусков\n",
    "list_columns_with_Nan = ['Number of Reviews',\n",
    "                         'Cuisine Style', 'Price Range', 'Reviews']\n",
    "\n",
    "# Сохраним их в отдельный ДФ, который присоединим к data перед моделированием\n",
    "columns_NAN = creatre_columns_NAN(data, list_columns_with_Nan)\n",
    "columns_NAN"
   ]
  },
  {
   "cell_type": "markdown",
   "metadata": {},
   "source": [
    "Обрабатывать пропуски будем \"индивидуально\" для каждого столбца. \n",
    "Сейчас рассмотрим столбцы. \n",
    "\n",
    "Колонки Restaurant_id, URL_TA и ID_TA не информативны, поэтому можно сразу удалить эти столбцы"
   ]
  },
  {
   "cell_type": "code",
   "execution_count": 18,
   "metadata": {},
   "outputs": [],
   "source": [
    "data.drop(['Restaurant_id', 'URL_TA'], axis = 1, inplace=True)  #'ID_TA'"
   ]
  },
  {
   "cell_type": "markdown",
   "metadata": {},
   "source": [
    "# City"
   ]
  },
  {
   "cell_type": "code",
   "execution_count": 19,
   "metadata": {},
   "outputs": [
    {
     "data": {
      "text/plain": [
       "<matplotlib.axes._subplots.AxesSubplot at 0x7f961d87ce10>"
      ]
     },
     "execution_count": 19,
     "metadata": {},
     "output_type": "execute_result"
    },
    {
     "data": {
      "image/png": "[encoded data removed]",
      "text/plain": [
       "<Figure size 1080x648 with 1 Axes>"
      ]
     },
     "metadata": {
      "needs_background": "light"
     },
     "output_type": "display_data"
    }
   ],
   "source": [
    "data.City.value_counts(ascending=True).plot(kind='barh', figsize=(15,9))"
   ]
  },
  {
   "cell_type": "markdown",
   "metadata": {},
   "source": [
    "Всего 31 город. В дальнейшем добавим данные по населению и площади этих городов. Сгруппируем данные по городам, для дальнейшей обработки пропусков"
   ]
  },
  {
   "cell_type": "markdown",
   "metadata": {},
   "source": [
    "*-Можно создать список столиц и сделать колонку, где 1 - если город является столицей, но у меня это в последующем не улучшило модель-*"
   ]
  },
  {
   "cell_type": "code",
   "execution_count": 20,
   "metadata": {},
   "outputs": [],
   "source": [
    "#capital_city = ['Amsterdam', 'Athens', 'Berlin', 'Bratislava', 'Brussels', 'Budapest', 'Copenhagen', 'Dublin', 'Helsinki', 'Lisbon',\n",
    "#         'Ljubljana', 'London', 'Luxembourg', 'Madrid', 'Oslo', 'Paris', 'Prague', 'Rome', 'Stockholm', 'Vienna', 'Warsaw'] \n",
    "#data['Capital'] = data['City'].apply(lambda x: 1 if x in capital_city else 0)"
   ]
  },
  {
   "cell_type": "code",
   "execution_count": 21,
   "metadata": {},
   "outputs": [
    {
     "data": {
      "text/html": [
       "<div>\n",
       "<style scoped>\n",
       "    .dataframe tbody tr th:only-of-type {\n",
       "        vertical-align: middle;\n",
       "    }\n",
       "\n",
       "    .dataframe tbody tr th {\n",
       "        vertical-align: top;\n",
       "    }\n",
       "\n",
       "    .dataframe thead th {\n",
       "        text-align: right;\n",
       "    }\n",
       "</style>\n",
       "<table border=\"1\" class=\"dataframe\">\n",
       "  <thead>\n",
       "    <tr style=\"text-align: right;\">\n",
       "      <th></th>\n",
       "      <th>Ranking</th>\n",
       "      <th>Number of Reviews</th>\n",
       "      <th>sample</th>\n",
       "      <th>Rating</th>\n",
       "    </tr>\n",
       "    <tr>\n",
       "      <th>City</th>\n",
       "      <th></th>\n",
       "      <th></th>\n",
       "      <th></th>\n",
       "      <th></th>\n",
       "    </tr>\n",
       "  </thead>\n",
       "  <tbody>\n",
       "    <tr>\n",
       "      <th>Amsterdam</th>\n",
       "      <td>1592.0</td>\n",
       "      <td>149.0</td>\n",
       "      <td>1.0</td>\n",
       "      <td>3.0</td>\n",
       "    </tr>\n",
       "    <tr>\n",
       "      <th>Athens</th>\n",
       "      <td>880.0</td>\n",
       "      <td>94.0</td>\n",
       "      <td>1.0</td>\n",
       "      <td>3.0</td>\n",
       "    </tr>\n",
       "    <tr>\n",
       "      <th>Barcelona</th>\n",
       "      <td>3879.0</td>\n",
       "      <td>136.0</td>\n",
       "      <td>1.0</td>\n",
       "      <td>3.0</td>\n",
       "    </tr>\n",
       "    <tr>\n",
       "      <th>Berlin</th>\n",
       "      <td>3255.0</td>\n",
       "      <td>64.0</td>\n",
       "      <td>1.0</td>\n",
       "      <td>3.0</td>\n",
       "    </tr>\n",
       "    <tr>\n",
       "      <th>Bratislava</th>\n",
       "      <td>462.0</td>\n",
       "      <td>52.0</td>\n",
       "      <td>1.0</td>\n",
       "      <td>3.0</td>\n",
       "    </tr>\n",
       "    <tr>\n",
       "      <th>Brussels</th>\n",
       "      <td>1542.0</td>\n",
       "      <td>93.0</td>\n",
       "      <td>1.0</td>\n",
       "      <td>3.0</td>\n",
       "    </tr>\n",
       "    <tr>\n",
       "      <th>Budapest</th>\n",
       "      <td>1219.0</td>\n",
       "      <td>159.0</td>\n",
       "      <td>1.0</td>\n",
       "      <td>3.0</td>\n",
       "    </tr>\n",
       "    <tr>\n",
       "      <th>Copenhagen</th>\n",
       "      <td>982.0</td>\n",
       "      <td>95.0</td>\n",
       "      <td>1.0</td>\n",
       "      <td>3.0</td>\n",
       "    </tr>\n",
       "    <tr>\n",
       "      <th>Dublin</th>\n",
       "      <td>972.0</td>\n",
       "      <td>154.0</td>\n",
       "      <td>1.0</td>\n",
       "      <td>3.0</td>\n",
       "    </tr>\n",
       "    <tr>\n",
       "      <th>Edinburgh</th>\n",
       "      <td>885.0</td>\n",
       "      <td>238.0</td>\n",
       "      <td>1.0</td>\n",
       "      <td>3.0</td>\n",
       "    </tr>\n",
       "    <tr>\n",
       "      <th>Geneva</th>\n",
       "      <td>713.0</td>\n",
       "      <td>62.0</td>\n",
       "      <td>1.0</td>\n",
       "      <td>3.0</td>\n",
       "    </tr>\n",
       "    <tr>\n",
       "      <th>Hamburg</th>\n",
       "      <td>1375.0</td>\n",
       "      <td>45.0</td>\n",
       "      <td>1.0</td>\n",
       "      <td>3.0</td>\n",
       "    </tr>\n",
       "    <tr>\n",
       "      <th>Helsinki</th>\n",
       "      <td>564.0</td>\n",
       "      <td>66.0</td>\n",
       "      <td>1.0</td>\n",
       "      <td>3.0</td>\n",
       "    </tr>\n",
       "    <tr>\n",
       "      <th>Krakow</th>\n",
       "      <td>616.0</td>\n",
       "      <td>131.0</td>\n",
       "      <td>1.0</td>\n",
       "      <td>3.0</td>\n",
       "    </tr>\n",
       "    <tr>\n",
       "      <th>Lisbon</th>\n",
       "      <td>1867.0</td>\n",
       "      <td>128.0</td>\n",
       "      <td>1.0</td>\n",
       "      <td>3.0</td>\n",
       "    </tr>\n",
       "    <tr>\n",
       "      <th>Ljubljana</th>\n",
       "      <td>235.0</td>\n",
       "      <td>88.0</td>\n",
       "      <td>1.0</td>\n",
       "      <td>3.0</td>\n",
       "    </tr>\n",
       "    <tr>\n",
       "      <th>London</th>\n",
       "      <td>8170.0</td>\n",
       "      <td>138.0</td>\n",
       "      <td>1.0</td>\n",
       "      <td>3.0</td>\n",
       "    </tr>\n",
       "    <tr>\n",
       "      <th>Luxembourg</th>\n",
       "      <td>308.0</td>\n",
       "      <td>83.0</td>\n",
       "      <td>1.0</td>\n",
       "      <td>3.0</td>\n",
       "    </tr>\n",
       "    <tr>\n",
       "      <th>Lyon</th>\n",
       "      <td>1304.0</td>\n",
       "      <td>87.0</td>\n",
       "      <td>1.0</td>\n",
       "      <td>3.0</td>\n",
       "    </tr>\n",
       "    <tr>\n",
       "      <th>Madrid</th>\n",
       "      <td>4389.0</td>\n",
       "      <td>100.0</td>\n",
       "      <td>1.0</td>\n",
       "      <td>3.0</td>\n",
       "    </tr>\n",
       "    <tr>\n",
       "      <th>Milan</th>\n",
       "      <td>3106.0</td>\n",
       "      <td>168.0</td>\n",
       "      <td>1.0</td>\n",
       "      <td>3.0</td>\n",
       "    </tr>\n",
       "    <tr>\n",
       "      <th>Munich</th>\n",
       "      <td>1370.0</td>\n",
       "      <td>78.0</td>\n",
       "      <td>1.0</td>\n",
       "      <td>3.0</td>\n",
       "    </tr>\n",
       "    <tr>\n",
       "      <th>Oporto</th>\n",
       "      <td>752.0</td>\n",
       "      <td>134.0</td>\n",
       "      <td>1.0</td>\n",
       "      <td>3.0</td>\n",
       "    </tr>\n",
       "    <tr>\n",
       "      <th>Oslo</th>\n",
       "      <td>553.0</td>\n",
       "      <td>100.0</td>\n",
       "      <td>1.0</td>\n",
       "      <td>3.0</td>\n",
       "    </tr>\n",
       "    <tr>\n",
       "      <th>Paris</th>\n",
       "      <td>6939.0</td>\n",
       "      <td>117.0</td>\n",
       "      <td>1.0</td>\n",
       "      <td>3.0</td>\n",
       "    </tr>\n",
       "    <tr>\n",
       "      <th>Prague</th>\n",
       "      <td>2087.0</td>\n",
       "      <td>124.0</td>\n",
       "      <td>1.0</td>\n",
       "      <td>3.0</td>\n",
       "    </tr>\n",
       "    <tr>\n",
       "      <th>Rome</th>\n",
       "      <td>2971.0</td>\n",
       "      <td>290.0</td>\n",
       "      <td>1.0</td>\n",
       "      <td>3.0</td>\n",
       "    </tr>\n",
       "    <tr>\n",
       "      <th>Stockholm</th>\n",
       "      <td>1237.0</td>\n",
       "      <td>75.0</td>\n",
       "      <td>1.0</td>\n",
       "      <td>3.0</td>\n",
       "    </tr>\n",
       "    <tr>\n",
       "      <th>Vienna</th>\n",
       "      <td>1711.0</td>\n",
       "      <td>81.0</td>\n",
       "      <td>1.0</td>\n",
       "      <td>3.0</td>\n",
       "    </tr>\n",
       "    <tr>\n",
       "      <th>Warsaw</th>\n",
       "      <td>1055.0</td>\n",
       "      <td>67.0</td>\n",
       "      <td>1.0</td>\n",
       "      <td>3.0</td>\n",
       "    </tr>\n",
       "    <tr>\n",
       "      <th>Zurich</th>\n",
       "      <td>794.0</td>\n",
       "      <td>73.0</td>\n",
       "      <td>1.0</td>\n",
       "      <td>3.0</td>\n",
       "    </tr>\n",
       "  </tbody>\n",
       "</table>\n",
       "</div>"
      ],
      "text/plain": [
       "            Ranking  Number of Reviews  sample  Rating\n",
       "City                                                  \n",
       "Amsterdam    1592.0              149.0     1.0     3.0\n",
       "Athens        880.0               94.0     1.0     3.0\n",
       "Barcelona    3879.0              136.0     1.0     3.0\n",
       "Berlin       3255.0               64.0     1.0     3.0\n",
       "Bratislava    462.0               52.0     1.0     3.0\n",
       "Brussels     1542.0               93.0     1.0     3.0\n",
       "Budapest     1219.0              159.0     1.0     3.0\n",
       "Copenhagen    982.0               95.0     1.0     3.0\n",
       "Dublin        972.0              154.0     1.0     3.0\n",
       "Edinburgh     885.0              238.0     1.0     3.0\n",
       "Geneva        713.0               62.0     1.0     3.0\n",
       "Hamburg      1375.0               45.0     1.0     3.0\n",
       "Helsinki      564.0               66.0     1.0     3.0\n",
       "Krakow        616.0              131.0     1.0     3.0\n",
       "Lisbon       1867.0              128.0     1.0     3.0\n",
       "Ljubljana     235.0               88.0     1.0     3.0\n",
       "London       8170.0              138.0     1.0     3.0\n",
       "Luxembourg    308.0               83.0     1.0     3.0\n",
       "Lyon         1304.0               87.0     1.0     3.0\n",
       "Madrid       4389.0              100.0     1.0     3.0\n",
       "Milan        3106.0              168.0     1.0     3.0\n",
       "Munich       1370.0               78.0     1.0     3.0\n",
       "Oporto        752.0              134.0     1.0     3.0\n",
       "Oslo          553.0              100.0     1.0     3.0\n",
       "Paris        6939.0              117.0     1.0     3.0\n",
       "Prague       2087.0              124.0     1.0     3.0\n",
       "Rome         2971.0              290.0     1.0     3.0\n",
       "Stockholm    1237.0               75.0     1.0     3.0\n",
       "Vienna       1711.0               81.0     1.0     3.0\n",
       "Warsaw       1055.0               67.0     1.0     3.0\n",
       "Zurich        794.0               73.0     1.0     3.0"
      ]
     },
     "execution_count": 21,
     "metadata": {},
     "output_type": "execute_result"
    }
   ],
   "source": [
    "# Создадим таблицы по городам со средними, max и median значениями для дальнейшей замены пропусков\n",
    "data_city_mean = data.groupby('City').mean().round()\n",
    "data_city_max = data.groupby('City').max()\n",
    "data_city_median = data.groupby('City').median()\n",
    "data_city_mean"
   ]
  },
  {
   "cell_type": "markdown",
   "metadata": {},
   "source": [
    "*-Уменьшал окончательный список городов, чтобы не добавлять 31 колонку как dummy-признаки (брал топ-10 город, а остальные писал в \"другие\", брал города в которых ресторанов большее 1000), но окончательная модель была хуже-*"
   ]
  },
  {
   "cell_type": "markdown",
   "metadata": {},
   "source": [
    "# Cuisine Style"
   ]
  },
  {
   "cell_type": "markdown",
   "metadata": {},
   "source": [
    "Посчитаем количество кухонь в каждом ресторане. Если нет данных, то предположим, что только один вид"
   ]
  },
  {
   "cell_type": "code",
   "execution_count": 22,
   "metadata": {},
   "outputs": [],
   "source": [
    "data['Cuisine Style'].fillna('[]', inplace = True)\n",
    "data['Cuisine Style'] = data['Cuisine Style'].apply(\n",
    "    lambda x:str(x).replace('[','').replace(']','').replace(\"'\", '').replace(' ','').replace('\"',''))\n",
    "data['Cuisine Style'] = data['Cuisine Style'].apply(lambda x: x.split(','))\n",
    "data['Number of kitchen'] = data['Cuisine Style'].apply(lambda x: len(x))"
   ]
  },
  {
   "cell_type": "code",
   "execution_count": 23,
   "metadata": {},
   "outputs": [
    {
     "data": {
      "text/plain": [
       "<matplotlib.axes._subplots.AxesSubplot at 0x7f961d77cb38>"
      ]
     },
     "execution_count": 23,
     "metadata": {},
     "output_type": "execute_result"
    },
    {
     "data": {
      "image/png": "[encoded data removed]",
      "text/plain": [
       "<Figure size 504x288 with 1 Axes>"
      ]
     },
     "metadata": {
      "needs_background": "light"
     },
     "output_type": "display_data"
    }
   ],
   "source": [
    "data['Number of kitchen'].value_counts().plot(kind='bar', figsize=(7,4),\n",
    "                                              title='Количество ресторанов с разным числом кухонь ')"
   ]
  },
  {
   "cell_type": "markdown",
   "metadata": {},
   "source": [
    "# Price Range"
   ]
  },
  {
   "cell_type": "code",
   "execution_count": 24,
   "metadata": {},
   "outputs": [
    {
     "data": {
      "text/plain": [
       "$$ - $$$    23041\n",
       "$            7816\n",
       "$$$$         1782\n",
       "Name: Price Range, dtype: int64"
      ]
     },
     "execution_count": 24,
     "metadata": {},
     "output_type": "execute_result"
    }
   ],
   "source": [
    "data['Price Range'].value_counts()"
   ]
  },
  {
   "cell_type": "markdown",
   "metadata": {},
   "source": [
    "Заменим значения на 1, 2 или 3 соотвественно. Посмотрим на средние цены по городам"
   ]
  },
  {
   "cell_type": "code",
   "execution_count": 25,
   "metadata": {},
   "outputs": [],
   "source": [
    "data['Price Range'] = data['Price Range'].apply(\n",
    "    lambda x: 1 if x == '$' else 2 if x == '$$ - $$$' else 3 if x == '$$$$' else x)"
   ]
  },
  {
   "cell_type": "code",
   "execution_count": 26,
   "metadata": {},
   "outputs": [
    {
     "data": {
      "text/plain": [
       "City\n",
       "Amsterdam     1.832700\n",
       "Athens        1.706767\n",
       "Barcelona     1.783784\n",
       "Berlin        1.743094\n",
       "Bratislava    1.863636\n",
       "Brussels      1.858974\n",
       "Budapest      1.718169\n",
       "Copenhagen    1.900369\n",
       "Dublin        1.788644\n",
       "Edinburgh     1.710000\n",
       "Geneva        2.049751\n",
       "Hamburg       1.864762\n",
       "Helsinki      1.867508\n",
       "Krakow        1.652520\n",
       "Lisbon        1.729954\n",
       "Ljubljana     1.746835\n",
       "London        1.808891\n",
       "Luxembourg    1.978836\n",
       "Lyon          1.896147\n",
       "Madrid        1.849199\n",
       "Milan         1.743210\n",
       "Munich        1.911846\n",
       "Oporto        1.668934\n",
       "Oslo          1.940120\n",
       "Paris         1.891774\n",
       "Prague        1.740376\n",
       "Rome          1.734466\n",
       "Stockholm     1.942238\n",
       "Vienna        1.857968\n",
       "Warsaw        1.813167\n",
       "Zurich        1.972458\n",
       "Name: Price Range, dtype: float64"
      ]
     },
     "execution_count": 26,
     "metadata": {},
     "output_type": "execute_result"
    }
   ],
   "source": [
    "data.groupby('City').mean()['Price Range']"
   ]
  },
  {
   "cell_type": "markdown",
   "metadata": {},
   "source": [
    "Средние цены близки по городам к средним (2), поэтому заменим пропуски именно на это число"
   ]
  },
  {
   "cell_type": "code",
   "execution_count": 27,
   "metadata": {},
   "outputs": [
    {
     "data": {
      "text/plain": [
       "<matplotlib.axes._subplots.AxesSubplot at 0x7f961d33b0f0>"
      ]
     },
     "execution_count": 27,
     "metadata": {},
     "output_type": "execute_result"
    },
    {
     "data": {
      "image/png": "[encoded data removed]",
      "text/plain": [
       "<Figure size 432x432 with 1 Axes>"
      ]
     },
     "metadata": {},
     "output_type": "display_data"
    }
   ],
   "source": [
    "data['Price Range'].fillna(2, inplace=True)\n",
    "data['Price Range'].value_counts().plot(kind='pie', autopct=\"%.2f\",\n",
    "                                        title='Распределение ценовых категории ресторанов',\n",
    "                                        figsize=(6,6))"
   ]
  },
  {
   "cell_type": "markdown",
   "metadata": {},
   "source": [
    "# Ranking"
   ]
  },
  {
   "cell_type": "code",
   "execution_count": 28,
   "metadata": {},
   "outputs": [
    {
     "data": {
      "text/plain": [
       "<matplotlib.axes._subplots.AxesSubplot at 0x7f961d349cc0>"
      ]
     },
     "execution_count": 28,
     "metadata": {},
     "output_type": "execute_result"
    },
    {
     "data": {
      "image/png": "[encoded data removed]",
      "text/plain": [
       "<Figure size 1008x504 with 1 Axes>"
      ]
     },
     "metadata": {
      "needs_background": "light"
     },
     "output_type": "display_data"
    }
   ],
   "source": [
    "df_train['Ranking'].hist(bins=1000, figsize=(14,7))"
   ]
  },
  {
   "cell_type": "code",
   "execution_count": 29,
   "metadata": {},
   "outputs": [
    {
     "data": {
      "image/png": "[encoded data removed]",
      "text/plain": [
       "<Figure size 576x360 with 1 Axes>"
      ]
     },
     "metadata": {
      "needs_background": "light"
     },
     "output_type": "display_data"
    }
   ],
   "source": [
    "# посмотрим на данные по Ranking топ 10-ти городов\n",
    "for x in (data['City'].value_counts())[0:10].index:\n",
    "    data['Ranking'][data['City'] == x].hist(bins=100, figsize=(8,5))"
   ]
  },
  {
   "cell_type": "markdown",
   "metadata": {},
   "source": [
    "В больших городах больше ресторанов, значит Ranking у некоторых может быть очень высокий. \n",
    "Нужно нормировать значения по городам, чтобы при обучении модели не было ошибок. "
   ]
  },
  {
   "cell_type": "code",
   "execution_count": 30,
   "metadata": {},
   "outputs": [],
   "source": [
    "# Создаём колонку с нормированным по городам рангом ресторанов\n",
    "data['Ranking_NORM'] = data[['City', 'Ranking']].apply(\n",
    "    lambda x:x[1]/data_city_max.Ranking[x[0]], axis=1)"
   ]
  },
  {
   "cell_type": "code",
   "execution_count": 31,
   "metadata": {},
   "outputs": [
    {
     "data": {
      "image/png": "[encoded data removed]",
      "text/plain": [
       "<Figure size 576x360 with 1 Axes>"
      ]
     },
     "metadata": {
      "needs_background": "light"
     },
     "output_type": "display_data"
    }
   ],
   "source": [
    "for x in (df_train['City'].value_counts())[0:10].index:\n",
    "    data['Ranking_NORM'][data['City'] == x].hist(bins=150, figsize=(8,5))"
   ]
  },
  {
   "cell_type": "markdown",
   "metadata": {},
   "source": [
    "# Number of Reviews"
   ]
  },
  {
   "cell_type": "markdown",
   "metadata": {},
   "source": [
    "Пропуски в колонке число отзывов заменим на среднее количество отзывов в городе"
   ]
  },
  {
   "cell_type": "code",
   "execution_count": 32,
   "metadata": {},
   "outputs": [],
   "source": [
    "# Заменим на среднее количество отзывов в городе\n",
    "data['Number of Reviews'] = data[['City', 'Number of Reviews']].apply(\n",
    "    lambda x: data_city_mean['Number of Reviews'].to_dict()[x[0]] if pd.isna(x[1]) else x[1], axis=1)"
   ]
  },
  {
   "cell_type": "code",
   "execution_count": 33,
   "metadata": {},
   "outputs": [
    {
     "data": {
      "text/plain": [
       "0"
      ]
     },
     "execution_count": 33,
     "metadata": {},
     "output_type": "execute_result"
    }
   ],
   "source": [
    "# Проверим, что нет отрицательного количества отзывов\n",
    "(data['Number of Reviews'].value_counts()<0).sum()"
   ]
  },
  {
   "cell_type": "markdown",
   "metadata": {},
   "source": [
    "# Reviews"
   ]
  },
  {
   "cell_type": "markdown",
   "metadata": {},
   "source": [
    "Наиболее сложная колонка для обработки. Пропуски заполним '[[], []]'\n",
    "\n",
    "Данные представлены типом str, необходимо разделить на две части - сами отзывы и даты. Эти части нужно в свою очередь разделить ещё на две части, чтобы получилось два столбца с самим текстом отзывов и два столбца с датами этих отзывов. Оставим пустые отзывы, если их нет. В дальнейшем сделаем тональный анализ. \n",
    "\n",
    "Из колонок с датами вытащим информацию о днях недели, месяце, разнице в днях между отзывами, а так же как давно были написаны отзывы. Все эти действия завернём в функцию, для более комфортного использования далее"
   ]
  },
  {
   "cell_type": "code",
   "execution_count": 34,
   "metadata": {},
   "outputs": [],
   "source": [
    "def change_reviews(data, df_columns):\n",
    "    \"\"\" Функция принимает на вход ДФ (чтобы можно завернуть эту функцию в другую) и колонку с отзывами.\n",
    "    Создаёт новые колонки\"\"\"\n",
    "    df_columns.fillna('[[], []]', inplace=True)\n",
    "    data['Two_reviews'] = df_columns.apply(lambda x: x.split('],')[0].split(\"',\"))\n",
    "    # Создаёт две колонки с текстами отзывов\n",
    "    data['Review_1'] = data['Two_reviews'].apply(lambda x: x[0])\n",
    "    data['Review_2'] = data['Two_reviews'].apply(lambda x: x[-1])\n",
    "    data['Review_1'] = data['Review_1'].apply(\n",
    "        lambda x: x.replace('[', '').replace(\"'\", '').replace('\"', ''))\n",
    "    data['Review_2'] = data['Review_2'].apply(\n",
    "        lambda x: x.replace('[', '').replace(\"'\", '').replace('\"', ''))\n",
    "    data.drop('Two_reviews', axis=1, inplace=True)\n",
    "\n",
    "    # Удалим повторы, если отзыв был один и он продублировался в столбец Review_2\n",
    "    data['Review_2'] = data[['Review_2', 'Review_1']].apply(\n",
    "        lambda x: '' if x[0] == x[1] else x[0], axis=1)\n",
    "\n",
    "    # Работа с датами\n",
    "    data['Days_reviews'] = df_columns.apply(\n",
    "        lambda x: x.split('],')[-1].split(\"',\"))\n",
    "    data['Day_1'] = data['Days_reviews'].apply(lambda x: x[0])\n",
    "    data['Day_2'] = data['Days_reviews'].apply(lambda x: x[-1])\n",
    "    data['Day_1'] = data['Day_1'].apply(\n",
    "        lambda x: x.replace('[', '').replace(\"'\", '').replace(']', '').replace(' ', '').replace('\"', ''))\n",
    "    data['Day_2'] = data['Day_2'].apply(\n",
    "        lambda x: x.replace('[', '').replace(\"'\", '').replace(']', '').replace(' ', '').replace('\"', ''))\n",
    "    data.drop('Days_reviews', axis=1, inplace=True)\n",
    "\n",
    "    # Удалим вторую дату (дубликат первой), если отзыв был всего один\n",
    "    data['Day_2'] = data[['Day_2', 'Review_2']].apply(\n",
    "        lambda x: '' if x[1] == '' else x[0], axis=1)\n",
    "\n",
    "    # Переведём данные в формат datetime.strptime для удобства дальнейшей работы\n",
    "    data['Day_1'] = data['Day_1'].apply(lambda x: x if len(\n",
    "        x) == 0 else datetime.strptime(x, '%m/%d/%Y'))\n",
    "    data['Day_2'] = data['Day_2'].apply(lambda x: x if len(\n",
    "        x) == 0 else datetime.strptime(x, '%m/%d/%Y'))\n",
    "\n",
    "    # Cоздаём колонки, показывающие сколько дней назад были написаны отзывы\n",
    "    data['How_long_ago_1'] = (datetime.today() - data['Day_1'])\n",
    "    data['How_long_ago_2'] = datetime.today() - data['Day_2']\n",
    "    data['How_long_ago_1'] = data['How_long_ago_1'].apply(lambda x: x.days)\n",
    "    data['How_long_ago_2'] = data['How_long_ago_2'].apply(lambda x: x.days)\n",
    "    # Если пропущены значения, то заменим на среднее\n",
    "    data['How_long_ago_1'].fillna(\n",
    "        round(data['How_long_ago_1'].mean()), inplace=True)\n",
    "    data['How_long_ago_2'].fillna(\n",
    "        round(data['How_long_ago_2'].mean()), inplace=True)\n",
    "\n",
    "    # Создаём колонку с разницей в датах отзывов\n",
    "    data['Day1_2'] = abs(data['Day_1'] - data['Day_2'])\n",
    "    data['Day_1'] = data['Day_1'].fillna(0)\n",
    "    data['Day_2'] = data['Day_2'].fillna(0)\n",
    "    data['Day1_2'] = data['Day1_2'].apply(lambda x: x.days)\n",
    "    data['Day1_2'] = data['Day1_2'].fillna(0)\n",
    "\n",
    "    # Создаём колонки с днями недели отзывов и месяцы\n",
    "    data['Day_of_week_1'] = data['Day_1'].apply(\n",
    "        lambda x: 0 if x == 0 else x.strftime('%A'))\n",
    "    data['Day_of_week_2'] = data['Day_2'].apply(\n",
    "        lambda x: 0 if x == 0 else x.strftime('%A'))\n",
    "    data['Month_1'] = data['Day_1'].apply(\n",
    "        lambda x: 0 if x == 0 else x.strftime('%m'))\n",
    "    data['Month_2'] = data['Day_2'].apply(\n",
    "        lambda x: 0 if x == 0 else x.strftime('%m'))\n",
    "\n",
    "    # Удаляем больше ненужные колонки\n",
    "    data.drop('Day_1', axis=1, inplace=True)\n",
    "    data.drop('Day_2', axis=1, inplace=True)\n",
    "    data.drop('Reviews', axis=1, inplace=True)"
   ]
  },
  {
   "cell_type": "markdown",
   "metadata": {},
   "source": [
    "*-В Baseline было предложено в конце всю работу завернуть в одну большую функцию для удобства и воспроизводимости кода. У меня возникли сложности с включением в неё вышенаписанную функцию, поэтому на данный момент я отказался от создания такой большой общей функции для воспроизведения. Доразберусь с пространством имен в работе с функциями - улучшу финальную часть-*"
   ]
  },
  {
   "cell_type": "code",
   "execution_count": 35,
   "metadata": {},
   "outputs": [],
   "source": [
    "change_reviews(data, data['Reviews'])"
   ]
  },
  {
   "cell_type": "code",
   "execution_count": 36,
   "metadata": {},
   "outputs": [
    {
     "data": {
      "text/html": [
       "<div>\n",
       "<style scoped>\n",
       "    .dataframe tbody tr th:only-of-type {\n",
       "        vertical-align: middle;\n",
       "    }\n",
       "\n",
       "    .dataframe tbody tr th {\n",
       "        vertical-align: top;\n",
       "    }\n",
       "\n",
       "    .dataframe thead th {\n",
       "        text-align: right;\n",
       "    }\n",
       "</style>\n",
       "<table border=\"1\" class=\"dataframe\">\n",
       "  <thead>\n",
       "    <tr style=\"text-align: right;\">\n",
       "      <th></th>\n",
       "      <th>City</th>\n",
       "      <th>Cuisine Style</th>\n",
       "      <th>Ranking</th>\n",
       "      <th>Price Range</th>\n",
       "      <th>Number of Reviews</th>\n",
       "      <th>ID_TA</th>\n",
       "      <th>sample</th>\n",
       "      <th>Rating</th>\n",
       "      <th>Number of kitchen</th>\n",
       "      <th>Ranking_NORM</th>\n",
       "      <th>Review_1</th>\n",
       "      <th>Review_2</th>\n",
       "      <th>How_long_ago_1</th>\n",
       "      <th>How_long_ago_2</th>\n",
       "      <th>Day1_2</th>\n",
       "      <th>Day_of_week_1</th>\n",
       "      <th>Day_of_week_2</th>\n",
       "      <th>Month_1</th>\n",
       "      <th>Month_2</th>\n",
       "    </tr>\n",
       "  </thead>\n",
       "  <tbody>\n",
       "    <tr>\n",
       "      <th>20182</th>\n",
       "      <td>Paris</td>\n",
       "      <td>[French, European, WineBar, Spanish]</td>\n",
       "      <td>1882.0</td>\n",
       "      <td>2.0</td>\n",
       "      <td>103.0</td>\n",
       "      <td>d8630212</td>\n",
       "      <td>1</td>\n",
       "      <td>4.5</td>\n",
       "      <td>4</td>\n",
       "      <td>0.134563</td>\n",
       "      <td>A charming little gem in the heart of Mont...</td>\n",
       "      <td>Awsome burger!</td>\n",
       "      <td>1569.0</td>\n",
       "      <td>1583.0</td>\n",
       "      <td>14.0</td>\n",
       "      <td>Thursday</td>\n",
       "      <td>Thursday</td>\n",
       "      <td>12</td>\n",
       "      <td>11</td>\n",
       "    </tr>\n",
       "    <tr>\n",
       "      <th>37338</th>\n",
       "      <td>Madrid</td>\n",
       "      <td>[]</td>\n",
       "      <td>5132.0</td>\n",
       "      <td>2.0</td>\n",
       "      <td>4.0</td>\n",
       "      <td>d12216416</td>\n",
       "      <td>1</td>\n",
       "      <td>4.0</td>\n",
       "      <td>1</td>\n",
       "      <td>0.582586</td>\n",
       "      <td></td>\n",
       "      <td></td>\n",
       "      <td>1422.0</td>\n",
       "      <td>1490.0</td>\n",
       "      <td>0.0</td>\n",
       "      <td>0</td>\n",
       "      <td>0</td>\n",
       "      <td>0</td>\n",
       "      <td>0</td>\n",
       "    </tr>\n",
       "    <tr>\n",
       "      <th>33034</th>\n",
       "      <td>London</td>\n",
       "      <td>[American, British]</td>\n",
       "      <td>10082.0</td>\n",
       "      <td>2.0</td>\n",
       "      <td>35.0</td>\n",
       "      <td>d8655414</td>\n",
       "      <td>1</td>\n",
       "      <td>4.0</td>\n",
       "      <td>2</td>\n",
       "      <td>0.613111</td>\n",
       "      <td>Tucked away pub</td>\n",
       "      <td>Awesome Place for Private Function &amp; Great...</td>\n",
       "      <td>1194.0</td>\n",
       "      <td>1373.0</td>\n",
       "      <td>179.0</td>\n",
       "      <td>Monday</td>\n",
       "      <td>Thursday</td>\n",
       "      <td>12</td>\n",
       "      <td>06</td>\n",
       "    </tr>\n",
       "  </tbody>\n",
       "</table>\n",
       "</div>"
      ],
      "text/plain": [
       "         City                         Cuisine Style  Ranking  Price Range  Number of Reviews      ID_TA  sample  Rating  Number of kitchen  Ranking_NORM                                       Review_1                                        Review_2  How_long_ago_1  How_long_ago_2  Day1_2 Day_of_week_1 Day_of_week_2 Month_1 Month_2\n",
       "20182   Paris  [French, European, WineBar, Spanish]   1882.0          2.0              103.0   d8630212       1     4.5                  4      0.134563  A charming little gem in the heart of Mont...                                  Awsome burger!          1569.0          1583.0    14.0      Thursday      Thursday      12      11\n",
       "37338  Madrid                                    []   5132.0          2.0                4.0  d12216416       1     4.0                  1      0.582586                                                                                                         1422.0          1490.0     0.0             0             0       0       0\n",
       "33034  London                   [American, British]  10082.0          2.0               35.0   d8655414       1     4.0                  2      0.613111                                Tucked away pub   Awesome Place for Private Function & Great...          1194.0          1373.0   179.0        Monday      Thursday      12      06"
      ]
     },
     "execution_count": 36,
     "metadata": {},
     "output_type": "execute_result"
    }
   ],
   "source": [
    "data.sample(3)"
   ]
  },
  {
   "cell_type": "markdown",
   "metadata": {},
   "source": [
    "Внимательнее изучим данные по датам (дням, просшедним после написания отзывов)"
   ]
  },
  {
   "cell_type": "code",
   "execution_count": 37,
   "metadata": {},
   "outputs": [
    {
     "data": {
      "text/plain": [
       "1422.0    8156\n",
       "1174.0     607\n",
       "1178.0     534\n",
       "1175.0     498\n",
       "1177.0     461\n",
       "          ... \n",
       "2542.0       1\n",
       "3549.0       1\n",
       "2826.0       1\n",
       "3345.0       1\n",
       "2854.0       1\n",
       "Name: How_long_ago_1, Length: 1976, dtype: int64"
      ]
     },
     "execution_count": 37,
     "metadata": {},
     "output_type": "execute_result"
    }
   ],
   "source": [
    "data['How_long_ago_1'].value_counts()"
   ]
  },
  {
   "cell_type": "code",
   "execution_count": 38,
   "metadata": {},
   "outputs": [
    {
     "data": {
      "text/plain": [
       "Text(0, 0.5, 'Прошло дней от публикации отзывов')"
      ]
     },
     "execution_count": 38,
     "metadata": {},
     "output_type": "execute_result"
    },
    {
     "data": {
      "image/png": "[encoded data removed]",
      "text/plain": [
       "<Figure size 1440x720 with 1 Axes>"
      ]
     },
     "metadata": {
      "needs_background": "light"
     },
     "output_type": "display_data"
    }
   ],
   "source": [
    "# Посмотроим график, где по оси y - прошедшие дни от отзыва, а по x - количество отзывов в эти дни.\n",
    "# А день, когда было опубликовано наибольшее количество отзывов не будет показывать\n",
    "fig, ax = plt.subplots()\n",
    "x = data['How_long_ago_1'].value_counts().iloc[1:]\n",
    "y = data['How_long_ago_1'].value_counts().iloc[1:].index\n",
    "fig.set_figwidth(20)\n",
    "fig.set_figheight(10)\n",
    "ax.scatter(x, y, s = 3)\n",
    "ax.set_title('Первый отзыв')\n",
    "ax.set_xlabel('Количество отзывов')\n",
    "ax.set_ylabel('Прошло дней от публикации отзывов')"
   ]
  },
  {
   "cell_type": "markdown",
   "metadata": {},
   "source": [
    "Один день очень сильно выбивается из общей картины. Возможно ошибка в данных, и отзыв был опубликован не почти 17 лет назад. Заменим на среднее значение в столбце, а день недели на 0."
   ]
  },
  {
   "cell_type": "code",
   "execution_count": 39,
   "metadata": {},
   "outputs": [
    {
     "data": {
      "text/html": [
       "<div>\n",
       "<style scoped>\n",
       "    .dataframe tbody tr th:only-of-type {\n",
       "        vertical-align: middle;\n",
       "    }\n",
       "\n",
       "    .dataframe tbody tr th {\n",
       "        vertical-align: top;\n",
       "    }\n",
       "\n",
       "    .dataframe thead th {\n",
       "        text-align: right;\n",
       "    }\n",
       "</style>\n",
       "<table border=\"1\" class=\"dataframe\">\n",
       "  <thead>\n",
       "    <tr style=\"text-align: right;\">\n",
       "      <th></th>\n",
       "      <th>City</th>\n",
       "      <th>Cuisine Style</th>\n",
       "      <th>Ranking</th>\n",
       "      <th>Price Range</th>\n",
       "      <th>Number of Reviews</th>\n",
       "      <th>ID_TA</th>\n",
       "      <th>sample</th>\n",
       "      <th>Rating</th>\n",
       "      <th>Number of kitchen</th>\n",
       "      <th>Ranking_NORM</th>\n",
       "      <th>Review_1</th>\n",
       "      <th>Review_2</th>\n",
       "      <th>How_long_ago_1</th>\n",
       "      <th>How_long_ago_2</th>\n",
       "      <th>Day1_2</th>\n",
       "      <th>Day_of_week_1</th>\n",
       "      <th>Day_of_week_2</th>\n",
       "      <th>Month_1</th>\n",
       "      <th>Month_2</th>\n",
       "    </tr>\n",
       "  </thead>\n",
       "  <tbody>\n",
       "    <tr>\n",
       "      <th>47913</th>\n",
       "      <td>Vienna</td>\n",
       "      <td>[Bar, Pub]</td>\n",
       "      <td>3137.0</td>\n",
       "      <td>1.0</td>\n",
       "      <td>2.0</td>\n",
       "      <td>d694328</td>\n",
       "      <td>1</td>\n",
       "      <td>4.0</td>\n",
       "      <td>2</td>\n",
       "      <td>0.910859</td>\n",
       "      <td>Great affordable restaurant</td>\n",
       "      <td></td>\n",
       "      <td>6183.0</td>\n",
       "      <td>1490.0</td>\n",
       "      <td>0.0</td>\n",
       "      <td>Wednesday</td>\n",
       "      <td>0</td>\n",
       "      <td>04</td>\n",
       "      <td>0</td>\n",
       "    </tr>\n",
       "  </tbody>\n",
       "</table>\n",
       "</div>"
      ],
      "text/plain": [
       "         City Cuisine Style  Ranking  Price Range  Number of Reviews    ID_TA  sample  Rating  Number of kitchen  Ranking_NORM                     Review_1 Review_2  How_long_ago_1  How_long_ago_2  Day1_2 Day_of_week_1 Day_of_week_2 Month_1 Month_2\n",
       "47913  Vienna    [Bar, Pub]   3137.0          1.0                2.0  d694328       1     4.0                  2      0.910859  Great affordable restaurant                   6183.0          1490.0     0.0     Wednesday             0      04       0"
      ]
     },
     "execution_count": 39,
     "metadata": {},
     "output_type": "execute_result"
    }
   ],
   "source": [
    "data[data['How_long_ago_1'] == data['How_long_ago_1'].max()]"
   ]
  },
  {
   "cell_type": "code",
   "execution_count": 40,
   "metadata": {},
   "outputs": [],
   "source": [
    "data.at[47913, 'How_long_ago_1'] = data['How_long_ago_1'].mean()\n",
    "data.at[47913, 'Day_of_week_1'] = 0"
   ]
  },
  {
   "cell_type": "markdown",
   "metadata": {},
   "source": [
    "*-Без этих замен в данных MAE было меньше, т.е. этим действием по корректировки данных (?) я ухудшил модель-*"
   ]
  },
  {
   "cell_type": "code",
   "execution_count": 41,
   "metadata": {},
   "outputs": [
    {
     "data": {
      "text/plain": [
       "Text(0, 0.5, 'Прошло дней от публикации отзывов')"
      ]
     },
     "execution_count": 41,
     "metadata": {},
     "output_type": "execute_result"
    },
    {
     "data": {
      "image/png": "[encoded data removed]",
      "text/plain": [
       "<Figure size 1440x720 with 1 Axes>"
      ]
     },
     "metadata": {
      "needs_background": "light"
     },
     "output_type": "display_data"
    }
   ],
   "source": [
    "fig, ax = plt.subplots()\n",
    "x = data['How_long_ago_2'].value_counts().iloc[1:]\n",
    "y = data['How_long_ago_2'].value_counts().iloc[1:].index\n",
    "fig.set_figwidth(20)\n",
    "fig.set_figheight(10)\n",
    "ax.scatter(x, y, s = 3)\n",
    "ax.set_title('Второй отзыв')\n",
    "ax.set_xlabel('Количество отзывов')\n",
    "ax.set_ylabel('Прошло дней от публикации отзывов')"
   ]
  },
  {
   "cell_type": "markdown",
   "metadata": {},
   "source": [
    "Явных выбросов не наблюдается"
   ]
  },
  {
   "cell_type": "markdown",
   "metadata": {},
   "source": [
    "# Тональный анализ"
   ]
  },
  {
   "cell_type": "markdown",
   "metadata": {},
   "source": [
    "Для тонального анализа текста использую простую библиотеку TextBlob. В основе её работы используется база данных по ключевым словам по отзывам к фильмам. Библиотека анализирует текст и возвращается число в промежутке от -1 до 1, обозначающее тональную окраску (-1 для негативной, 0 для нейтральной и 1 для полностью позитивной.\n",
    "\n",
    "*-Пытался добавить свои слова в базу данных этой библиотеки, связанные именно с едой (вкусно, деликатес и т.д.), но почему-то пока не вышло. Обязательно ещё вернусь к этому вопросу-*"
   ]
  },
  {
   "cell_type": "code",
   "execution_count": 42,
   "metadata": {},
   "outputs": [],
   "source": [
    "data['Review_1'] = data['Review_1'].apply(lambda x: TextBlob(x).polarity)\n",
    "data['Review_2'] = data['Review_2'].apply(lambda x: TextBlob(x).polarity)"
   ]
  },
  {
   "cell_type": "markdown",
   "metadata": {},
   "source": [
    "*-Отзывы равнозначные, поэтому можно сделать одну колонку с тональностью отзывов, но у меня это не улучшило модель (хотя по логике так правильнее поступить ведь(?))-*"
   ]
  },
  {
   "cell_type": "code",
   "execution_count": 43,
   "metadata": {},
   "outputs": [],
   "source": [
    "#data['Review'] = data['Review_1'] + data['Review_2']\n",
    "#data.drop('Review_1', axis=1, inplace=True)\n",
    "#data.drop('Review_2', axis=1, inplace=True)"
   ]
  },
  {
   "cell_type": "code",
   "execution_count": 44,
   "metadata": {},
   "outputs": [
    {
     "data": {
      "text/html": [
       "<div>\n",
       "<style scoped>\n",
       "    .dataframe tbody tr th:only-of-type {\n",
       "        vertical-align: middle;\n",
       "    }\n",
       "\n",
       "    .dataframe tbody tr th {\n",
       "        vertical-align: top;\n",
       "    }\n",
       "\n",
       "    .dataframe thead th {\n",
       "        text-align: right;\n",
       "    }\n",
       "</style>\n",
       "<table border=\"1\" class=\"dataframe\">\n",
       "  <thead>\n",
       "    <tr style=\"text-align: right;\">\n",
       "      <th></th>\n",
       "      <th>City</th>\n",
       "      <th>Cuisine Style</th>\n",
       "      <th>Ranking</th>\n",
       "      <th>Price Range</th>\n",
       "      <th>Number of Reviews</th>\n",
       "      <th>ID_TA</th>\n",
       "      <th>sample</th>\n",
       "      <th>Rating</th>\n",
       "      <th>Number of kitchen</th>\n",
       "      <th>Ranking_NORM</th>\n",
       "      <th>Review_1</th>\n",
       "      <th>Review_2</th>\n",
       "      <th>How_long_ago_1</th>\n",
       "      <th>How_long_ago_2</th>\n",
       "      <th>Day1_2</th>\n",
       "      <th>Day_of_week_1</th>\n",
       "      <th>Day_of_week_2</th>\n",
       "      <th>Month_1</th>\n",
       "      <th>Month_2</th>\n",
       "    </tr>\n",
       "  </thead>\n",
       "  <tbody>\n",
       "    <tr>\n",
       "      <th>25562</th>\n",
       "      <td>Milan</td>\n",
       "      <td>[Barbecue]</td>\n",
       "      <td>4938.0</td>\n",
       "      <td>2.0</td>\n",
       "      <td>11.0</td>\n",
       "      <td>d6701582</td>\n",
       "      <td>1</td>\n",
       "      <td>3.5</td>\n",
       "      <td>1</td>\n",
       "      <td>0.786932</td>\n",
       "      <td>0.000000</td>\n",
       "      <td>0.0</td>\n",
       "      <td>1422.0</td>\n",
       "      <td>1490.0</td>\n",
       "      <td>0.0</td>\n",
       "      <td>0</td>\n",
       "      <td>0</td>\n",
       "      <td>0</td>\n",
       "      <td>0</td>\n",
       "    </tr>\n",
       "    <tr>\n",
       "      <th>3860</th>\n",
       "      <td>Barcelona</td>\n",
       "      <td>[Mediterranean]</td>\n",
       "      <td>7783.0</td>\n",
       "      <td>2.0</td>\n",
       "      <td>136.0</td>\n",
       "      <td>d12408044</td>\n",
       "      <td>0</td>\n",
       "      <td>0.0</td>\n",
       "      <td>1</td>\n",
       "      <td>0.998332</td>\n",
       "      <td>0.000000</td>\n",
       "      <td>0.0</td>\n",
       "      <td>1422.0</td>\n",
       "      <td>1490.0</td>\n",
       "      <td>0.0</td>\n",
       "      <td>0</td>\n",
       "      <td>0</td>\n",
       "      <td>0</td>\n",
       "      <td>0</td>\n",
       "    </tr>\n",
       "    <tr>\n",
       "      <th>3486</th>\n",
       "      <td>Dublin</td>\n",
       "      <td>[]</td>\n",
       "      <td>1272.0</td>\n",
       "      <td>2.0</td>\n",
       "      <td>3.0</td>\n",
       "      <td>d10205490</td>\n",
       "      <td>0</td>\n",
       "      <td>0.0</td>\n",
       "      <td>1</td>\n",
       "      <td>0.648980</td>\n",
       "      <td>-0.260417</td>\n",
       "      <td>1.0</td>\n",
       "      <td>1787.0</td>\n",
       "      <td>1787.0</td>\n",
       "      <td>0.0</td>\n",
       "      <td>Wednesday</td>\n",
       "      <td>Wednesday</td>\n",
       "      <td>05</td>\n",
       "      <td>05</td>\n",
       "    </tr>\n",
       "  </tbody>\n",
       "</table>\n",
       "</div>"
      ],
      "text/plain": [
       "            City    Cuisine Style  Ranking  Price Range  Number of Reviews      ID_TA  sample  Rating  Number of kitchen  Ranking_NORM  Review_1  Review_2  How_long_ago_1  How_long_ago_2  Day1_2 Day_of_week_1 Day_of_week_2 Month_1 Month_2\n",
       "25562      Milan       [Barbecue]   4938.0          2.0               11.0   d6701582       1     3.5                  1      0.786932  0.000000       0.0          1422.0          1490.0     0.0             0             0       0       0\n",
       "3860   Barcelona  [Mediterranean]   7783.0          2.0              136.0  d12408044       0     0.0                  1      0.998332  0.000000       0.0          1422.0          1490.0     0.0             0             0       0       0\n",
       "3486      Dublin               []   1272.0          2.0                3.0  d10205490       0     0.0                  1      0.648980 -0.260417       1.0          1787.0          1787.0     0.0     Wednesday     Wednesday      05      05"
      ]
     },
     "execution_count": 44,
     "metadata": {},
     "output_type": "execute_result"
    }
   ],
   "source": [
    "data.sample(3)"
   ]
  },
  {
   "cell_type": "markdown",
   "metadata": {},
   "source": [
    "# Самое последнее"
   ]
  },
  {
   "cell_type": "code",
   "execution_count": 45,
   "metadata": {},
   "outputs": [],
   "source": [
    "data['ID_TA'] = data['ID_TA'].apply(lambda x:x[1:])"
   ]
  },
  {
   "cell_type": "code",
   "execution_count": 46,
   "metadata": {},
   "outputs": [],
   "source": [
    "# Создам словарь с городами и их площадью (в кв. км)\n",
    "city_square = {'Paris': 105.4, 'Stockholm': 188, 'London': 1572, 'Berlin': 891.68, 'Munich': 310.71, 'Oporto': 41.66,\n",
    "               'Milan': 181.67, 'Bratislava': 368, 'Vienna': 414.75, 'Rome': 1287.36, 'Barcelona': 101.3, 'Madrid': 607,\n",
    "               'Dublin': 318, 'Brussels': 32.61, 'Zurich': 91.88, 'Warsaw': 517, 'Budapest': 525.14, 'Copenhagen': 86.40,\n",
    "               'Amsterdam': 219.4, 'Lyon': 47.87, 'Hamburg': 755.09, 'Lisbon': 100.05, 'Prague': 500, 'Oslo': 454,\n",
    "               'Helsinki': 213.8, 'Edinburgh': 118, 'Geneva': 15.93, 'Ljubljana': 163.8, 'Athens': 412,\n",
    "               'Luxembourg': 51.47, 'Krakow': 327}\n",
    "data['Сity square'] = data['City'].apply(lambda x: city_square[x])"
   ]
  },
  {
   "cell_type": "code",
   "execution_count": 47,
   "metadata": {},
   "outputs": [],
   "source": [
    "# Создам словарь с городами и населением в них (в тыс. человек)\n",
    "population_in_the_сity = {'Paris': 2148, 'Stockholm': 961, 'London': 8908, 'Berlin': 3644, 'Munich': 1471, 'Oporto': 237,\n",
    "                          'Milan': 1378, 'Bratislava': 437, 'Vienna': 1897, 'Rome': 2870, 'Barcelona': 1664, 'Madrid': 3266,\n",
    "                          'Dublin': 1173, 'Brussels': 179, 'Zurich': 428, 'Warsaw': 1790, 'Budapest': 1752, 'Copenhagen': 615,\n",
    "                          'Amsterdam': 872, 'Lyon': 506, 'Hamburg': 1841, 'Lisbon': 505, 'Prague': 1301, 'Oslo': 673,\n",
    "                          'Helsinki': 655, 'Edinburgh': 488, 'Geneva': 200, 'Ljubljana': 284, 'Athens': 664,\n",
    "                          'Luxembourg': 115, 'Krakow': 779}\n",
    "data['Population'] = data['City'].apply(lambda x: population_in_the_сity[x])"
   ]
  },
  {
   "cell_type": "code",
   "execution_count": 48,
   "metadata": {},
   "outputs": [],
   "source": [
    "# Столбец - отношение относительного ранга к населению\n",
    "data['Rank/Population'] = data['Ranking_NORM'] / data['Population']"
   ]
  },
  {
   "cell_type": "code",
   "execution_count": 49,
   "metadata": {},
   "outputs": [],
   "source": [
    "# Создадим колонку, показывающую на сколько человек в городе приходится один отзыв \n",
    "data['Population/Number of Reviews'] = data['Population'] / data['Number of Reviews']"
   ]
  },
  {
   "cell_type": "code",
   "execution_count": 50,
   "metadata": {},
   "outputs": [],
   "source": [
    "dummy_city = pd.get_dummies(data.City) # Создадим dummy-признаки городов\n",
    "data = pd.concat([data, dummy_city], axis=1)"
   ]
  },
  {
   "cell_type": "code",
   "execution_count": 51,
   "metadata": {},
   "outputs": [],
   "source": [
    "#dummy_price = pd.get_dummies(data['Price Range'])  # Делаем дамми-признаки цен\n",
    "#data = pd.concat([data, dummy_price], axis=1)  # Добавляем в данные"
   ]
  },
  {
   "cell_type": "code",
   "execution_count": 52,
   "metadata": {},
   "outputs": [],
   "source": [
    "dummy_day_1 = pd.get_dummies(data['Day_of_week_1'])  # Делаем дамми-признаки дней недели для отзывов\n",
    "dummy_day_2 = pd.get_dummies(data['Day_of_week_2'])\n",
    "dummy_day = dummy_day_1 + dummy_day_2\n",
    "data = pd.concat([data, dummy_day], axis=1).drop([0], axis = 1)"
   ]
  },
  {
   "cell_type": "code",
   "execution_count": 53,
   "metadata": {},
   "outputs": [],
   "source": [
    "# Делаем дамми-признаки месяцев отзывал и объединяем их в сезоны года\n",
    "dummy_season_1 = pd.get_dummies(data['Month_1'])\n",
    "dummy_season_2 = pd.get_dummies(data['Month_2'])\n",
    "dummy_season = dummy_season_1 + dummy_season_2\n",
    "data['Winter_reviews'] =  dummy_season['12'] + dummy_season['01'] + dummy_season['02']\n",
    "data['Spring_reviews'] =  dummy_season['03'] + dummy_season['04'] + dummy_season['05']\n",
    "data['Summer_reviews'] =  dummy_season['06'] + dummy_season['07'] + dummy_season['08']\n",
    "data['Autumn_reviews'] =  dummy_season['09'] + dummy_season['10'] + dummy_season['11']"
   ]
  },
  {
   "cell_type": "code",
   "execution_count": 54,
   "metadata": {},
   "outputs": [],
   "source": [
    "# Добавим колонки с пропусками\n",
    "data = pd.concat([data, columns_NAN], axis=1)"
   ]
  },
  {
   "cell_type": "code",
   "execution_count": 55,
   "metadata": {},
   "outputs": [],
   "source": [
    "# Добавим колонки с полиноальными признаками площади и населения города\n",
    "pf = PolynomialFeatures(2)\n",
    "poly_city = pf.fit_transform(data[['Сity square', 'Population']])\n",
    "poly_city = pd.DataFrame(poly_city, columns=[\n",
    "                         '1', 'Сity square', 'Population', 'Сity square^2', 'Сity square_Population', 'Population^2'])\n",
    "# Удалим дубликаты и ненужный столбец \"1\"\n",
    "poly_city.drop(['Сity square', '1', 'Population'], axis=1, inplace=True)\n",
    "data = pd.concat([data, poly_city], axis=1)"
   ]
  },
  {
   "cell_type": "code",
   "execution_count": 56,
   "metadata": {},
   "outputs": [],
   "source": [
    "# Добавить колонки с полиноальными признаками тональности отзывов\n",
    "# pf_review = PolynomialFeatures(2)\n",
    "# poly_review = pf_review.fit_transform(data[['Review_1', 'Review_2']])\n",
    "# poly_review = pd.DataFrame(poly_review, columns = ['1','Review_1','Review_2', 'Review_1^2', \n",
    "#                                                      'Review_1Review_2', 'Review_2^2'])\n",
    "# poly_review.drop(['Review_1', '1', 'Review_2'], axis = 1, inplace=True) # Удалим дубликаты и ненужный столбец 1\n",
    "# data = pd.concat([data, poly_review], axis=1)"
   ]
  },
  {
   "cell_type": "code",
   "execution_count": 57,
   "metadata": {},
   "outputs": [
    {
     "data": {
      "text/html": [
       "<div>\n",
       "<style scoped>\n",
       "    .dataframe tbody tr th:only-of-type {\n",
       "        vertical-align: middle;\n",
       "    }\n",
       "\n",
       "    .dataframe tbody tr th {\n",
       "        vertical-align: top;\n",
       "    }\n",
       "\n",
       "    .dataframe thead th {\n",
       "        text-align: right;\n",
       "    }\n",
       "</style>\n",
       "<table border=\"1\" class=\"dataframe\">\n",
       "  <thead>\n",
       "    <tr style=\"text-align: right;\">\n",
       "      <th></th>\n",
       "      <th>City</th>\n",
       "      <th>Cuisine Style</th>\n",
       "      <th>Ranking</th>\n",
       "      <th>Price Range</th>\n",
       "      <th>Number of Reviews</th>\n",
       "      <th>ID_TA</th>\n",
       "      <th>sample</th>\n",
       "      <th>Rating</th>\n",
       "      <th>Number of kitchen</th>\n",
       "      <th>Ranking_NORM</th>\n",
       "      <th>Review_1</th>\n",
       "      <th>Review_2</th>\n",
       "      <th>How_long_ago_1</th>\n",
       "      <th>How_long_ago_2</th>\n",
       "      <th>Day1_2</th>\n",
       "      <th>Day_of_week_1</th>\n",
       "      <th>Day_of_week_2</th>\n",
       "      <th>Month_1</th>\n",
       "      <th>Month_2</th>\n",
       "      <th>Сity square</th>\n",
       "      <th>Population</th>\n",
       "      <th>Rank/Population</th>\n",
       "      <th>Population/Number of Reviews</th>\n",
       "      <th>Amsterdam</th>\n",
       "      <th>Athens</th>\n",
       "      <th>...</th>\n",
       "      <th>Paris</th>\n",
       "      <th>Prague</th>\n",
       "      <th>Rome</th>\n",
       "      <th>Stockholm</th>\n",
       "      <th>Vienna</th>\n",
       "      <th>Warsaw</th>\n",
       "      <th>Zurich</th>\n",
       "      <th>Friday</th>\n",
       "      <th>Monday</th>\n",
       "      <th>Saturday</th>\n",
       "      <th>Sunday</th>\n",
       "      <th>Thursday</th>\n",
       "      <th>Tuesday</th>\n",
       "      <th>Wednesday</th>\n",
       "      <th>Winter_reviews</th>\n",
       "      <th>Spring_reviews</th>\n",
       "      <th>Summer_reviews</th>\n",
       "      <th>Autumn_reviews</th>\n",
       "      <th>Number of Reviews_is_NAN</th>\n",
       "      <th>Cuisine Style_is_NAN</th>\n",
       "      <th>Price Range_is_NAN</th>\n",
       "      <th>Reviews_is_NAN</th>\n",
       "      <th>Сity square^2</th>\n",
       "      <th>Сity square_Population</th>\n",
       "      <th>Population^2</th>\n",
       "    </tr>\n",
       "  </thead>\n",
       "  <tbody>\n",
       "    <tr>\n",
       "      <th>22983</th>\n",
       "      <td>Hamburg</td>\n",
       "      <td>[]</td>\n",
       "      <td>475.0</td>\n",
       "      <td>2.0</td>\n",
       "      <td>31.0</td>\n",
       "      <td>718286</td>\n",
       "      <td>1</td>\n",
       "      <td>4.5</td>\n",
       "      <td>1</td>\n",
       "      <td>0.173548</td>\n",
       "      <td>0.044444</td>\n",
       "      <td>1.0</td>\n",
       "      <td>1317.0</td>\n",
       "      <td>2159.0</td>\n",
       "      <td>842.0</td>\n",
       "      <td>Thursday</td>\n",
       "      <td>Tuesday</td>\n",
       "      <td>08</td>\n",
       "      <td>04</td>\n",
       "      <td>755.09</td>\n",
       "      <td>1841</td>\n",
       "      <td>0.000094</td>\n",
       "      <td>59.387097</td>\n",
       "      <td>0</td>\n",
       "      <td>0</td>\n",
       "      <td>...</td>\n",
       "      <td>0</td>\n",
       "      <td>0</td>\n",
       "      <td>0</td>\n",
       "      <td>0</td>\n",
       "      <td>0</td>\n",
       "      <td>0</td>\n",
       "      <td>0</td>\n",
       "      <td>0</td>\n",
       "      <td>0</td>\n",
       "      <td>0</td>\n",
       "      <td>0</td>\n",
       "      <td>1</td>\n",
       "      <td>1</td>\n",
       "      <td>0</td>\n",
       "      <td>0</td>\n",
       "      <td>1</td>\n",
       "      <td>1</td>\n",
       "      <td>0</td>\n",
       "      <td>0</td>\n",
       "      <td>1</td>\n",
       "      <td>1</td>\n",
       "      <td>0</td>\n",
       "      <td>5.701609e+05</td>\n",
       "      <td>1390120.69</td>\n",
       "      <td>3389281.0</td>\n",
       "    </tr>\n",
       "    <tr>\n",
       "      <th>4052</th>\n",
       "      <td>Bratislava</td>\n",
       "      <td>[Cafe]</td>\n",
       "      <td>391.0</td>\n",
       "      <td>1.0</td>\n",
       "      <td>52.0</td>\n",
       "      <td>12977600</td>\n",
       "      <td>0</td>\n",
       "      <td>0.0</td>\n",
       "      <td>1</td>\n",
       "      <td>0.439820</td>\n",
       "      <td>0.712500</td>\n",
       "      <td>0.0</td>\n",
       "      <td>1261.0</td>\n",
       "      <td>1490.0</td>\n",
       "      <td>0.0</td>\n",
       "      <td>Thursday</td>\n",
       "      <td>0</td>\n",
       "      <td>10</td>\n",
       "      <td>0</td>\n",
       "      <td>368.00</td>\n",
       "      <td>437</td>\n",
       "      <td>0.001006</td>\n",
       "      <td>8.403846</td>\n",
       "      <td>0</td>\n",
       "      <td>0</td>\n",
       "      <td>...</td>\n",
       "      <td>0</td>\n",
       "      <td>0</td>\n",
       "      <td>0</td>\n",
       "      <td>0</td>\n",
       "      <td>0</td>\n",
       "      <td>0</td>\n",
       "      <td>0</td>\n",
       "      <td>0</td>\n",
       "      <td>0</td>\n",
       "      <td>0</td>\n",
       "      <td>0</td>\n",
       "      <td>1</td>\n",
       "      <td>0</td>\n",
       "      <td>0</td>\n",
       "      <td>0</td>\n",
       "      <td>0</td>\n",
       "      <td>0</td>\n",
       "      <td>1</td>\n",
       "      <td>1</td>\n",
       "      <td>0</td>\n",
       "      <td>0</td>\n",
       "      <td>0</td>\n",
       "      <td>1.354240e+05</td>\n",
       "      <td>160816.00</td>\n",
       "      <td>190969.0</td>\n",
       "    </tr>\n",
       "    <tr>\n",
       "      <th>16877</th>\n",
       "      <td>London</td>\n",
       "      <td>[Italian, Mediterranean, European, VegetarianFriendly, VeganOptions, GlutenFreeOptions]</td>\n",
       "      <td>171.0</td>\n",
       "      <td>2.0</td>\n",
       "      <td>859.0</td>\n",
       "      <td>718583</td>\n",
       "      <td>1</td>\n",
       "      <td>4.5</td>\n",
       "      <td>6</td>\n",
       "      <td>0.010399</td>\n",
       "      <td>0.800000</td>\n",
       "      <td>0.0</td>\n",
       "      <td>1177.0</td>\n",
       "      <td>1184.0</td>\n",
       "      <td>7.0</td>\n",
       "      <td>Thursday</td>\n",
       "      <td>Thursday</td>\n",
       "      <td>01</td>\n",
       "      <td>12</td>\n",
       "      <td>1572.00</td>\n",
       "      <td>8908</td>\n",
       "      <td>0.000001</td>\n",
       "      <td>10.370198</td>\n",
       "      <td>0</td>\n",
       "      <td>0</td>\n",
       "      <td>...</td>\n",
       "      <td>0</td>\n",
       "      <td>0</td>\n",
       "      <td>0</td>\n",
       "      <td>0</td>\n",
       "      <td>0</td>\n",
       "      <td>0</td>\n",
       "      <td>0</td>\n",
       "      <td>0</td>\n",
       "      <td>0</td>\n",
       "      <td>0</td>\n",
       "      <td>0</td>\n",
       "      <td>2</td>\n",
       "      <td>0</td>\n",
       "      <td>0</td>\n",
       "      <td>2</td>\n",
       "      <td>0</td>\n",
       "      <td>0</td>\n",
       "      <td>0</td>\n",
       "      <td>0</td>\n",
       "      <td>0</td>\n",
       "      <td>0</td>\n",
       "      <td>0</td>\n",
       "      <td>2.471184e+06</td>\n",
       "      <td>14003376.00</td>\n",
       "      <td>79352464.0</td>\n",
       "    </tr>\n",
       "  </tbody>\n",
       "</table>\n",
       "<p>3 rows × 72 columns</p>\n",
       "</div>"
      ],
      "text/plain": [
       "             City                                                                            Cuisine Style  Ranking  Price Range  Number of Reviews     ID_TA  sample  Rating  Number of kitchen  Ranking_NORM  Review_1  Review_2  How_long_ago_1  How_long_ago_2  Day1_2 Day_of_week_1 Day_of_week_2 Month_1 Month_2  Сity square  Population  Rank/Population  Population/Number of Reviews  Amsterdam  Athens  ...  Paris  Prague  Rome  Stockholm  Vienna  Warsaw  Zurich  Friday  Monday  Saturday  Sunday  \\\n",
       "22983     Hamburg                                                                                       []    475.0          2.0               31.0    718286       1     4.5                  1      0.173548  0.044444       1.0          1317.0          2159.0   842.0      Thursday       Tuesday      08      04       755.09        1841         0.000094                     59.387097          0       0  ...      0       0     0          0       0       0       0       0       0         0       0   \n",
       "4052   Bratislava                                                                                   [Cafe]    391.0          1.0               52.0  12977600       0     0.0                  1      0.439820  0.712500       0.0          1261.0          1490.0     0.0      Thursday             0      10       0       368.00         437         0.001006                      8.403846          0       0  ...      0       0     0          0       0       0       0       0       0         0       0   \n",
       "16877      London  [Italian, Mediterranean, European, VegetarianFriendly, VeganOptions, GlutenFreeOptions]    171.0          2.0              859.0    718583       1     4.5                  6      0.010399  0.800000       0.0          1177.0          1184.0     7.0      Thursday      Thursday      01      12      1572.00        8908         0.000001                     10.370198          0       0  ...      0       0     0          0       0       0       0       0       0         0       0   \n",
       "\n",
       "       Thursday  Tuesday  Wednesday  Winter_reviews  Spring_reviews  Summer_reviews  Autumn_reviews  Number of Reviews_is_NAN  Cuisine Style_is_NAN  Price Range_is_NAN  Reviews_is_NAN  Сity square^2  Сity square_Population  Population^2  \n",
       "22983         1        1          0               0               1               1               0                         0                     1                   1               0   5.701609e+05              1390120.69     3389281.0  \n",
       "4052          1        0          0               0               0               0               1                         1                     0                   0               0   1.354240e+05               160816.00      190969.0  \n",
       "16877         2        0          0               2               0               0               0                         0                     0                   0               0   2.471184e+06             14003376.00    79352464.0  \n",
       "\n",
       "[3 rows x 72 columns]"
      ]
     },
     "execution_count": 57,
     "metadata": {},
     "output_type": "execute_result"
    }
   ],
   "source": [
    "data.sample(3)"
   ]
  },
  {
   "cell_type": "code",
   "execution_count": 58,
   "metadata": {},
   "outputs": [],
   "source": [
    "# Удалим ненужные столбцы (тут я экспериментировал, чтобы получить меньше значение MEA)\n",
    "data = data.drop(['City', 'Cuisine Style', 'Ranking', 'Day_of_week_1', 'Day_of_week_2',\n",
    "                  'Month_1', 'Month_2', 'Сity square', 'Population', 'Reviews_is_NAN'], axis = 1)"
   ]
  },
  {
   "cell_type": "code",
   "execution_count": 59,
   "metadata": {},
   "outputs": [
    {
     "data": {
      "text/html": [
       "<div>\n",
       "<style scoped>\n",
       "    .dataframe tbody tr th:only-of-type {\n",
       "        vertical-align: middle;\n",
       "    }\n",
       "\n",
       "    .dataframe tbody tr th {\n",
       "        vertical-align: top;\n",
       "    }\n",
       "\n",
       "    .dataframe thead th {\n",
       "        text-align: right;\n",
       "    }\n",
       "</style>\n",
       "<table border=\"1\" class=\"dataframe\">\n",
       "  <thead>\n",
       "    <tr style=\"text-align: right;\">\n",
       "      <th></th>\n",
       "      <th>Price Range</th>\n",
       "      <th>Number of Reviews</th>\n",
       "      <th>ID_TA</th>\n",
       "      <th>sample</th>\n",
       "      <th>Rating</th>\n",
       "      <th>Number of kitchen</th>\n",
       "      <th>Ranking_NORM</th>\n",
       "      <th>Review_1</th>\n",
       "      <th>Review_2</th>\n",
       "      <th>How_long_ago_1</th>\n",
       "      <th>How_long_ago_2</th>\n",
       "      <th>Day1_2</th>\n",
       "      <th>Rank/Population</th>\n",
       "      <th>Population/Number of Reviews</th>\n",
       "      <th>Amsterdam</th>\n",
       "      <th>Athens</th>\n",
       "      <th>Barcelona</th>\n",
       "      <th>Berlin</th>\n",
       "      <th>Bratislava</th>\n",
       "      <th>Brussels</th>\n",
       "      <th>Budapest</th>\n",
       "      <th>Copenhagen</th>\n",
       "      <th>Dublin</th>\n",
       "      <th>Edinburgh</th>\n",
       "      <th>Geneva</th>\n",
       "      <th>...</th>\n",
       "      <th>Oslo</th>\n",
       "      <th>Paris</th>\n",
       "      <th>Prague</th>\n",
       "      <th>Rome</th>\n",
       "      <th>Stockholm</th>\n",
       "      <th>Vienna</th>\n",
       "      <th>Warsaw</th>\n",
       "      <th>Zurich</th>\n",
       "      <th>Friday</th>\n",
       "      <th>Monday</th>\n",
       "      <th>Saturday</th>\n",
       "      <th>Sunday</th>\n",
       "      <th>Thursday</th>\n",
       "      <th>Tuesday</th>\n",
       "      <th>Wednesday</th>\n",
       "      <th>Winter_reviews</th>\n",
       "      <th>Spring_reviews</th>\n",
       "      <th>Summer_reviews</th>\n",
       "      <th>Autumn_reviews</th>\n",
       "      <th>Number of Reviews_is_NAN</th>\n",
       "      <th>Cuisine Style_is_NAN</th>\n",
       "      <th>Price Range_is_NAN</th>\n",
       "      <th>Сity square^2</th>\n",
       "      <th>Сity square_Population</th>\n",
       "      <th>Population^2</th>\n",
       "    </tr>\n",
       "  </thead>\n",
       "  <tbody>\n",
       "    <tr>\n",
       "      <th>5624</th>\n",
       "      <td>2.0</td>\n",
       "      <td>114.0</td>\n",
       "      <td>3326627</td>\n",
       "      <td>0</td>\n",
       "      <td>0.0</td>\n",
       "      <td>5</td>\n",
       "      <td>0.263026</td>\n",
       "      <td>0.700000</td>\n",
       "      <td>0.25</td>\n",
       "      <td>1529.0</td>\n",
       "      <td>1536.0</td>\n",
       "      <td>7.0</td>\n",
       "      <td>0.000072</td>\n",
       "      <td>31.964912</td>\n",
       "      <td>0</td>\n",
       "      <td>0</td>\n",
       "      <td>0</td>\n",
       "      <td>1</td>\n",
       "      <td>0</td>\n",
       "      <td>0</td>\n",
       "      <td>0</td>\n",
       "      <td>0</td>\n",
       "      <td>0</td>\n",
       "      <td>0</td>\n",
       "      <td>0</td>\n",
       "      <td>...</td>\n",
       "      <td>0</td>\n",
       "      <td>0</td>\n",
       "      <td>0</td>\n",
       "      <td>0</td>\n",
       "      <td>0</td>\n",
       "      <td>0</td>\n",
       "      <td>0</td>\n",
       "      <td>0</td>\n",
       "      <td>0</td>\n",
       "      <td>0</td>\n",
       "      <td>0</td>\n",
       "      <td>0</td>\n",
       "      <td>0</td>\n",
       "      <td>2</td>\n",
       "      <td>0</td>\n",
       "      <td>2</td>\n",
       "      <td>0</td>\n",
       "      <td>0</td>\n",
       "      <td>0</td>\n",
       "      <td>0</td>\n",
       "      <td>0</td>\n",
       "      <td>0</td>\n",
       "      <td>7.950932e+05</td>\n",
       "      <td>3249281.92</td>\n",
       "      <td>13278736.0</td>\n",
       "    </tr>\n",
       "    <tr>\n",
       "      <th>7477</th>\n",
       "      <td>2.0</td>\n",
       "      <td>327.0</td>\n",
       "      <td>2330375</td>\n",
       "      <td>0</td>\n",
       "      <td>0.0</td>\n",
       "      <td>6</td>\n",
       "      <td>0.112419</td>\n",
       "      <td>-0.500000</td>\n",
       "      <td>1.00</td>\n",
       "      <td>1222.0</td>\n",
       "      <td>1250.0</td>\n",
       "      <td>28.0</td>\n",
       "      <td>0.000117</td>\n",
       "      <td>2.938838</td>\n",
       "      <td>0</td>\n",
       "      <td>0</td>\n",
       "      <td>0</td>\n",
       "      <td>0</td>\n",
       "      <td>0</td>\n",
       "      <td>0</td>\n",
       "      <td>0</td>\n",
       "      <td>0</td>\n",
       "      <td>0</td>\n",
       "      <td>0</td>\n",
       "      <td>0</td>\n",
       "      <td>...</td>\n",
       "      <td>0</td>\n",
       "      <td>0</td>\n",
       "      <td>0</td>\n",
       "      <td>0</td>\n",
       "      <td>1</td>\n",
       "      <td>0</td>\n",
       "      <td>0</td>\n",
       "      <td>0</td>\n",
       "      <td>0</td>\n",
       "      <td>2</td>\n",
       "      <td>0</td>\n",
       "      <td>0</td>\n",
       "      <td>0</td>\n",
       "      <td>0</td>\n",
       "      <td>0</td>\n",
       "      <td>0</td>\n",
       "      <td>0</td>\n",
       "      <td>0</td>\n",
       "      <td>2</td>\n",
       "      <td>0</td>\n",
       "      <td>0</td>\n",
       "      <td>0</td>\n",
       "      <td>3.534400e+04</td>\n",
       "      <td>180668.00</td>\n",
       "      <td>923521.0</td>\n",
       "    </tr>\n",
       "    <tr>\n",
       "      <th>27034</th>\n",
       "      <td>2.0</td>\n",
       "      <td>43.0</td>\n",
       "      <td>12450637</td>\n",
       "      <td>1</td>\n",
       "      <td>3.5</td>\n",
       "      <td>2</td>\n",
       "      <td>0.724937</td>\n",
       "      <td>0.316667</td>\n",
       "      <td>0.00</td>\n",
       "      <td>1172.0</td>\n",
       "      <td>1177.0</td>\n",
       "      <td>5.0</td>\n",
       "      <td>0.000493</td>\n",
       "      <td>34.209302</td>\n",
       "      <td>0</td>\n",
       "      <td>0</td>\n",
       "      <td>0</td>\n",
       "      <td>0</td>\n",
       "      <td>0</td>\n",
       "      <td>0</td>\n",
       "      <td>0</td>\n",
       "      <td>0</td>\n",
       "      <td>0</td>\n",
       "      <td>0</td>\n",
       "      <td>0</td>\n",
       "      <td>...</td>\n",
       "      <td>0</td>\n",
       "      <td>0</td>\n",
       "      <td>0</td>\n",
       "      <td>0</td>\n",
       "      <td>0</td>\n",
       "      <td>0</td>\n",
       "      <td>0</td>\n",
       "      <td>0</td>\n",
       "      <td>0</td>\n",
       "      <td>0</td>\n",
       "      <td>0</td>\n",
       "      <td>0</td>\n",
       "      <td>1</td>\n",
       "      <td>1</td>\n",
       "      <td>0</td>\n",
       "      <td>2</td>\n",
       "      <td>0</td>\n",
       "      <td>0</td>\n",
       "      <td>0</td>\n",
       "      <td>0</td>\n",
       "      <td>0</td>\n",
       "      <td>0</td>\n",
       "      <td>9.654070e+04</td>\n",
       "      <td>457054.41</td>\n",
       "      <td>2163841.0</td>\n",
       "    </tr>\n",
       "    <tr>\n",
       "      <th>12632</th>\n",
       "      <td>2.0</td>\n",
       "      <td>2.0</td>\n",
       "      <td>2454351</td>\n",
       "      <td>1</td>\n",
       "      <td>3.5</td>\n",
       "      <td>1</td>\n",
       "      <td>0.810677</td>\n",
       "      <td>0.000000</td>\n",
       "      <td>0.00</td>\n",
       "      <td>1422.0</td>\n",
       "      <td>1490.0</td>\n",
       "      <td>0.0</td>\n",
       "      <td>0.000588</td>\n",
       "      <td>689.000000</td>\n",
       "      <td>0</td>\n",
       "      <td>0</td>\n",
       "      <td>0</td>\n",
       "      <td>0</td>\n",
       "      <td>0</td>\n",
       "      <td>0</td>\n",
       "      <td>0</td>\n",
       "      <td>0</td>\n",
       "      <td>0</td>\n",
       "      <td>0</td>\n",
       "      <td>0</td>\n",
       "      <td>...</td>\n",
       "      <td>0</td>\n",
       "      <td>0</td>\n",
       "      <td>0</td>\n",
       "      <td>0</td>\n",
       "      <td>0</td>\n",
       "      <td>0</td>\n",
       "      <td>0</td>\n",
       "      <td>0</td>\n",
       "      <td>0</td>\n",
       "      <td>0</td>\n",
       "      <td>0</td>\n",
       "      <td>0</td>\n",
       "      <td>0</td>\n",
       "      <td>0</td>\n",
       "      <td>0</td>\n",
       "      <td>0</td>\n",
       "      <td>0</td>\n",
       "      <td>0</td>\n",
       "      <td>0</td>\n",
       "      <td>0</td>\n",
       "      <td>0</td>\n",
       "      <td>1</td>\n",
       "      <td>3.300399e+04</td>\n",
       "      <td>250341.26</td>\n",
       "      <td>1898884.0</td>\n",
       "    </tr>\n",
       "    <tr>\n",
       "      <th>44679</th>\n",
       "      <td>2.0</td>\n",
       "      <td>605.0</td>\n",
       "      <td>1014297</td>\n",
       "      <td>1</td>\n",
       "      <td>3.5</td>\n",
       "      <td>6</td>\n",
       "      <td>0.231817</td>\n",
       "      <td>0.000000</td>\n",
       "      <td>0.60</td>\n",
       "      <td>1186.0</td>\n",
       "      <td>1191.0</td>\n",
       "      <td>5.0</td>\n",
       "      <td>0.000026</td>\n",
       "      <td>14.723967</td>\n",
       "      <td>0</td>\n",
       "      <td>0</td>\n",
       "      <td>0</td>\n",
       "      <td>0</td>\n",
       "      <td>0</td>\n",
       "      <td>0</td>\n",
       "      <td>0</td>\n",
       "      <td>0</td>\n",
       "      <td>0</td>\n",
       "      <td>0</td>\n",
       "      <td>0</td>\n",
       "      <td>...</td>\n",
       "      <td>0</td>\n",
       "      <td>0</td>\n",
       "      <td>0</td>\n",
       "      <td>0</td>\n",
       "      <td>0</td>\n",
       "      <td>0</td>\n",
       "      <td>0</td>\n",
       "      <td>0</td>\n",
       "      <td>0</td>\n",
       "      <td>0</td>\n",
       "      <td>0</td>\n",
       "      <td>0</td>\n",
       "      <td>1</td>\n",
       "      <td>1</td>\n",
       "      <td>0</td>\n",
       "      <td>2</td>\n",
       "      <td>0</td>\n",
       "      <td>0</td>\n",
       "      <td>0</td>\n",
       "      <td>0</td>\n",
       "      <td>0</td>\n",
       "      <td>0</td>\n",
       "      <td>2.471184e+06</td>\n",
       "      <td>14003376.00</td>\n",
       "      <td>79352464.0</td>\n",
       "    </tr>\n",
       "  </tbody>\n",
       "</table>\n",
       "<p>5 rows × 62 columns</p>\n",
       "</div>"
      ],
      "text/plain": [
       "       Price Range  Number of Reviews     ID_TA  sample  Rating  Number of kitchen  Ranking_NORM  Review_1  Review_2  How_long_ago_1  How_long_ago_2  Day1_2  Rank/Population  Population/Number of Reviews  Amsterdam  Athens  Barcelona  Berlin  Bratislava  Brussels  Budapest  Copenhagen  Dublin  Edinburgh  Geneva  ...  Oslo  Paris  Prague  Rome  Stockholm  Vienna  Warsaw  Zurich  Friday  Monday  Saturday  Sunday  Thursday  Tuesday  Wednesday  Winter_reviews  Spring_reviews  Summer_reviews  \\\n",
       "5624           2.0              114.0   3326627       0     0.0                  5      0.263026  0.700000      0.25          1529.0          1536.0     7.0         0.000072                     31.964912          0       0          0       1           0         0         0           0       0          0       0  ...     0      0       0     0          0       0       0       0       0       0         0       0         0        2          0               2               0               0   \n",
       "7477           2.0              327.0   2330375       0     0.0                  6      0.112419 -0.500000      1.00          1222.0          1250.0    28.0         0.000117                      2.938838          0       0          0       0           0         0         0           0       0          0       0  ...     0      0       0     0          1       0       0       0       0       2         0       0         0        0          0               0               0               0   \n",
       "27034          2.0               43.0  12450637       1     3.5                  2      0.724937  0.316667      0.00          1172.0          1177.0     5.0         0.000493                     34.209302          0       0          0       0           0         0         0           0       0          0       0  ...     0      0       0     0          0       0       0       0       0       0         0       0         1        1          0               2               0               0   \n",
       "12632          2.0                2.0   2454351       1     3.5                  1      0.810677  0.000000      0.00          1422.0          1490.0     0.0         0.000588                    689.000000          0       0          0       0           0         0         0           0       0          0       0  ...     0      0       0     0          0       0       0       0       0       0         0       0         0        0          0               0               0               0   \n",
       "44679          2.0              605.0   1014297       1     3.5                  6      0.231817  0.000000      0.60          1186.0          1191.0     5.0         0.000026                     14.723967          0       0          0       0           0         0         0           0       0          0       0  ...     0      0       0     0          0       0       0       0       0       0         0       0         1        1          0               2               0               0   \n",
       "\n",
       "       Autumn_reviews  Number of Reviews_is_NAN  Cuisine Style_is_NAN  Price Range_is_NAN  Сity square^2  Сity square_Population  Population^2  \n",
       "5624                0                         0                     0                   0   7.950932e+05              3249281.92    13278736.0  \n",
       "7477                2                         0                     0                   0   3.534400e+04               180668.00      923521.0  \n",
       "27034               0                         0                     0                   0   9.654070e+04               457054.41     2163841.0  \n",
       "12632               0                         0                     0                   1   3.300399e+04               250341.26     1898884.0  \n",
       "44679               0                         0                     0                   0   2.471184e+06             14003376.00    79352464.0  \n",
       "\n",
       "[5 rows x 62 columns]"
      ]
     },
     "execution_count": 59,
     "metadata": {},
     "output_type": "execute_result"
    }
   ],
   "source": [
    "data.sample(5)"
   ]
  },
  {
   "cell_type": "markdown",
   "metadata": {},
   "source": [
    "> ### Самое наглядное - [корреляция признаков](https://ru.wikipedia.org/wiki/Корреляция)\n",
    "На этом графике уже можно заметить, как признаки связаны между собой и с целевой переменной."
   ]
  },
  {
   "cell_type": "code",
   "execution_count": 60,
   "metadata": {},
   "outputs": [
    {
     "data": {
      "text/plain": [
       "<matplotlib.axes._subplots.AxesSubplot at 0x7f95ec24b5c0>"
      ]
     },
     "execution_count": 60,
     "metadata": {},
     "output_type": "execute_result"
    },
    {
     "data": {
      "image/png": "[encoded data removed]",
      "text/plain": [
       "<Figure size 1440x864 with 2 Axes>"
      ]
     },
     "metadata": {
      "needs_background": "light"
     },
     "output_type": "display_data"
    }
   ],
   "source": [
    "plt.rcParams['figure.figsize'] = (20,12)\n",
    "sns.heatmap(data.drop(['sample'], axis=1).corr(),)"
   ]
  },
  {
   "cell_type": "markdown",
   "metadata": {},
   "source": [
    "Нельзя выделить признаки, которые явно связаны с целевой переменной Rating. Поэтому все признаки будут использованы при моделировании."
   ]
  },
  {
   "cell_type": "code",
   "execution_count": 61,
   "metadata": {},
   "outputs": [],
   "source": [
    "# Теперь выделим тестовую часть\n",
    "train_data = data.query('sample == 1').drop(['sample'], axis=1)\n",
    "test_data = data.query('sample == 0').drop(['sample'], axis=1)\n",
    "\n",
    "y = train_data.Rating.values            # наш таргет\n",
    "X = train_data.drop(['Rating'], axis=1)"
   ]
  },
  {
   "cell_type": "code",
   "execution_count": 62,
   "metadata": {},
   "outputs": [],
   "source": [
    "# Воспользуемся специальной функцие train_test_split для разбивки тестовых данных\n",
    "# выделим 20% данных на валидацию (параметр test_size)\n",
    "X_train, X_test, y_train, y_test = train_test_split(X, y, test_size=0.2, random_state=RANDOM_SEED)"
   ]
  },
  {
   "cell_type": "code",
   "execution_count": 63,
   "metadata": {},
   "outputs": [
    {
     "data": {
      "text/plain": [
       "((10000, 61), (40000, 61), (40000, 60), (32000, 60), (8000, 60))"
      ]
     },
     "execution_count": 63,
     "metadata": {},
     "output_type": "execute_result"
    }
   ],
   "source": [
    "# проверяем\n",
    "test_data.shape, train_data.shape, X.shape, X_train.shape, X_test.shape"
   ]
  },
  {
   "cell_type": "code",
   "execution_count": 64,
   "metadata": {},
   "outputs": [],
   "source": [
    "# Импортируем необходимые библиотеки:\n",
    "from sklearn.ensemble import RandomForestRegressor # инструмент для создания и обучения модели\n",
    "from sklearn import metrics # инструменты для оценки точности модели"
   ]
  },
  {
   "cell_type": "code",
   "execution_count": 65,
   "metadata": {},
   "outputs": [],
   "source": [
    "# Создаём модель (НАСТРОЙКИ НЕ ТРОГАЕМ)\n",
    "model = RandomForestRegressor(n_estimators=100, verbose=1, n_jobs=-1, random_state=RANDOM_SEED)"
   ]
  },
  {
   "cell_type": "code",
   "execution_count": 66,
   "metadata": {},
   "outputs": [
    {
     "name": "stderr",
     "output_type": "stream",
     "text": [
      "[Parallel(n_jobs=-1)]: Using backend ThreadingBackend with 4 concurrent workers.\n",
      "[Parallel(n_jobs=-1)]: Done  42 tasks      | elapsed:    7.2s\n",
      "[Parallel(n_jobs=-1)]: Done 100 out of 100 | elapsed:   16.4s finished\n",
      "[Parallel(n_jobs=4)]: Using backend ThreadingBackend with 4 concurrent workers.\n",
      "[Parallel(n_jobs=4)]: Done  42 tasks      | elapsed:    0.0s\n",
      "[Parallel(n_jobs=4)]: Done 100 out of 100 | elapsed:    0.1s finished\n"
     ]
    }
   ],
   "source": [
    "# Обучаем модель на тестовом наборе данных\n",
    "model.fit(X_train, y_train)\n",
    "\n",
    "# Используем обученную модель для предсказания рейтинга ресторанов в тестовой выборке.\n",
    "# Предсказанные значения записываем в переменную y_pred\n",
    "y_pred = model.predict(X_test)"
   ]
  },
  {
   "cell_type": "code",
   "execution_count": 67,
   "metadata": {},
   "outputs": [
    {
     "data": {
      "text/plain": [
       "array([4.5, 5. , 4.5, ..., 4.5, 4. , 4. ])"
      ]
     },
     "execution_count": 67,
     "metadata": {},
     "output_type": "execute_result"
    }
   ],
   "source": [
    "# Округлим до 0.5 полученные значения рейтинга\n",
    "y_pred = (y_pred*2).round()/2\n",
    "y_pred"
   ]
  },
  {
   "cell_type": "code",
   "execution_count": 68,
   "metadata": {},
   "outputs": [
    {
     "name": "stdout",
     "output_type": "stream",
     "text": [
      "MAE: 0.1620625\n"
     ]
    }
   ],
   "source": [
    "# Сравниваем предсказанные значения (y_pred) с реальными (y_test), и смотрим насколько они в среднем отличаются\n",
    "# Метрика называется Mean Absolute Error (MAE) и показывает среднее отклонение предсказанных значений от фактических.\n",
    "print('MAE:', metrics.mean_absolute_error(y_test, y_pred))"
   ]
  },
  {
   "cell_type": "code",
   "execution_count": 69,
   "metadata": {},
   "outputs": [
    {
     "data": {
      "text/plain": [
       "<matplotlib.axes._subplots.AxesSubplot at 0x7f961d457d30>"
      ]
     },
     "execution_count": 69,
     "metadata": {},
     "output_type": "execute_result"
    },
    {
     "data": {
      "image/png": "[encoded data removed]",
      "text/plain": [
       "<Figure size 864x720 with 1 Axes>"
      ]
     },
     "metadata": {
      "needs_background": "light"
     },
     "output_type": "display_data"
    }
   ],
   "source": [
    "# в RandomForestRegressor есть возможность вывести самые важные признаки для модели\n",
    "plt.rcParams['figure.figsize'] = (12,10)\n",
    "feat_importances = pd.Series(model.feature_importances_, index=X.columns)\n",
    "feat_importances.nlargest(20).plot(kind='barh')"
   ]
  },
  {
   "cell_type": "markdown",
   "metadata": {},
   "source": [
    "# Submission\n",
    "Все устраевает - готовим Submission на кагл"
   ]
  },
  {
   "cell_type": "code",
   "execution_count": 70,
   "metadata": {},
   "outputs": [
    {
     "data": {
      "text/html": [
       "<div>\n",
       "<style scoped>\n",
       "    .dataframe tbody tr th:only-of-type {\n",
       "        vertical-align: middle;\n",
       "    }\n",
       "\n",
       "    .dataframe tbody tr th {\n",
       "        vertical-align: top;\n",
       "    }\n",
       "\n",
       "    .dataframe thead th {\n",
       "        text-align: right;\n",
       "    }\n",
       "</style>\n",
       "<table border=\"1\" class=\"dataframe\">\n",
       "  <thead>\n",
       "    <tr style=\"text-align: right;\">\n",
       "      <th></th>\n",
       "      <th>Price Range</th>\n",
       "      <th>Number of Reviews</th>\n",
       "      <th>ID_TA</th>\n",
       "      <th>Rating</th>\n",
       "      <th>Number of kitchen</th>\n",
       "      <th>Ranking_NORM</th>\n",
       "      <th>Review_1</th>\n",
       "      <th>Review_2</th>\n",
       "      <th>How_long_ago_1</th>\n",
       "      <th>How_long_ago_2</th>\n",
       "      <th>Day1_2</th>\n",
       "      <th>Rank/Population</th>\n",
       "      <th>Population/Number of Reviews</th>\n",
       "      <th>Amsterdam</th>\n",
       "      <th>Athens</th>\n",
       "      <th>Barcelona</th>\n",
       "      <th>Berlin</th>\n",
       "      <th>Bratislava</th>\n",
       "      <th>Brussels</th>\n",
       "      <th>Budapest</th>\n",
       "      <th>Copenhagen</th>\n",
       "      <th>Dublin</th>\n",
       "      <th>Edinburgh</th>\n",
       "      <th>Geneva</th>\n",
       "      <th>Hamburg</th>\n",
       "      <th>...</th>\n",
       "      <th>Oslo</th>\n",
       "      <th>Paris</th>\n",
       "      <th>Prague</th>\n",
       "      <th>Rome</th>\n",
       "      <th>Stockholm</th>\n",
       "      <th>Vienna</th>\n",
       "      <th>Warsaw</th>\n",
       "      <th>Zurich</th>\n",
       "      <th>Friday</th>\n",
       "      <th>Monday</th>\n",
       "      <th>Saturday</th>\n",
       "      <th>Sunday</th>\n",
       "      <th>Thursday</th>\n",
       "      <th>Tuesday</th>\n",
       "      <th>Wednesday</th>\n",
       "      <th>Winter_reviews</th>\n",
       "      <th>Spring_reviews</th>\n",
       "      <th>Summer_reviews</th>\n",
       "      <th>Autumn_reviews</th>\n",
       "      <th>Number of Reviews_is_NAN</th>\n",
       "      <th>Cuisine Style_is_NAN</th>\n",
       "      <th>Price Range_is_NAN</th>\n",
       "      <th>Сity square^2</th>\n",
       "      <th>Сity square_Population</th>\n",
       "      <th>Population^2</th>\n",
       "    </tr>\n",
       "  </thead>\n",
       "  <tbody>\n",
       "    <tr>\n",
       "      <th>3413</th>\n",
       "      <td>2.0</td>\n",
       "      <td>33.0</td>\n",
       "      <td>8432690</td>\n",
       "      <td>0.0</td>\n",
       "      <td>3</td>\n",
       "      <td>0.907762</td>\n",
       "      <td>-0.166667</td>\n",
       "      <td>0.00000</td>\n",
       "      <td>1320.0</td>\n",
       "      <td>1332.0</td>\n",
       "      <td>12.0</td>\n",
       "      <td>0.002077</td>\n",
       "      <td>13.242424</td>\n",
       "      <td>0</td>\n",
       "      <td>0</td>\n",
       "      <td>0</td>\n",
       "      <td>0</td>\n",
       "      <td>1</td>\n",
       "      <td>0</td>\n",
       "      <td>0</td>\n",
       "      <td>0</td>\n",
       "      <td>0</td>\n",
       "      <td>0</td>\n",
       "      <td>0</td>\n",
       "      <td>0</td>\n",
       "      <td>...</td>\n",
       "      <td>0</td>\n",
       "      <td>0</td>\n",
       "      <td>0</td>\n",
       "      <td>0</td>\n",
       "      <td>0</td>\n",
       "      <td>0</td>\n",
       "      <td>0</td>\n",
       "      <td>0</td>\n",
       "      <td>0</td>\n",
       "      <td>1</td>\n",
       "      <td>0</td>\n",
       "      <td>0</td>\n",
       "      <td>0</td>\n",
       "      <td>0</td>\n",
       "      <td>1</td>\n",
       "      <td>0</td>\n",
       "      <td>0</td>\n",
       "      <td>2</td>\n",
       "      <td>0</td>\n",
       "      <td>0</td>\n",
       "      <td>0</td>\n",
       "      <td>0</td>\n",
       "      <td>1.354240e+05</td>\n",
       "      <td>160816.00</td>\n",
       "      <td>190969.0</td>\n",
       "    </tr>\n",
       "    <tr>\n",
       "      <th>2379</th>\n",
       "      <td>2.0</td>\n",
       "      <td>73.0</td>\n",
       "      <td>8733614</td>\n",
       "      <td>0.0</td>\n",
       "      <td>1</td>\n",
       "      <td>0.809494</td>\n",
       "      <td>1.000000</td>\n",
       "      <td>0.00000</td>\n",
       "      <td>1986.0</td>\n",
       "      <td>1490.0</td>\n",
       "      <td>0.0</td>\n",
       "      <td>0.001891</td>\n",
       "      <td>5.863014</td>\n",
       "      <td>0</td>\n",
       "      <td>0</td>\n",
       "      <td>0</td>\n",
       "      <td>0</td>\n",
       "      <td>0</td>\n",
       "      <td>0</td>\n",
       "      <td>0</td>\n",
       "      <td>0</td>\n",
       "      <td>0</td>\n",
       "      <td>0</td>\n",
       "      <td>0</td>\n",
       "      <td>0</td>\n",
       "      <td>...</td>\n",
       "      <td>0</td>\n",
       "      <td>0</td>\n",
       "      <td>0</td>\n",
       "      <td>0</td>\n",
       "      <td>0</td>\n",
       "      <td>0</td>\n",
       "      <td>0</td>\n",
       "      <td>1</td>\n",
       "      <td>0</td>\n",
       "      <td>0</td>\n",
       "      <td>0</td>\n",
       "      <td>1</td>\n",
       "      <td>0</td>\n",
       "      <td>0</td>\n",
       "      <td>0</td>\n",
       "      <td>0</td>\n",
       "      <td>0</td>\n",
       "      <td>0</td>\n",
       "      <td>1</td>\n",
       "      <td>1</td>\n",
       "      <td>0</td>\n",
       "      <td>1</td>\n",
       "      <td>8.441934e+03</td>\n",
       "      <td>39324.64</td>\n",
       "      <td>183184.0</td>\n",
       "    </tr>\n",
       "    <tr>\n",
       "      <th>8484</th>\n",
       "      <td>2.0</td>\n",
       "      <td>80.0</td>\n",
       "      <td>4129260</td>\n",
       "      <td>0.0</td>\n",
       "      <td>3</td>\n",
       "      <td>0.483337</td>\n",
       "      <td>0.800000</td>\n",
       "      <td>-0.10000</td>\n",
       "      <td>1209.0</td>\n",
       "      <td>1265.0</td>\n",
       "      <td>56.0</td>\n",
       "      <td>0.000054</td>\n",
       "      <td>111.350000</td>\n",
       "      <td>0</td>\n",
       "      <td>0</td>\n",
       "      <td>0</td>\n",
       "      <td>0</td>\n",
       "      <td>0</td>\n",
       "      <td>0</td>\n",
       "      <td>0</td>\n",
       "      <td>0</td>\n",
       "      <td>0</td>\n",
       "      <td>0</td>\n",
       "      <td>0</td>\n",
       "      <td>0</td>\n",
       "      <td>...</td>\n",
       "      <td>0</td>\n",
       "      <td>0</td>\n",
       "      <td>0</td>\n",
       "      <td>0</td>\n",
       "      <td>0</td>\n",
       "      <td>0</td>\n",
       "      <td>0</td>\n",
       "      <td>0</td>\n",
       "      <td>0</td>\n",
       "      <td>0</td>\n",
       "      <td>0</td>\n",
       "      <td>2</td>\n",
       "      <td>0</td>\n",
       "      <td>0</td>\n",
       "      <td>0</td>\n",
       "      <td>1</td>\n",
       "      <td>0</td>\n",
       "      <td>0</td>\n",
       "      <td>1</td>\n",
       "      <td>0</td>\n",
       "      <td>0</td>\n",
       "      <td>0</td>\n",
       "      <td>2.471184e+06</td>\n",
       "      <td>14003376.00</td>\n",
       "      <td>79352464.0</td>\n",
       "    </tr>\n",
       "    <tr>\n",
       "      <th>3798</th>\n",
       "      <td>2.0</td>\n",
       "      <td>418.0</td>\n",
       "      <td>6417784</td>\n",
       "      <td>0.0</td>\n",
       "      <td>6</td>\n",
       "      <td>0.162447</td>\n",
       "      <td>0.725000</td>\n",
       "      <td>-0.39375</td>\n",
       "      <td>1248.0</td>\n",
       "      <td>1296.0</td>\n",
       "      <td>48.0</td>\n",
       "      <td>0.000050</td>\n",
       "      <td>7.813397</td>\n",
       "      <td>0</td>\n",
       "      <td>0</td>\n",
       "      <td>0</td>\n",
       "      <td>0</td>\n",
       "      <td>0</td>\n",
       "      <td>0</td>\n",
       "      <td>0</td>\n",
       "      <td>0</td>\n",
       "      <td>0</td>\n",
       "      <td>0</td>\n",
       "      <td>0</td>\n",
       "      <td>0</td>\n",
       "      <td>...</td>\n",
       "      <td>0</td>\n",
       "      <td>0</td>\n",
       "      <td>0</td>\n",
       "      <td>0</td>\n",
       "      <td>0</td>\n",
       "      <td>0</td>\n",
       "      <td>0</td>\n",
       "      <td>0</td>\n",
       "      <td>0</td>\n",
       "      <td>0</td>\n",
       "      <td>0</td>\n",
       "      <td>0</td>\n",
       "      <td>1</td>\n",
       "      <td>0</td>\n",
       "      <td>1</td>\n",
       "      <td>0</td>\n",
       "      <td>0</td>\n",
       "      <td>0</td>\n",
       "      <td>2</td>\n",
       "      <td>0</td>\n",
       "      <td>0</td>\n",
       "      <td>0</td>\n",
       "      <td>3.684490e+05</td>\n",
       "      <td>1982462.00</td>\n",
       "      <td>10666756.0</td>\n",
       "    </tr>\n",
       "    <tr>\n",
       "      <th>9416</th>\n",
       "      <td>2.0</td>\n",
       "      <td>71.0</td>\n",
       "      <td>753109</td>\n",
       "      <td>0.0</td>\n",
       "      <td>2</td>\n",
       "      <td>0.278427</td>\n",
       "      <td>0.200000</td>\n",
       "      <td>0.00000</td>\n",
       "      <td>1190.0</td>\n",
       "      <td>1233.0</td>\n",
       "      <td>43.0</td>\n",
       "      <td>0.000319</td>\n",
       "      <td>12.281690</td>\n",
       "      <td>1</td>\n",
       "      <td>0</td>\n",
       "      <td>0</td>\n",
       "      <td>0</td>\n",
       "      <td>0</td>\n",
       "      <td>0</td>\n",
       "      <td>0</td>\n",
       "      <td>0</td>\n",
       "      <td>0</td>\n",
       "      <td>0</td>\n",
       "      <td>0</td>\n",
       "      <td>0</td>\n",
       "      <td>...</td>\n",
       "      <td>0</td>\n",
       "      <td>0</td>\n",
       "      <td>0</td>\n",
       "      <td>0</td>\n",
       "      <td>0</td>\n",
       "      <td>0</td>\n",
       "      <td>0</td>\n",
       "      <td>0</td>\n",
       "      <td>1</td>\n",
       "      <td>0</td>\n",
       "      <td>0</td>\n",
       "      <td>0</td>\n",
       "      <td>1</td>\n",
       "      <td>0</td>\n",
       "      <td>0</td>\n",
       "      <td>1</td>\n",
       "      <td>0</td>\n",
       "      <td>0</td>\n",
       "      <td>1</td>\n",
       "      <td>0</td>\n",
       "      <td>0</td>\n",
       "      <td>0</td>\n",
       "      <td>4.813636e+04</td>\n",
       "      <td>191316.80</td>\n",
       "      <td>760384.0</td>\n",
       "    </tr>\n",
       "    <tr>\n",
       "      <th>9423</th>\n",
       "      <td>2.0</td>\n",
       "      <td>37.0</td>\n",
       "      <td>4290252</td>\n",
       "      <td>0.0</td>\n",
       "      <td>4</td>\n",
       "      <td>0.322610</td>\n",
       "      <td>0.256250</td>\n",
       "      <td>0.80000</td>\n",
       "      <td>1320.0</td>\n",
       "      <td>1454.0</td>\n",
       "      <td>134.0</td>\n",
       "      <td>0.000036</td>\n",
       "      <td>240.756757</td>\n",
       "      <td>0</td>\n",
       "      <td>0</td>\n",
       "      <td>0</td>\n",
       "      <td>0</td>\n",
       "      <td>0</td>\n",
       "      <td>0</td>\n",
       "      <td>0</td>\n",
       "      <td>0</td>\n",
       "      <td>0</td>\n",
       "      <td>0</td>\n",
       "      <td>0</td>\n",
       "      <td>0</td>\n",
       "      <td>...</td>\n",
       "      <td>0</td>\n",
       "      <td>0</td>\n",
       "      <td>0</td>\n",
       "      <td>0</td>\n",
       "      <td>0</td>\n",
       "      <td>0</td>\n",
       "      <td>0</td>\n",
       "      <td>0</td>\n",
       "      <td>0</td>\n",
       "      <td>1</td>\n",
       "      <td>0</td>\n",
       "      <td>1</td>\n",
       "      <td>0</td>\n",
       "      <td>0</td>\n",
       "      <td>0</td>\n",
       "      <td>0</td>\n",
       "      <td>1</td>\n",
       "      <td>1</td>\n",
       "      <td>0</td>\n",
       "      <td>0</td>\n",
       "      <td>0</td>\n",
       "      <td>0</td>\n",
       "      <td>2.471184e+06</td>\n",
       "      <td>14003376.00</td>\n",
       "      <td>79352464.0</td>\n",
       "    </tr>\n",
       "    <tr>\n",
       "      <th>4874</th>\n",
       "      <td>2.0</td>\n",
       "      <td>284.0</td>\n",
       "      <td>987957</td>\n",
       "      <td>0.0</td>\n",
       "      <td>2</td>\n",
       "      <td>0.073221</td>\n",
       "      <td>0.000000</td>\n",
       "      <td>0.35000</td>\n",
       "      <td>1439.0</td>\n",
       "      <td>1518.0</td>\n",
       "      <td>79.0</td>\n",
       "      <td>0.000022</td>\n",
       "      <td>11.500000</td>\n",
       "      <td>0</td>\n",
       "      <td>0</td>\n",
       "      <td>0</td>\n",
       "      <td>0</td>\n",
       "      <td>0</td>\n",
       "      <td>0</td>\n",
       "      <td>0</td>\n",
       "      <td>0</td>\n",
       "      <td>0</td>\n",
       "      <td>0</td>\n",
       "      <td>0</td>\n",
       "      <td>0</td>\n",
       "      <td>...</td>\n",
       "      <td>0</td>\n",
       "      <td>0</td>\n",
       "      <td>0</td>\n",
       "      <td>0</td>\n",
       "      <td>0</td>\n",
       "      <td>0</td>\n",
       "      <td>0</td>\n",
       "      <td>0</td>\n",
       "      <td>0</td>\n",
       "      <td>1</td>\n",
       "      <td>1</td>\n",
       "      <td>0</td>\n",
       "      <td>0</td>\n",
       "      <td>0</td>\n",
       "      <td>0</td>\n",
       "      <td>1</td>\n",
       "      <td>1</td>\n",
       "      <td>0</td>\n",
       "      <td>0</td>\n",
       "      <td>0</td>\n",
       "      <td>0</td>\n",
       "      <td>0</td>\n",
       "      <td>3.684490e+05</td>\n",
       "      <td>1982462.00</td>\n",
       "      <td>10666756.0</td>\n",
       "    </tr>\n",
       "    <tr>\n",
       "      <th>7574</th>\n",
       "      <td>2.0</td>\n",
       "      <td>33.0</td>\n",
       "      <td>3170014</td>\n",
       "      <td>0.0</td>\n",
       "      <td>2</td>\n",
       "      <td>0.344947</td>\n",
       "      <td>0.000000</td>\n",
       "      <td>0.20000</td>\n",
       "      <td>1523.0</td>\n",
       "      <td>1336.0</td>\n",
       "      <td>187.0</td>\n",
       "      <td>0.000095</td>\n",
       "      <td>110.424242</td>\n",
       "      <td>0</td>\n",
       "      <td>0</td>\n",
       "      <td>0</td>\n",
       "      <td>1</td>\n",
       "      <td>0</td>\n",
       "      <td>0</td>\n",
       "      <td>0</td>\n",
       "      <td>0</td>\n",
       "      <td>0</td>\n",
       "      <td>0</td>\n",
       "      <td>0</td>\n",
       "      <td>0</td>\n",
       "      <td>...</td>\n",
       "      <td>0</td>\n",
       "      <td>0</td>\n",
       "      <td>0</td>\n",
       "      <td>0</td>\n",
       "      <td>0</td>\n",
       "      <td>0</td>\n",
       "      <td>0</td>\n",
       "      <td>0</td>\n",
       "      <td>0</td>\n",
       "      <td>1</td>\n",
       "      <td>1</td>\n",
       "      <td>0</td>\n",
       "      <td>0</td>\n",
       "      <td>0</td>\n",
       "      <td>0</td>\n",
       "      <td>1</td>\n",
       "      <td>0</td>\n",
       "      <td>1</td>\n",
       "      <td>0</td>\n",
       "      <td>0</td>\n",
       "      <td>0</td>\n",
       "      <td>0</td>\n",
       "      <td>7.950932e+05</td>\n",
       "      <td>3249281.92</td>\n",
       "      <td>13278736.0</td>\n",
       "    </tr>\n",
       "    <tr>\n",
       "      <th>5193</th>\n",
       "      <td>2.0</td>\n",
       "      <td>41.0</td>\n",
       "      <td>9763370</td>\n",
       "      <td>0.0</td>\n",
       "      <td>3</td>\n",
       "      <td>0.526546</td>\n",
       "      <td>-0.250000</td>\n",
       "      <td>1.00000</td>\n",
       "      <td>1353.0</td>\n",
       "      <td>1383.0</td>\n",
       "      <td>30.0</td>\n",
       "      <td>0.001230</td>\n",
       "      <td>10.439024</td>\n",
       "      <td>0</td>\n",
       "      <td>0</td>\n",
       "      <td>0</td>\n",
       "      <td>0</td>\n",
       "      <td>0</td>\n",
       "      <td>0</td>\n",
       "      <td>0</td>\n",
       "      <td>0</td>\n",
       "      <td>0</td>\n",
       "      <td>0</td>\n",
       "      <td>0</td>\n",
       "      <td>0</td>\n",
       "      <td>...</td>\n",
       "      <td>0</td>\n",
       "      <td>0</td>\n",
       "      <td>0</td>\n",
       "      <td>0</td>\n",
       "      <td>0</td>\n",
       "      <td>0</td>\n",
       "      <td>0</td>\n",
       "      <td>1</td>\n",
       "      <td>0</td>\n",
       "      <td>1</td>\n",
       "      <td>0</td>\n",
       "      <td>0</td>\n",
       "      <td>0</td>\n",
       "      <td>0</td>\n",
       "      <td>1</td>\n",
       "      <td>0</td>\n",
       "      <td>0</td>\n",
       "      <td>2</td>\n",
       "      <td>0</td>\n",
       "      <td>0</td>\n",
       "      <td>0</td>\n",
       "      <td>0</td>\n",
       "      <td>8.441934e+03</td>\n",
       "      <td>39324.64</td>\n",
       "      <td>183184.0</td>\n",
       "    </tr>\n",
       "    <tr>\n",
       "      <th>6191</th>\n",
       "      <td>2.0</td>\n",
       "      <td>128.0</td>\n",
       "      <td>12790648</td>\n",
       "      <td>0.0</td>\n",
       "      <td>2</td>\n",
       "      <td>0.789077</td>\n",
       "      <td>0.600000</td>\n",
       "      <td>0.00000</td>\n",
       "      <td>1321.0</td>\n",
       "      <td>1490.0</td>\n",
       "      <td>0.0</td>\n",
       "      <td>0.001563</td>\n",
       "      <td>3.945312</td>\n",
       "      <td>0</td>\n",
       "      <td>0</td>\n",
       "      <td>0</td>\n",
       "      <td>0</td>\n",
       "      <td>0</td>\n",
       "      <td>0</td>\n",
       "      <td>0</td>\n",
       "      <td>0</td>\n",
       "      <td>0</td>\n",
       "      <td>0</td>\n",
       "      <td>0</td>\n",
       "      <td>0</td>\n",
       "      <td>...</td>\n",
       "      <td>0</td>\n",
       "      <td>0</td>\n",
       "      <td>0</td>\n",
       "      <td>0</td>\n",
       "      <td>0</td>\n",
       "      <td>0</td>\n",
       "      <td>0</td>\n",
       "      <td>0</td>\n",
       "      <td>0</td>\n",
       "      <td>0</td>\n",
       "      <td>0</td>\n",
       "      <td>1</td>\n",
       "      <td>0</td>\n",
       "      <td>0</td>\n",
       "      <td>0</td>\n",
       "      <td>0</td>\n",
       "      <td>0</td>\n",
       "      <td>1</td>\n",
       "      <td>0</td>\n",
       "      <td>1</td>\n",
       "      <td>0</td>\n",
       "      <td>1</td>\n",
       "      <td>1.001000e+04</td>\n",
       "      <td>50525.25</td>\n",
       "      <td>255025.0</td>\n",
       "    </tr>\n",
       "  </tbody>\n",
       "</table>\n",
       "<p>10 rows × 61 columns</p>\n",
       "</div>"
      ],
      "text/plain": [
       "      Price Range  Number of Reviews     ID_TA  Rating  Number of kitchen  Ranking_NORM  Review_1  Review_2  How_long_ago_1  How_long_ago_2  Day1_2  Rank/Population  Population/Number of Reviews  Amsterdam  Athens  Barcelona  Berlin  Bratislava  Brussels  Budapest  Copenhagen  Dublin  Edinburgh  Geneva  Hamburg  ...  Oslo  Paris  Prague  Rome  Stockholm  Vienna  Warsaw  Zurich  Friday  Monday  Saturday  Sunday  Thursday  Tuesday  Wednesday  Winter_reviews  Spring_reviews  Summer_reviews  \\\n",
       "3413          2.0               33.0   8432690     0.0                  3      0.907762 -0.166667   0.00000          1320.0          1332.0    12.0         0.002077                     13.242424          0       0          0       0           1         0         0           0       0          0       0        0  ...     0      0       0     0          0       0       0       0       0       1         0       0         0        0          1               0               0               2   \n",
       "2379          2.0               73.0   8733614     0.0                  1      0.809494  1.000000   0.00000          1986.0          1490.0     0.0         0.001891                      5.863014          0       0          0       0           0         0         0           0       0          0       0        0  ...     0      0       0     0          0       0       0       1       0       0         0       1         0        0          0               0               0               0   \n",
       "8484          2.0               80.0   4129260     0.0                  3      0.483337  0.800000  -0.10000          1209.0          1265.0    56.0         0.000054                    111.350000          0       0          0       0           0         0         0           0       0          0       0        0  ...     0      0       0     0          0       0       0       0       0       0         0       2         0        0          0               1               0               0   \n",
       "3798          2.0              418.0   6417784     0.0                  6      0.162447  0.725000  -0.39375          1248.0          1296.0    48.0         0.000050                      7.813397          0       0          0       0           0         0         0           0       0          0       0        0  ...     0      0       0     0          0       0       0       0       0       0         0       0         1        0          1               0               0               0   \n",
       "9416          2.0               71.0    753109     0.0                  2      0.278427  0.200000   0.00000          1190.0          1233.0    43.0         0.000319                     12.281690          1       0          0       0           0         0         0           0       0          0       0        0  ...     0      0       0     0          0       0       0       0       1       0         0       0         1        0          0               1               0               0   \n",
       "9423          2.0               37.0   4290252     0.0                  4      0.322610  0.256250   0.80000          1320.0          1454.0   134.0         0.000036                    240.756757          0       0          0       0           0         0         0           0       0          0       0        0  ...     0      0       0     0          0       0       0       0       0       1         0       1         0        0          0               0               1               1   \n",
       "4874          2.0              284.0    987957     0.0                  2      0.073221  0.000000   0.35000          1439.0          1518.0    79.0         0.000022                     11.500000          0       0          0       0           0         0         0           0       0          0       0        0  ...     0      0       0     0          0       0       0       0       0       1         1       0         0        0          0               1               1               0   \n",
       "7574          2.0               33.0   3170014     0.0                  2      0.344947  0.000000   0.20000          1523.0          1336.0   187.0         0.000095                    110.424242          0       0          0       1           0         0         0           0       0          0       0        0  ...     0      0       0     0          0       0       0       0       0       1         1       0         0        0          0               1               0               1   \n",
       "5193          2.0               41.0   9763370     0.0                  3      0.526546 -0.250000   1.00000          1353.0          1383.0    30.0         0.001230                     10.439024          0       0          0       0           0         0         0           0       0          0       0        0  ...     0      0       0     0          0       0       0       1       0       1         0       0         0        0          1               0               0               2   \n",
       "6191          2.0              128.0  12790648     0.0                  2      0.789077  0.600000   0.00000          1321.0          1490.0     0.0         0.001563                      3.945312          0       0          0       0           0         0         0           0       0          0       0        0  ...     0      0       0     0          0       0       0       0       0       0         0       1         0        0          0               0               0               1   \n",
       "\n",
       "      Autumn_reviews  Number of Reviews_is_NAN  Cuisine Style_is_NAN  Price Range_is_NAN  Сity square^2  Сity square_Population  Population^2  \n",
       "3413               0                         0                     0                   0   1.354240e+05               160816.00      190969.0  \n",
       "2379               1                         1                     0                   1   8.441934e+03                39324.64      183184.0  \n",
       "8484               1                         0                     0                   0   2.471184e+06             14003376.00    79352464.0  \n",
       "3798               2                         0                     0                   0   3.684490e+05              1982462.00    10666756.0  \n",
       "9416               1                         0                     0                   0   4.813636e+04               191316.80      760384.0  \n",
       "9423               0                         0                     0                   0   2.471184e+06             14003376.00    79352464.0  \n",
       "4874               0                         0                     0                   0   3.684490e+05              1982462.00    10666756.0  \n",
       "7574               0                         0                     0                   0   7.950932e+05              3249281.92    13278736.0  \n",
       "5193               0                         0                     0                   0   8.441934e+03                39324.64      183184.0  \n",
       "6191               0                         1                     0                   1   1.001000e+04                50525.25      255025.0  \n",
       "\n",
       "[10 rows x 61 columns]"
      ]
     },
     "execution_count": 70,
     "metadata": {},
     "output_type": "execute_result"
    }
   ],
   "source": [
    "test_data.sample(10)"
   ]
  },
  {
   "cell_type": "code",
   "execution_count": 71,
   "metadata": {},
   "outputs": [],
   "source": [
    "test_data = test_data.drop(['Rating'], axis=1)"
   ]
  },
  {
   "cell_type": "code",
   "execution_count": 72,
   "metadata": {},
   "outputs": [
    {
     "data": {
      "text/html": [
       "<div>\n",
       "<style scoped>\n",
       "    .dataframe tbody tr th:only-of-type {\n",
       "        vertical-align: middle;\n",
       "    }\n",
       "\n",
       "    .dataframe tbody tr th {\n",
       "        vertical-align: top;\n",
       "    }\n",
       "\n",
       "    .dataframe thead th {\n",
       "        text-align: right;\n",
       "    }\n",
       "</style>\n",
       "<table border=\"1\" class=\"dataframe\">\n",
       "  <thead>\n",
       "    <tr style=\"text-align: right;\">\n",
       "      <th></th>\n",
       "      <th>Restaurant_id</th>\n",
       "      <th>Rating</th>\n",
       "    </tr>\n",
       "  </thead>\n",
       "  <tbody>\n",
       "    <tr>\n",
       "      <th>0</th>\n",
       "      <td>id_0</td>\n",
       "      <td>2.0</td>\n",
       "    </tr>\n",
       "    <tr>\n",
       "      <th>1</th>\n",
       "      <td>id_1</td>\n",
       "      <td>2.5</td>\n",
       "    </tr>\n",
       "    <tr>\n",
       "      <th>2</th>\n",
       "      <td>id_2</td>\n",
       "      <td>4.0</td>\n",
       "    </tr>\n",
       "    <tr>\n",
       "      <th>3</th>\n",
       "      <td>id_3</td>\n",
       "      <td>1.0</td>\n",
       "    </tr>\n",
       "    <tr>\n",
       "      <th>4</th>\n",
       "      <td>id_4</td>\n",
       "      <td>4.0</td>\n",
       "    </tr>\n",
       "    <tr>\n",
       "      <th>...</th>\n",
       "      <td>...</td>\n",
       "      <td>...</td>\n",
       "    </tr>\n",
       "    <tr>\n",
       "      <th>9995</th>\n",
       "      <td>id_9995</td>\n",
       "      <td>3.0</td>\n",
       "    </tr>\n",
       "    <tr>\n",
       "      <th>9996</th>\n",
       "      <td>id_9996</td>\n",
       "      <td>1.5</td>\n",
       "    </tr>\n",
       "    <tr>\n",
       "      <th>9997</th>\n",
       "      <td>id_9997</td>\n",
       "      <td>4.5</td>\n",
       "    </tr>\n",
       "    <tr>\n",
       "      <th>9998</th>\n",
       "      <td>id_9998</td>\n",
       "      <td>1.0</td>\n",
       "    </tr>\n",
       "    <tr>\n",
       "      <th>9999</th>\n",
       "      <td>id_9999</td>\n",
       "      <td>2.5</td>\n",
       "    </tr>\n",
       "  </tbody>\n",
       "</table>\n",
       "<p>10000 rows × 2 columns</p>\n",
       "</div>"
      ],
      "text/plain": [
       "     Restaurant_id  Rating\n",
       "0             id_0     2.0\n",
       "1             id_1     2.5\n",
       "2             id_2     4.0\n",
       "3             id_3     1.0\n",
       "4             id_4     4.0\n",
       "...            ...     ...\n",
       "9995       id_9995     3.0\n",
       "9996       id_9996     1.5\n",
       "9997       id_9997     4.5\n",
       "9998       id_9998     1.0\n",
       "9999       id_9999     2.5\n",
       "\n",
       "[10000 rows x 2 columns]"
      ]
     },
     "execution_count": 72,
     "metadata": {},
     "output_type": "execute_result"
    }
   ],
   "source": [
    "sample_submission"
   ]
  },
  {
   "cell_type": "code",
   "execution_count": 73,
   "metadata": {},
   "outputs": [
    {
     "name": "stderr",
     "output_type": "stream",
     "text": [
      "[Parallel(n_jobs=4)]: Using backend ThreadingBackend with 4 concurrent workers.\n",
      "[Parallel(n_jobs=4)]: Done  42 tasks      | elapsed:    0.0s\n",
      "[Parallel(n_jobs=4)]: Done 100 out of 100 | elapsed:    0.1s finished\n"
     ]
    }
   ],
   "source": [
    "predict_submission = model.predict(test_data)"
   ]
  },
  {
   "cell_type": "code",
   "execution_count": 74,
   "metadata": {},
   "outputs": [
    {
     "data": {
      "text/plain": [
       "array([3.16 , 4.26 , 4.215, ..., 3.035, 4.47 , 4.285])"
      ]
     },
     "execution_count": 74,
     "metadata": {},
     "output_type": "execute_result"
    }
   ],
   "source": [
    "predict_submission"
   ]
  },
  {
   "cell_type": "code",
   "execution_count": 75,
   "metadata": {},
   "outputs": [
    {
     "data": {
      "text/html": [
       "<div>\n",
       "<style scoped>\n",
       "    .dataframe tbody tr th:only-of-type {\n",
       "        vertical-align: middle;\n",
       "    }\n",
       "\n",
       "    .dataframe tbody tr th {\n",
       "        vertical-align: top;\n",
       "    }\n",
       "\n",
       "    .dataframe thead th {\n",
       "        text-align: right;\n",
       "    }\n",
       "</style>\n",
       "<table border=\"1\" class=\"dataframe\">\n",
       "  <thead>\n",
       "    <tr style=\"text-align: right;\">\n",
       "      <th></th>\n",
       "      <th>Restaurant_id</th>\n",
       "      <th>Rating</th>\n",
       "    </tr>\n",
       "  </thead>\n",
       "  <tbody>\n",
       "    <tr>\n",
       "      <th>0</th>\n",
       "      <td>id_0</td>\n",
       "      <td>3.160</td>\n",
       "    </tr>\n",
       "    <tr>\n",
       "      <th>1</th>\n",
       "      <td>id_1</td>\n",
       "      <td>4.260</td>\n",
       "    </tr>\n",
       "    <tr>\n",
       "      <th>2</th>\n",
       "      <td>id_2</td>\n",
       "      <td>4.215</td>\n",
       "    </tr>\n",
       "    <tr>\n",
       "      <th>3</th>\n",
       "      <td>id_3</td>\n",
       "      <td>4.300</td>\n",
       "    </tr>\n",
       "    <tr>\n",
       "      <th>4</th>\n",
       "      <td>id_4</td>\n",
       "      <td>4.480</td>\n",
       "    </tr>\n",
       "    <tr>\n",
       "      <th>5</th>\n",
       "      <td>id_5</td>\n",
       "      <td>4.485</td>\n",
       "    </tr>\n",
       "    <tr>\n",
       "      <th>6</th>\n",
       "      <td>id_6</td>\n",
       "      <td>1.595</td>\n",
       "    </tr>\n",
       "    <tr>\n",
       "      <th>7</th>\n",
       "      <td>id_7</td>\n",
       "      <td>3.450</td>\n",
       "    </tr>\n",
       "    <tr>\n",
       "      <th>8</th>\n",
       "      <td>id_8</td>\n",
       "      <td>4.125</td>\n",
       "    </tr>\n",
       "    <tr>\n",
       "      <th>9</th>\n",
       "      <td>id_9</td>\n",
       "      <td>4.650</td>\n",
       "    </tr>\n",
       "  </tbody>\n",
       "</table>\n",
       "</div>"
      ],
      "text/plain": [
       "  Restaurant_id  Rating\n",
       "0          id_0   3.160\n",
       "1          id_1   4.260\n",
       "2          id_2   4.215\n",
       "3          id_3   4.300\n",
       "4          id_4   4.480\n",
       "5          id_5   4.485\n",
       "6          id_6   1.595\n",
       "7          id_7   3.450\n",
       "8          id_8   4.125\n",
       "9          id_9   4.650"
      ]
     },
     "execution_count": 75,
     "metadata": {},
     "output_type": "execute_result"
    }
   ],
   "source": [
    "sample_submission['Rating'] = predict_submission\n",
    "sample_submission.to_csv('submission.csv', index=False)\n",
    "sample_submission.head(10)"
   ]
  }
 ],
 "metadata": {
  "kernelspec": {
   "display_name": "Python 3",
   "language": "python",
   "name": "python3"
  },
  "language_info": {
   "codemirror_mode": {
    "name": "ipython",
    "version": 3
   },
   "file_extension": ".py",
   "mimetype": "text/x-python",
   "name": "python",
   "nbconvert_exporter": "python",
   "pygments_lexer": "ipython3",
   "version": "3.8.3"
  }
 },
 "nbformat": 4,
 "nbformat_minor": 4
}
